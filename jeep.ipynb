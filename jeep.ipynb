{
 "cells": [
  {
   "cell_type": "code",
   "execution_count": 97,
   "id": "4789b968",
   "metadata": {},
   "outputs": [],
   "source": [
    "import sys\n",
    "import os\n",
    "\n",
    "\n",
    "# auto-reload library if developing library functionalities\n",
    "%reload_ext autoreload\n",
    "%autoreload 2\n",
    "# Add the old-can-decoder-c56d4fe6 directory to sys.path\n",
    "sys.path.append(os.path.abspath('old-can-decoder-c56d4fe6'))\n",
    "\n",
    "# import library\n",
    "from PandaCANDecoder.decoder import Decoder as OldDecoder\n",
    "from can_decoder.decoder import Decoder"
   ]
  },
  {
   "cell_type": "code",
   "execution_count": null,
   "id": "0861afb1",
   "metadata": {},
   "outputs": [
    {
     "name": "stdout",
     "output_type": "stream",
     "text": [
      "Generated 910 messages\n"
     ]
    }
   ],
   "source": [
    "decoder = Decoder(\"./data/SampleRoadAcceleration_v2.csv\")\n",
    "\n",
    "# Generate message objects\n",
    "\n",
    "byte_filters = {\n",
    "    \"18DA10F1\": [\"1\", \"2\", \"3\", \"4\",'5'],\n",
    "    \"18DAF110\": [\"1\", \"2\", \"3\", \"4\",'5'],\n",
    "    \"18DAF218\": [\"1\", \"2\", \"3\", \"4\",'5'],\n",
    "    \"18DA18F2\": [\"1\", \"2\", \"3\", \"4\",'5'],\n",
    "}\n",
    "\n",
    "decoder.generate_msgs(byte_filters=byte_filters)\n"
   ]
  },
  {
   "cell_type": "code",
   "execution_count": 165,
   "id": "6e2141a6",
   "metadata": {},
   "outputs": [],
   "source": [
    "## Dynamic filtering: if byte 1 is 0 we should discard byte 5\n",
    "for msg in decoder.msgs:\n",
    "    if msg.msg_byte_filter is not None:\n",
    "        if msg.msg_byte_filter['1'] != 0:\n",
    "            msg.msg_byte_filter.pop('5', None)\n",
    "            # Remove duplicates\n",
    "\n",
    "# Remove duplicate messages with same msg_id and identical msg_byte_filter after discarding byte 5\n",
    "unique_msgs = []\n",
    "seen = set()\n",
    "for msg in decoder.msgs:\n",
    "    key = (msg.msg_id, tuple(sorted(msg.msg_byte_filter.items())) if msg.msg_byte_filter else None)\n",
    "    if key not in seen:\n",
    "        unique_msgs.append(msg)\n",
    "        seen.add(key)\n",
    "decoder.msgs = unique_msgs"
   ]
  },
  {
   "cell_type": "code",
   "execution_count": 169,
   "id": "449b2208",
   "metadata": {},
   "outputs": [],
   "source": [
    "# Generate message time series data\n",
    "\n",
    "decoder.generate_msg_ts_data(rewrite=True)  "
   ]
  },
  {
   "cell_type": "code",
   "execution_count": 170,
   "id": "ddf4457d",
   "metadata": {},
   "outputs": [],
   "source": [
    "decoder.calculate_signals(\n",
    "        tokenization_method='conditional_bit_flip',\n",
    "        signedness_method='msb_classifier',\n",
    "        alpha1=0.01,\n",
    "        alpha2=0.5, #0.5,\n",
    "        gamma1=0.2)"
   ]
  },
  {
   "cell_type": "code",
   "execution_count": null,
   "id": "2c5ba2a1",
   "metadata": {},
   "outputs": [
    {
     "data": {
      "text/plain": [
       "Message 18DA10F1 - Filter [B1:3|B2:34|B3:1|B4:201] : Length 8 bytes"
      ]
     },
     "execution_count": 171,
     "metadata": {},
     "output_type": "execute_result"
    }
   ],
   "source": [
    "decoder.get_message('18DAF218',[0x3,0x22,1,201])"
   ]
  },
  {
   "cell_type": "code",
   "execution_count": 184,
   "id": "4d4dfa5c",
   "metadata": {},
   "outputs": [
    {
     "data": {
      "application/vnd.plotly.v1+json": {
       "config": {
        "plotlyServerURL": "https://plot.ly"
       },
       "data": [
        {
         "marker": {
          "color": "black"
         },
         "name": "Bit Flip Probability",
         "opacity": 0.7,
         "type": "bar",
         "x": {
          "bdata": "AAABAAIAAwAEAAUABgAHAAgACQAKAAsADAANAA4ADwAQABEAEgATABQAFQAWABcAGAAZABoAGwAcAB0AHgAfACAAIQAiACMAJAAlACYAJwAoACkAKgArACwALQAuAC8AMAAxADIAMwA0ADUANgA3ADgAOQA6ADsAPAA9AD4APwBAAEEAQgBDAEQARQBGAEcASABJAEoASwBMAE0ATgBPAFAAUQBSAFMAVABVAFYAVwBYAFkAWgBbAFwAXQBeAF8AYABhAGIAYwBkAGUAZgBnAGgAaQBqAGsAbABtAG4AbwBwAHEAcgBzAHQAdQB2AHcAeAB5AHoAewB8AH0AfgB/AIAAgQCCAIMAhACFAIYAhwCIAIkAigCLAIwAjQCOAI8AkACRAJIAkwCUAJUAlgCXAJgAmQCaAJsAnACdAJ4AnwCgAKEAogCjAKQApQCmAKcAqACpAKoAqwCsAK0ArgCvALAAsQCyALMAtAC1ALYAtwC4ALkAugC7ALwAvQC+AL8A",
          "dtype": "i2"
         },
         "y": {
          "bdata": "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",
          "dtype": "f8"
         }
        }
       ],
       "layout": {
        "annotations": [
         {
          "font": {
           "size": 10
          },
          "showarrow": false,
          "text": "Byte 0",
          "x": 3.5,
          "xanchor": "center",
          "xref": "x",
          "y": 1,
          "yanchor": "bottom",
          "yref": "y domain"
         },
         {
          "font": {
           "size": 10
          },
          "showarrow": false,
          "text": "Byte 1",
          "x": 11.5,
          "xanchor": "center",
          "xref": "x",
          "y": 1,
          "yanchor": "bottom",
          "yref": "y domain"
         },
         {
          "font": {
           "size": 10
          },
          "showarrow": false,
          "text": "Byte 2",
          "x": 19.5,
          "xanchor": "center",
          "xref": "x",
          "y": 1,
          "yanchor": "bottom",
          "yref": "y domain"
         },
         {
          "font": {
           "size": 10
          },
          "showarrow": false,
          "text": "Byte 3",
          "x": 27.5,
          "xanchor": "center",
          "xref": "x",
          "y": 1,
          "yanchor": "bottom",
          "yref": "y domain"
         },
         {
          "font": {
           "size": 10
          },
          "showarrow": false,
          "text": "Byte 4",
          "x": 35.5,
          "xanchor": "center",
          "xref": "x",
          "y": 1,
          "yanchor": "bottom",
          "yref": "y domain"
         },
         {
          "font": {
           "size": 10
          },
          "showarrow": false,
          "text": "Byte 5",
          "x": 43.5,
          "xanchor": "center",
          "xref": "x",
          "y": 1,
          "yanchor": "bottom",
          "yref": "y domain"
         },
         {
          "font": {
           "size": 10
          },
          "showarrow": false,
          "text": "Byte 6",
          "x": 51.5,
          "xanchor": "center",
          "xref": "x",
          "y": 1,
          "yanchor": "bottom",
          "yref": "y domain"
         },
         {
          "font": {
           "size": 10
          },
          "showarrow": false,
          "text": "Byte 7",
          "x": 59.5,
          "xanchor": "center",
          "xref": "x",
          "y": 1,
          "yanchor": "bottom",
          "yref": "y domain"
         },
         {
          "font": {
           "size": 10
          },
          "showarrow": false,
          "text": "Byte 8",
          "x": 67.5,
          "xanchor": "center",
          "xref": "x",
          "y": 1,
          "yanchor": "bottom",
          "yref": "y domain"
         },
         {
          "font": {
           "size": 10
          },
          "showarrow": false,
          "text": "Byte 9",
          "x": 75.5,
          "xanchor": "center",
          "xref": "x",
          "y": 1,
          "yanchor": "bottom",
          "yref": "y domain"
         },
         {
          "font": {
           "size": 10
          },
          "showarrow": false,
          "text": "Byte 10",
          "x": 83.5,
          "xanchor": "center",
          "xref": "x",
          "y": 1,
          "yanchor": "bottom",
          "yref": "y domain"
         },
         {
          "font": {
           "size": 10
          },
          "showarrow": false,
          "text": "Byte 11",
          "x": 91.5,
          "xanchor": "center",
          "xref": "x",
          "y": 1,
          "yanchor": "bottom",
          "yref": "y domain"
         },
         {
          "font": {
           "size": 10
          },
          "showarrow": false,
          "text": "Byte 12",
          "x": 99.5,
          "xanchor": "center",
          "xref": "x",
          "y": 1,
          "yanchor": "bottom",
          "yref": "y domain"
         },
         {
          "font": {
           "size": 10
          },
          "showarrow": false,
          "text": "Byte 13",
          "x": 107.5,
          "xanchor": "center",
          "xref": "x",
          "y": 1,
          "yanchor": "bottom",
          "yref": "y domain"
         },
         {
          "font": {
           "size": 10
          },
          "showarrow": false,
          "text": "Byte 14",
          "x": 115.5,
          "xanchor": "center",
          "xref": "x",
          "y": 1,
          "yanchor": "bottom",
          "yref": "y domain"
         },
         {
          "font": {
           "size": 10
          },
          "showarrow": false,
          "text": "Byte 15",
          "x": 123.5,
          "xanchor": "center",
          "xref": "x",
          "y": 1,
          "yanchor": "bottom",
          "yref": "y domain"
         },
         {
          "font": {
           "size": 10
          },
          "showarrow": false,
          "text": "Byte 16",
          "x": 131.5,
          "xanchor": "center",
          "xref": "x",
          "y": 1,
          "yanchor": "bottom",
          "yref": "y domain"
         },
         {
          "font": {
           "size": 10
          },
          "showarrow": false,
          "text": "Byte 17",
          "x": 139.5,
          "xanchor": "center",
          "xref": "x",
          "y": 1,
          "yanchor": "bottom",
          "yref": "y domain"
         },
         {
          "font": {
           "size": 10
          },
          "showarrow": false,
          "text": "Byte 18",
          "x": 147.5,
          "xanchor": "center",
          "xref": "x",
          "y": 1,
          "yanchor": "bottom",
          "yref": "y domain"
         },
         {
          "font": {
           "size": 10
          },
          "showarrow": false,
          "text": "Byte 19",
          "x": 155.5,
          "xanchor": "center",
          "xref": "x",
          "y": 1,
          "yanchor": "bottom",
          "yref": "y domain"
         },
         {
          "font": {
           "size": 10
          },
          "showarrow": false,
          "text": "Byte 20",
          "x": 163.5,
          "xanchor": "center",
          "xref": "x",
          "y": 1,
          "yanchor": "bottom",
          "yref": "y domain"
         },
         {
          "font": {
           "size": 10
          },
          "showarrow": false,
          "text": "Byte 21",
          "x": 171.5,
          "xanchor": "center",
          "xref": "x",
          "y": 1,
          "yanchor": "bottom",
          "yref": "y domain"
         },
         {
          "font": {
           "size": 10
          },
          "showarrow": false,
          "text": "Byte 22",
          "x": 179.5,
          "xanchor": "center",
          "xref": "x",
          "y": 1,
          "yanchor": "bottom",
          "yref": "y domain"
         },
         {
          "font": {
           "size": 10
          },
          "showarrow": false,
          "text": "Byte 23",
          "x": 187.5,
          "xanchor": "center",
          "xref": "x",
          "y": 1,
          "yanchor": "bottom",
          "yref": "y domain"
         },
         {
          "showarrow": false,
          "text": "SIG_BE_1",
          "x": 40.5,
          "xanchor": "left",
          "xref": "x",
          "y": 1,
          "yanchor": "top",
          "yref": "y domain"
         },
         {
          "showarrow": false,
          "text": "SIG_BE_3",
          "x": 59.5,
          "xanchor": "left",
          "xref": "x",
          "y": 1,
          "yanchor": "top",
          "yref": "y domain"
         },
         {
          "showarrow": false,
          "text": "SIG_BE_5",
          "x": 76.5,
          "xanchor": "left",
          "xref": "x",
          "y": 1,
          "yanchor": "top",
          "yref": "y domain"
         },
         {
          "showarrow": false,
          "text": "SIG_BE_7",
          "x": 93.5,
          "xanchor": "left",
          "xref": "x",
          "y": 1,
          "yanchor": "top",
          "yref": "y domain"
         },
         {
          "showarrow": false,
          "text": "SIG_BE_9",
          "x": 109.5,
          "xanchor": "left",
          "xref": "x",
          "y": 1,
          "yanchor": "top",
          "yref": "y domain"
         },
         {
          "showarrow": false,
          "text": "SIG_BE_11",
          "x": 125.5,
          "xanchor": "left",
          "xref": "x",
          "y": 1,
          "yanchor": "top",
          "yref": "y domain"
         },
         {
          "showarrow": false,
          "text": "SIG_BE_13",
          "x": 141.5,
          "xanchor": "left",
          "xref": "x",
          "y": 1,
          "yanchor": "top",
          "yref": "y domain"
         },
         {
          "showarrow": false,
          "text": "SIG_BE_15",
          "x": 157.5,
          "xanchor": "left",
          "xref": "x",
          "y": 1,
          "yanchor": "top",
          "yref": "y domain"
         }
        ],
        "legend": {
         "font": {
          "size": 8
         },
         "orientation": "h",
         "x": 0.5,
         "xanchor": "center",
         "y": -0.2
        },
        "shapes": [
         {
          "line": {
           "color": "gray",
           "dash": "dash",
           "width": 1
          },
          "type": "line",
          "x0": 7.5,
          "x1": 7.5,
          "y0": 0,
          "y1": 0.6119205298013245
         },
         {
          "line": {
           "color": "gray",
           "dash": "dash",
           "width": 1
          },
          "type": "line",
          "x0": 15.5,
          "x1": 15.5,
          "y0": 0,
          "y1": 0.6119205298013245
         },
         {
          "line": {
           "color": "gray",
           "dash": "dash",
           "width": 1
          },
          "type": "line",
          "x0": 23.5,
          "x1": 23.5,
          "y0": 0,
          "y1": 0.6119205298013245
         },
         {
          "line": {
           "color": "gray",
           "dash": "dash",
           "width": 1
          },
          "type": "line",
          "x0": 31.5,
          "x1": 31.5,
          "y0": 0,
          "y1": 0.6119205298013245
         },
         {
          "line": {
           "color": "gray",
           "dash": "dash",
           "width": 1
          },
          "type": "line",
          "x0": 39.5,
          "x1": 39.5,
          "y0": 0,
          "y1": 0.6119205298013245
         },
         {
          "line": {
           "color": "gray",
           "dash": "dash",
           "width": 1
          },
          "type": "line",
          "x0": 47.5,
          "x1": 47.5,
          "y0": 0,
          "y1": 0.6119205298013245
         },
         {
          "line": {
           "color": "gray",
           "dash": "dash",
           "width": 1
          },
          "type": "line",
          "x0": 55.5,
          "x1": 55.5,
          "y0": 0,
          "y1": 0.6119205298013245
         },
         {
          "line": {
           "color": "gray",
           "dash": "dash",
           "width": 1
          },
          "type": "line",
          "x0": 63.5,
          "x1": 63.5,
          "y0": 0,
          "y1": 0.6119205298013245
         },
         {
          "line": {
           "color": "gray",
           "dash": "dash",
           "width": 1
          },
          "type": "line",
          "x0": 71.5,
          "x1": 71.5,
          "y0": 0,
          "y1": 0.6119205298013245
         },
         {
          "line": {
           "color": "gray",
           "dash": "dash",
           "width": 1
          },
          "type": "line",
          "x0": 79.5,
          "x1": 79.5,
          "y0": 0,
          "y1": 0.6119205298013245
         },
         {
          "line": {
           "color": "gray",
           "dash": "dash",
           "width": 1
          },
          "type": "line",
          "x0": 87.5,
          "x1": 87.5,
          "y0": 0,
          "y1": 0.6119205298013245
         },
         {
          "line": {
           "color": "gray",
           "dash": "dash",
           "width": 1
          },
          "type": "line",
          "x0": 95.5,
          "x1": 95.5,
          "y0": 0,
          "y1": 0.6119205298013245
         },
         {
          "line": {
           "color": "gray",
           "dash": "dash",
           "width": 1
          },
          "type": "line",
          "x0": 103.5,
          "x1": 103.5,
          "y0": 0,
          "y1": 0.6119205298013245
         },
         {
          "line": {
           "color": "gray",
           "dash": "dash",
           "width": 1
          },
          "type": "line",
          "x0": 111.5,
          "x1": 111.5,
          "y0": 0,
          "y1": 0.6119205298013245
         },
         {
          "line": {
           "color": "gray",
           "dash": "dash",
           "width": 1
          },
          "type": "line",
          "x0": 119.5,
          "x1": 119.5,
          "y0": 0,
          "y1": 0.6119205298013245
         },
         {
          "line": {
           "color": "gray",
           "dash": "dash",
           "width": 1
          },
          "type": "line",
          "x0": 127.5,
          "x1": 127.5,
          "y0": 0,
          "y1": 0.6119205298013245
         },
         {
          "line": {
           "color": "gray",
           "dash": "dash",
           "width": 1
          },
          "type": "line",
          "x0": 135.5,
          "x1": 135.5,
          "y0": 0,
          "y1": 0.6119205298013245
         },
         {
          "line": {
           "color": "gray",
           "dash": "dash",
           "width": 1
          },
          "type": "line",
          "x0": 143.5,
          "x1": 143.5,
          "y0": 0,
          "y1": 0.6119205298013245
         },
         {
          "line": {
           "color": "gray",
           "dash": "dash",
           "width": 1
          },
          "type": "line",
          "x0": 151.5,
          "x1": 151.5,
          "y0": 0,
          "y1": 0.6119205298013245
         },
         {
          "line": {
           "color": "gray",
           "dash": "dash",
           "width": 1
          },
          "type": "line",
          "x0": 159.5,
          "x1": 159.5,
          "y0": 0,
          "y1": 0.6119205298013245
         },
         {
          "line": {
           "color": "gray",
           "dash": "dash",
           "width": 1
          },
          "type": "line",
          "x0": 167.5,
          "x1": 167.5,
          "y0": 0,
          "y1": 0.6119205298013245
         },
         {
          "line": {
           "color": "gray",
           "dash": "dash",
           "width": 1
          },
          "type": "line",
          "x0": 175.5,
          "x1": 175.5,
          "y0": 0,
          "y1": 0.6119205298013245
         },
         {
          "line": {
           "color": "gray",
           "dash": "dash",
           "width": 1
          },
          "type": "line",
          "x0": 183.5,
          "x1": 183.5,
          "y0": 0,
          "y1": 0.6119205298013245
         },
         {
          "line": {
           "color": "black",
           "width": 1
          },
          "opacity": 0,
          "type": "rect",
          "x0": -0.5,
          "x1": 7.5,
          "xref": "x",
          "y0": 0,
          "y1": 1,
          "yref": "y domain"
         },
         {
          "line": {
           "color": "black",
           "width": 1
          },
          "opacity": 0,
          "type": "rect",
          "x0": 7.5,
          "x1": 15.5,
          "xref": "x",
          "y0": 0,
          "y1": 1,
          "yref": "y domain"
         },
         {
          "line": {
           "color": "black",
           "width": 1
          },
          "opacity": 0,
          "type": "rect",
          "x0": 15.5,
          "x1": 23.5,
          "xref": "x",
          "y0": 0,
          "y1": 1,
          "yref": "y domain"
         },
         {
          "line": {
           "color": "black",
           "width": 1
          },
          "opacity": 0,
          "type": "rect",
          "x0": 23.5,
          "x1": 31.5,
          "xref": "x",
          "y0": 0,
          "y1": 1,
          "yref": "y domain"
         },
         {
          "line": {
           "color": "black",
           "width": 1
          },
          "opacity": 0,
          "type": "rect",
          "x0": 31.5,
          "x1": 39.5,
          "xref": "x",
          "y0": 0,
          "y1": 1,
          "yref": "y domain"
         },
         {
          "line": {
           "color": "black",
           "width": 1
          },
          "opacity": 0,
          "type": "rect",
          "x0": 39.5,
          "x1": 47.5,
          "xref": "x",
          "y0": 0,
          "y1": 1,
          "yref": "y domain"
         },
         {
          "line": {
           "color": "black",
           "width": 1
          },
          "opacity": 0,
          "type": "rect",
          "x0": 47.5,
          "x1": 55.5,
          "xref": "x",
          "y0": 0,
          "y1": 1,
          "yref": "y domain"
         },
         {
          "line": {
           "color": "black",
           "width": 1
          },
          "opacity": 0,
          "type": "rect",
          "x0": 55.5,
          "x1": 63.5,
          "xref": "x",
          "y0": 0,
          "y1": 1,
          "yref": "y domain"
         },
         {
          "line": {
           "color": "black",
           "width": 1
          },
          "opacity": 0,
          "type": "rect",
          "x0": 63.5,
          "x1": 71.5,
          "xref": "x",
          "y0": 0,
          "y1": 1,
          "yref": "y domain"
         },
         {
          "line": {
           "color": "black",
           "width": 1
          },
          "opacity": 0,
          "type": "rect",
          "x0": 71.5,
          "x1": 79.5,
          "xref": "x",
          "y0": 0,
          "y1": 1,
          "yref": "y domain"
         },
         {
          "line": {
           "color": "black",
           "width": 1
          },
          "opacity": 0,
          "type": "rect",
          "x0": 79.5,
          "x1": 87.5,
          "xref": "x",
          "y0": 0,
          "y1": 1,
          "yref": "y domain"
         },
         {
          "line": {
           "color": "black",
           "width": 1
          },
          "opacity": 0,
          "type": "rect",
          "x0": 87.5,
          "x1": 95.5,
          "xref": "x",
          "y0": 0,
          "y1": 1,
          "yref": "y domain"
         },
         {
          "line": {
           "color": "black",
           "width": 1
          },
          "opacity": 0,
          "type": "rect",
          "x0": 95.5,
          "x1": 103.5,
          "xref": "x",
          "y0": 0,
          "y1": 1,
          "yref": "y domain"
         },
         {
          "line": {
           "color": "black",
           "width": 1
          },
          "opacity": 0,
          "type": "rect",
          "x0": 103.5,
          "x1": 111.5,
          "xref": "x",
          "y0": 0,
          "y1": 1,
          "yref": "y domain"
         },
         {
          "line": {
           "color": "black",
           "width": 1
          },
          "opacity": 0,
          "type": "rect",
          "x0": 111.5,
          "x1": 119.5,
          "xref": "x",
          "y0": 0,
          "y1": 1,
          "yref": "y domain"
         },
         {
          "line": {
           "color": "black",
           "width": 1
          },
          "opacity": 0,
          "type": "rect",
          "x0": 119.5,
          "x1": 127.5,
          "xref": "x",
          "y0": 0,
          "y1": 1,
          "yref": "y domain"
         },
         {
          "line": {
           "color": "black",
           "width": 1
          },
          "opacity": 0,
          "type": "rect",
          "x0": 127.5,
          "x1": 135.5,
          "xref": "x",
          "y0": 0,
          "y1": 1,
          "yref": "y domain"
         },
         {
          "line": {
           "color": "black",
           "width": 1
          },
          "opacity": 0,
          "type": "rect",
          "x0": 135.5,
          "x1": 143.5,
          "xref": "x",
          "y0": 0,
          "y1": 1,
          "yref": "y domain"
         },
         {
          "line": {
           "color": "black",
           "width": 1
          },
          "opacity": 0,
          "type": "rect",
          "x0": 143.5,
          "x1": 151.5,
          "xref": "x",
          "y0": 0,
          "y1": 1,
          "yref": "y domain"
         },
         {
          "line": {
           "color": "black",
           "width": 1
          },
          "opacity": 0,
          "type": "rect",
          "x0": 151.5,
          "x1": 159.5,
          "xref": "x",
          "y0": 0,
          "y1": 1,
          "yref": "y domain"
         },
         {
          "line": {
           "color": "black",
           "width": 1
          },
          "opacity": 0,
          "type": "rect",
          "x0": 159.5,
          "x1": 167.5,
          "xref": "x",
          "y0": 0,
          "y1": 1,
          "yref": "y domain"
         },
         {
          "line": {
           "color": "black",
           "width": 1
          },
          "opacity": 0,
          "type": "rect",
          "x0": 167.5,
          "x1": 175.5,
          "xref": "x",
          "y0": 0,
          "y1": 1,
          "yref": "y domain"
         },
         {
          "line": {
           "color": "black",
           "width": 1
          },
          "opacity": 0,
          "type": "rect",
          "x0": 175.5,
          "x1": 183.5,
          "xref": "x",
          "y0": 0,
          "y1": 1,
          "yref": "y domain"
         },
         {
          "line": {
           "color": "black",
           "width": 1
          },
          "opacity": 0,
          "type": "rect",
          "x0": 183.5,
          "x1": 191.5,
          "xref": "x",
          "y0": 0,
          "y1": 1,
          "yref": "y domain"
         },
         {
          "fillcolor": "#79A8DD",
          "layer": "below",
          "line": {
           "width": 0
          },
          "opacity": 0.2,
          "type": "rect",
          "x0": 40.5,
          "x1": 55.5,
          "xref": "x",
          "y0": 0,
          "y1": 1,
          "yref": "y domain"
         },
         {
          "fillcolor": "#DD79DA",
          "layer": "below",
          "line": {
           "width": 0
          },
          "opacity": 0.2,
          "type": "rect",
          "x0": 59.5,
          "x1": 71.5,
          "xref": "x",
          "y0": 0,
          "y1": 1,
          "yref": "y domain"
         },
         {
          "fillcolor": "#DDAE79",
          "layer": "below",
          "line": {
           "width": 0
          },
          "opacity": 0.2,
          "type": "rect",
          "x0": 76.5,
          "x1": 87.5,
          "xref": "x",
          "y0": 0,
          "y1": 1,
          "yref": "y domain"
         },
         {
          "fillcolor": "#79DD7C",
          "layer": "below",
          "line": {
           "width": 0
          },
          "opacity": 0.2,
          "type": "rect",
          "x0": 93.5,
          "x1": 103.5,
          "xref": "x",
          "y0": 0,
          "y1": 1,
          "yref": "y domain"
         },
         {
          "fillcolor": "#79A8DD",
          "layer": "below",
          "line": {
           "width": 0
          },
          "opacity": 0.2,
          "type": "rect",
          "x0": 109.5,
          "x1": 119.5,
          "xref": "x",
          "y0": 0,
          "y1": 1,
          "yref": "y domain"
         },
         {
          "fillcolor": "#DD79DA",
          "layer": "below",
          "line": {
           "width": 0
          },
          "opacity": 0.2,
          "type": "rect",
          "x0": 125.5,
          "x1": 135.5,
          "xref": "x",
          "y0": 0,
          "y1": 1,
          "yref": "y domain"
         },
         {
          "fillcolor": "#DDAE79",
          "layer": "below",
          "line": {
           "width": 0
          },
          "opacity": 0.2,
          "type": "rect",
          "x0": 141.5,
          "x1": 151.5,
          "xref": "x",
          "y0": 0,
          "y1": 1,
          "yref": "y domain"
         },
         {
          "fillcolor": "#79DD7C",
          "layer": "below",
          "line": {
           "width": 0
          },
          "opacity": 0.2,
          "type": "rect",
          "x0": 157.5,
          "x1": 167.5,
          "xref": "x",
          "y0": 0,
          "y1": 1,
          "yref": "y domain"
         }
        ],
        "template": {
         "data": {
          "bar": [
           {
            "error_x": {
             "color": "#2a3f5f"
            },
            "error_y": {
             "color": "#2a3f5f"
            },
            "marker": {
             "line": {
              "color": "#E5ECF6",
              "width": 0.5
             },
             "pattern": {
              "fillmode": "overlay",
              "size": 10,
              "solidity": 0.2
             }
            },
            "type": "bar"
           }
          ],
          "barpolar": [
           {
            "marker": {
             "line": {
              "color": "#E5ECF6",
              "width": 0.5
             },
             "pattern": {
              "fillmode": "overlay",
              "size": 10,
              "solidity": 0.2
             }
            },
            "type": "barpolar"
           }
          ],
          "carpet": [
           {
            "aaxis": {
             "endlinecolor": "#2a3f5f",
             "gridcolor": "white",
             "linecolor": "white",
             "minorgridcolor": "white",
             "startlinecolor": "#2a3f5f"
            },
            "baxis": {
             "endlinecolor": "#2a3f5f",
             "gridcolor": "white",
             "linecolor": "white",
             "minorgridcolor": "white",
             "startlinecolor": "#2a3f5f"
            },
            "type": "carpet"
           }
          ],
          "choropleth": [
           {
            "colorbar": {
             "outlinewidth": 0,
             "ticks": ""
            },
            "type": "choropleth"
           }
          ],
          "contour": [
           {
            "colorbar": {
             "outlinewidth": 0,
             "ticks": ""
            },
            "colorscale": [
             [
              0,
              "#0d0887"
             ],
             [
              0.1111111111111111,
              "#46039f"
             ],
             [
              0.2222222222222222,
              "#7201a8"
             ],
             [
              0.3333333333333333,
              "#9c179e"
             ],
             [
              0.4444444444444444,
              "#bd3786"
             ],
             [
              0.5555555555555556,
              "#d8576b"
             ],
             [
              0.6666666666666666,
              "#ed7953"
             ],
             [
              0.7777777777777778,
              "#fb9f3a"
             ],
             [
              0.8888888888888888,
              "#fdca26"
             ],
             [
              1,
              "#f0f921"
             ]
            ],
            "type": "contour"
           }
          ],
          "contourcarpet": [
           {
            "colorbar": {
             "outlinewidth": 0,
             "ticks": ""
            },
            "type": "contourcarpet"
           }
          ],
          "heatmap": [
           {
            "colorbar": {
             "outlinewidth": 0,
             "ticks": ""
            },
            "colorscale": [
             [
              0,
              "#0d0887"
             ],
             [
              0.1111111111111111,
              "#46039f"
             ],
             [
              0.2222222222222222,
              "#7201a8"
             ],
             [
              0.3333333333333333,
              "#9c179e"
             ],
             [
              0.4444444444444444,
              "#bd3786"
             ],
             [
              0.5555555555555556,
              "#d8576b"
             ],
             [
              0.6666666666666666,
              "#ed7953"
             ],
             [
              0.7777777777777778,
              "#fb9f3a"
             ],
             [
              0.8888888888888888,
              "#fdca26"
             ],
             [
              1,
              "#f0f921"
             ]
            ],
            "type": "heatmap"
           }
          ],
          "histogram": [
           {
            "marker": {
             "pattern": {
              "fillmode": "overlay",
              "size": 10,
              "solidity": 0.2
             }
            },
            "type": "histogram"
           }
          ],
          "histogram2d": [
           {
            "colorbar": {
             "outlinewidth": 0,
             "ticks": ""
            },
            "colorscale": [
             [
              0,
              "#0d0887"
             ],
             [
              0.1111111111111111,
              "#46039f"
             ],
             [
              0.2222222222222222,
              "#7201a8"
             ],
             [
              0.3333333333333333,
              "#9c179e"
             ],
             [
              0.4444444444444444,
              "#bd3786"
             ],
             [
              0.5555555555555556,
              "#d8576b"
             ],
             [
              0.6666666666666666,
              "#ed7953"
             ],
             [
              0.7777777777777778,
              "#fb9f3a"
             ],
             [
              0.8888888888888888,
              "#fdca26"
             ],
             [
              1,
              "#f0f921"
             ]
            ],
            "type": "histogram2d"
           }
          ],
          "histogram2dcontour": [
           {
            "colorbar": {
             "outlinewidth": 0,
             "ticks": ""
            },
            "colorscale": [
             [
              0,
              "#0d0887"
             ],
             [
              0.1111111111111111,
              "#46039f"
             ],
             [
              0.2222222222222222,
              "#7201a8"
             ],
             [
              0.3333333333333333,
              "#9c179e"
             ],
             [
              0.4444444444444444,
              "#bd3786"
             ],
             [
              0.5555555555555556,
              "#d8576b"
             ],
             [
              0.6666666666666666,
              "#ed7953"
             ],
             [
              0.7777777777777778,
              "#fb9f3a"
             ],
             [
              0.8888888888888888,
              "#fdca26"
             ],
             [
              1,
              "#f0f921"
             ]
            ],
            "type": "histogram2dcontour"
           }
          ],
          "mesh3d": [
           {
            "colorbar": {
             "outlinewidth": 0,
             "ticks": ""
            },
            "type": "mesh3d"
           }
          ],
          "parcoords": [
           {
            "line": {
             "colorbar": {
              "outlinewidth": 0,
              "ticks": ""
             }
            },
            "type": "parcoords"
           }
          ],
          "pie": [
           {
            "automargin": true,
            "type": "pie"
           }
          ],
          "scatter": [
           {
            "fillpattern": {
             "fillmode": "overlay",
             "size": 10,
             "solidity": 0.2
            },
            "type": "scatter"
           }
          ],
          "scatter3d": [
           {
            "line": {
             "colorbar": {
              "outlinewidth": 0,
              "ticks": ""
             }
            },
            "marker": {
             "colorbar": {
              "outlinewidth": 0,
              "ticks": ""
             }
            },
            "type": "scatter3d"
           }
          ],
          "scattercarpet": [
           {
            "marker": {
             "colorbar": {
              "outlinewidth": 0,
              "ticks": ""
             }
            },
            "type": "scattercarpet"
           }
          ],
          "scattergeo": [
           {
            "marker": {
             "colorbar": {
              "outlinewidth": 0,
              "ticks": ""
             }
            },
            "type": "scattergeo"
           }
          ],
          "scattergl": [
           {
            "marker": {
             "colorbar": {
              "outlinewidth": 0,
              "ticks": ""
             }
            },
            "type": "scattergl"
           }
          ],
          "scattermap": [
           {
            "marker": {
             "colorbar": {
              "outlinewidth": 0,
              "ticks": ""
             }
            },
            "type": "scattermap"
           }
          ],
          "scattermapbox": [
           {
            "marker": {
             "colorbar": {
              "outlinewidth": 0,
              "ticks": ""
             }
            },
            "type": "scattermapbox"
           }
          ],
          "scatterpolar": [
           {
            "marker": {
             "colorbar": {
              "outlinewidth": 0,
              "ticks": ""
             }
            },
            "type": "scatterpolar"
           }
          ],
          "scatterpolargl": [
           {
            "marker": {
             "colorbar": {
              "outlinewidth": 0,
              "ticks": ""
             }
            },
            "type": "scatterpolargl"
           }
          ],
          "scatterternary": [
           {
            "marker": {
             "colorbar": {
              "outlinewidth": 0,
              "ticks": ""
             }
            },
            "type": "scatterternary"
           }
          ],
          "surface": [
           {
            "colorbar": {
             "outlinewidth": 0,
             "ticks": ""
            },
            "colorscale": [
             [
              0,
              "#0d0887"
             ],
             [
              0.1111111111111111,
              "#46039f"
             ],
             [
              0.2222222222222222,
              "#7201a8"
             ],
             [
              0.3333333333333333,
              "#9c179e"
             ],
             [
              0.4444444444444444,
              "#bd3786"
             ],
             [
              0.5555555555555556,
              "#d8576b"
             ],
             [
              0.6666666666666666,
              "#ed7953"
             ],
             [
              0.7777777777777778,
              "#fb9f3a"
             ],
             [
              0.8888888888888888,
              "#fdca26"
             ],
             [
              1,
              "#f0f921"
             ]
            ],
            "type": "surface"
           }
          ],
          "table": [
           {
            "cells": {
             "fill": {
              "color": "#EBF0F8"
             },
             "line": {
              "color": "white"
             }
            },
            "header": {
             "fill": {
              "color": "#C8D4E3"
             },
             "line": {
              "color": "white"
             }
            },
            "type": "table"
           }
          ]
         },
         "layout": {
          "annotationdefaults": {
           "arrowcolor": "#2a3f5f",
           "arrowhead": 0,
           "arrowwidth": 1
          },
          "autotypenumbers": "strict",
          "coloraxis": {
           "colorbar": {
            "outlinewidth": 0,
            "ticks": ""
           }
          },
          "colorscale": {
           "diverging": [
            [
             0,
             "#8e0152"
            ],
            [
             0.1,
             "#c51b7d"
            ],
            [
             0.2,
             "#de77ae"
            ],
            [
             0.3,
             "#f1b6da"
            ],
            [
             0.4,
             "#fde0ef"
            ],
            [
             0.5,
             "#f7f7f7"
            ],
            [
             0.6,
             "#e6f5d0"
            ],
            [
             0.7,
             "#b8e186"
            ],
            [
             0.8,
             "#7fbc41"
            ],
            [
             0.9,
             "#4d9221"
            ],
            [
             1,
             "#276419"
            ]
           ],
           "sequential": [
            [
             0,
             "#0d0887"
            ],
            [
             0.1111111111111111,
             "#46039f"
            ],
            [
             0.2222222222222222,
             "#7201a8"
            ],
            [
             0.3333333333333333,
             "#9c179e"
            ],
            [
             0.4444444444444444,
             "#bd3786"
            ],
            [
             0.5555555555555556,
             "#d8576b"
            ],
            [
             0.6666666666666666,
             "#ed7953"
            ],
            [
             0.7777777777777778,
             "#fb9f3a"
            ],
            [
             0.8888888888888888,
             "#fdca26"
            ],
            [
             1,
             "#f0f921"
            ]
           ],
           "sequentialminus": [
            [
             0,
             "#0d0887"
            ],
            [
             0.1111111111111111,
             "#46039f"
            ],
            [
             0.2222222222222222,
             "#7201a8"
            ],
            [
             0.3333333333333333,
             "#9c179e"
            ],
            [
             0.4444444444444444,
             "#bd3786"
            ],
            [
             0.5555555555555556,
             "#d8576b"
            ],
            [
             0.6666666666666666,
             "#ed7953"
            ],
            [
             0.7777777777777778,
             "#fb9f3a"
            ],
            [
             0.8888888888888888,
             "#fdca26"
            ],
            [
             1,
             "#f0f921"
            ]
           ]
          },
          "colorway": [
           "#636efa",
           "#EF553B",
           "#00cc96",
           "#ab63fa",
           "#FFA15A",
           "#19d3f3",
           "#FF6692",
           "#B6E880",
           "#FF97FF",
           "#FECB52"
          ],
          "font": {
           "color": "#2a3f5f"
          },
          "geo": {
           "bgcolor": "white",
           "lakecolor": "white",
           "landcolor": "#E5ECF6",
           "showlakes": true,
           "showland": true,
           "subunitcolor": "white"
          },
          "hoverlabel": {
           "align": "left"
          },
          "hovermode": "closest",
          "mapbox": {
           "style": "light"
          },
          "paper_bgcolor": "white",
          "plot_bgcolor": "#E5ECF6",
          "polar": {
           "angularaxis": {
            "gridcolor": "white",
            "linecolor": "white",
            "ticks": ""
           },
           "bgcolor": "#E5ECF6",
           "radialaxis": {
            "gridcolor": "white",
            "linecolor": "white",
            "ticks": ""
           }
          },
          "scene": {
           "xaxis": {
            "backgroundcolor": "#E5ECF6",
            "gridcolor": "white",
            "gridwidth": 2,
            "linecolor": "white",
            "showbackground": true,
            "ticks": "",
            "zerolinecolor": "white"
           },
           "yaxis": {
            "backgroundcolor": "#E5ECF6",
            "gridcolor": "white",
            "gridwidth": 2,
            "linecolor": "white",
            "showbackground": true,
            "ticks": "",
            "zerolinecolor": "white"
           },
           "zaxis": {
            "backgroundcolor": "#E5ECF6",
            "gridcolor": "white",
            "gridwidth": 2,
            "linecolor": "white",
            "showbackground": true,
            "ticks": "",
            "zerolinecolor": "white"
           }
          },
          "shapedefaults": {
           "line": {
            "color": "#2a3f5f"
           }
          },
          "ternary": {
           "aaxis": {
            "gridcolor": "white",
            "linecolor": "white",
            "ticks": ""
           },
           "baxis": {
            "gridcolor": "white",
            "linecolor": "white",
            "ticks": ""
           },
           "bgcolor": "#E5ECF6",
           "caxis": {
            "gridcolor": "white",
            "linecolor": "white",
            "ticks": ""
           }
          },
          "title": {
           "x": 0.05
          },
          "xaxis": {
           "automargin": true,
           "gridcolor": "white",
           "linecolor": "white",
           "ticks": "",
           "title": {
            "standoff": 15
           },
           "zerolinecolor": "white",
           "zerolinewidth": 2
          },
          "yaxis": {
           "automargin": true,
           "gridcolor": "white",
           "linecolor": "white",
           "ticks": "",
           "title": {
            "standoff": 15
           },
           "zerolinecolor": "white",
           "zerolinewidth": 2
          }
         }
        },
        "title": {
         "text": "Big-Endian: Bit Flip Probabilities"
        },
        "xaxis": {
         "tickfont": {
          "size": 8
         },
         "tickmode": "array",
         "ticktext": {
          "bdata": "BwAGAAUABAADAAIAAQAAAA8ADgANAAwACwAKAAkACAAXABYAFQAUABMAEgARABAAHwAeAB0AHAAbABoAGQAYACcAJgAlACQAIwAiACEAIAAvAC4ALQAsACsAKgApACgANwA2ADUANAAzADIAMQAwAD8APgA9ADwAOwA6ADkAOABHAEYARQBEAEMAQgBBAEAATwBOAE0ATABLAEoASQBIAFcAVgBVAFQAUwBSAFEAUABfAF4AXQBcAFsAWgBZAFgAZwBmAGUAZABjAGIAYQBgAG8AbgBtAGwAawBqAGkAaAB3AHYAdQB0AHMAcgBxAHAAfwB+AH0AfAB7AHoAeQB4AIcAhgCFAIQAgwCCAIEAgACPAI4AjQCMAIsAigCJAIgAlwCWAJUAlACTAJIAkQCQAJ8AngCdAJwAmwCaAJkAmACnAKYApQCkAKMAogChAKAArwCuAK0ArACrAKoAqQCoALcAtgC1ALQAswCyALEAsAC/AL4AvQC8ALsAugC5ALgA",
          "dtype": "i2"
         },
         "tickvals": {
          "bdata": "AAABAAIAAwAEAAUABgAHAAgACQAKAAsADAANAA4ADwAQABEAEgATABQAFQAWABcAGAAZABoAGwAcAB0AHgAfACAAIQAiACMAJAAlACYAJwAoACkAKgArACwALQAuAC8AMAAxADIAMwA0ADUANgA3ADgAOQA6ADsAPAA9AD4APwBAAEEAQgBDAEQARQBGAEcASABJAEoASwBMAE0ATgBPAFAAUQBSAFMAVABVAFYAVwBYAFkAWgBbAFwAXQBeAF8AYABhAGIAYwBkAGUAZgBnAGgAaQBqAGsAbABtAG4AbwBwAHEAcgBzAHQAdQB2AHcAeAB5AHoAewB8AH0AfgB/AIAAgQCCAIMAhACFAIYAhwCIAIkAigCLAIwAjQCOAI8AkACRAJIAkwCUAJUAlgCXAJgAmQCaAJsAnACdAJ4AnwCgAKEAogCjAKQApQCmAKcAqACpAKoAqwCsAK0ArgCvALAAsQCyALMAtAC1ALYAtwC4ALkAugC7ALwAvQC+AL8A",
          "dtype": "i2"
         },
         "title": {
          "text": "Bit Number"
         }
        },
        "yaxis": {
         "range": [
          0,
          1.1
         ],
         "title": {
          "text": "Bit Flip Probability"
         }
        }
       }
      }
     },
     "metadata": {},
     "output_type": "display_data"
    }
   ],
   "source": [
    "decoder.plot_message_from_id('18DAF218',[0x0,19,98,80,58])"
   ]
  },
  {
   "cell_type": "code",
   "execution_count": 180,
   "id": "84033e5c",
   "metadata": {},
   "outputs": [
    {
     "data": {
      "application/vnd.plotly.v1+json": {
       "config": {
        "plotlyServerURL": "https://plot.ly"
       },
       "data": [
        {
         "marker": {
          "color": "black"
         },
         "name": "Bit Flip Probability",
         "opacity": 0.7,
         "type": "bar",
         "x": {
          "bdata": "AAABAAIAAwAEAAUABgAHAAgACQAKAAsADAANAA4ADwAQABEAEgATABQAFQAWABcAGAAZABoAGwAcAB0AHgAfACAAIQAiACMAJAAlACYAJwAoACkAKgArACwALQAuAC8AMAAxADIAMwA0ADUANgA3ADgAOQA6ADsAPAA9AD4APwBAAEEAQgBDAEQARQBGAEcASABJAEoASwBMAE0ATgBPAFAAUQBSAFMAVABVAFYAVwBYAFkAWgBbAFwAXQBeAF8AYABhAGIAYwBkAGUAZgBnAGgAaQBqAGsAbABtAG4AbwBwAHEAcgBzAHQAdQB2AHcAeAB5AHoAewB8AH0AfgB/AIAAgQCCAIMAhACFAIYAhwCIAIkAigCLAIwAjQCOAI8AkACRAJIAkwCUAJUAlgCXAJgAmQCaAJsAnACdAJ4AnwCgAKEAogCjAKQApQCmAKcAqACpAKoAqwCsAK0ArgCvALAAsQCyALMAtAC1ALYAtwC4ALkAugC7ALwAvQC+AL8AwADBAMIAwwDEAMUAxgDHAMgAyQDKAMsAzADNAM4AzwDQANEA0gDTANQA1QDWANcA2ADZANoA2wDcAN0A3gDfAOAA4QDiAOMA5ADlAOYA5wDoAOkA6gDrAOwA7QDuAO8A8ADxAPIA8wD0APUA9gD3APgA+QD6APsA/AD9AP4A/wAAAQEBAgEDAQQBBQEGAQcBCAEJAQoBCwEMAQ0BDgEPARABEQESARMBFAEVARYBFwEYARkBGgEbARwBHQEeAR8BIAEhASIBIwEkASUBJgEnASgBKQEqASsBLAEtAS4BLwEwATEBMgEzATQBNQE2ATcBOAE5AToBOwE8AT0BPgE/AUABQQFCAUMBRAFFAUYBRwFIAUkBSgFLAUwBTQFOAU8BUAFRAVIBUwFUAVUBVgFXAVgBWQFaAVsBXAFdAV4BXwFgAWEBYgFjAWQBZQFmAWcBaAFpAWoBawFsAW0BbgFvAXABcQFyAXMBdAF1AXYBdwF4AXkBegF7AXwBfQF+AX8BgAGBAYIBgwGEAYUBhgGHAYgBiQGKAYsBjAGNAY4BjwGQAZEBkgGTAZQBlQGWAZcBmAGZAZoBmwGcAZ0BngGfAaABoQGiAaMBpAGlAaYBpwGoAakBqgGrAawBrQGuAa8BsAGxAbIBswG0AbUBtgG3AbgBuQG6AbsBvAG9Ab4BvwHAAcEBwgHDAcQBxQHGAccByAHJAcoBywHMAc0BzgHPAdAB0QHSAdMB1AHVAdYB1wHYAdkB2gHbAdwB3QHeAd8B4AHhAeIB4wHkAeUB5gHnAegB6QHqAesB7AHtAe4B7wHwAfEB8gHzAfQB9QH2AfcB+AH5AfoB+wH8Af0B/gH/AQ==",
          "dtype": "i2"
         },
         "y": {
          "bdata": "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",
          "dtype": "f8"
         }
        }
       ],
       "layout": {
        "annotations": [
         {
          "font": {
           "size": 10
          },
          "showarrow": false,
          "text": "Byte 0",
          "x": 3.5,
          "xanchor": "center",
          "xref": "x",
          "y": 1,
          "yanchor": "bottom",
          "yref": "y domain"
         },
         {
          "font": {
           "size": 10
          },
          "showarrow": false,
          "text": "Byte 1",
          "x": 11.5,
          "xanchor": "center",
          "xref": "x",
          "y": 1,
          "yanchor": "bottom",
          "yref": "y domain"
         },
         {
          "font": {
           "size": 10
          },
          "showarrow": false,
          "text": "Byte 2",
          "x": 19.5,
          "xanchor": "center",
          "xref": "x",
          "y": 1,
          "yanchor": "bottom",
          "yref": "y domain"
         },
         {
          "font": {
           "size": 10
          },
          "showarrow": false,
          "text": "Byte 3",
          "x": 27.5,
          "xanchor": "center",
          "xref": "x",
          "y": 1,
          "yanchor": "bottom",
          "yref": "y domain"
         },
         {
          "font": {
           "size": 10
          },
          "showarrow": false,
          "text": "Byte 4",
          "x": 35.5,
          "xanchor": "center",
          "xref": "x",
          "y": 1,
          "yanchor": "bottom",
          "yref": "y domain"
         },
         {
          "font": {
           "size": 10
          },
          "showarrow": false,
          "text": "Byte 5",
          "x": 43.5,
          "xanchor": "center",
          "xref": "x",
          "y": 1,
          "yanchor": "bottom",
          "yref": "y domain"
         },
         {
          "font": {
           "size": 10
          },
          "showarrow": false,
          "text": "Byte 6",
          "x": 51.5,
          "xanchor": "center",
          "xref": "x",
          "y": 1,
          "yanchor": "bottom",
          "yref": "y domain"
         },
         {
          "font": {
           "size": 10
          },
          "showarrow": false,
          "text": "Byte 7",
          "x": 59.5,
          "xanchor": "center",
          "xref": "x",
          "y": 1,
          "yanchor": "bottom",
          "yref": "y domain"
         },
         {
          "font": {
           "size": 10
          },
          "showarrow": false,
          "text": "Byte 8",
          "x": 67.5,
          "xanchor": "center",
          "xref": "x",
          "y": 1,
          "yanchor": "bottom",
          "yref": "y domain"
         },
         {
          "font": {
           "size": 10
          },
          "showarrow": false,
          "text": "Byte 9",
          "x": 75.5,
          "xanchor": "center",
          "xref": "x",
          "y": 1,
          "yanchor": "bottom",
          "yref": "y domain"
         },
         {
          "font": {
           "size": 10
          },
          "showarrow": false,
          "text": "Byte 10",
          "x": 83.5,
          "xanchor": "center",
          "xref": "x",
          "y": 1,
          "yanchor": "bottom",
          "yref": "y domain"
         },
         {
          "font": {
           "size": 10
          },
          "showarrow": false,
          "text": "Byte 11",
          "x": 91.5,
          "xanchor": "center",
          "xref": "x",
          "y": 1,
          "yanchor": "bottom",
          "yref": "y domain"
         },
         {
          "font": {
           "size": 10
          },
          "showarrow": false,
          "text": "Byte 12",
          "x": 99.5,
          "xanchor": "center",
          "xref": "x",
          "y": 1,
          "yanchor": "bottom",
          "yref": "y domain"
         },
         {
          "font": {
           "size": 10
          },
          "showarrow": false,
          "text": "Byte 13",
          "x": 107.5,
          "xanchor": "center",
          "xref": "x",
          "y": 1,
          "yanchor": "bottom",
          "yref": "y domain"
         },
         {
          "font": {
           "size": 10
          },
          "showarrow": false,
          "text": "Byte 14",
          "x": 115.5,
          "xanchor": "center",
          "xref": "x",
          "y": 1,
          "yanchor": "bottom",
          "yref": "y domain"
         },
         {
          "font": {
           "size": 10
          },
          "showarrow": false,
          "text": "Byte 15",
          "x": 123.5,
          "xanchor": "center",
          "xref": "x",
          "y": 1,
          "yanchor": "bottom",
          "yref": "y domain"
         },
         {
          "font": {
           "size": 10
          },
          "showarrow": false,
          "text": "Byte 16",
          "x": 131.5,
          "xanchor": "center",
          "xref": "x",
          "y": 1,
          "yanchor": "bottom",
          "yref": "y domain"
         },
         {
          "font": {
           "size": 10
          },
          "showarrow": false,
          "text": "Byte 17",
          "x": 139.5,
          "xanchor": "center",
          "xref": "x",
          "y": 1,
          "yanchor": "bottom",
          "yref": "y domain"
         },
         {
          "font": {
           "size": 10
          },
          "showarrow": false,
          "text": "Byte 18",
          "x": 147.5,
          "xanchor": "center",
          "xref": "x",
          "y": 1,
          "yanchor": "bottom",
          "yref": "y domain"
         },
         {
          "font": {
           "size": 10
          },
          "showarrow": false,
          "text": "Byte 19",
          "x": 155.5,
          "xanchor": "center",
          "xref": "x",
          "y": 1,
          "yanchor": "bottom",
          "yref": "y domain"
         },
         {
          "font": {
           "size": 10
          },
          "showarrow": false,
          "text": "Byte 20",
          "x": 163.5,
          "xanchor": "center",
          "xref": "x",
          "y": 1,
          "yanchor": "bottom",
          "yref": "y domain"
         },
         {
          "font": {
           "size": 10
          },
          "showarrow": false,
          "text": "Byte 21",
          "x": 171.5,
          "xanchor": "center",
          "xref": "x",
          "y": 1,
          "yanchor": "bottom",
          "yref": "y domain"
         },
         {
          "font": {
           "size": 10
          },
          "showarrow": false,
          "text": "Byte 22",
          "x": 179.5,
          "xanchor": "center",
          "xref": "x",
          "y": 1,
          "yanchor": "bottom",
          "yref": "y domain"
         },
         {
          "font": {
           "size": 10
          },
          "showarrow": false,
          "text": "Byte 23",
          "x": 187.5,
          "xanchor": "center",
          "xref": "x",
          "y": 1,
          "yanchor": "bottom",
          "yref": "y domain"
         },
         {
          "font": {
           "size": 10
          },
          "showarrow": false,
          "text": "Byte 24",
          "x": 195.5,
          "xanchor": "center",
          "xref": "x",
          "y": 1,
          "yanchor": "bottom",
          "yref": "y domain"
         },
         {
          "font": {
           "size": 10
          },
          "showarrow": false,
          "text": "Byte 25",
          "x": 203.5,
          "xanchor": "center",
          "xref": "x",
          "y": 1,
          "yanchor": "bottom",
          "yref": "y domain"
         },
         {
          "font": {
           "size": 10
          },
          "showarrow": false,
          "text": "Byte 26",
          "x": 211.5,
          "xanchor": "center",
          "xref": "x",
          "y": 1,
          "yanchor": "bottom",
          "yref": "y domain"
         },
         {
          "font": {
           "size": 10
          },
          "showarrow": false,
          "text": "Byte 27",
          "x": 219.5,
          "xanchor": "center",
          "xref": "x",
          "y": 1,
          "yanchor": "bottom",
          "yref": "y domain"
         },
         {
          "font": {
           "size": 10
          },
          "showarrow": false,
          "text": "Byte 28",
          "x": 227.5,
          "xanchor": "center",
          "xref": "x",
          "y": 1,
          "yanchor": "bottom",
          "yref": "y domain"
         },
         {
          "font": {
           "size": 10
          },
          "showarrow": false,
          "text": "Byte 29",
          "x": 235.5,
          "xanchor": "center",
          "xref": "x",
          "y": 1,
          "yanchor": "bottom",
          "yref": "y domain"
         },
         {
          "font": {
           "size": 10
          },
          "showarrow": false,
          "text": "Byte 30",
          "x": 243.5,
          "xanchor": "center",
          "xref": "x",
          "y": 1,
          "yanchor": "bottom",
          "yref": "y domain"
         },
         {
          "font": {
           "size": 10
          },
          "showarrow": false,
          "text": "Byte 31",
          "x": 251.5,
          "xanchor": "center",
          "xref": "x",
          "y": 1,
          "yanchor": "bottom",
          "yref": "y domain"
         },
         {
          "font": {
           "size": 10
          },
          "showarrow": false,
          "text": "Byte 32",
          "x": 259.5,
          "xanchor": "center",
          "xref": "x",
          "y": 1,
          "yanchor": "bottom",
          "yref": "y domain"
         },
         {
          "font": {
           "size": 10
          },
          "showarrow": false,
          "text": "Byte 33",
          "x": 267.5,
          "xanchor": "center",
          "xref": "x",
          "y": 1,
          "yanchor": "bottom",
          "yref": "y domain"
         },
         {
          "font": {
           "size": 10
          },
          "showarrow": false,
          "text": "Byte 34",
          "x": 275.5,
          "xanchor": "center",
          "xref": "x",
          "y": 1,
          "yanchor": "bottom",
          "yref": "y domain"
         },
         {
          "font": {
           "size": 10
          },
          "showarrow": false,
          "text": "Byte 35",
          "x": 283.5,
          "xanchor": "center",
          "xref": "x",
          "y": 1,
          "yanchor": "bottom",
          "yref": "y domain"
         },
         {
          "font": {
           "size": 10
          },
          "showarrow": false,
          "text": "Byte 36",
          "x": 291.5,
          "xanchor": "center",
          "xref": "x",
          "y": 1,
          "yanchor": "bottom",
          "yref": "y domain"
         },
         {
          "font": {
           "size": 10
          },
          "showarrow": false,
          "text": "Byte 37",
          "x": 299.5,
          "xanchor": "center",
          "xref": "x",
          "y": 1,
          "yanchor": "bottom",
          "yref": "y domain"
         },
         {
          "font": {
           "size": 10
          },
          "showarrow": false,
          "text": "Byte 38",
          "x": 307.5,
          "xanchor": "center",
          "xref": "x",
          "y": 1,
          "yanchor": "bottom",
          "yref": "y domain"
         },
         {
          "font": {
           "size": 10
          },
          "showarrow": false,
          "text": "Byte 39",
          "x": 315.5,
          "xanchor": "center",
          "xref": "x",
          "y": 1,
          "yanchor": "bottom",
          "yref": "y domain"
         },
         {
          "font": {
           "size": 10
          },
          "showarrow": false,
          "text": "Byte 40",
          "x": 323.5,
          "xanchor": "center",
          "xref": "x",
          "y": 1,
          "yanchor": "bottom",
          "yref": "y domain"
         },
         {
          "font": {
           "size": 10
          },
          "showarrow": false,
          "text": "Byte 41",
          "x": 331.5,
          "xanchor": "center",
          "xref": "x",
          "y": 1,
          "yanchor": "bottom",
          "yref": "y domain"
         },
         {
          "font": {
           "size": 10
          },
          "showarrow": false,
          "text": "Byte 42",
          "x": 339.5,
          "xanchor": "center",
          "xref": "x",
          "y": 1,
          "yanchor": "bottom",
          "yref": "y domain"
         },
         {
          "font": {
           "size": 10
          },
          "showarrow": false,
          "text": "Byte 43",
          "x": 347.5,
          "xanchor": "center",
          "xref": "x",
          "y": 1,
          "yanchor": "bottom",
          "yref": "y domain"
         },
         {
          "font": {
           "size": 10
          },
          "showarrow": false,
          "text": "Byte 44",
          "x": 355.5,
          "xanchor": "center",
          "xref": "x",
          "y": 1,
          "yanchor": "bottom",
          "yref": "y domain"
         },
         {
          "font": {
           "size": 10
          },
          "showarrow": false,
          "text": "Byte 45",
          "x": 363.5,
          "xanchor": "center",
          "xref": "x",
          "y": 1,
          "yanchor": "bottom",
          "yref": "y domain"
         },
         {
          "font": {
           "size": 10
          },
          "showarrow": false,
          "text": "Byte 46",
          "x": 371.5,
          "xanchor": "center",
          "xref": "x",
          "y": 1,
          "yanchor": "bottom",
          "yref": "y domain"
         },
         {
          "font": {
           "size": 10
          },
          "showarrow": false,
          "text": "Byte 47",
          "x": 379.5,
          "xanchor": "center",
          "xref": "x",
          "y": 1,
          "yanchor": "bottom",
          "yref": "y domain"
         },
         {
          "font": {
           "size": 10
          },
          "showarrow": false,
          "text": "Byte 48",
          "x": 387.5,
          "xanchor": "center",
          "xref": "x",
          "y": 1,
          "yanchor": "bottom",
          "yref": "y domain"
         },
         {
          "font": {
           "size": 10
          },
          "showarrow": false,
          "text": "Byte 49",
          "x": 395.5,
          "xanchor": "center",
          "xref": "x",
          "y": 1,
          "yanchor": "bottom",
          "yref": "y domain"
         },
         {
          "font": {
           "size": 10
          },
          "showarrow": false,
          "text": "Byte 50",
          "x": 403.5,
          "xanchor": "center",
          "xref": "x",
          "y": 1,
          "yanchor": "bottom",
          "yref": "y domain"
         },
         {
          "font": {
           "size": 10
          },
          "showarrow": false,
          "text": "Byte 51",
          "x": 411.5,
          "xanchor": "center",
          "xref": "x",
          "y": 1,
          "yanchor": "bottom",
          "yref": "y domain"
         },
         {
          "font": {
           "size": 10
          },
          "showarrow": false,
          "text": "Byte 52",
          "x": 419.5,
          "xanchor": "center",
          "xref": "x",
          "y": 1,
          "yanchor": "bottom",
          "yref": "y domain"
         },
         {
          "font": {
           "size": 10
          },
          "showarrow": false,
          "text": "Byte 53",
          "x": 427.5,
          "xanchor": "center",
          "xref": "x",
          "y": 1,
          "yanchor": "bottom",
          "yref": "y domain"
         },
         {
          "font": {
           "size": 10
          },
          "showarrow": false,
          "text": "Byte 54",
          "x": 435.5,
          "xanchor": "center",
          "xref": "x",
          "y": 1,
          "yanchor": "bottom",
          "yref": "y domain"
         },
         {
          "font": {
           "size": 10
          },
          "showarrow": false,
          "text": "Byte 55",
          "x": 443.5,
          "xanchor": "center",
          "xref": "x",
          "y": 1,
          "yanchor": "bottom",
          "yref": "y domain"
         },
         {
          "font": {
           "size": 10
          },
          "showarrow": false,
          "text": "Byte 56",
          "x": 451.5,
          "xanchor": "center",
          "xref": "x",
          "y": 1,
          "yanchor": "bottom",
          "yref": "y domain"
         },
         {
          "font": {
           "size": 10
          },
          "showarrow": false,
          "text": "Byte 57",
          "x": 459.5,
          "xanchor": "center",
          "xref": "x",
          "y": 1,
          "yanchor": "bottom",
          "yref": "y domain"
         },
         {
          "font": {
           "size": 10
          },
          "showarrow": false,
          "text": "Byte 58",
          "x": 467.5,
          "xanchor": "center",
          "xref": "x",
          "y": 1,
          "yanchor": "bottom",
          "yref": "y domain"
         },
         {
          "font": {
           "size": 10
          },
          "showarrow": false,
          "text": "Byte 59",
          "x": 475.5,
          "xanchor": "center",
          "xref": "x",
          "y": 1,
          "yanchor": "bottom",
          "yref": "y domain"
         },
         {
          "font": {
           "size": 10
          },
          "showarrow": false,
          "text": "Byte 60",
          "x": 483.5,
          "xanchor": "center",
          "xref": "x",
          "y": 1,
          "yanchor": "bottom",
          "yref": "y domain"
         },
         {
          "font": {
           "size": 10
          },
          "showarrow": false,
          "text": "Byte 61",
          "x": 491.5,
          "xanchor": "center",
          "xref": "x",
          "y": 1,
          "yanchor": "bottom",
          "yref": "y domain"
         },
         {
          "font": {
           "size": 10
          },
          "showarrow": false,
          "text": "Byte 62",
          "x": 499.5,
          "xanchor": "center",
          "xref": "x",
          "y": 1,
          "yanchor": "bottom",
          "yref": "y domain"
         },
         {
          "font": {
           "size": 10
          },
          "showarrow": false,
          "text": "Byte 63",
          "x": 507.5,
          "xanchor": "center",
          "xref": "x",
          "y": 1,
          "yanchor": "bottom",
          "yref": "y domain"
         },
         {
          "showarrow": false,
          "text": "SIG_BE_1",
          "x": 15.5,
          "xanchor": "left",
          "xref": "x",
          "y": 1,
          "yanchor": "top",
          "yref": "y domain"
         },
         {
          "showarrow": false,
          "text": "SIG_BE_2",
          "x": 16.5,
          "xanchor": "left",
          "xref": "x",
          "y": 1,
          "yanchor": "top",
          "yref": "y domain"
         },
         {
          "showarrow": false,
          "text": "SIG_BE_4",
          "x": 29.5,
          "xanchor": "left",
          "xref": "x",
          "y": 1,
          "yanchor": "top",
          "yref": "y domain"
         },
         {
          "showarrow": false,
          "text": "SIG_BE_6",
          "x": 32.5,
          "xanchor": "left",
          "xref": "x",
          "y": 1,
          "yanchor": "top",
          "yref": "y domain"
         },
         {
          "showarrow": false,
          "text": "SIG_BE_8",
          "x": 47.5,
          "xanchor": "left",
          "xref": "x",
          "y": 1,
          "yanchor": "top",
          "yref": "y domain"
         },
         {
          "showarrow": false,
          "text": "SIG_BE_10",
          "x": 51.5,
          "xanchor": "left",
          "xref": "x",
          "y": 1,
          "yanchor": "top",
          "yref": "y domain"
         },
         {
          "showarrow": false,
          "text": "SIG_BE_12",
          "x": 68.5,
          "xanchor": "left",
          "xref": "x",
          "y": 1,
          "yanchor": "top",
          "yref": "y domain"
         },
         {
          "showarrow": false,
          "text": "SIG_BE_14",
          "x": 81.5,
          "xanchor": "left",
          "xref": "x",
          "y": 1,
          "yanchor": "top",
          "yref": "y domain"
         },
         {
          "showarrow": false,
          "text": "SIG_BE_15",
          "x": 85.5,
          "xanchor": "left",
          "xref": "x",
          "y": 1,
          "yanchor": "top",
          "yref": "y domain"
         },
         {
          "showarrow": false,
          "text": "SIG_BE_16",
          "x": 95.5,
          "xanchor": "left",
          "xref": "x",
          "y": 1,
          "yanchor": "top",
          "yref": "y domain"
         },
         {
          "showarrow": false,
          "text": "SIG_BE_18",
          "x": 99.5,
          "xanchor": "left",
          "xref": "x",
          "y": 1,
          "yanchor": "top",
          "yref": "y domain"
         },
         {
          "showarrow": false,
          "text": "SIG_BE_20",
          "x": 143.5,
          "xanchor": "left",
          "xref": "x",
          "y": 1,
          "yanchor": "top",
          "yref": "y domain"
         },
         {
          "showarrow": false,
          "text": "SIG_BE_22",
          "x": 150.5,
          "xanchor": "left",
          "xref": "x",
          "y": 1,
          "yanchor": "top",
          "yref": "y domain"
         },
         {
          "showarrow": false,
          "text": "SIG_BE_24",
          "x": 159.5,
          "xanchor": "left",
          "xref": "x",
          "y": 1,
          "yanchor": "top",
          "yref": "y domain"
         },
         {
          "showarrow": false,
          "text": "SIG_BE_26",
          "x": 164.5,
          "xanchor": "left",
          "xref": "x",
          "y": 1,
          "yanchor": "top",
          "yref": "y domain"
         },
         {
          "showarrow": false,
          "text": "SIG_BE_28",
          "x": 176.5,
          "xanchor": "left",
          "xref": "x",
          "y": 1,
          "yanchor": "top",
          "yref": "y domain"
         },
         {
          "showarrow": false,
          "text": "SIG_BE_30",
          "x": 180.5,
          "xanchor": "left",
          "xref": "x",
          "y": 1,
          "yanchor": "top",
          "yref": "y domain"
         },
         {
          "showarrow": false,
          "text": "SIG_BE_31",
          "x": 182.5,
          "xanchor": "left",
          "xref": "x",
          "y": 1,
          "yanchor": "top",
          "yref": "y domain"
         },
         {
          "showarrow": false,
          "text": "SIG_BE_33",
          "x": 195.5,
          "xanchor": "left",
          "xref": "x",
          "y": 1,
          "yanchor": "top",
          "yref": "y domain"
         },
         {
          "showarrow": false,
          "text": "SIG_BE_35",
          "x": 209.5,
          "xanchor": "left",
          "xref": "x",
          "y": 1,
          "yanchor": "top",
          "yref": "y domain"
         },
         {
          "showarrow": false,
          "text": "SIG_BE_36",
          "x": 211.5,
          "xanchor": "left",
          "xref": "x",
          "y": 1,
          "yanchor": "top",
          "yref": "y domain"
         },
         {
          "showarrow": false,
          "text": "SIG_BE_37",
          "x": 212.5,
          "xanchor": "left",
          "xref": "x",
          "y": 1,
          "yanchor": "top",
          "yref": "y domain"
         },
         {
          "showarrow": false,
          "text": "SIG_BE_39",
          "x": 244.5,
          "xanchor": "left",
          "xref": "x",
          "y": 1,
          "yanchor": "top",
          "yref": "y domain"
         },
         {
          "showarrow": false,
          "text": "SIG_BE_40",
          "x": 245.5,
          "xanchor": "left",
          "xref": "x",
          "y": 1,
          "yanchor": "top",
          "yref": "y domain"
         },
         {
          "showarrow": false,
          "text": "SIG_BE_41",
          "x": 255.5,
          "xanchor": "left",
          "xref": "x",
          "y": 1,
          "yanchor": "top",
          "yref": "y domain"
         },
         {
          "showarrow": false,
          "text": "SIG_BE_43",
          "x": 257.5,
          "xanchor": "left",
          "xref": "x",
          "y": 1,
          "yanchor": "top",
          "yref": "y domain"
         },
         {
          "showarrow": false,
          "text": "SIG_BE_45",
          "x": 263.5,
          "xanchor": "left",
          "xref": "x",
          "y": 1,
          "yanchor": "top",
          "yref": "y domain"
         },
         {
          "showarrow": false,
          "text": "SIG_BE_47",
          "x": 279.5,
          "xanchor": "left",
          "xref": "x",
          "y": 1,
          "yanchor": "top",
          "yref": "y domain"
         },
         {
          "showarrow": false,
          "text": "SIG_BE_49",
          "x": 288.5,
          "xanchor": "left",
          "xref": "x",
          "y": 1,
          "yanchor": "top",
          "yref": "y domain"
         },
         {
          "showarrow": false,
          "text": "SIG_BE_51",
          "x": 292.5,
          "xanchor": "left",
          "xref": "x",
          "y": 1,
          "yanchor": "top",
          "yref": "y domain"
         },
         {
          "showarrow": false,
          "text": "SIG_BE_52",
          "x": 293.5,
          "xanchor": "left",
          "xref": "x",
          "y": 1,
          "yanchor": "top",
          "yref": "y domain"
         },
         {
          "showarrow": false,
          "text": "SIG_BE_53",
          "x": 303.5,
          "xanchor": "left",
          "xref": "x",
          "y": 1,
          "yanchor": "top",
          "yref": "y domain"
         },
         {
          "showarrow": false,
          "text": "SIG_BE_55",
          "x": 334.5,
          "xanchor": "left",
          "xref": "x",
          "y": 1,
          "yanchor": "top",
          "yref": "y domain"
         },
         {
          "showarrow": false,
          "text": "SIG_BE_57",
          "x": 370.5,
          "xanchor": "left",
          "xref": "x",
          "y": 1,
          "yanchor": "top",
          "yref": "y domain"
         },
         {
          "showarrow": false,
          "text": "SIG_BE_58",
          "x": 375.5,
          "xanchor": "left",
          "xref": "x",
          "y": 1,
          "yanchor": "top",
          "yref": "y domain"
         },
         {
          "showarrow": false,
          "text": "SIG_BE_59",
          "x": 383.5,
          "xanchor": "left",
          "xref": "x",
          "y": 1,
          "yanchor": "top",
          "yref": "y domain"
         },
         {
          "showarrow": false,
          "text": "SIG_BE_61",
          "x": 386.5,
          "xanchor": "left",
          "xref": "x",
          "y": 1,
          "yanchor": "top",
          "yref": "y domain"
         },
         {
          "showarrow": false,
          "text": "SIG_BE_63",
          "x": 404.5,
          "xanchor": "left",
          "xref": "x",
          "y": 1,
          "yanchor": "top",
          "yref": "y domain"
         },
         {
          "showarrow": false,
          "text": "SIG_BE_64",
          "x": 413.5,
          "xanchor": "left",
          "xref": "x",
          "y": 1,
          "yanchor": "top",
          "yref": "y domain"
         },
         {
          "showarrow": false,
          "text": "SIG_BE_66",
          "x": 417.5,
          "xanchor": "left",
          "xref": "x",
          "y": 1,
          "yanchor": "top",
          "yref": "y domain"
         },
         {
          "showarrow": false,
          "text": "SIG_BE_68",
          "x": 433.5,
          "xanchor": "left",
          "xref": "x",
          "y": 1,
          "yanchor": "top",
          "yref": "y domain"
         },
         {
          "showarrow": false,
          "text": "SIG_BE_69",
          "x": 435.5,
          "xanchor": "left",
          "xref": "x",
          "y": 1,
          "yanchor": "top",
          "yref": "y domain"
         }
        ],
        "legend": {
         "font": {
          "size": 8
         },
         "orientation": "h",
         "x": 0.5,
         "xanchor": "center",
         "y": -0.2
        },
        "shapes": [
         {
          "line": {
           "color": "gray",
           "dash": "dash",
           "width": 1
          },
          "type": "line",
          "x0": 7.5,
          "x1": 7.5,
          "y0": 0,
          "y1": 1.049881876476544
         },
         {
          "line": {
           "color": "gray",
           "dash": "dash",
           "width": 1
          },
          "type": "line",
          "x0": 15.5,
          "x1": 15.5,
          "y0": 0,
          "y1": 1.049881876476544
         },
         {
          "line": {
           "color": "gray",
           "dash": "dash",
           "width": 1
          },
          "type": "line",
          "x0": 23.5,
          "x1": 23.5,
          "y0": 0,
          "y1": 1.049881876476544
         },
         {
          "line": {
           "color": "gray",
           "dash": "dash",
           "width": 1
          },
          "type": "line",
          "x0": 31.5,
          "x1": 31.5,
          "y0": 0,
          "y1": 1.049881876476544
         },
         {
          "line": {
           "color": "gray",
           "dash": "dash",
           "width": 1
          },
          "type": "line",
          "x0": 39.5,
          "x1": 39.5,
          "y0": 0,
          "y1": 1.049881876476544
         },
         {
          "line": {
           "color": "gray",
           "dash": "dash",
           "width": 1
          },
          "type": "line",
          "x0": 47.5,
          "x1": 47.5,
          "y0": 0,
          "y1": 1.049881876476544
         },
         {
          "line": {
           "color": "gray",
           "dash": "dash",
           "width": 1
          },
          "type": "line",
          "x0": 55.5,
          "x1": 55.5,
          "y0": 0,
          "y1": 1.049881876476544
         },
         {
          "line": {
           "color": "gray",
           "dash": "dash",
           "width": 1
          },
          "type": "line",
          "x0": 63.5,
          "x1": 63.5,
          "y0": 0,
          "y1": 1.049881876476544
         },
         {
          "line": {
           "color": "gray",
           "dash": "dash",
           "width": 1
          },
          "type": "line",
          "x0": 71.5,
          "x1": 71.5,
          "y0": 0,
          "y1": 1.049881876476544
         },
         {
          "line": {
           "color": "gray",
           "dash": "dash",
           "width": 1
          },
          "type": "line",
          "x0": 79.5,
          "x1": 79.5,
          "y0": 0,
          "y1": 1.049881876476544
         },
         {
          "line": {
           "color": "gray",
           "dash": "dash",
           "width": 1
          },
          "type": "line",
          "x0": 87.5,
          "x1": 87.5,
          "y0": 0,
          "y1": 1.049881876476544
         },
         {
          "line": {
           "color": "gray",
           "dash": "dash",
           "width": 1
          },
          "type": "line",
          "x0": 95.5,
          "x1": 95.5,
          "y0": 0,
          "y1": 1.049881876476544
         },
         {
          "line": {
           "color": "gray",
           "dash": "dash",
           "width": 1
          },
          "type": "line",
          "x0": 103.5,
          "x1": 103.5,
          "y0": 0,
          "y1": 1.049881876476544
         },
         {
          "line": {
           "color": "gray",
           "dash": "dash",
           "width": 1
          },
          "type": "line",
          "x0": 111.5,
          "x1": 111.5,
          "y0": 0,
          "y1": 1.049881876476544
         },
         {
          "line": {
           "color": "gray",
           "dash": "dash",
           "width": 1
          },
          "type": "line",
          "x0": 119.5,
          "x1": 119.5,
          "y0": 0,
          "y1": 1.049881876476544
         },
         {
          "line": {
           "color": "gray",
           "dash": "dash",
           "width": 1
          },
          "type": "line",
          "x0": 127.5,
          "x1": 127.5,
          "y0": 0,
          "y1": 1.049881876476544
         },
         {
          "line": {
           "color": "gray",
           "dash": "dash",
           "width": 1
          },
          "type": "line",
          "x0": 135.5,
          "x1": 135.5,
          "y0": 0,
          "y1": 1.049881876476544
         },
         {
          "line": {
           "color": "gray",
           "dash": "dash",
           "width": 1
          },
          "type": "line",
          "x0": 143.5,
          "x1": 143.5,
          "y0": 0,
          "y1": 1.049881876476544
         },
         {
          "line": {
           "color": "gray",
           "dash": "dash",
           "width": 1
          },
          "type": "line",
          "x0": 151.5,
          "x1": 151.5,
          "y0": 0,
          "y1": 1.049881876476544
         },
         {
          "line": {
           "color": "gray",
           "dash": "dash",
           "width": 1
          },
          "type": "line",
          "x0": 159.5,
          "x1": 159.5,
          "y0": 0,
          "y1": 1.049881876476544
         },
         {
          "line": {
           "color": "gray",
           "dash": "dash",
           "width": 1
          },
          "type": "line",
          "x0": 167.5,
          "x1": 167.5,
          "y0": 0,
          "y1": 1.049881876476544
         },
         {
          "line": {
           "color": "gray",
           "dash": "dash",
           "width": 1
          },
          "type": "line",
          "x0": 175.5,
          "x1": 175.5,
          "y0": 0,
          "y1": 1.049881876476544
         },
         {
          "line": {
           "color": "gray",
           "dash": "dash",
           "width": 1
          },
          "type": "line",
          "x0": 183.5,
          "x1": 183.5,
          "y0": 0,
          "y1": 1.049881876476544
         },
         {
          "line": {
           "color": "gray",
           "dash": "dash",
           "width": 1
          },
          "type": "line",
          "x0": 191.5,
          "x1": 191.5,
          "y0": 0,
          "y1": 1.049881876476544
         },
         {
          "line": {
           "color": "gray",
           "dash": "dash",
           "width": 1
          },
          "type": "line",
          "x0": 199.5,
          "x1": 199.5,
          "y0": 0,
          "y1": 1.049881876476544
         },
         {
          "line": {
           "color": "gray",
           "dash": "dash",
           "width": 1
          },
          "type": "line",
          "x0": 207.5,
          "x1": 207.5,
          "y0": 0,
          "y1": 1.049881876476544
         },
         {
          "line": {
           "color": "gray",
           "dash": "dash",
           "width": 1
          },
          "type": "line",
          "x0": 215.5,
          "x1": 215.5,
          "y0": 0,
          "y1": 1.049881876476544
         },
         {
          "line": {
           "color": "gray",
           "dash": "dash",
           "width": 1
          },
          "type": "line",
          "x0": 223.5,
          "x1": 223.5,
          "y0": 0,
          "y1": 1.049881876476544
         },
         {
          "line": {
           "color": "gray",
           "dash": "dash",
           "width": 1
          },
          "type": "line",
          "x0": 231.5,
          "x1": 231.5,
          "y0": 0,
          "y1": 1.049881876476544
         },
         {
          "line": {
           "color": "gray",
           "dash": "dash",
           "width": 1
          },
          "type": "line",
          "x0": 239.5,
          "x1": 239.5,
          "y0": 0,
          "y1": 1.049881876476544
         },
         {
          "line": {
           "color": "gray",
           "dash": "dash",
           "width": 1
          },
          "type": "line",
          "x0": 247.5,
          "x1": 247.5,
          "y0": 0,
          "y1": 1.049881876476544
         },
         {
          "line": {
           "color": "gray",
           "dash": "dash",
           "width": 1
          },
          "type": "line",
          "x0": 255.5,
          "x1": 255.5,
          "y0": 0,
          "y1": 1.049881876476544
         },
         {
          "line": {
           "color": "gray",
           "dash": "dash",
           "width": 1
          },
          "type": "line",
          "x0": 263.5,
          "x1": 263.5,
          "y0": 0,
          "y1": 1.049881876476544
         },
         {
          "line": {
           "color": "gray",
           "dash": "dash",
           "width": 1
          },
          "type": "line",
          "x0": 271.5,
          "x1": 271.5,
          "y0": 0,
          "y1": 1.049881876476544
         },
         {
          "line": {
           "color": "gray",
           "dash": "dash",
           "width": 1
          },
          "type": "line",
          "x0": 279.5,
          "x1": 279.5,
          "y0": 0,
          "y1": 1.049881876476544
         },
         {
          "line": {
           "color": "gray",
           "dash": "dash",
           "width": 1
          },
          "type": "line",
          "x0": 287.5,
          "x1": 287.5,
          "y0": 0,
          "y1": 1.049881876476544
         },
         {
          "line": {
           "color": "gray",
           "dash": "dash",
           "width": 1
          },
          "type": "line",
          "x0": 295.5,
          "x1": 295.5,
          "y0": 0,
          "y1": 1.049881876476544
         },
         {
          "line": {
           "color": "gray",
           "dash": "dash",
           "width": 1
          },
          "type": "line",
          "x0": 303.5,
          "x1": 303.5,
          "y0": 0,
          "y1": 1.049881876476544
         },
         {
          "line": {
           "color": "gray",
           "dash": "dash",
           "width": 1
          },
          "type": "line",
          "x0": 311.5,
          "x1": 311.5,
          "y0": 0,
          "y1": 1.049881876476544
         },
         {
          "line": {
           "color": "gray",
           "dash": "dash",
           "width": 1
          },
          "type": "line",
          "x0": 319.5,
          "x1": 319.5,
          "y0": 0,
          "y1": 1.049881876476544
         },
         {
          "line": {
           "color": "gray",
           "dash": "dash",
           "width": 1
          },
          "type": "line",
          "x0": 327.5,
          "x1": 327.5,
          "y0": 0,
          "y1": 1.049881876476544
         },
         {
          "line": {
           "color": "gray",
           "dash": "dash",
           "width": 1
          },
          "type": "line",
          "x0": 335.5,
          "x1": 335.5,
          "y0": 0,
          "y1": 1.049881876476544
         },
         {
          "line": {
           "color": "gray",
           "dash": "dash",
           "width": 1
          },
          "type": "line",
          "x0": 343.5,
          "x1": 343.5,
          "y0": 0,
          "y1": 1.049881876476544
         },
         {
          "line": {
           "color": "gray",
           "dash": "dash",
           "width": 1
          },
          "type": "line",
          "x0": 351.5,
          "x1": 351.5,
          "y0": 0,
          "y1": 1.049881876476544
         },
         {
          "line": {
           "color": "gray",
           "dash": "dash",
           "width": 1
          },
          "type": "line",
          "x0": 359.5,
          "x1": 359.5,
          "y0": 0,
          "y1": 1.049881876476544
         },
         {
          "line": {
           "color": "gray",
           "dash": "dash",
           "width": 1
          },
          "type": "line",
          "x0": 367.5,
          "x1": 367.5,
          "y0": 0,
          "y1": 1.049881876476544
         },
         {
          "line": {
           "color": "gray",
           "dash": "dash",
           "width": 1
          },
          "type": "line",
          "x0": 375.5,
          "x1": 375.5,
          "y0": 0,
          "y1": 1.049881876476544
         },
         {
          "line": {
           "color": "gray",
           "dash": "dash",
           "width": 1
          },
          "type": "line",
          "x0": 383.5,
          "x1": 383.5,
          "y0": 0,
          "y1": 1.049881876476544
         },
         {
          "line": {
           "color": "gray",
           "dash": "dash",
           "width": 1
          },
          "type": "line",
          "x0": 391.5,
          "x1": 391.5,
          "y0": 0,
          "y1": 1.049881876476544
         },
         {
          "line": {
           "color": "gray",
           "dash": "dash",
           "width": 1
          },
          "type": "line",
          "x0": 399.5,
          "x1": 399.5,
          "y0": 0,
          "y1": 1.049881876476544
         },
         {
          "line": {
           "color": "gray",
           "dash": "dash",
           "width": 1
          },
          "type": "line",
          "x0": 407.5,
          "x1": 407.5,
          "y0": 0,
          "y1": 1.049881876476544
         },
         {
          "line": {
           "color": "gray",
           "dash": "dash",
           "width": 1
          },
          "type": "line",
          "x0": 415.5,
          "x1": 415.5,
          "y0": 0,
          "y1": 1.049881876476544
         },
         {
          "line": {
           "color": "gray",
           "dash": "dash",
           "width": 1
          },
          "type": "line",
          "x0": 423.5,
          "x1": 423.5,
          "y0": 0,
          "y1": 1.049881876476544
         },
         {
          "line": {
           "color": "gray",
           "dash": "dash",
           "width": 1
          },
          "type": "line",
          "x0": 431.5,
          "x1": 431.5,
          "y0": 0,
          "y1": 1.049881876476544
         },
         {
          "line": {
           "color": "gray",
           "dash": "dash",
           "width": 1
          },
          "type": "line",
          "x0": 439.5,
          "x1": 439.5,
          "y0": 0,
          "y1": 1.049881876476544
         },
         {
          "line": {
           "color": "gray",
           "dash": "dash",
           "width": 1
          },
          "type": "line",
          "x0": 447.5,
          "x1": 447.5,
          "y0": 0,
          "y1": 1.049881876476544
         },
         {
          "line": {
           "color": "gray",
           "dash": "dash",
           "width": 1
          },
          "type": "line",
          "x0": 455.5,
          "x1": 455.5,
          "y0": 0,
          "y1": 1.049881876476544
         },
         {
          "line": {
           "color": "gray",
           "dash": "dash",
           "width": 1
          },
          "type": "line",
          "x0": 463.5,
          "x1": 463.5,
          "y0": 0,
          "y1": 1.049881876476544
         },
         {
          "line": {
           "color": "gray",
           "dash": "dash",
           "width": 1
          },
          "type": "line",
          "x0": 471.5,
          "x1": 471.5,
          "y0": 0,
          "y1": 1.049881876476544
         },
         {
          "line": {
           "color": "gray",
           "dash": "dash",
           "width": 1
          },
          "type": "line",
          "x0": 479.5,
          "x1": 479.5,
          "y0": 0,
          "y1": 1.049881876476544
         },
         {
          "line": {
           "color": "gray",
           "dash": "dash",
           "width": 1
          },
          "type": "line",
          "x0": 487.5,
          "x1": 487.5,
          "y0": 0,
          "y1": 1.049881876476544
         },
         {
          "line": {
           "color": "gray",
           "dash": "dash",
           "width": 1
          },
          "type": "line",
          "x0": 495.5,
          "x1": 495.5,
          "y0": 0,
          "y1": 1.049881876476544
         },
         {
          "line": {
           "color": "gray",
           "dash": "dash",
           "width": 1
          },
          "type": "line",
          "x0": 503.5,
          "x1": 503.5,
          "y0": 0,
          "y1": 1.049881876476544
         },
         {
          "line": {
           "color": "black",
           "width": 1
          },
          "opacity": 0,
          "type": "rect",
          "x0": -0.5,
          "x1": 7.5,
          "xref": "x",
          "y0": 0,
          "y1": 1,
          "yref": "y domain"
         },
         {
          "line": {
           "color": "black",
           "width": 1
          },
          "opacity": 0,
          "type": "rect",
          "x0": 7.5,
          "x1": 15.5,
          "xref": "x",
          "y0": 0,
          "y1": 1,
          "yref": "y domain"
         },
         {
          "line": {
           "color": "black",
           "width": 1
          },
          "opacity": 0,
          "type": "rect",
          "x0": 15.5,
          "x1": 23.5,
          "xref": "x",
          "y0": 0,
          "y1": 1,
          "yref": "y domain"
         },
         {
          "line": {
           "color": "black",
           "width": 1
          },
          "opacity": 0,
          "type": "rect",
          "x0": 23.5,
          "x1": 31.5,
          "xref": "x",
          "y0": 0,
          "y1": 1,
          "yref": "y domain"
         },
         {
          "line": {
           "color": "black",
           "width": 1
          },
          "opacity": 0,
          "type": "rect",
          "x0": 31.5,
          "x1": 39.5,
          "xref": "x",
          "y0": 0,
          "y1": 1,
          "yref": "y domain"
         },
         {
          "line": {
           "color": "black",
           "width": 1
          },
          "opacity": 0,
          "type": "rect",
          "x0": 39.5,
          "x1": 47.5,
          "xref": "x",
          "y0": 0,
          "y1": 1,
          "yref": "y domain"
         },
         {
          "line": {
           "color": "black",
           "width": 1
          },
          "opacity": 0,
          "type": "rect",
          "x0": 47.5,
          "x1": 55.5,
          "xref": "x",
          "y0": 0,
          "y1": 1,
          "yref": "y domain"
         },
         {
          "line": {
           "color": "black",
           "width": 1
          },
          "opacity": 0,
          "type": "rect",
          "x0": 55.5,
          "x1": 63.5,
          "xref": "x",
          "y0": 0,
          "y1": 1,
          "yref": "y domain"
         },
         {
          "line": {
           "color": "black",
           "width": 1
          },
          "opacity": 0,
          "type": "rect",
          "x0": 63.5,
          "x1": 71.5,
          "xref": "x",
          "y0": 0,
          "y1": 1,
          "yref": "y domain"
         },
         {
          "line": {
           "color": "black",
           "width": 1
          },
          "opacity": 0,
          "type": "rect",
          "x0": 71.5,
          "x1": 79.5,
          "xref": "x",
          "y0": 0,
          "y1": 1,
          "yref": "y domain"
         },
         {
          "line": {
           "color": "black",
           "width": 1
          },
          "opacity": 0,
          "type": "rect",
          "x0": 79.5,
          "x1": 87.5,
          "xref": "x",
          "y0": 0,
          "y1": 1,
          "yref": "y domain"
         },
         {
          "line": {
           "color": "black",
           "width": 1
          },
          "opacity": 0,
          "type": "rect",
          "x0": 87.5,
          "x1": 95.5,
          "xref": "x",
          "y0": 0,
          "y1": 1,
          "yref": "y domain"
         },
         {
          "line": {
           "color": "black",
           "width": 1
          },
          "opacity": 0,
          "type": "rect",
          "x0": 95.5,
          "x1": 103.5,
          "xref": "x",
          "y0": 0,
          "y1": 1,
          "yref": "y domain"
         },
         {
          "line": {
           "color": "black",
           "width": 1
          },
          "opacity": 0,
          "type": "rect",
          "x0": 103.5,
          "x1": 111.5,
          "xref": "x",
          "y0": 0,
          "y1": 1,
          "yref": "y domain"
         },
         {
          "line": {
           "color": "black",
           "width": 1
          },
          "opacity": 0,
          "type": "rect",
          "x0": 111.5,
          "x1": 119.5,
          "xref": "x",
          "y0": 0,
          "y1": 1,
          "yref": "y domain"
         },
         {
          "line": {
           "color": "black",
           "width": 1
          },
          "opacity": 0,
          "type": "rect",
          "x0": 119.5,
          "x1": 127.5,
          "xref": "x",
          "y0": 0,
          "y1": 1,
          "yref": "y domain"
         },
         {
          "line": {
           "color": "black",
           "width": 1
          },
          "opacity": 0,
          "type": "rect",
          "x0": 127.5,
          "x1": 135.5,
          "xref": "x",
          "y0": 0,
          "y1": 1,
          "yref": "y domain"
         },
         {
          "line": {
           "color": "black",
           "width": 1
          },
          "opacity": 0,
          "type": "rect",
          "x0": 135.5,
          "x1": 143.5,
          "xref": "x",
          "y0": 0,
          "y1": 1,
          "yref": "y domain"
         },
         {
          "line": {
           "color": "black",
           "width": 1
          },
          "opacity": 0,
          "type": "rect",
          "x0": 143.5,
          "x1": 151.5,
          "xref": "x",
          "y0": 0,
          "y1": 1,
          "yref": "y domain"
         },
         {
          "line": {
           "color": "black",
           "width": 1
          },
          "opacity": 0,
          "type": "rect",
          "x0": 151.5,
          "x1": 159.5,
          "xref": "x",
          "y0": 0,
          "y1": 1,
          "yref": "y domain"
         },
         {
          "line": {
           "color": "black",
           "width": 1
          },
          "opacity": 0,
          "type": "rect",
          "x0": 159.5,
          "x1": 167.5,
          "xref": "x",
          "y0": 0,
          "y1": 1,
          "yref": "y domain"
         },
         {
          "line": {
           "color": "black",
           "width": 1
          },
          "opacity": 0,
          "type": "rect",
          "x0": 167.5,
          "x1": 175.5,
          "xref": "x",
          "y0": 0,
          "y1": 1,
          "yref": "y domain"
         },
         {
          "line": {
           "color": "black",
           "width": 1
          },
          "opacity": 0,
          "type": "rect",
          "x0": 175.5,
          "x1": 183.5,
          "xref": "x",
          "y0": 0,
          "y1": 1,
          "yref": "y domain"
         },
         {
          "line": {
           "color": "black",
           "width": 1
          },
          "opacity": 0,
          "type": "rect",
          "x0": 183.5,
          "x1": 191.5,
          "xref": "x",
          "y0": 0,
          "y1": 1,
          "yref": "y domain"
         },
         {
          "line": {
           "color": "black",
           "width": 1
          },
          "opacity": 0,
          "type": "rect",
          "x0": 191.5,
          "x1": 199.5,
          "xref": "x",
          "y0": 0,
          "y1": 1,
          "yref": "y domain"
         },
         {
          "line": {
           "color": "black",
           "width": 1
          },
          "opacity": 0,
          "type": "rect",
          "x0": 199.5,
          "x1": 207.5,
          "xref": "x",
          "y0": 0,
          "y1": 1,
          "yref": "y domain"
         },
         {
          "line": {
           "color": "black",
           "width": 1
          },
          "opacity": 0,
          "type": "rect",
          "x0": 207.5,
          "x1": 215.5,
          "xref": "x",
          "y0": 0,
          "y1": 1,
          "yref": "y domain"
         },
         {
          "line": {
           "color": "black",
           "width": 1
          },
          "opacity": 0,
          "type": "rect",
          "x0": 215.5,
          "x1": 223.5,
          "xref": "x",
          "y0": 0,
          "y1": 1,
          "yref": "y domain"
         },
         {
          "line": {
           "color": "black",
           "width": 1
          },
          "opacity": 0,
          "type": "rect",
          "x0": 223.5,
          "x1": 231.5,
          "xref": "x",
          "y0": 0,
          "y1": 1,
          "yref": "y domain"
         },
         {
          "line": {
           "color": "black",
           "width": 1
          },
          "opacity": 0,
          "type": "rect",
          "x0": 231.5,
          "x1": 239.5,
          "xref": "x",
          "y0": 0,
          "y1": 1,
          "yref": "y domain"
         },
         {
          "line": {
           "color": "black",
           "width": 1
          },
          "opacity": 0,
          "type": "rect",
          "x0": 239.5,
          "x1": 247.5,
          "xref": "x",
          "y0": 0,
          "y1": 1,
          "yref": "y domain"
         },
         {
          "line": {
           "color": "black",
           "width": 1
          },
          "opacity": 0,
          "type": "rect",
          "x0": 247.5,
          "x1": 255.5,
          "xref": "x",
          "y0": 0,
          "y1": 1,
          "yref": "y domain"
         },
         {
          "line": {
           "color": "black",
           "width": 1
          },
          "opacity": 0,
          "type": "rect",
          "x0": 255.5,
          "x1": 263.5,
          "xref": "x",
          "y0": 0,
          "y1": 1,
          "yref": "y domain"
         },
         {
          "line": {
           "color": "black",
           "width": 1
          },
          "opacity": 0,
          "type": "rect",
          "x0": 263.5,
          "x1": 271.5,
          "xref": "x",
          "y0": 0,
          "y1": 1,
          "yref": "y domain"
         },
         {
          "line": {
           "color": "black",
           "width": 1
          },
          "opacity": 0,
          "type": "rect",
          "x0": 271.5,
          "x1": 279.5,
          "xref": "x",
          "y0": 0,
          "y1": 1,
          "yref": "y domain"
         },
         {
          "line": {
           "color": "black",
           "width": 1
          },
          "opacity": 0,
          "type": "rect",
          "x0": 279.5,
          "x1": 287.5,
          "xref": "x",
          "y0": 0,
          "y1": 1,
          "yref": "y domain"
         },
         {
          "line": {
           "color": "black",
           "width": 1
          },
          "opacity": 0,
          "type": "rect",
          "x0": 287.5,
          "x1": 295.5,
          "xref": "x",
          "y0": 0,
          "y1": 1,
          "yref": "y domain"
         },
         {
          "line": {
           "color": "black",
           "width": 1
          },
          "opacity": 0,
          "type": "rect",
          "x0": 295.5,
          "x1": 303.5,
          "xref": "x",
          "y0": 0,
          "y1": 1,
          "yref": "y domain"
         },
         {
          "line": {
           "color": "black",
           "width": 1
          },
          "opacity": 0,
          "type": "rect",
          "x0": 303.5,
          "x1": 311.5,
          "xref": "x",
          "y0": 0,
          "y1": 1,
          "yref": "y domain"
         },
         {
          "line": {
           "color": "black",
           "width": 1
          },
          "opacity": 0,
          "type": "rect",
          "x0": 311.5,
          "x1": 319.5,
          "xref": "x",
          "y0": 0,
          "y1": 1,
          "yref": "y domain"
         },
         {
          "line": {
           "color": "black",
           "width": 1
          },
          "opacity": 0,
          "type": "rect",
          "x0": 319.5,
          "x1": 327.5,
          "xref": "x",
          "y0": 0,
          "y1": 1,
          "yref": "y domain"
         },
         {
          "line": {
           "color": "black",
           "width": 1
          },
          "opacity": 0,
          "type": "rect",
          "x0": 327.5,
          "x1": 335.5,
          "xref": "x",
          "y0": 0,
          "y1": 1,
          "yref": "y domain"
         },
         {
          "line": {
           "color": "black",
           "width": 1
          },
          "opacity": 0,
          "type": "rect",
          "x0": 335.5,
          "x1": 343.5,
          "xref": "x",
          "y0": 0,
          "y1": 1,
          "yref": "y domain"
         },
         {
          "line": {
           "color": "black",
           "width": 1
          },
          "opacity": 0,
          "type": "rect",
          "x0": 343.5,
          "x1": 351.5,
          "xref": "x",
          "y0": 0,
          "y1": 1,
          "yref": "y domain"
         },
         {
          "line": {
           "color": "black",
           "width": 1
          },
          "opacity": 0,
          "type": "rect",
          "x0": 351.5,
          "x1": 359.5,
          "xref": "x",
          "y0": 0,
          "y1": 1,
          "yref": "y domain"
         },
         {
          "line": {
           "color": "black",
           "width": 1
          },
          "opacity": 0,
          "type": "rect",
          "x0": 359.5,
          "x1": 367.5,
          "xref": "x",
          "y0": 0,
          "y1": 1,
          "yref": "y domain"
         },
         {
          "line": {
           "color": "black",
           "width": 1
          },
          "opacity": 0,
          "type": "rect",
          "x0": 367.5,
          "x1": 375.5,
          "xref": "x",
          "y0": 0,
          "y1": 1,
          "yref": "y domain"
         },
         {
          "line": {
           "color": "black",
           "width": 1
          },
          "opacity": 0,
          "type": "rect",
          "x0": 375.5,
          "x1": 383.5,
          "xref": "x",
          "y0": 0,
          "y1": 1,
          "yref": "y domain"
         },
         {
          "line": {
           "color": "black",
           "width": 1
          },
          "opacity": 0,
          "type": "rect",
          "x0": 383.5,
          "x1": 391.5,
          "xref": "x",
          "y0": 0,
          "y1": 1,
          "yref": "y domain"
         },
         {
          "line": {
           "color": "black",
           "width": 1
          },
          "opacity": 0,
          "type": "rect",
          "x0": 391.5,
          "x1": 399.5,
          "xref": "x",
          "y0": 0,
          "y1": 1,
          "yref": "y domain"
         },
         {
          "line": {
           "color": "black",
           "width": 1
          },
          "opacity": 0,
          "type": "rect",
          "x0": 399.5,
          "x1": 407.5,
          "xref": "x",
          "y0": 0,
          "y1": 1,
          "yref": "y domain"
         },
         {
          "line": {
           "color": "black",
           "width": 1
          },
          "opacity": 0,
          "type": "rect",
          "x0": 407.5,
          "x1": 415.5,
          "xref": "x",
          "y0": 0,
          "y1": 1,
          "yref": "y domain"
         },
         {
          "line": {
           "color": "black",
           "width": 1
          },
          "opacity": 0,
          "type": "rect",
          "x0": 415.5,
          "x1": 423.5,
          "xref": "x",
          "y0": 0,
          "y1": 1,
          "yref": "y domain"
         },
         {
          "line": {
           "color": "black",
           "width": 1
          },
          "opacity": 0,
          "type": "rect",
          "x0": 423.5,
          "x1": 431.5,
          "xref": "x",
          "y0": 0,
          "y1": 1,
          "yref": "y domain"
         },
         {
          "line": {
           "color": "black",
           "width": 1
          },
          "opacity": 0,
          "type": "rect",
          "x0": 431.5,
          "x1": 439.5,
          "xref": "x",
          "y0": 0,
          "y1": 1,
          "yref": "y domain"
         },
         {
          "line": {
           "color": "black",
           "width": 1
          },
          "opacity": 0,
          "type": "rect",
          "x0": 439.5,
          "x1": 447.5,
          "xref": "x",
          "y0": 0,
          "y1": 1,
          "yref": "y domain"
         },
         {
          "line": {
           "color": "black",
           "width": 1
          },
          "opacity": 0,
          "type": "rect",
          "x0": 447.5,
          "x1": 455.5,
          "xref": "x",
          "y0": 0,
          "y1": 1,
          "yref": "y domain"
         },
         {
          "line": {
           "color": "black",
           "width": 1
          },
          "opacity": 0,
          "type": "rect",
          "x0": 455.5,
          "x1": 463.5,
          "xref": "x",
          "y0": 0,
          "y1": 1,
          "yref": "y domain"
         },
         {
          "line": {
           "color": "black",
           "width": 1
          },
          "opacity": 0,
          "type": "rect",
          "x0": 463.5,
          "x1": 471.5,
          "xref": "x",
          "y0": 0,
          "y1": 1,
          "yref": "y domain"
         },
         {
          "line": {
           "color": "black",
           "width": 1
          },
          "opacity": 0,
          "type": "rect",
          "x0": 471.5,
          "x1": 479.5,
          "xref": "x",
          "y0": 0,
          "y1": 1,
          "yref": "y domain"
         },
         {
          "line": {
           "color": "black",
           "width": 1
          },
          "opacity": 0,
          "type": "rect",
          "x0": 479.5,
          "x1": 487.5,
          "xref": "x",
          "y0": 0,
          "y1": 1,
          "yref": "y domain"
         },
         {
          "line": {
           "color": "black",
           "width": 1
          },
          "opacity": 0,
          "type": "rect",
          "x0": 487.5,
          "x1": 495.5,
          "xref": "x",
          "y0": 0,
          "y1": 1,
          "yref": "y domain"
         },
         {
          "line": {
           "color": "black",
           "width": 1
          },
          "opacity": 0,
          "type": "rect",
          "x0": 495.5,
          "x1": 503.5,
          "xref": "x",
          "y0": 0,
          "y1": 1,
          "yref": "y domain"
         },
         {
          "line": {
           "color": "black",
           "width": 1
          },
          "opacity": 0,
          "type": "rect",
          "x0": 503.5,
          "x1": 511.5,
          "xref": "x",
          "y0": 0,
          "y1": 1,
          "yref": "y domain"
         },
         {
          "fillcolor": "#79A8DD",
          "layer": "below",
          "line": {
           "width": 0
          },
          "opacity": 0.2,
          "type": "rect",
          "x0": 15.5,
          "x1": 16.5,
          "xref": "x",
          "y0": 0,
          "y1": 1,
          "yref": "y domain"
         },
         {
          "fillcolor": "#DD79DA",
          "layer": "below",
          "line": {
           "width": 0
          },
          "opacity": 0.2,
          "type": "rect",
          "x0": 16.5,
          "x1": 17.5,
          "xref": "x",
          "y0": 0,
          "y1": 1,
          "yref": "y domain"
         },
         {
          "fillcolor": "#DDAE79",
          "layer": "below",
          "line": {
           "width": 0
          },
          "opacity": 0.2,
          "type": "rect",
          "x0": 29.5,
          "x1": 30.5,
          "xref": "x",
          "y0": 0,
          "y1": 1,
          "yref": "y domain"
         },
         {
          "fillcolor": "#79DD7C",
          "layer": "below",
          "line": {
           "width": 0
          },
          "opacity": 0.2,
          "type": "rect",
          "x0": 32.5,
          "x1": 33.5,
          "xref": "x",
          "y0": 0,
          "y1": 1,
          "yref": "y domain"
         },
         {
          "fillcolor": "#79A8DD",
          "layer": "below",
          "line": {
           "width": 0
          },
          "opacity": 0.2,
          "type": "rect",
          "x0": 47.5,
          "x1": 49.5,
          "xref": "x",
          "y0": 0,
          "y1": 1,
          "yref": "y domain"
         },
         {
          "fillcolor": "#DD79DA",
          "layer": "below",
          "line": {
           "width": 0
          },
          "opacity": 0.2,
          "type": "rect",
          "x0": 51.5,
          "x1": 63.5,
          "xref": "x",
          "y0": 0,
          "y1": 1,
          "yref": "y domain"
         },
         {
          "fillcolor": "#DDAE79",
          "layer": "below",
          "line": {
           "width": 0
          },
          "opacity": 0.2,
          "type": "rect",
          "x0": 68.5,
          "x1": 79.5,
          "xref": "x",
          "y0": 0,
          "y1": 1,
          "yref": "y domain"
         },
         {
          "fillcolor": "#79DD7C",
          "layer": "below",
          "line": {
           "width": 0
          },
          "opacity": 0.2,
          "type": "rect",
          "x0": 81.5,
          "x1": 85.5,
          "xref": "x",
          "y0": 0,
          "y1": 1,
          "yref": "y domain"
         },
         {
          "fillcolor": "#79A8DD",
          "layer": "below",
          "line": {
           "width": 0
          },
          "opacity": 0.2,
          "type": "rect",
          "x0": 85.5,
          "x1": 95.5,
          "xref": "x",
          "y0": 0,
          "y1": 1,
          "yref": "y domain"
         },
         {
          "fillcolor": "#DD79DA",
          "layer": "below",
          "line": {
           "width": 0
          },
          "opacity": 0.2,
          "type": "rect",
          "x0": 95.5,
          "x1": 98.5,
          "xref": "x",
          "y0": 0,
          "y1": 1,
          "yref": "y domain"
         },
         {
          "fillcolor": "#DDAE79",
          "layer": "below",
          "line": {
           "width": 0
          },
          "opacity": 0.2,
          "type": "rect",
          "x0": 99.5,
          "x1": 111.5,
          "xref": "x",
          "y0": 0,
          "y1": 1,
          "yref": "y domain"
         },
         {
          "fillcolor": "#79DD7C",
          "layer": "below",
          "line": {
           "width": 0
          },
          "opacity": 0.2,
          "type": "rect",
          "x0": 143.5,
          "x1": 147.5,
          "xref": "x",
          "y0": 0,
          "y1": 1,
          "yref": "y domain"
         },
         {
          "fillcolor": "#79A8DD",
          "layer": "below",
          "line": {
           "width": 0
          },
          "opacity": 0.2,
          "type": "rect",
          "x0": 150.5,
          "x1": 158.5,
          "xref": "x",
          "y0": 0,
          "y1": 1,
          "yref": "y domain"
         },
         {
          "fillcolor": "#DD79DA",
          "layer": "below",
          "line": {
           "width": 0
          },
          "opacity": 0.2,
          "type": "rect",
          "x0": 159.5,
          "x1": 163.5,
          "xref": "x",
          "y0": 0,
          "y1": 1,
          "yref": "y domain"
         },
         {
          "fillcolor": "#DDAE79",
          "layer": "below",
          "line": {
           "width": 0
          },
          "opacity": 0.2,
          "type": "rect",
          "x0": 164.5,
          "x1": 175.5,
          "xref": "x",
          "y0": 0,
          "y1": 1,
          "yref": "y domain"
         },
         {
          "fillcolor": "#79DD7C",
          "layer": "below",
          "line": {
           "width": 0
          },
          "opacity": 0.2,
          "type": "rect",
          "x0": 176.5,
          "x1": 179.5,
          "xref": "x",
          "y0": 0,
          "y1": 1,
          "yref": "y domain"
         },
         {
          "fillcolor": "#79A8DD",
          "layer": "below",
          "line": {
           "width": 0
          },
          "opacity": 0.2,
          "type": "rect",
          "x0": 180.5,
          "x1": 182.5,
          "xref": "x",
          "y0": 0,
          "y1": 1,
          "yref": "y domain"
         },
         {
          "fillcolor": "#DD79DA",
          "layer": "below",
          "line": {
           "width": 0
          },
          "opacity": 0.2,
          "type": "rect",
          "x0": 182.5,
          "x1": 191.5,
          "xref": "x",
          "y0": 0,
          "y1": 1,
          "yref": "y domain"
         },
         {
          "fillcolor": "#DDAE79",
          "layer": "below",
          "line": {
           "width": 0
          },
          "opacity": 0.2,
          "type": "rect",
          "x0": 195.5,
          "x1": 196.5,
          "xref": "x",
          "y0": 0,
          "y1": 1,
          "yref": "y domain"
         },
         {
          "fillcolor": "#79DD7C",
          "layer": "below",
          "line": {
           "width": 0
          },
          "opacity": 0.2,
          "type": "rect",
          "x0": 209.5,
          "x1": 211.5,
          "xref": "x",
          "y0": 0,
          "y1": 1,
          "yref": "y domain"
         },
         {
          "fillcolor": "#79A8DD",
          "layer": "below",
          "line": {
           "width": 0
          },
          "opacity": 0.2,
          "type": "rect",
          "x0": 211.5,
          "x1": 212.5,
          "xref": "x",
          "y0": 0,
          "y1": 1,
          "yref": "y domain"
         },
         {
          "fillcolor": "#DD79DA",
          "layer": "below",
          "line": {
           "width": 0
          },
          "opacity": 0.2,
          "type": "rect",
          "x0": 212.5,
          "x1": 223.5,
          "xref": "x",
          "y0": 0,
          "y1": 1,
          "yref": "y domain"
         },
         {
          "fillcolor": "#DDAE79",
          "layer": "below",
          "line": {
           "width": 0
          },
          "opacity": 0.2,
          "type": "rect",
          "x0": 244.5,
          "x1": 245.5,
          "xref": "x",
          "y0": 0,
          "y1": 1,
          "yref": "y domain"
         },
         {
          "fillcolor": "#79DD7C",
          "layer": "below",
          "line": {
           "width": 0
          },
          "opacity": 0.2,
          "type": "rect",
          "x0": 245.5,
          "x1": 255.5,
          "xref": "x",
          "y0": 0,
          "y1": 1,
          "yref": "y domain"
         },
         {
          "fillcolor": "#79A8DD",
          "layer": "below",
          "line": {
           "width": 0
          },
          "opacity": 0.2,
          "type": "rect",
          "x0": 255.5,
          "x1": 256.5,
          "xref": "x",
          "y0": 0,
          "y1": 1,
          "yref": "y domain"
         },
         {
          "fillcolor": "#DD79DA",
          "layer": "below",
          "line": {
           "width": 0
          },
          "opacity": 0.2,
          "type": "rect",
          "x0": 257.5,
          "x1": 259.5,
          "xref": "x",
          "y0": 0,
          "y1": 1,
          "yref": "y domain"
         },
         {
          "fillcolor": "#DDAE79",
          "layer": "below",
          "line": {
           "width": 0
          },
          "opacity": 0.2,
          "type": "rect",
          "x0": 263.5,
          "x1": 271.5,
          "xref": "x",
          "y0": 0,
          "y1": 1,
          "yref": "y domain"
         },
         {
          "fillcolor": "#79DD7C",
          "layer": "below",
          "line": {
           "width": 0
          },
          "opacity": 0.2,
          "type": "rect",
          "x0": 279.5,
          "x1": 287.5,
          "xref": "x",
          "y0": 0,
          "y1": 1,
          "yref": "y domain"
         },
         {
          "fillcolor": "#79A8DD",
          "layer": "below",
          "line": {
           "width": 0
          },
          "opacity": 0.2,
          "type": "rect",
          "x0": 288.5,
          "x1": 290.5,
          "xref": "x",
          "y0": 0,
          "y1": 1,
          "yref": "y domain"
         },
         {
          "fillcolor": "#DD79DA",
          "layer": "below",
          "line": {
           "width": 0
          },
          "opacity": 0.2,
          "type": "rect",
          "x0": 292.5,
          "x1": 293.5,
          "xref": "x",
          "y0": 0,
          "y1": 1,
          "yref": "y domain"
         },
         {
          "fillcolor": "#DDAE79",
          "layer": "below",
          "line": {
           "width": 0
          },
          "opacity": 0.2,
          "type": "rect",
          "x0": 293.5,
          "x1": 303.5,
          "xref": "x",
          "y0": 0,
          "y1": 1,
          "yref": "y domain"
         },
         {
          "fillcolor": "#79DD7C",
          "layer": "below",
          "line": {
           "width": 0
          },
          "opacity": 0.2,
          "type": "rect",
          "x0": 303.5,
          "x1": 304.5,
          "xref": "x",
          "y0": 0,
          "y1": 1,
          "yref": "y domain"
         },
         {
          "fillcolor": "#79A8DD",
          "layer": "below",
          "line": {
           "width": 0
          },
          "opacity": 0.2,
          "type": "rect",
          "x0": 334.5,
          "x1": 343.5,
          "xref": "x",
          "y0": 0,
          "y1": 1,
          "yref": "y domain"
         },
         {
          "fillcolor": "#DD79DA",
          "layer": "below",
          "line": {
           "width": 0
          },
          "opacity": 0.2,
          "type": "rect",
          "x0": 370.5,
          "x1": 375.5,
          "xref": "x",
          "y0": 0,
          "y1": 1,
          "yref": "y domain"
         },
         {
          "fillcolor": "#DDAE79",
          "layer": "below",
          "line": {
           "width": 0
          },
          "opacity": 0.2,
          "type": "rect",
          "x0": 375.5,
          "x1": 383.5,
          "xref": "x",
          "y0": 0,
          "y1": 1,
          "yref": "y domain"
         },
         {
          "fillcolor": "#79DD7C",
          "layer": "below",
          "line": {
           "width": 0
          },
          "opacity": 0.2,
          "type": "rect",
          "x0": 383.5,
          "x1": 384.5,
          "xref": "x",
          "y0": 0,
          "y1": 1,
          "yref": "y domain"
         },
         {
          "fillcolor": "#79A8DD",
          "layer": "below",
          "line": {
           "width": 0
          },
          "opacity": 0.2,
          "type": "rect",
          "x0": 386.5,
          "x1": 391.5,
          "xref": "x",
          "y0": 0,
          "y1": 1,
          "yref": "y domain"
         },
         {
          "fillcolor": "#DD79DA",
          "layer": "below",
          "line": {
           "width": 0
          },
          "opacity": 0.2,
          "type": "rect",
          "x0": 404.5,
          "x1": 413.5,
          "xref": "x",
          "y0": 0,
          "y1": 1,
          "yref": "y domain"
         },
         {
          "fillcolor": "#DDAE79",
          "layer": "below",
          "line": {
           "width": 0
          },
          "opacity": 0.2,
          "type": "rect",
          "x0": 413.5,
          "x1": 415.5,
          "xref": "x",
          "y0": 0,
          "y1": 1,
          "yref": "y domain"
         },
         {
          "fillcolor": "#79DD7C",
          "layer": "below",
          "line": {
           "width": 0
          },
          "opacity": 0.2,
          "type": "rect",
          "x0": 417.5,
          "x1": 419.5,
          "xref": "x",
          "y0": 0,
          "y1": 1,
          "yref": "y domain"
         },
         {
          "fillcolor": "#79A8DD",
          "layer": "below",
          "line": {
           "width": 0
          },
          "opacity": 0.2,
          "type": "rect",
          "x0": 433.5,
          "x1": 435.5,
          "xref": "x",
          "y0": 0,
          "y1": 1,
          "yref": "y domain"
         },
         {
          "fillcolor": "#DD79DA",
          "layer": "below",
          "line": {
           "width": 0
          },
          "opacity": 0.2,
          "type": "rect",
          "x0": 435.5,
          "x1": 447.5,
          "xref": "x",
          "y0": 0,
          "y1": 1,
          "yref": "y domain"
         }
        ],
        "template": {
         "data": {
          "bar": [
           {
            "error_x": {
             "color": "#2a3f5f"
            },
            "error_y": {
             "color": "#2a3f5f"
            },
            "marker": {
             "line": {
              "color": "#E5ECF6",
              "width": 0.5
             },
             "pattern": {
              "fillmode": "overlay",
              "size": 10,
              "solidity": 0.2
             }
            },
            "type": "bar"
           }
          ],
          "barpolar": [
           {
            "marker": {
             "line": {
              "color": "#E5ECF6",
              "width": 0.5
             },
             "pattern": {
              "fillmode": "overlay",
              "size": 10,
              "solidity": 0.2
             }
            },
            "type": "barpolar"
           }
          ],
          "carpet": [
           {
            "aaxis": {
             "endlinecolor": "#2a3f5f",
             "gridcolor": "white",
             "linecolor": "white",
             "minorgridcolor": "white",
             "startlinecolor": "#2a3f5f"
            },
            "baxis": {
             "endlinecolor": "#2a3f5f",
             "gridcolor": "white",
             "linecolor": "white",
             "minorgridcolor": "white",
             "startlinecolor": "#2a3f5f"
            },
            "type": "carpet"
           }
          ],
          "choropleth": [
           {
            "colorbar": {
             "outlinewidth": 0,
             "ticks": ""
            },
            "type": "choropleth"
           }
          ],
          "contour": [
           {
            "colorbar": {
             "outlinewidth": 0,
             "ticks": ""
            },
            "colorscale": [
             [
              0,
              "#0d0887"
             ],
             [
              0.1111111111111111,
              "#46039f"
             ],
             [
              0.2222222222222222,
              "#7201a8"
             ],
             [
              0.3333333333333333,
              "#9c179e"
             ],
             [
              0.4444444444444444,
              "#bd3786"
             ],
             [
              0.5555555555555556,
              "#d8576b"
             ],
             [
              0.6666666666666666,
              "#ed7953"
             ],
             [
              0.7777777777777778,
              "#fb9f3a"
             ],
             [
              0.8888888888888888,
              "#fdca26"
             ],
             [
              1,
              "#f0f921"
             ]
            ],
            "type": "contour"
           }
          ],
          "contourcarpet": [
           {
            "colorbar": {
             "outlinewidth": 0,
             "ticks": ""
            },
            "type": "contourcarpet"
           }
          ],
          "heatmap": [
           {
            "colorbar": {
             "outlinewidth": 0,
             "ticks": ""
            },
            "colorscale": [
             [
              0,
              "#0d0887"
             ],
             [
              0.1111111111111111,
              "#46039f"
             ],
             [
              0.2222222222222222,
              "#7201a8"
             ],
             [
              0.3333333333333333,
              "#9c179e"
             ],
             [
              0.4444444444444444,
              "#bd3786"
             ],
             [
              0.5555555555555556,
              "#d8576b"
             ],
             [
              0.6666666666666666,
              "#ed7953"
             ],
             [
              0.7777777777777778,
              "#fb9f3a"
             ],
             [
              0.8888888888888888,
              "#fdca26"
             ],
             [
              1,
              "#f0f921"
             ]
            ],
            "type": "heatmap"
           }
          ],
          "histogram": [
           {
            "marker": {
             "pattern": {
              "fillmode": "overlay",
              "size": 10,
              "solidity": 0.2
             }
            },
            "type": "histogram"
           }
          ],
          "histogram2d": [
           {
            "colorbar": {
             "outlinewidth": 0,
             "ticks": ""
            },
            "colorscale": [
             [
              0,
              "#0d0887"
             ],
             [
              0.1111111111111111,
              "#46039f"
             ],
             [
              0.2222222222222222,
              "#7201a8"
             ],
             [
              0.3333333333333333,
              "#9c179e"
             ],
             [
              0.4444444444444444,
              "#bd3786"
             ],
             [
              0.5555555555555556,
              "#d8576b"
             ],
             [
              0.6666666666666666,
              "#ed7953"
             ],
             [
              0.7777777777777778,
              "#fb9f3a"
             ],
             [
              0.8888888888888888,
              "#fdca26"
             ],
             [
              1,
              "#f0f921"
             ]
            ],
            "type": "histogram2d"
           }
          ],
          "histogram2dcontour": [
           {
            "colorbar": {
             "outlinewidth": 0,
             "ticks": ""
            },
            "colorscale": [
             [
              0,
              "#0d0887"
             ],
             [
              0.1111111111111111,
              "#46039f"
             ],
             [
              0.2222222222222222,
              "#7201a8"
             ],
             [
              0.3333333333333333,
              "#9c179e"
             ],
             [
              0.4444444444444444,
              "#bd3786"
             ],
             [
              0.5555555555555556,
              "#d8576b"
             ],
             [
              0.6666666666666666,
              "#ed7953"
             ],
             [
              0.7777777777777778,
              "#fb9f3a"
             ],
             [
              0.8888888888888888,
              "#fdca26"
             ],
             [
              1,
              "#f0f921"
             ]
            ],
            "type": "histogram2dcontour"
           }
          ],
          "mesh3d": [
           {
            "colorbar": {
             "outlinewidth": 0,
             "ticks": ""
            },
            "type": "mesh3d"
           }
          ],
          "parcoords": [
           {
            "line": {
             "colorbar": {
              "outlinewidth": 0,
              "ticks": ""
             }
            },
            "type": "parcoords"
           }
          ],
          "pie": [
           {
            "automargin": true,
            "type": "pie"
           }
          ],
          "scatter": [
           {
            "fillpattern": {
             "fillmode": "overlay",
             "size": 10,
             "solidity": 0.2
            },
            "type": "scatter"
           }
          ],
          "scatter3d": [
           {
            "line": {
             "colorbar": {
              "outlinewidth": 0,
              "ticks": ""
             }
            },
            "marker": {
             "colorbar": {
              "outlinewidth": 0,
              "ticks": ""
             }
            },
            "type": "scatter3d"
           }
          ],
          "scattercarpet": [
           {
            "marker": {
             "colorbar": {
              "outlinewidth": 0,
              "ticks": ""
             }
            },
            "type": "scattercarpet"
           }
          ],
          "scattergeo": [
           {
            "marker": {
             "colorbar": {
              "outlinewidth": 0,
              "ticks": ""
             }
            },
            "type": "scattergeo"
           }
          ],
          "scattergl": [
           {
            "marker": {
             "colorbar": {
              "outlinewidth": 0,
              "ticks": ""
             }
            },
            "type": "scattergl"
           }
          ],
          "scattermap": [
           {
            "marker": {
             "colorbar": {
              "outlinewidth": 0,
              "ticks": ""
             }
            },
            "type": "scattermap"
           }
          ],
          "scattermapbox": [
           {
            "marker": {
             "colorbar": {
              "outlinewidth": 0,
              "ticks": ""
             }
            },
            "type": "scattermapbox"
           }
          ],
          "scatterpolar": [
           {
            "marker": {
             "colorbar": {
              "outlinewidth": 0,
              "ticks": ""
             }
            },
            "type": "scatterpolar"
           }
          ],
          "scatterpolargl": [
           {
            "marker": {
             "colorbar": {
              "outlinewidth": 0,
              "ticks": ""
             }
            },
            "type": "scatterpolargl"
           }
          ],
          "scatterternary": [
           {
            "marker": {
             "colorbar": {
              "outlinewidth": 0,
              "ticks": ""
             }
            },
            "type": "scatterternary"
           }
          ],
          "surface": [
           {
            "colorbar": {
             "outlinewidth": 0,
             "ticks": ""
            },
            "colorscale": [
             [
              0,
              "#0d0887"
             ],
             [
              0.1111111111111111,
              "#46039f"
             ],
             [
              0.2222222222222222,
              "#7201a8"
             ],
             [
              0.3333333333333333,
              "#9c179e"
             ],
             [
              0.4444444444444444,
              "#bd3786"
             ],
             [
              0.5555555555555556,
              "#d8576b"
             ],
             [
              0.6666666666666666,
              "#ed7953"
             ],
             [
              0.7777777777777778,
              "#fb9f3a"
             ],
             [
              0.8888888888888888,
              "#fdca26"
             ],
             [
              1,
              "#f0f921"
             ]
            ],
            "type": "surface"
           }
          ],
          "table": [
           {
            "cells": {
             "fill": {
              "color": "#EBF0F8"
             },
             "line": {
              "color": "white"
             }
            },
            "header": {
             "fill": {
              "color": "#C8D4E3"
             },
             "line": {
              "color": "white"
             }
            },
            "type": "table"
           }
          ]
         },
         "layout": {
          "annotationdefaults": {
           "arrowcolor": "#2a3f5f",
           "arrowhead": 0,
           "arrowwidth": 1
          },
          "autotypenumbers": "strict",
          "coloraxis": {
           "colorbar": {
            "outlinewidth": 0,
            "ticks": ""
           }
          },
          "colorscale": {
           "diverging": [
            [
             0,
             "#8e0152"
            ],
            [
             0.1,
             "#c51b7d"
            ],
            [
             0.2,
             "#de77ae"
            ],
            [
             0.3,
             "#f1b6da"
            ],
            [
             0.4,
             "#fde0ef"
            ],
            [
             0.5,
             "#f7f7f7"
            ],
            [
             0.6,
             "#e6f5d0"
            ],
            [
             0.7,
             "#b8e186"
            ],
            [
             0.8,
             "#7fbc41"
            ],
            [
             0.9,
             "#4d9221"
            ],
            [
             1,
             "#276419"
            ]
           ],
           "sequential": [
            [
             0,
             "#0d0887"
            ],
            [
             0.1111111111111111,
             "#46039f"
            ],
            [
             0.2222222222222222,
             "#7201a8"
            ],
            [
             0.3333333333333333,
             "#9c179e"
            ],
            [
             0.4444444444444444,
             "#bd3786"
            ],
            [
             0.5555555555555556,
             "#d8576b"
            ],
            [
             0.6666666666666666,
             "#ed7953"
            ],
            [
             0.7777777777777778,
             "#fb9f3a"
            ],
            [
             0.8888888888888888,
             "#fdca26"
            ],
            [
             1,
             "#f0f921"
            ]
           ],
           "sequentialminus": [
            [
             0,
             "#0d0887"
            ],
            [
             0.1111111111111111,
             "#46039f"
            ],
            [
             0.2222222222222222,
             "#7201a8"
            ],
            [
             0.3333333333333333,
             "#9c179e"
            ],
            [
             0.4444444444444444,
             "#bd3786"
            ],
            [
             0.5555555555555556,
             "#d8576b"
            ],
            [
             0.6666666666666666,
             "#ed7953"
            ],
            [
             0.7777777777777778,
             "#fb9f3a"
            ],
            [
             0.8888888888888888,
             "#fdca26"
            ],
            [
             1,
             "#f0f921"
            ]
           ]
          },
          "colorway": [
           "#636efa",
           "#EF553B",
           "#00cc96",
           "#ab63fa",
           "#FFA15A",
           "#19d3f3",
           "#FF6692",
           "#B6E880",
           "#FF97FF",
           "#FECB52"
          ],
          "font": {
           "color": "#2a3f5f"
          },
          "geo": {
           "bgcolor": "white",
           "lakecolor": "white",
           "landcolor": "#E5ECF6",
           "showlakes": true,
           "showland": true,
           "subunitcolor": "white"
          },
          "hoverlabel": {
           "align": "left"
          },
          "hovermode": "closest",
          "mapbox": {
           "style": "light"
          },
          "paper_bgcolor": "white",
          "plot_bgcolor": "#E5ECF6",
          "polar": {
           "angularaxis": {
            "gridcolor": "white",
            "linecolor": "white",
            "ticks": ""
           },
           "bgcolor": "#E5ECF6",
           "radialaxis": {
            "gridcolor": "white",
            "linecolor": "white",
            "ticks": ""
           }
          },
          "scene": {
           "xaxis": {
            "backgroundcolor": "#E5ECF6",
            "gridcolor": "white",
            "gridwidth": 2,
            "linecolor": "white",
            "showbackground": true,
            "ticks": "",
            "zerolinecolor": "white"
           },
           "yaxis": {
            "backgroundcolor": "#E5ECF6",
            "gridcolor": "white",
            "gridwidth": 2,
            "linecolor": "white",
            "showbackground": true,
            "ticks": "",
            "zerolinecolor": "white"
           },
           "zaxis": {
            "backgroundcolor": "#E5ECF6",
            "gridcolor": "white",
            "gridwidth": 2,
            "linecolor": "white",
            "showbackground": true,
            "ticks": "",
            "zerolinecolor": "white"
           }
          },
          "shapedefaults": {
           "line": {
            "color": "#2a3f5f"
           }
          },
          "ternary": {
           "aaxis": {
            "gridcolor": "white",
            "linecolor": "white",
            "ticks": ""
           },
           "baxis": {
            "gridcolor": "white",
            "linecolor": "white",
            "ticks": ""
           },
           "bgcolor": "#E5ECF6",
           "caxis": {
            "gridcolor": "white",
            "linecolor": "white",
            "ticks": ""
           }
          },
          "title": {
           "x": 0.05
          },
          "xaxis": {
           "automargin": true,
           "gridcolor": "white",
           "linecolor": "white",
           "ticks": "",
           "title": {
            "standoff": 15
           },
           "zerolinecolor": "white",
           "zerolinewidth": 2
          },
          "yaxis": {
           "automargin": true,
           "gridcolor": "white",
           "linecolor": "white",
           "ticks": "",
           "title": {
            "standoff": 15
           },
           "zerolinecolor": "white",
           "zerolinewidth": 2
          }
         }
        },
        "title": {
         "text": "Big-Endian: Bit Flip Probabilities"
        },
        "xaxis": {
         "tickfont": {
          "size": 8
         },
         "tickmode": "array",
         "ticktext": {
          "bdata": "BwAGAAUABAADAAIAAQAAAA8ADgANAAwACwAKAAkACAAXABYAFQAUABMAEgARABAAHwAeAB0AHAAbABoAGQAYACcAJgAlACQAIwAiACEAIAAvAC4ALQAsACsAKgApACgANwA2ADUANAAzADIAMQAwAD8APgA9ADwAOwA6ADkAOABHAEYARQBEAEMAQgBBAEAATwBOAE0ATABLAEoASQBIAFcAVgBVAFQAUwBSAFEAUABfAF4AXQBcAFsAWgBZAFgAZwBmAGUAZABjAGIAYQBgAG8AbgBtAGwAawBqAGkAaAB3AHYAdQB0AHMAcgBxAHAAfwB+AH0AfAB7AHoAeQB4AIcAhgCFAIQAgwCCAIEAgACPAI4AjQCMAIsAigCJAIgAlwCWAJUAlACTAJIAkQCQAJ8AngCdAJwAmwCaAJkAmACnAKYApQCkAKMAogChAKAArwCuAK0ArACrAKoAqQCoALcAtgC1ALQAswCyALEAsAC/AL4AvQC8ALsAugC5ALgAxwDGAMUAxADDAMIAwQDAAM8AzgDNAMwAywDKAMkAyADXANYA1QDUANMA0gDRANAA3wDeAN0A3ADbANoA2QDYAOcA5gDlAOQA4wDiAOEA4ADvAO4A7QDsAOsA6gDpAOgA9wD2APUA9ADzAPIA8QDwAP8A/gD9APwA+wD6APkA+AAHAQYBBQEEAQMBAgEBAQABDwEOAQ0BDAELAQoBCQEIARcBFgEVARQBEwESAREBEAEfAR4BHQEcARsBGgEZARgBJwEmASUBJAEjASIBIQEgAS8BLgEtASwBKwEqASkBKAE3ATYBNQE0ATMBMgExATABPwE+AT0BPAE7AToBOQE4AUcBRgFFAUQBQwFCAUEBQAFPAU4BTQFMAUsBSgFJAUgBVwFWAVUBVAFTAVIBUQFQAV8BXgFdAVwBWwFaAVkBWAFnAWYBZQFkAWMBYgFhAWABbwFuAW0BbAFrAWoBaQFoAXcBdgF1AXQBcwFyAXEBcAF/AX4BfQF8AXsBegF5AXgBhwGGAYUBhAGDAYIBgQGAAY8BjgGNAYwBiwGKAYkBiAGXAZYBlQGUAZMBkgGRAZABnwGeAZ0BnAGbAZoBmQGYAacBpgGlAaQBowGiAaEBoAGvAa4BrQGsAasBqgGpAagBtwG2AbUBtAGzAbIBsQGwAb8BvgG9AbwBuwG6AbkBuAHHAcYBxQHEAcMBwgHBAcABzwHOAc0BzAHLAcoByQHIAdcB1gHVAdQB0wHSAdEB0AHfAd4B3QHcAdsB2gHZAdgB5wHmAeUB5AHjAeIB4QHgAe8B7gHtAewB6wHqAekB6AH3AfYB9QH0AfMB8gHxAfAB/wH+Af0B/AH7AfoB+QH4AQ==",
          "dtype": "i2"
         },
         "tickvals": {
          "bdata": "AAABAAIAAwAEAAUABgAHAAgACQAKAAsADAANAA4ADwAQABEAEgATABQAFQAWABcAGAAZABoAGwAcAB0AHgAfACAAIQAiACMAJAAlACYAJwAoACkAKgArACwALQAuAC8AMAAxADIAMwA0ADUANgA3ADgAOQA6ADsAPAA9AD4APwBAAEEAQgBDAEQARQBGAEcASABJAEoASwBMAE0ATgBPAFAAUQBSAFMAVABVAFYAVwBYAFkAWgBbAFwAXQBeAF8AYABhAGIAYwBkAGUAZgBnAGgAaQBqAGsAbABtAG4AbwBwAHEAcgBzAHQAdQB2AHcAeAB5AHoAewB8AH0AfgB/AIAAgQCCAIMAhACFAIYAhwCIAIkAigCLAIwAjQCOAI8AkACRAJIAkwCUAJUAlgCXAJgAmQCaAJsAnACdAJ4AnwCgAKEAogCjAKQApQCmAKcAqACpAKoAqwCsAK0ArgCvALAAsQCyALMAtAC1ALYAtwC4ALkAugC7ALwAvQC+AL8AwADBAMIAwwDEAMUAxgDHAMgAyQDKAMsAzADNAM4AzwDQANEA0gDTANQA1QDWANcA2ADZANoA2wDcAN0A3gDfAOAA4QDiAOMA5ADlAOYA5wDoAOkA6gDrAOwA7QDuAO8A8ADxAPIA8wD0APUA9gD3APgA+QD6APsA/AD9AP4A/wAAAQEBAgEDAQQBBQEGAQcBCAEJAQoBCwEMAQ0BDgEPARABEQESARMBFAEVARYBFwEYARkBGgEbARwBHQEeAR8BIAEhASIBIwEkASUBJgEnASgBKQEqASsBLAEtAS4BLwEwATEBMgEzATQBNQE2ATcBOAE5AToBOwE8AT0BPgE/AUABQQFCAUMBRAFFAUYBRwFIAUkBSgFLAUwBTQFOAU8BUAFRAVIBUwFUAVUBVgFXAVgBWQFaAVsBXAFdAV4BXwFgAWEBYgFjAWQBZQFmAWcBaAFpAWoBawFsAW0BbgFvAXABcQFyAXMBdAF1AXYBdwF4AXkBegF7AXwBfQF+AX8BgAGBAYIBgwGEAYUBhgGHAYgBiQGKAYsBjAGNAY4BjwGQAZEBkgGTAZQBlQGWAZcBmAGZAZoBmwGcAZ0BngGfAaABoQGiAaMBpAGlAaYBpwGoAakBqgGrAawBrQGuAa8BsAGxAbIBswG0AbUBtgG3AbgBuQG6AbsBvAG9Ab4BvwHAAcEBwgHDAcQBxQHGAccByAHJAcoBywHMAc0BzgHPAdAB0QHSAdMB1AHVAdYB1wHYAdkB2gHbAdwB3QHeAd8B4AHhAeIB4wHkAeUB5gHnAegB6QHqAesB7AHtAe4B7wHwAfEB8gHzAfQB9QH2AfcB+AH5AfoB+wH8Af0B/gH/AQ==",
          "dtype": "i2"
         },
         "title": {
          "text": "Bit Number"
         }
        },
        "yaxis": {
         "range": [
          0,
          1.1
         ],
         "title": {
          "text": "Bit Flip Probability"
         }
        }
       }
      }
     },
     "metadata": {},
     "output_type": "display_data"
    }
   ],
   "source": [
    "decoder.plot_message_from_id('116')"
   ]
  },
  {
   "cell_type": "code",
   "execution_count": 178,
   "id": "e0788a98",
   "metadata": {},
   "outputs": [
    {
     "data": {
      "text/plain": [
       "[Message 42A: Length 32 bytes,\n",
       " Message 18DA10F1 - Filter [B1:3|B2:34|B3:1|B4:201] : Length 8 bytes,\n",
       " Message 18DA10F1 - Filter [B1:3|B2:34|B3:1|B4:209] : Length 8 bytes,\n",
       " Message 18DA10F1 - Filter [B1:3|B2:34|B3:1|B4:213] : Length 8 bytes,\n",
       " Message 18DA10F1 - Filter [B1:3|B2:34|B3:2|B4:178] : Length 8 bytes,\n",
       " Message 18DA10F1 - Filter [B1:3|B2:34|B3:2|B4:179] : Length 8 bytes,\n",
       " Message 18DA10F1 - Filter [B1:3|B2:34|B3:2|B4:180] : Length 8 bytes,\n",
       " Message 18DA10F1 - Filter [B1:3|B2:34|B3:2|B4:181] : Length 8 bytes,\n",
       " Message 18DA10F1 - Filter [B1:3|B2:34|B3:3|B4:225] : Length 8 bytes,\n",
       " Message 18DA10F1 - Filter [B1:3|B2:34|B3:3|B4:240] : Length 8 bytes,\n",
       " Message 18DA10F1 - Filter [B1:3|B2:34|B3:1|B4:29] : Length 8 bytes,\n",
       " Message 18DA10F1 - Filter [B1:3|B2:34|B3:1|B4:32] : Length 8 bytes,\n",
       " Message 18DA10F1 - Filter [B1:3|B2:34|B3:1|B4:35] : Length 8 bytes,\n",
       " Message 18DA10F1 - Filter [B1:3|B2:34|B3:1|B4:39] : Length 8 bytes,\n",
       " Message 18DA10F1 - Filter [B1:3|B2:34|B3:18|B4:201] : Length 8 bytes,\n",
       " Message 18DA10F1 - Filter [B1:3|B2:34|B3:1|B4:186] : Length 8 bytes,\n",
       " Message 18DA10F1 - Filter [B1:3|B2:34|B3:2|B4:39] : Length 8 bytes,\n",
       " Message 18DA10F1 - Filter [B1:3|B2:34|B3:2|B4:42] : Length 8 bytes,\n",
       " Message 18DA10F1 - Filter [B1:3|B2:34|B3:0|B4:45] : Length 8 bytes,\n",
       " Message 18DA10F1 - Filter [B1:3|B2:34|B3:3|B4:248] : Length 8 bytes,\n",
       " Message 18DA10F1 - Filter [B1:3|B2:34|B3:6|B4:158] : Length 8 bytes,\n",
       " Message 18DA10F1 - Filter [B1:3|B2:34|B3:6|B4:159] : Length 8 bytes,\n",
       " Message 18DA10F1 - Filter [B1:3|B2:34|B3:3|B4:227] : Length 8 bytes,\n",
       " Message 18DA10F1 - Filter [B1:3|B2:34|B3:3|B4:228] : Length 8 bytes,\n",
       " Message 18DA10F1 - Filter [B1:3|B2:34|B3:2|B4:51] : Length 8 bytes,\n",
       " Message 18DA10F1 - Filter [B1:3|B2:34|B3:2|B4:52] : Length 8 bytes,\n",
       " Message 18DA10F1 - Filter [B1:3|B2:34|B3:2|B4:53] : Length 8 bytes,\n",
       " Message 18DA10F1 - Filter [B1:3|B2:34|B3:2|B4:54] : Length 8 bytes,\n",
       " Message 18DA10F1 - Filter [B1:3|B2:34|B3:2|B4:55] : Length 8 bytes,\n",
       " Message 18DA10F1 - Filter [B1:3|B2:34|B3:2|B4:85] : Length 8 bytes,\n",
       " Message 18DA10F1 - Filter [B1:3|B2:34|B3:2|B4:86] : Length 8 bytes,\n",
       " Message 18DA10F1 - Filter [B1:3|B2:34|B3:2|B4:87] : Length 8 bytes,\n",
       " Message 18DA10F1 - Filter [B1:3|B2:34|B3:2|B4:88] : Length 8 bytes,\n",
       " Message 18DA10F1 - Filter [B1:3|B2:34|B3:6|B4:218] : Length 8 bytes,\n",
       " Message 18DA10F1 - Filter [B1:3|B2:34|B3:6|B4:124] : Length 8 bytes,\n",
       " Message 18DA10F1 - Filter [B1:3|B2:34|B3:1|B4:202] : Length 8 bytes,\n",
       " Message 18DA10F1 - Filter [B1:3|B2:34|B3:1|B4:6] : Length 8 bytes,\n",
       " Message 18DA10F1 - Filter [B1:3|B2:34|B3:1|B4:9] : Length 8 bytes,\n",
       " Message 18DA10F1 - Filter [B1:3|B2:34|B3:18|B4:71] : Length 8 bytes,\n",
       " Message 18DA10F1 - Filter [B1:3|B2:34|B3:18|B4:80] : Length 8 bytes,\n",
       " Message 18DA10F1 - Filter [B1:3|B2:34|B3:1|B4:43] : Length 8 bytes,\n",
       " Message 18DA10F1 - Filter [B1:3|B2:34|B3:20|B4:177] : Length 8 bytes,\n",
       " Message 18DA10F1 - Filter [B1:3|B2:34|B3:1|B4:255] : Length 8 bytes,\n",
       " Message 18DA10F1 - Filter [B1:3|B2:34|B3:2|B4:40] : Length 8 bytes,\n",
       " Message 18DA10F1 - Filter [B1:3|B2:34|B3:21|B4:67] : Length 8 bytes,\n",
       " Message 18DA10F1 - Filter [B1:3|B2:34|B3:1|B4:116] : Length 8 bytes,\n",
       " Message 18DA10F1 - Filter [B1:3|B2:34|B3:1|B4:158] : Length 8 bytes,\n",
       " Message 18DA10F1 - Filter [B1:3|B2:34|B3:1|B4:195] : Length 8 bytes,\n",
       " Message 18DA10F1 - Filter [B1:2|B2:62|B3:128|B4:0] : Length 8 bytes,\n",
       " Message 18DA18F2 - Filter [B1:3|B2:34|B3:80|B4:32] : Length 8 bytes,\n",
       " Message 18DA18F2 - Filter [B1:3|B2:34|B3:80|B4:33] : Length 8 bytes,\n",
       " Message 18DA18F2 - Filter [B1:3|B2:34|B3:80|B4:34] : Length 8 bytes,\n",
       " Message 18DA18F2 - Filter [B1:3|B2:34|B3:80|B4:47] : Length 8 bytes,\n",
       " Message 18DA18F2 - Filter [B1:3|B2:34|B3:80|B4:58] : Length 8 bytes,\n",
       " Message 18DA18F2 - Filter [B1:3|B2:34|B3:80|B4:64] : Length 8 bytes,\n",
       " Message 18DA18F2 - Filter [B1:3|B2:34|B3:5|B4:31] : Length 8 bytes,\n",
       " Message 18DA18F2 - Filter [B1:3|B2:34|B3:80|B4:37] : Length 8 bytes,\n",
       " Message 18DA18F2 - Filter [B1:3|B2:34|B3:80|B4:44] : Length 8 bytes,\n",
       " Message 18DA18F2 - Filter [B1:3|B2:34|B3:80|B4:48] : Length 8 bytes,\n",
       " Message 18DA18F2 - Filter [B1:3|B2:34|B3:80|B4:49] : Length 8 bytes,\n",
       " Message 18DA18F2 - Filter [B1:3|B2:34|B3:80|B4:51] : Length 8 bytes,\n",
       " Message 18DA18F2 - Filter [B1:3|B2:34|B3:5|B4:28] : Length 8 bytes,\n",
       " Message 18DA18F2 - Filter [B1:3|B2:34|B3:5|B4:69] : Length 8 bytes,\n",
       " Message 18DA18F2 - Filter [B1:3|B2:34|B3:16|B4:24] : Length 8 bytes,\n",
       " Message 18DA18F2 - Filter [B1:3|B2:34|B3:5|B4:0] : Length 8 bytes,\n",
       " Message 18DA18F2 - Filter [B1:3|B2:34|B3:80|B4:12] : Length 8 bytes,\n",
       " Message 18DA18F2 - Filter [B1:3|B2:34|B3:80|B4:16] : Length 8 bytes,\n",
       " Message 18DA18F2 - Filter [B1:2|B2:62|B3:128|B4:0] : Length 8 bytes,\n",
       " Message 113: Length 32 bytes,\n",
       " Message 116: Length 64 bytes,\n",
       " Message 208: Length 32 bytes,\n",
       " Message 112: Length 32 bytes,\n",
       " Message 2EF: Length 32 bytes,\n",
       " Message 18DAF110 - Filter [B1:5|B2:98|B3:1|B4:201] : Length 8 bytes,\n",
       " Message 18DAF110 - Filter [B1:5|B2:98|B3:1|B4:209] : Length 8 bytes,\n",
       " Message 18DAF110 - Filter [B1:5|B2:98|B3:1|B4:213] : Length 8 bytes,\n",
       " Message 18DAF110 - Filter [B1:5|B2:98|B3:2|B4:178] : Length 8 bytes,\n",
       " Message 18DAF110 - Filter [B1:5|B2:98|B3:2|B4:179] : Length 8 bytes,\n",
       " Message 18DAF110 - Filter [B1:5|B2:98|B3:2|B4:180] : Length 8 bytes,\n",
       " Message 18DAF110 - Filter [B1:5|B2:98|B3:2|B4:181] : Length 8 bytes,\n",
       " Message 18DAF110 - Filter [B1:5|B2:98|B3:3|B4:225] : Length 8 bytes,\n",
       " Message 18DAF110 - Filter [B1:5|B2:98|B3:3|B4:240] : Length 8 bytes,\n",
       " Message 18DAF110 - Filter [B1:4|B2:98|B3:1|B4:29] : Length 8 bytes,\n",
       " Message 18DAF110 - Filter [B1:4|B2:98|B3:1|B4:32] : Length 8 bytes,\n",
       " Message 18DAF110 - Filter [B1:4|B2:98|B3:1|B4:35] : Length 8 bytes,\n",
       " Message 18DAF110 - Filter [B1:4|B2:98|B3:1|B4:39] : Length 8 bytes,\n",
       " Message 18DAF110 - Filter [B1:4|B2:98|B3:18|B4:201] : Length 8 bytes,\n",
       " Message 18DAF110 - Filter [B1:4|B2:98|B3:1|B4:186] : Length 8 bytes,\n",
       " Message 18DAF110 - Filter [B1:4|B2:98|B3:2|B4:39] : Length 8 bytes,\n",
       " Message 18DAF110 - Filter [B1:4|B2:98|B3:2|B4:42] : Length 8 bytes,\n",
       " Message 18DAF110 - Filter [B1:3|B2:127|B3:34|B4:18] : Length 8 bytes,\n",
       " Message 18DAF110 - Filter [B1:7|B2:98|B3:3|B4:248] : Length 8 bytes,\n",
       " Message 18DAF110 - Filter [B1:4|B2:98|B3:6|B4:158] : Length 8 bytes,\n",
       " Message 18DAF110 - Filter [B1:4|B2:98|B3:6|B4:159] : Length 8 bytes,\n",
       " Message 18DAF110 - Filter [B1:4|B2:98|B3:3|B4:227] : Length 8 bytes,\n",
       " Message 18DAF110 - Filter [B1:4|B2:98|B3:3|B4:228] : Length 8 bytes,\n",
       " Message 18DAF110 - Filter [B1:7|B2:98|B3:2|B4:51] : Length 8 bytes,\n",
       " Message 18DAF110 - Filter [B1:7|B2:98|B3:2|B4:52] : Length 8 bytes,\n",
       " Message 18DAF110 - Filter [B1:7|B2:98|B3:2|B4:53] : Length 8 bytes,\n",
       " Message 18DAF110 - Filter [B1:7|B2:98|B3:2|B4:54] : Length 8 bytes,\n",
       " Message 18DAF110 - Filter [B1:7|B2:98|B3:2|B4:55] : Length 8 bytes,\n",
       " Message 18DAF110 - Filter [B1:5|B2:98|B3:2|B4:85] : Length 8 bytes,\n",
       " Message 18DAF110 - Filter [B1:5|B2:98|B3:2|B4:86] : Length 8 bytes,\n",
       " Message 18DAF110 - Filter [B1:5|B2:98|B3:2|B4:87] : Length 8 bytes,\n",
       " Message 18DAF110 - Filter [B1:5|B2:98|B3:2|B4:88] : Length 8 bytes,\n",
       " Message 18DAF110 - Filter [B1:5|B2:98|B3:6|B4:218] : Length 8 bytes,\n",
       " Message 18DAF110 - Filter [B1:4|B2:98|B3:6|B4:124] : Length 8 bytes,\n",
       " Message 18DAF110 - Filter [B1:7|B2:98|B3:1|B4:202] : Length 8 bytes,\n",
       " Message 18DAF110 - Filter [B1:5|B2:98|B3:1|B4:6] : Length 8 bytes,\n",
       " Message 18DAF110 - Filter [B1:5|B2:98|B3:1|B4:9] : Length 8 bytes,\n",
       " Message 18DAF110 - Filter [B1:5|B2:98|B3:18|B4:71] : Length 8 bytes,\n",
       " Message 18DAF110 - Filter [B1:4|B2:98|B3:18|B4:80] : Length 8 bytes,\n",
       " Message 18DAF110 - Filter [B1:5|B2:98|B3:1|B4:43] : Length 8 bytes,\n",
       " Message 18DAF110 - Filter [B1:5|B2:98|B3:20|B4:177] : Length 8 bytes,\n",
       " Message 18DAF110 - Filter [B1:5|B2:98|B3:1|B4:255] : Length 8 bytes,\n",
       " Message 18DAF110 - Filter [B1:5|B2:98|B3:2|B4:40] : Length 8 bytes,\n",
       " Message 18DAF110 - Filter [B1:5|B2:98|B3:21|B4:67] : Length 8 bytes,\n",
       " Message 18DAF110 - Filter [B1:5|B2:98|B3:1|B4:116] : Length 8 bytes,\n",
       " Message 18DAF110 - Filter [B1:5|B2:98|B3:1|B4:158] : Length 8 bytes,\n",
       " Message 18DAF110 - Filter [B1:5|B2:98|B3:1|B4:195] : Length 8 bytes,\n",
       " Message 18DAF110 - Filter [B1:3|B2:127|B3:62|B4:18] : Length 8 bytes,\n",
       " Message 102: Length 64 bytes,\n",
       " Message 103: Length 32 bytes,\n",
       " Message 40B: Length 32 bytes,\n",
       " Message 118: Length 32 bytes,\n",
       " Message 108: Length 32 bytes,\n",
       " Message 106: Length 64 bytes,\n",
       " Message 9F: Length 32 bytes,\n",
       " Message FF: Length 48 bytes,\n",
       " Message 100: Length 32 bytes,\n",
       " Message 10A: Length 32 bytes,\n",
       " Message 10D: Length 64 bytes,\n",
       " Message 10F: Length 64 bytes,\n",
       " Message 114: Length 64 bytes,\n",
       " Message 1DF: Length 32 bytes,\n",
       " Message 200: Length 32 bytes,\n",
       " Message 2F1: Length 32 bytes,\n",
       " Message 402: Length 32 bytes,\n",
       " Message 403: Length 32 bytes,\n",
       " Message 205: Length 32 bytes,\n",
       " Message 405: Length 32 bytes,\n",
       " Message 406: Length 32 bytes,\n",
       " Message 407: Length 32 bytes,\n",
       " Message 408: Length 32 bytes,\n",
       " Message 409: Length 32 bytes,\n",
       " Message 40A: Length 48 bytes,\n",
       " Message 419: Length 32 bytes,\n",
       " Message 55D: Length 32 bytes,\n",
       " Message 5B1: Length 32 bytes,\n",
       " Message 5B3: Length 32 bytes,\n",
       " Message 1DC: Length 32 bytes,\n",
       " Message 5BC: Length 32 bytes,\n",
       " Message 18DAF218 - Filter [B1:0|B2:15|B3:98|B4:80|B5:32] : Length 20 bytes,\n",
       " Message 18DAF218 - Filter [B1:0|B2:24|B3:98|B4:80|B5:33] : Length 32 bytes,\n",
       " Message 18DAF218 - Filter [B1:0|B2:15|B3:98|B4:80|B5:34] : Length 20 bytes,\n",
       " Message 18DAF218 - Filter [B1:0|B2:10|B3:98|B4:80|B5:47] : Length 12 bytes,\n",
       " Message 18DAF218 - Filter [B1:0|B2:19|B3:98|B4:80|B5:58] : Length 24 bytes,\n",
       " Message 18DAF218 - Filter [B1:0|B2:25|B3:98|B4:80|B5:64] : Length 32 bytes,\n",
       " Message 18DAF218 - Filter [B1:0|B2:12|B3:98|B4:5|B5:31] : Length 16 bytes,\n",
       " Message 18DAF218 - Filter [B1:5|B2:98|B3:80|B4:37] : Length 6 bytes,\n",
       " Message 18DAF218 - Filter [B1:4|B2:98|B3:80|B4:44] : Length 5 bytes,\n",
       " Message 18DAF218 - Filter [B1:0|B2:23|B3:98|B4:80|B5:48] : Length 32 bytes,\n",
       " Message 18DAF218 - Filter [B1:7|B2:98|B3:80|B4:49] : Length 8 bytes,\n",
       " Message 18DAF218 - Filter [B1:5|B2:98|B3:80|B4:51] : Length 6 bytes,\n",
       " Message 18DAF218 - Filter [B1:4|B2:98|B3:5|B4:28] : Length 5 bytes,\n",
       " Message 18DAF218 - Filter [B1:6|B2:98|B3:5|B4:69] : Length 7 bytes,\n",
       " Message 18DAF218 - Filter [B1:5|B2:98|B3:16|B4:24] : Length 6 bytes,\n",
       " Message 18DAF218 - Filter [B1:5|B2:98|B3:5|B4:0] : Length 6 bytes,\n",
       " Message 18DAF218 - Filter [B1:6|B2:98|B3:80|B4:12] : Length 7 bytes,\n",
       " Message 18DAF218 - Filter [B1:7|B2:98|B3:80|B4:16] : Length 8 bytes,\n",
       " Message 201: Length 32 bytes,\n",
       " Message 202: Length 32 bytes,\n",
       " Message 207: Length 32 bytes,\n",
       " Message 40C: Length 32 bytes,\n",
       " Message 5B4: Length 32 bytes,\n",
       " Message 206: Length 32 bytes,\n",
       " Message 72A: Length 32 bytes,\n",
       " Message 730: Length 32 bytes,\n",
       " Message 1E360062: Length 12 bytes,\n",
       " Message 7A4: Length 32 bytes,\n",
       " Message 42C: Length 32 bytes,\n",
       " Message 7A0: Length 32 bytes,\n",
       " Message 41E: Length 32 bytes,\n",
       " Message 1E360070: Length 64 bytes,\n",
       " Message 2EE: Length 32 bytes,\n",
       " Message 260: Length 32 bytes,\n",
       " Message 1E360056: Length 12 bytes,\n",
       " Message 2F0: Length 32 bytes,\n",
       " Message 261: Length 32 bytes,\n",
       " Message 41F: Length 32 bytes,\n",
       " Message 483: Length 32 bytes,\n",
       " Message 2F2: Length 32 bytes,\n",
       " Message 420: Length 32 bytes,\n",
       " Message 1E360006: Length 12 bytes,\n",
       " Message 404: Length 32 bytes,\n",
       " Message 25A: Length 32 bytes,\n",
       " Message 530: Length 32 bytes,\n",
       " Message 422: Length 32 bytes,\n",
       " Message 5B0: Length 32 bytes,\n",
       " Message 262: Length 32 bytes,\n",
       " Message 42D: Length 32 bytes,\n",
       " Message 25B: Length 32 bytes,\n",
       " Message 9A: Length 64 bytes,\n",
       " Message 41B: Length 32 bytes,\n",
       " Message 263: Length 32 bytes,\n",
       " Message 258: Length 32 bytes,\n",
       " Message 264: Length 32 bytes,\n",
       " Message 596: Length 32 bytes,\n",
       " Message 597: Length 32 bytes,\n",
       " Message 59A: Length 32 bytes,\n",
       " Message 59B: Length 32 bytes,\n",
       " Message 41D: Length 32 bytes,\n",
       " Message 59C: Length 32 bytes,\n",
       " Message 5BE: Length 32 bytes,\n",
       " Message 3B6: Length 32 bytes,\n",
       " Message 5A7: Length 32 bytes,\n",
       " Message 723: Length 32 bytes,\n",
       " Message 1E360043: Length 12 bytes,\n",
       " Message 7A3: Length 32 bytes,\n",
       " Message 1E360000: Length 48 bytes,\n",
       " Message 55F: Length 32 bytes,\n",
       " Message 341: Length 32 bytes,\n",
       " Message 1E384000: Length 2 bytes,\n",
       " Message 481: Length 32 bytes,\n",
       " Message 732: Length 32 bytes,\n",
       " Message 5A1: Length 32 bytes,\n",
       " Message 5C2: Length 48 bytes,\n",
       " Message 5AF: Length 32 bytes,\n",
       " Message 1E360003: Length 12 bytes,\n",
       " Message 734: Length 32 bytes,\n",
       " Message 725: Length 32 bytes,\n",
       " Message 727: Length 32 bytes,\n",
       " Message 482: Length 32 bytes,\n",
       " Message 598: Length 32 bytes,\n",
       " Message 5A3: Length 48 bytes,\n",
       " Message 9C: Length 32 bytes,\n",
       " Message 5AA: Length 32 bytes,\n",
       " Message 736: Length 32 bytes,\n",
       " Message 1E36008D: Length 12 bytes,\n",
       " Message 5A9: Length 32 bytes,\n",
       " Message 65A: Length 32 bytes,\n",
       " Message 1E360018: Length 12 bytes,\n",
       " Message 5B8: Length 32 bytes,\n",
       " Message 593: Length 32 bytes,\n",
       " Message 594: Length 32 bytes,\n",
       " Message 5B9: Length 32 bytes,\n",
       " Message 5BA: Length 32 bytes,\n",
       " Message 5BF: Length 32 bytes,\n",
       " Message 728: Length 32 bytes,\n",
       " Message 1E360024: Length 12 bytes,\n",
       " Message 5A8: Length 32 bytes,\n",
       " Message 1E360016: Length 12 bytes,\n",
       " Message 1E360046: Length 12 bytes,\n",
       " Message 5B6: Length 32 bytes,\n",
       " Message 595: Length 32 bytes,\n",
       " Message 5AB: Length 32 bytes,\n",
       " Message 5AC: Length 32 bytes,\n",
       " Message 1E360023: Length 12 bytes,\n",
       " Message 1E36000B: Length 12 bytes,\n",
       " Message 1E384006: Length 2 bytes,\n",
       " Message 1E360001: Length 12 bytes,\n",
       " Message 1E36001D: Length 12 bytes,\n",
       " Message 1E36007D: Length 12 bytes,\n",
       " Message 1E360002: Length 12 bytes,\n",
       " Message 1E36007E: Length 12 bytes,\n",
       " Message 1E36001A: Length 12 bytes,\n",
       " Message 7A2: Length 32 bytes,\n",
       " Message 1E360041: Length 12 bytes,\n",
       " Message 754: Length 32 bytes,\n",
       " Message 96: Length 64 bytes]"
      ]
     },
     "execution_count": 178,
     "metadata": {},
     "output_type": "execute_result"
    }
   ],
   "source": [
    "decoder.msgs"
   ]
  },
  {
   "cell_type": "code",
   "execution_count": 181,
   "id": "802eb19c",
   "metadata": {},
   "outputs": [
    {
     "data": {
      "text/plain": [
       "(80, 58)"
      ]
     },
     "execution_count": 181,
     "metadata": {},
     "output_type": "execute_result"
    }
   ],
   "source": [
    "0x50, 0x3A"
   ]
  },
  {
   "cell_type": "code",
   "execution_count": 69,
   "id": "aa45b167",
   "metadata": {},
   "outputs": [],
   "source": [
    "all_data = decoder.all_data"
   ]
  }
 ],
 "metadata": {
  "kernelspec": {
   "display_name": "main",
   "language": "python",
   "name": "python3"
  },
  "language_info": {
   "codemirror_mode": {
    "name": "ipython",
    "version": 3
   },
   "file_extension": ".py",
   "mimetype": "text/x-python",
   "name": "python",
   "nbconvert_exporter": "python",
   "pygments_lexer": "ipython3",
   "version": "3.13.5"
  }
 },
 "nbformat": 4,
 "nbformat_minor": 5
}
