{
 "cells": [
  {
   "cell_type": "code",
   "execution_count": 1,
   "id": "4789b968",
   "metadata": {},
   "outputs": [],
   "source": [
    "import sys\n",
    "import os\n",
    "import numpy as np\n",
    "import pandas as pd\n",
    "import matplotlib.pyplot as plt\n",
    "\n",
    "# auto-reload library if developing library functionalities\n",
    "%reload_ext autoreload\n",
    "%autoreload 2\n",
    "# Add the old-can-decoder-c56d4fe6 directory to sys.path\n",
    "sys.path.append(os.path.abspath('old-can-decoder-c56d4fe6'))\n",
    "\n",
    "# import library\n",
    "from PandaCANDecoder.decoder import Decoder as OldDecoder\n",
    "from can_decoder.decoder import Decoder"
   ]
  },
  {
   "cell_type": "code",
   "execution_count": 2,
   "id": "0861afb1",
   "metadata": {},
   "outputs": [
    {
     "name": "stdout",
     "output_type": "stream",
     "text": [
      "Generated 910 messages\n"
     ]
    }
   ],
   "source": [
    "decoder = Decoder(\"./data/SampleRoadAcceleration_v2.csv\")\n",
    "\n",
    "# Generate message objects\n",
    "\n",
    "byte_filters = {\n",
    "    \"18DA10F1\": [\"1\", \"2\", \"3\", \"4\",'5'],\n",
    "    \"18DAF110\": [\"1\", \"2\", \"3\", \"4\",'5'],\n",
    "    \"18DAF218\": [\"1\", \"2\", \"3\", \"4\",'5'],\n",
    "    \"18DA18F2\": [\"1\", \"2\", \"3\", \"4\",'5'],\n",
    "}\n",
    "\n",
    "decoder.generate_msgs(byte_filters=byte_filters)\n"
   ]
  },
  {
   "cell_type": "code",
   "execution_count": 3,
   "id": "6e2141a6",
   "metadata": {},
   "outputs": [],
   "source": [
    "## Dynamic filtering: if byte 1 is 0 we should discard byte 5\n",
    "for msg in decoder.msgs:\n",
    "    if msg.msg_byte_filter is not None:\n",
    "        if msg.msg_byte_filter['1'] != 0:\n",
    "            msg.msg_byte_filter.pop('5', None)\n",
    "            # Remove duplicates\n",
    "\n",
    "# Remove duplicate messages with same msg_id and identical msg_byte_filter after discarding byte 5\n",
    "unique_msgs = []\n",
    "seen = set()\n",
    "for msg in decoder.msgs:\n",
    "    key = (msg.msg_id, tuple(sorted(msg.msg_byte_filter.items())) if msg.msg_byte_filter else None)\n",
    "    if key not in seen:\n",
    "        unique_msgs.append(msg)\n",
    "        seen.add(key)\n",
    "decoder.msgs = unique_msgs"
   ]
  },
  {
   "cell_type": "code",
   "execution_count": 4,
   "id": "449b2208",
   "metadata": {},
   "outputs": [],
   "source": [
    "# Generate message time series data\n",
    "\n",
    "decoder.generate_msg_ts_data(rewrite=True)  "
   ]
  },
  {
   "cell_type": "code",
   "execution_count": 5,
   "id": "ddf4457d",
   "metadata": {},
   "outputs": [],
   "source": [
    "decoder.calculate_signals(\n",
    "        tokenization_method='conditional_bit_flip',\n",
    "        signedness_method='msb_classifier',\n",
    "        alpha1=0.01,\n",
    "        alpha2=0.5, #0.5,\n",
    "        gamma1=0.2)"
   ]
  },
  {
   "cell_type": "code",
   "execution_count": 6,
   "id": "2c5ba2a1",
   "metadata": {},
   "outputs": [
    {
     "data": {
      "text/plain": [
       "Message 18DA10F1 - Filter [B1:3|B2:34|B3:1|B4:201] : Length 8 bytes"
      ]
     },
     "execution_count": 6,
     "metadata": {},
     "output_type": "execute_result"
    }
   ],
   "source": [
    "decoder.get_message('18DA10F1',[0x3,0x22,1,201])"
   ]
  },
  {
   "cell_type": "code",
   "execution_count": 7,
   "id": "89d6fb11",
   "metadata": {},
   "outputs": [
    {
     "data": {
      "text/plain": [
       "[Message 42A: Length 32 bytes,\n",
       " Message 18DA10F1 - Filter [B1:3|B2:34|B3:1|B4:201] : Length 8 bytes,\n",
       " Message 18DA10F1 - Filter [B1:3|B2:34|B3:1|B4:209] : Length 8 bytes,\n",
       " Message 18DA10F1 - Filter [B1:3|B2:34|B3:1|B4:213] : Length 8 bytes,\n",
       " Message 18DA10F1 - Filter [B1:3|B2:34|B3:2|B4:178] : Length 8 bytes,\n",
       " Message 18DA10F1 - Filter [B1:3|B2:34|B3:2|B4:179] : Length 8 bytes,\n",
       " Message 18DA10F1 - Filter [B1:3|B2:34|B3:2|B4:180] : Length 8 bytes,\n",
       " Message 18DA10F1 - Filter [B1:3|B2:34|B3:2|B4:181] : Length 8 bytes,\n",
       " Message 18DA10F1 - Filter [B1:3|B2:34|B3:3|B4:225] : Length 8 bytes,\n",
       " Message 18DA10F1 - Filter [B1:3|B2:34|B3:3|B4:240] : Length 8 bytes,\n",
       " Message 18DA10F1 - Filter [B1:3|B2:34|B3:1|B4:29] : Length 8 bytes,\n",
       " Message 18DA10F1 - Filter [B1:3|B2:34|B3:1|B4:32] : Length 8 bytes,\n",
       " Message 18DA10F1 - Filter [B1:3|B2:34|B3:1|B4:35] : Length 8 bytes,\n",
       " Message 18DA10F1 - Filter [B1:3|B2:34|B3:1|B4:39] : Length 8 bytes,\n",
       " Message 18DA10F1 - Filter [B1:3|B2:34|B3:18|B4:201] : Length 8 bytes,\n",
       " Message 18DA10F1 - Filter [B1:3|B2:34|B3:1|B4:186] : Length 8 bytes,\n",
       " Message 18DA10F1 - Filter [B1:3|B2:34|B3:2|B4:39] : Length 8 bytes,\n",
       " Message 18DA10F1 - Filter [B1:3|B2:34|B3:2|B4:42] : Length 8 bytes,\n",
       " Message 18DA10F1 - Filter [B1:3|B2:34|B3:0|B4:45] : Length 8 bytes,\n",
       " Message 18DA10F1 - Filter [B1:3|B2:34|B3:3|B4:248] : Length 8 bytes,\n",
       " Message 18DA10F1 - Filter [B1:3|B2:34|B3:6|B4:158] : Length 8 bytes,\n",
       " Message 18DA10F1 - Filter [B1:3|B2:34|B3:6|B4:159] : Length 8 bytes,\n",
       " Message 18DA10F1 - Filter [B1:3|B2:34|B3:3|B4:227] : Length 8 bytes,\n",
       " Message 18DA10F1 - Filter [B1:3|B2:34|B3:3|B4:228] : Length 8 bytes,\n",
       " Message 18DA10F1 - Filter [B1:3|B2:34|B3:2|B4:51] : Length 8 bytes,\n",
       " Message 18DA10F1 - Filter [B1:3|B2:34|B3:2|B4:52] : Length 8 bytes,\n",
       " Message 18DA10F1 - Filter [B1:3|B2:34|B3:2|B4:53] : Length 8 bytes,\n",
       " Message 18DA10F1 - Filter [B1:3|B2:34|B3:2|B4:54] : Length 8 bytes,\n",
       " Message 18DA10F1 - Filter [B1:3|B2:34|B3:2|B4:55] : Length 8 bytes,\n",
       " Message 18DA10F1 - Filter [B1:3|B2:34|B3:2|B4:85] : Length 8 bytes,\n",
       " Message 18DA10F1 - Filter [B1:3|B2:34|B3:2|B4:86] : Length 8 bytes,\n",
       " Message 18DA10F1 - Filter [B1:3|B2:34|B3:2|B4:87] : Length 8 bytes,\n",
       " Message 18DA10F1 - Filter [B1:3|B2:34|B3:2|B4:88] : Length 8 bytes,\n",
       " Message 18DA10F1 - Filter [B1:3|B2:34|B3:6|B4:218] : Length 8 bytes,\n",
       " Message 18DA10F1 - Filter [B1:3|B2:34|B3:6|B4:124] : Length 8 bytes,\n",
       " Message 18DA10F1 - Filter [B1:3|B2:34|B3:1|B4:202] : Length 8 bytes,\n",
       " Message 18DA10F1 - Filter [B1:3|B2:34|B3:1|B4:6] : Length 8 bytes,\n",
       " Message 18DA10F1 - Filter [B1:3|B2:34|B3:1|B4:9] : Length 8 bytes,\n",
       " Message 18DA10F1 - Filter [B1:3|B2:34|B3:18|B4:71] : Length 8 bytes,\n",
       " Message 18DA10F1 - Filter [B1:3|B2:34|B3:18|B4:80] : Length 8 bytes,\n",
       " Message 18DA10F1 - Filter [B1:3|B2:34|B3:1|B4:43] : Length 8 bytes,\n",
       " Message 18DA10F1 - Filter [B1:3|B2:34|B3:20|B4:177] : Length 8 bytes,\n",
       " Message 18DA10F1 - Filter [B1:3|B2:34|B3:1|B4:255] : Length 8 bytes,\n",
       " Message 18DA10F1 - Filter [B1:3|B2:34|B3:2|B4:40] : Length 8 bytes,\n",
       " Message 18DA10F1 - Filter [B1:3|B2:34|B3:21|B4:67] : Length 8 bytes,\n",
       " Message 18DA10F1 - Filter [B1:3|B2:34|B3:1|B4:116] : Length 8 bytes,\n",
       " Message 18DA10F1 - Filter [B1:3|B2:34|B3:1|B4:158] : Length 8 bytes,\n",
       " Message 18DA10F1 - Filter [B1:3|B2:34|B3:1|B4:195] : Length 8 bytes,\n",
       " Message 18DA10F1 - Filter [B1:2|B2:62|B3:128|B4:0] : Length 8 bytes,\n",
       " Message 18DA18F2 - Filter [B1:3|B2:34|B3:80|B4:32] : Length 8 bytes,\n",
       " Message 18DA18F2 - Filter [B1:3|B2:34|B3:80|B4:33] : Length 8 bytes,\n",
       " Message 18DA18F2 - Filter [B1:3|B2:34|B3:80|B4:34] : Length 8 bytes,\n",
       " Message 18DA18F2 - Filter [B1:3|B2:34|B3:80|B4:47] : Length 8 bytes,\n",
       " Message 18DA18F2 - Filter [B1:3|B2:34|B3:80|B4:58] : Length 8 bytes,\n",
       " Message 18DA18F2 - Filter [B1:3|B2:34|B3:80|B4:64] : Length 8 bytes,\n",
       " Message 18DA18F2 - Filter [B1:3|B2:34|B3:5|B4:31] : Length 8 bytes,\n",
       " Message 18DA18F2 - Filter [B1:3|B2:34|B3:80|B4:37] : Length 8 bytes,\n",
       " Message 18DA18F2 - Filter [B1:3|B2:34|B3:80|B4:44] : Length 8 bytes,\n",
       " Message 18DA18F2 - Filter [B1:3|B2:34|B3:80|B4:48] : Length 8 bytes,\n",
       " Message 18DA18F2 - Filter [B1:3|B2:34|B3:80|B4:49] : Length 8 bytes,\n",
       " Message 18DA18F2 - Filter [B1:3|B2:34|B3:80|B4:51] : Length 8 bytes,\n",
       " Message 18DA18F2 - Filter [B1:3|B2:34|B3:5|B4:28] : Length 8 bytes,\n",
       " Message 18DA18F2 - Filter [B1:3|B2:34|B3:5|B4:69] : Length 8 bytes,\n",
       " Message 18DA18F2 - Filter [B1:3|B2:34|B3:16|B4:24] : Length 8 bytes,\n",
       " Message 18DA18F2 - Filter [B1:3|B2:34|B3:5|B4:0] : Length 8 bytes,\n",
       " Message 18DA18F2 - Filter [B1:3|B2:34|B3:80|B4:12] : Length 8 bytes,\n",
       " Message 18DA18F2 - Filter [B1:3|B2:34|B3:80|B4:16] : Length 8 bytes,\n",
       " Message 18DA18F2 - Filter [B1:2|B2:62|B3:128|B4:0] : Length 8 bytes,\n",
       " Message 113: Length 32 bytes,\n",
       " Message 116: Length 64 bytes,\n",
       " Message 208: Length 32 bytes,\n",
       " Message 112: Length 32 bytes,\n",
       " Message 2EF: Length 32 bytes,\n",
       " Message 18DAF110 - Filter [B1:5|B2:98|B3:1|B4:201] : Length 8 bytes,\n",
       " Message 18DAF110 - Filter [B1:5|B2:98|B3:1|B4:209] : Length 8 bytes,\n",
       " Message 18DAF110 - Filter [B1:5|B2:98|B3:1|B4:213] : Length 8 bytes,\n",
       " Message 18DAF110 - Filter [B1:5|B2:98|B3:2|B4:178] : Length 8 bytes,\n",
       " Message 18DAF110 - Filter [B1:5|B2:98|B3:2|B4:179] : Length 8 bytes,\n",
       " Message 18DAF110 - Filter [B1:5|B2:98|B3:2|B4:180] : Length 8 bytes,\n",
       " Message 18DAF110 - Filter [B1:5|B2:98|B3:2|B4:181] : Length 8 bytes,\n",
       " Message 18DAF110 - Filter [B1:5|B2:98|B3:3|B4:225] : Length 8 bytes,\n",
       " Message 18DAF110 - Filter [B1:5|B2:98|B3:3|B4:240] : Length 8 bytes,\n",
       " Message 18DAF110 - Filter [B1:4|B2:98|B3:1|B4:29] : Length 8 bytes,\n",
       " Message 18DAF110 - Filter [B1:4|B2:98|B3:1|B4:32] : Length 8 bytes,\n",
       " Message 18DAF110 - Filter [B1:4|B2:98|B3:1|B4:35] : Length 8 bytes,\n",
       " Message 18DAF110 - Filter [B1:4|B2:98|B3:1|B4:39] : Length 8 bytes,\n",
       " Message 18DAF110 - Filter [B1:4|B2:98|B3:18|B4:201] : Length 8 bytes,\n",
       " Message 18DAF110 - Filter [B1:4|B2:98|B3:1|B4:186] : Length 8 bytes,\n",
       " Message 18DAF110 - Filter [B1:4|B2:98|B3:2|B4:39] : Length 8 bytes,\n",
       " Message 18DAF110 - Filter [B1:4|B2:98|B3:2|B4:42] : Length 8 bytes,\n",
       " Message 18DAF110 - Filter [B1:3|B2:127|B3:34|B4:18] : Length 8 bytes,\n",
       " Message 18DAF110 - Filter [B1:7|B2:98|B3:3|B4:248] : Length 8 bytes,\n",
       " Message 18DAF110 - Filter [B1:4|B2:98|B3:6|B4:158] : Length 8 bytes,\n",
       " Message 18DAF110 - Filter [B1:4|B2:98|B3:6|B4:159] : Length 8 bytes,\n",
       " Message 18DAF110 - Filter [B1:4|B2:98|B3:3|B4:227] : Length 8 bytes,\n",
       " Message 18DAF110 - Filter [B1:4|B2:98|B3:3|B4:228] : Length 8 bytes,\n",
       " Message 18DAF110 - Filter [B1:7|B2:98|B3:2|B4:51] : Length 8 bytes,\n",
       " Message 18DAF110 - Filter [B1:7|B2:98|B3:2|B4:52] : Length 8 bytes,\n",
       " Message 18DAF110 - Filter [B1:7|B2:98|B3:2|B4:53] : Length 8 bytes,\n",
       " Message 18DAF110 - Filter [B1:7|B2:98|B3:2|B4:54] : Length 8 bytes,\n",
       " Message 18DAF110 - Filter [B1:7|B2:98|B3:2|B4:55] : Length 8 bytes,\n",
       " Message 18DAF110 - Filter [B1:5|B2:98|B3:2|B4:85] : Length 8 bytes,\n",
       " Message 18DAF110 - Filter [B1:5|B2:98|B3:2|B4:86] : Length 8 bytes,\n",
       " Message 18DAF110 - Filter [B1:5|B2:98|B3:2|B4:87] : Length 8 bytes,\n",
       " Message 18DAF110 - Filter [B1:5|B2:98|B3:2|B4:88] : Length 8 bytes,\n",
       " Message 18DAF110 - Filter [B1:5|B2:98|B3:6|B4:218] : Length 8 bytes,\n",
       " Message 18DAF110 - Filter [B1:4|B2:98|B3:6|B4:124] : Length 8 bytes,\n",
       " Message 18DAF110 - Filter [B1:7|B2:98|B3:1|B4:202] : Length 8 bytes,\n",
       " Message 18DAF110 - Filter [B1:5|B2:98|B3:1|B4:6] : Length 8 bytes,\n",
       " Message 18DAF110 - Filter [B1:5|B2:98|B3:1|B4:9] : Length 8 bytes,\n",
       " Message 18DAF110 - Filter [B1:5|B2:98|B3:18|B4:71] : Length 8 bytes,\n",
       " Message 18DAF110 - Filter [B1:4|B2:98|B3:18|B4:80] : Length 8 bytes,\n",
       " Message 18DAF110 - Filter [B1:5|B2:98|B3:1|B4:43] : Length 8 bytes,\n",
       " Message 18DAF110 - Filter [B1:5|B2:98|B3:20|B4:177] : Length 8 bytes,\n",
       " Message 18DAF110 - Filter [B1:5|B2:98|B3:1|B4:255] : Length 8 bytes,\n",
       " Message 18DAF110 - Filter [B1:5|B2:98|B3:2|B4:40] : Length 8 bytes,\n",
       " Message 18DAF110 - Filter [B1:5|B2:98|B3:21|B4:67] : Length 8 bytes,\n",
       " Message 18DAF110 - Filter [B1:5|B2:98|B3:1|B4:116] : Length 8 bytes,\n",
       " Message 18DAF110 - Filter [B1:5|B2:98|B3:1|B4:158] : Length 8 bytes,\n",
       " Message 18DAF110 - Filter [B1:5|B2:98|B3:1|B4:195] : Length 8 bytes,\n",
       " Message 18DAF110 - Filter [B1:3|B2:127|B3:62|B4:18] : Length 8 bytes,\n",
       " Message 102: Length 64 bytes,\n",
       " Message 103: Length 32 bytes,\n",
       " Message 40B: Length 32 bytes,\n",
       " Message 118: Length 32 bytes,\n",
       " Message 108: Length 32 bytes,\n",
       " Message 106: Length 64 bytes,\n",
       " Message 9F: Length 32 bytes,\n",
       " Message FF: Length 48 bytes,\n",
       " Message 100: Length 32 bytes,\n",
       " Message 10A: Length 32 bytes,\n",
       " Message 10D: Length 64 bytes,\n",
       " Message 10F: Length 64 bytes,\n",
       " Message 114: Length 64 bytes,\n",
       " Message 1DF: Length 32 bytes,\n",
       " Message 200: Length 32 bytes,\n",
       " Message 2F1: Length 32 bytes,\n",
       " Message 402: Length 32 bytes,\n",
       " Message 403: Length 32 bytes,\n",
       " Message 205: Length 32 bytes,\n",
       " Message 405: Length 32 bytes,\n",
       " Message 406: Length 32 bytes,\n",
       " Message 407: Length 32 bytes,\n",
       " Message 408: Length 32 bytes,\n",
       " Message 409: Length 32 bytes,\n",
       " Message 40A: Length 48 bytes,\n",
       " Message 419: Length 32 bytes,\n",
       " Message 55D: Length 32 bytes,\n",
       " Message 5B1: Length 32 bytes,\n",
       " Message 5B3: Length 32 bytes,\n",
       " Message 1DC: Length 32 bytes,\n",
       " Message 5BC: Length 32 bytes,\n",
       " Message 18DAF218 - Filter [B1:0|B2:15|B3:98|B4:80|B5:32] : Length 20 bytes,\n",
       " Message 18DAF218 - Filter [B1:0|B2:24|B3:98|B4:80|B5:33] : Length 32 bytes,\n",
       " Message 18DAF218 - Filter [B1:0|B2:15|B3:98|B4:80|B5:34] : Length 20 bytes,\n",
       " Message 18DAF218 - Filter [B1:0|B2:10|B3:98|B4:80|B5:47] : Length 12 bytes,\n",
       " Message 18DAF218 - Filter [B1:0|B2:19|B3:98|B4:80|B5:58] : Length 24 bytes,\n",
       " Message 18DAF218 - Filter [B1:0|B2:25|B3:98|B4:80|B5:64] : Length 32 bytes,\n",
       " Message 18DAF218 - Filter [B1:0|B2:12|B3:98|B4:5|B5:31] : Length 16 bytes,\n",
       " Message 18DAF218 - Filter [B1:5|B2:98|B3:80|B4:37] : Length 6 bytes,\n",
       " Message 18DAF218 - Filter [B1:4|B2:98|B3:80|B4:44] : Length 5 bytes,\n",
       " Message 18DAF218 - Filter [B1:0|B2:23|B3:98|B4:80|B5:48] : Length 32 bytes,\n",
       " Message 18DAF218 - Filter [B1:7|B2:98|B3:80|B4:49] : Length 8 bytes,\n",
       " Message 18DAF218 - Filter [B1:5|B2:98|B3:80|B4:51] : Length 6 bytes,\n",
       " Message 18DAF218 - Filter [B1:4|B2:98|B3:5|B4:28] : Length 5 bytes,\n",
       " Message 18DAF218 - Filter [B1:6|B2:98|B3:5|B4:69] : Length 7 bytes,\n",
       " Message 18DAF218 - Filter [B1:5|B2:98|B3:16|B4:24] : Length 6 bytes,\n",
       " Message 18DAF218 - Filter [B1:5|B2:98|B3:5|B4:0] : Length 6 bytes,\n",
       " Message 18DAF218 - Filter [B1:6|B2:98|B3:80|B4:12] : Length 7 bytes,\n",
       " Message 18DAF218 - Filter [B1:7|B2:98|B3:80|B4:16] : Length 8 bytes,\n",
       " Message 201: Length 32 bytes,\n",
       " Message 202: Length 32 bytes,\n",
       " Message 207: Length 32 bytes,\n",
       " Message 40C: Length 32 bytes,\n",
       " Message 5B4: Length 32 bytes,\n",
       " Message 206: Length 32 bytes,\n",
       " Message 72A: Length 32 bytes,\n",
       " Message 730: Length 32 bytes,\n",
       " Message 1E360062: Length 12 bytes,\n",
       " Message 7A4: Length 32 bytes,\n",
       " Message 42C: Length 32 bytes,\n",
       " Message 7A0: Length 32 bytes,\n",
       " Message 41E: Length 32 bytes,\n",
       " Message 1E360070: Length 64 bytes,\n",
       " Message 2EE: Length 32 bytes,\n",
       " Message 260: Length 32 bytes,\n",
       " Message 1E360056: Length 12 bytes,\n",
       " Message 2F0: Length 32 bytes,\n",
       " Message 261: Length 32 bytes,\n",
       " Message 41F: Length 32 bytes,\n",
       " Message 483: Length 32 bytes,\n",
       " Message 2F2: Length 32 bytes,\n",
       " Message 420: Length 32 bytes,\n",
       " Message 1E360006: Length 12 bytes,\n",
       " Message 404: Length 32 bytes,\n",
       " Message 25A: Length 32 bytes,\n",
       " Message 530: Length 32 bytes,\n",
       " Message 422: Length 32 bytes,\n",
       " Message 5B0: Length 32 bytes,\n",
       " Message 262: Length 32 bytes,\n",
       " Message 42D: Length 32 bytes,\n",
       " Message 25B: Length 32 bytes,\n",
       " Message 9A: Length 64 bytes,\n",
       " Message 41B: Length 32 bytes,\n",
       " Message 263: Length 32 bytes,\n",
       " Message 258: Length 32 bytes,\n",
       " Message 264: Length 32 bytes,\n",
       " Message 596: Length 32 bytes,\n",
       " Message 597: Length 32 bytes,\n",
       " Message 59A: Length 32 bytes,\n",
       " Message 59B: Length 32 bytes,\n",
       " Message 41D: Length 32 bytes,\n",
       " Message 59C: Length 32 bytes,\n",
       " Message 5BE: Length 32 bytes,\n",
       " Message 3B6: Length 32 bytes,\n",
       " Message 5A7: Length 32 bytes,\n",
       " Message 723: Length 32 bytes,\n",
       " Message 1E360043: Length 12 bytes,\n",
       " Message 7A3: Length 32 bytes,\n",
       " Message 1E360000: Length 48 bytes,\n",
       " Message 55F: Length 32 bytes,\n",
       " Message 341: Length 32 bytes,\n",
       " Message 1E384000: Length 2 bytes,\n",
       " Message 481: Length 32 bytes,\n",
       " Message 732: Length 32 bytes,\n",
       " Message 5A1: Length 32 bytes,\n",
       " Message 5C2: Length 48 bytes,\n",
       " Message 5AF: Length 32 bytes,\n",
       " Message 1E360003: Length 12 bytes,\n",
       " Message 734: Length 32 bytes,\n",
       " Message 725: Length 32 bytes,\n",
       " Message 727: Length 32 bytes,\n",
       " Message 482: Length 32 bytes,\n",
       " Message 598: Length 32 bytes,\n",
       " Message 5A3: Length 48 bytes,\n",
       " Message 9C: Length 32 bytes,\n",
       " Message 5AA: Length 32 bytes,\n",
       " Message 736: Length 32 bytes,\n",
       " Message 1E36008D: Length 12 bytes,\n",
       " Message 5A9: Length 32 bytes,\n",
       " Message 65A: Length 32 bytes,\n",
       " Message 1E360018: Length 12 bytes,\n",
       " Message 5B8: Length 32 bytes,\n",
       " Message 593: Length 32 bytes,\n",
       " Message 594: Length 32 bytes,\n",
       " Message 5B9: Length 32 bytes,\n",
       " Message 5BA: Length 32 bytes,\n",
       " Message 5BF: Length 32 bytes,\n",
       " Message 728: Length 32 bytes,\n",
       " Message 1E360024: Length 12 bytes,\n",
       " Message 5A8: Length 32 bytes,\n",
       " Message 1E360016: Length 12 bytes,\n",
       " Message 1E360046: Length 12 bytes,\n",
       " Message 5B6: Length 32 bytes,\n",
       " Message 595: Length 32 bytes,\n",
       " Message 5AB: Length 32 bytes,\n",
       " Message 5AC: Length 32 bytes,\n",
       " Message 1E360023: Length 12 bytes,\n",
       " Message 1E36000B: Length 12 bytes,\n",
       " Message 1E384006: Length 2 bytes,\n",
       " Message 1E360001: Length 12 bytes,\n",
       " Message 1E36001D: Length 12 bytes,\n",
       " Message 1E36007D: Length 12 bytes,\n",
       " Message 1E360002: Length 12 bytes,\n",
       " Message 1E36007E: Length 12 bytes,\n",
       " Message 1E36001A: Length 12 bytes,\n",
       " Message 7A2: Length 32 bytes,\n",
       " Message 1E360041: Length 12 bytes,\n",
       " Message 754: Length 32 bytes,\n",
       " Message 96: Length 64 bytes]"
      ]
     },
     "execution_count": 7,
     "metadata": {},
     "output_type": "execute_result"
    }
   ],
   "source": [
    "decoder.msgs"
   ]
  },
  {
   "cell_type": "code",
   "execution_count": 8,
   "id": "dac92e36",
   "metadata": {},
   "outputs": [
    {
     "data": {
      "text/plain": [
       "[Message: 42A, Signal: SIG_BE_0, Type: constant , Signed: signed,\n",
       " Message: 42A, Signal: SIG_BE_1, Type: ts , Signed: unsigned,\n",
       " Message: 42A, Signal: SIG_BE_2, Type: constant , Signed: signed,\n",
       " Message: 42A, Signal: SIG_BE_3, Type: ts , Signed: unsigned,\n",
       " Message: 42A, Signal: SIG_BE_4, Type: constant , Signed: signed,\n",
       " Message: 42A, Signal: SIG_BE_5, Type: ts , Signed: unsigned,\n",
       " Message: 42A, Signal: SIG_BE_6, Type: ts , Signed: unsigned,\n",
       " Message: 42A, Signal: SIG_BE_7, Type: constant , Signed: signed,\n",
       " Message: 42A, Signal: SIG_LE_0, Type: constant , Signed: signed,\n",
       " Message: 42A, Signal: SIG_LE_1, Type: ts , Signed: unsigned,\n",
       " Message: 42A, Signal: SIG_LE_2, Type: ts , Signed: unsigned,\n",
       " Message: 42A, Signal: SIG_LE_3, Type: constant , Signed: signed,\n",
       " Message: 42A, Signal: SIG_LE_4, Type: ts , Signed: unsigned,\n",
       " Message: 42A, Signal: SIG_LE_5, Type: constant , Signed: signed,\n",
       " Message: 42A, Signal: SIG_LE_6, Type: ts , Signed: unsigned,\n",
       " Message: 42A, Signal: SIG_LE_7, Type: constant , Signed: signed,\n",
       " Message: 42A, Signal: SIG_LE_8, Type: ts , Signed: unsigned,\n",
       " Message: 42A, Signal: SIG_LE_9, Type: constant , Signed: signed]"
      ]
     },
     "execution_count": 8,
     "metadata": {},
     "output_type": "execute_result"
    }
   ],
   "source": [
    "decoder.get_message('42A').signals"
   ]
  },
  {
   "cell_type": "code",
   "execution_count": 9,
   "id": "4d4dfa5c",
   "metadata": {},
   "outputs": [
    {
     "data": {
      "application/vnd.plotly.v1+json": {
       "config": {
        "plotlyServerURL": "https://plot.ly"
       },
       "data": [
        {
         "marker": {
          "color": "black"
         },
         "name": "Bit Flip Probability",
         "opacity": 0.7,
         "type": "bar",
         "x": {
          "bdata": "AAABAAIAAwAEAAUABgAHAAgACQAKAAsADAANAA4ADwAQABEAEgATABQAFQAWABcAGAAZABoAGwAcAB0AHgAfACAAIQAiACMAJAAlACYAJwAoACkAKgArACwALQAuAC8AMAAxADIAMwA0ADUANgA3ADgAOQA6ADsAPAA9AD4APwBAAEEAQgBDAEQARQBGAEcASABJAEoASwBMAE0ATgBPAFAAUQBSAFMAVABVAFYAVwBYAFkAWgBbAFwAXQBeAF8AYABhAGIAYwBkAGUAZgBnAGgAaQBqAGsAbABtAG4AbwBwAHEAcgBzAHQAdQB2AHcAeAB5AHoAewB8AH0AfgB/AIAAgQCCAIMAhACFAIYAhwCIAIkAigCLAIwAjQCOAI8AkACRAJIAkwCUAJUAlgCXAJgAmQCaAJsAnACdAJ4AnwCgAKEAogCjAKQApQCmAKcAqACpAKoAqwCsAK0ArgCvALAAsQCyALMAtAC1ALYAtwC4ALkAugC7ALwAvQC+AL8AwADBAMIAwwDEAMUAxgDHAMgAyQDKAMsAzADNAM4AzwDQANEA0gDTANQA1QDWANcA2ADZANoA2wDcAN0A3gDfAOAA4QDiAOMA5ADlAOYA5wDoAOkA6gDrAOwA7QDuAO8A8ADxAPIA8wD0APUA9gD3APgA+QD6APsA/AD9AP4A/wAAAQEBAgEDAQQBBQEGAQcBCAEJAQoBCwEMAQ0BDgEPARABEQESARMBFAEVARYBFwEYARkBGgEbARwBHQEeAR8BIAEhASIBIwEkASUBJgEnASgBKQEqASsBLAEtAS4BLwEwATEBMgEzATQBNQE2ATcBOAE5AToBOwE8AT0BPgE/AUABQQFCAUMBRAFFAUYBRwFIAUkBSgFLAUwBTQFOAU8BUAFRAVIBUwFUAVUBVgFXAVgBWQFaAVsBXAFdAV4BXwFgAWEBYgFjAWQBZQFmAWcBaAFpAWoBawFsAW0BbgFvAXABcQFyAXMBdAF1AXYBdwF4AXkBegF7AXwBfQF+AX8BgAGBAYIBgwGEAYUBhgGHAYgBiQGKAYsBjAGNAY4BjwGQAZEBkgGTAZQBlQGWAZcBmAGZAZoBmwGcAZ0BngGfAaABoQGiAaMBpAGlAaYBpwGoAakBqgGrAawBrQGuAa8BsAGxAbIBswG0AbUBtgG3AbgBuQG6AbsBvAG9Ab4BvwHAAcEBwgHDAcQBxQHGAccByAHJAcoBywHMAc0BzgHPAdAB0QHSAdMB1AHVAdYB1wHYAdkB2gHbAdwB3QHeAd8B4AHhAeIB4wHkAeUB5gHnAegB6QHqAesB7AHtAe4B7wHwAfEB8gHzAfQB9QH2AfcB+AH5AfoB+wH8Af0B/gH/AQ==",
          "dtype": "i2"
         },
         "y": {
          "bdata": "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",
          "dtype": "f8"
         }
        }
       ],
       "layout": {
        "annotations": [
         {
          "font": {
           "size": 10
          },
          "showarrow": false,
          "text": "Byte 0",
          "x": 3.5,
          "xanchor": "center",
          "xref": "x",
          "y": 1,
          "yanchor": "bottom",
          "yref": "y domain"
         },
         {
          "font": {
           "size": 10
          },
          "showarrow": false,
          "text": "Byte 1",
          "x": 11.5,
          "xanchor": "center",
          "xref": "x",
          "y": 1,
          "yanchor": "bottom",
          "yref": "y domain"
         },
         {
          "font": {
           "size": 10
          },
          "showarrow": false,
          "text": "Byte 2",
          "x": 19.5,
          "xanchor": "center",
          "xref": "x",
          "y": 1,
          "yanchor": "bottom",
          "yref": "y domain"
         },
         {
          "font": {
           "size": 10
          },
          "showarrow": false,
          "text": "Byte 3",
          "x": 27.5,
          "xanchor": "center",
          "xref": "x",
          "y": 1,
          "yanchor": "bottom",
          "yref": "y domain"
         },
         {
          "font": {
           "size": 10
          },
          "showarrow": false,
          "text": "Byte 4",
          "x": 35.5,
          "xanchor": "center",
          "xref": "x",
          "y": 1,
          "yanchor": "bottom",
          "yref": "y domain"
         },
         {
          "font": {
           "size": 10
          },
          "showarrow": false,
          "text": "Byte 5",
          "x": 43.5,
          "xanchor": "center",
          "xref": "x",
          "y": 1,
          "yanchor": "bottom",
          "yref": "y domain"
         },
         {
          "font": {
           "size": 10
          },
          "showarrow": false,
          "text": "Byte 6",
          "x": 51.5,
          "xanchor": "center",
          "xref": "x",
          "y": 1,
          "yanchor": "bottom",
          "yref": "y domain"
         },
         {
          "font": {
           "size": 10
          },
          "showarrow": false,
          "text": "Byte 7",
          "x": 59.5,
          "xanchor": "center",
          "xref": "x",
          "y": 1,
          "yanchor": "bottom",
          "yref": "y domain"
         },
         {
          "font": {
           "size": 10
          },
          "showarrow": false,
          "text": "Byte 8",
          "x": 67.5,
          "xanchor": "center",
          "xref": "x",
          "y": 1,
          "yanchor": "bottom",
          "yref": "y domain"
         },
         {
          "font": {
           "size": 10
          },
          "showarrow": false,
          "text": "Byte 9",
          "x": 75.5,
          "xanchor": "center",
          "xref": "x",
          "y": 1,
          "yanchor": "bottom",
          "yref": "y domain"
         },
         {
          "font": {
           "size": 10
          },
          "showarrow": false,
          "text": "Byte 10",
          "x": 83.5,
          "xanchor": "center",
          "xref": "x",
          "y": 1,
          "yanchor": "bottom",
          "yref": "y domain"
         },
         {
          "font": {
           "size": 10
          },
          "showarrow": false,
          "text": "Byte 11",
          "x": 91.5,
          "xanchor": "center",
          "xref": "x",
          "y": 1,
          "yanchor": "bottom",
          "yref": "y domain"
         },
         {
          "font": {
           "size": 10
          },
          "showarrow": false,
          "text": "Byte 12",
          "x": 99.5,
          "xanchor": "center",
          "xref": "x",
          "y": 1,
          "yanchor": "bottom",
          "yref": "y domain"
         },
         {
          "font": {
           "size": 10
          },
          "showarrow": false,
          "text": "Byte 13",
          "x": 107.5,
          "xanchor": "center",
          "xref": "x",
          "y": 1,
          "yanchor": "bottom",
          "yref": "y domain"
         },
         {
          "font": {
           "size": 10
          },
          "showarrow": false,
          "text": "Byte 14",
          "x": 115.5,
          "xanchor": "center",
          "xref": "x",
          "y": 1,
          "yanchor": "bottom",
          "yref": "y domain"
         },
         {
          "font": {
           "size": 10
          },
          "showarrow": false,
          "text": "Byte 15",
          "x": 123.5,
          "xanchor": "center",
          "xref": "x",
          "y": 1,
          "yanchor": "bottom",
          "yref": "y domain"
         },
         {
          "font": {
           "size": 10
          },
          "showarrow": false,
          "text": "Byte 16",
          "x": 131.5,
          "xanchor": "center",
          "xref": "x",
          "y": 1,
          "yanchor": "bottom",
          "yref": "y domain"
         },
         {
          "font": {
           "size": 10
          },
          "showarrow": false,
          "text": "Byte 17",
          "x": 139.5,
          "xanchor": "center",
          "xref": "x",
          "y": 1,
          "yanchor": "bottom",
          "yref": "y domain"
         },
         {
          "font": {
           "size": 10
          },
          "showarrow": false,
          "text": "Byte 18",
          "x": 147.5,
          "xanchor": "center",
          "xref": "x",
          "y": 1,
          "yanchor": "bottom",
          "yref": "y domain"
         },
         {
          "font": {
           "size": 10
          },
          "showarrow": false,
          "text": "Byte 19",
          "x": 155.5,
          "xanchor": "center",
          "xref": "x",
          "y": 1,
          "yanchor": "bottom",
          "yref": "y domain"
         },
         {
          "font": {
           "size": 10
          },
          "showarrow": false,
          "text": "Byte 20",
          "x": 163.5,
          "xanchor": "center",
          "xref": "x",
          "y": 1,
          "yanchor": "bottom",
          "yref": "y domain"
         },
         {
          "font": {
           "size": 10
          },
          "showarrow": false,
          "text": "Byte 21",
          "x": 171.5,
          "xanchor": "center",
          "xref": "x",
          "y": 1,
          "yanchor": "bottom",
          "yref": "y domain"
         },
         {
          "font": {
           "size": 10
          },
          "showarrow": false,
          "text": "Byte 22",
          "x": 179.5,
          "xanchor": "center",
          "xref": "x",
          "y": 1,
          "yanchor": "bottom",
          "yref": "y domain"
         },
         {
          "font": {
           "size": 10
          },
          "showarrow": false,
          "text": "Byte 23",
          "x": 187.5,
          "xanchor": "center",
          "xref": "x",
          "y": 1,
          "yanchor": "bottom",
          "yref": "y domain"
         },
         {
          "font": {
           "size": 10
          },
          "showarrow": false,
          "text": "Byte 24",
          "x": 195.5,
          "xanchor": "center",
          "xref": "x",
          "y": 1,
          "yanchor": "bottom",
          "yref": "y domain"
         },
         {
          "font": {
           "size": 10
          },
          "showarrow": false,
          "text": "Byte 25",
          "x": 203.5,
          "xanchor": "center",
          "xref": "x",
          "y": 1,
          "yanchor": "bottom",
          "yref": "y domain"
         },
         {
          "font": {
           "size": 10
          },
          "showarrow": false,
          "text": "Byte 26",
          "x": 211.5,
          "xanchor": "center",
          "xref": "x",
          "y": 1,
          "yanchor": "bottom",
          "yref": "y domain"
         },
         {
          "font": {
           "size": 10
          },
          "showarrow": false,
          "text": "Byte 27",
          "x": 219.5,
          "xanchor": "center",
          "xref": "x",
          "y": 1,
          "yanchor": "bottom",
          "yref": "y domain"
         },
         {
          "font": {
           "size": 10
          },
          "showarrow": false,
          "text": "Byte 28",
          "x": 227.5,
          "xanchor": "center",
          "xref": "x",
          "y": 1,
          "yanchor": "bottom",
          "yref": "y domain"
         },
         {
          "font": {
           "size": 10
          },
          "showarrow": false,
          "text": "Byte 29",
          "x": 235.5,
          "xanchor": "center",
          "xref": "x",
          "y": 1,
          "yanchor": "bottom",
          "yref": "y domain"
         },
         {
          "font": {
           "size": 10
          },
          "showarrow": false,
          "text": "Byte 30",
          "x": 243.5,
          "xanchor": "center",
          "xref": "x",
          "y": 1,
          "yanchor": "bottom",
          "yref": "y domain"
         },
         {
          "font": {
           "size": 10
          },
          "showarrow": false,
          "text": "Byte 31",
          "x": 251.5,
          "xanchor": "center",
          "xref": "x",
          "y": 1,
          "yanchor": "bottom",
          "yref": "y domain"
         },
         {
          "font": {
           "size": 10
          },
          "showarrow": false,
          "text": "Byte 32",
          "x": 259.5,
          "xanchor": "center",
          "xref": "x",
          "y": 1,
          "yanchor": "bottom",
          "yref": "y domain"
         },
         {
          "font": {
           "size": 10
          },
          "showarrow": false,
          "text": "Byte 33",
          "x": 267.5,
          "xanchor": "center",
          "xref": "x",
          "y": 1,
          "yanchor": "bottom",
          "yref": "y domain"
         },
         {
          "font": {
           "size": 10
          },
          "showarrow": false,
          "text": "Byte 34",
          "x": 275.5,
          "xanchor": "center",
          "xref": "x",
          "y": 1,
          "yanchor": "bottom",
          "yref": "y domain"
         },
         {
          "font": {
           "size": 10
          },
          "showarrow": false,
          "text": "Byte 35",
          "x": 283.5,
          "xanchor": "center",
          "xref": "x",
          "y": 1,
          "yanchor": "bottom",
          "yref": "y domain"
         },
         {
          "font": {
           "size": 10
          },
          "showarrow": false,
          "text": "Byte 36",
          "x": 291.5,
          "xanchor": "center",
          "xref": "x",
          "y": 1,
          "yanchor": "bottom",
          "yref": "y domain"
         },
         {
          "font": {
           "size": 10
          },
          "showarrow": false,
          "text": "Byte 37",
          "x": 299.5,
          "xanchor": "center",
          "xref": "x",
          "y": 1,
          "yanchor": "bottom",
          "yref": "y domain"
         },
         {
          "font": {
           "size": 10
          },
          "showarrow": false,
          "text": "Byte 38",
          "x": 307.5,
          "xanchor": "center",
          "xref": "x",
          "y": 1,
          "yanchor": "bottom",
          "yref": "y domain"
         },
         {
          "font": {
           "size": 10
          },
          "showarrow": false,
          "text": "Byte 39",
          "x": 315.5,
          "xanchor": "center",
          "xref": "x",
          "y": 1,
          "yanchor": "bottom",
          "yref": "y domain"
         },
         {
          "font": {
           "size": 10
          },
          "showarrow": false,
          "text": "Byte 40",
          "x": 323.5,
          "xanchor": "center",
          "xref": "x",
          "y": 1,
          "yanchor": "bottom",
          "yref": "y domain"
         },
         {
          "font": {
           "size": 10
          },
          "showarrow": false,
          "text": "Byte 41",
          "x": 331.5,
          "xanchor": "center",
          "xref": "x",
          "y": 1,
          "yanchor": "bottom",
          "yref": "y domain"
         },
         {
          "font": {
           "size": 10
          },
          "showarrow": false,
          "text": "Byte 42",
          "x": 339.5,
          "xanchor": "center",
          "xref": "x",
          "y": 1,
          "yanchor": "bottom",
          "yref": "y domain"
         },
         {
          "font": {
           "size": 10
          },
          "showarrow": false,
          "text": "Byte 43",
          "x": 347.5,
          "xanchor": "center",
          "xref": "x",
          "y": 1,
          "yanchor": "bottom",
          "yref": "y domain"
         },
         {
          "font": {
           "size": 10
          },
          "showarrow": false,
          "text": "Byte 44",
          "x": 355.5,
          "xanchor": "center",
          "xref": "x",
          "y": 1,
          "yanchor": "bottom",
          "yref": "y domain"
         },
         {
          "font": {
           "size": 10
          },
          "showarrow": false,
          "text": "Byte 45",
          "x": 363.5,
          "xanchor": "center",
          "xref": "x",
          "y": 1,
          "yanchor": "bottom",
          "yref": "y domain"
         },
         {
          "font": {
           "size": 10
          },
          "showarrow": false,
          "text": "Byte 46",
          "x": 371.5,
          "xanchor": "center",
          "xref": "x",
          "y": 1,
          "yanchor": "bottom",
          "yref": "y domain"
         },
         {
          "font": {
           "size": 10
          },
          "showarrow": false,
          "text": "Byte 47",
          "x": 379.5,
          "xanchor": "center",
          "xref": "x",
          "y": 1,
          "yanchor": "bottom",
          "yref": "y domain"
         },
         {
          "font": {
           "size": 10
          },
          "showarrow": false,
          "text": "Byte 48",
          "x": 387.5,
          "xanchor": "center",
          "xref": "x",
          "y": 1,
          "yanchor": "bottom",
          "yref": "y domain"
         },
         {
          "font": {
           "size": 10
          },
          "showarrow": false,
          "text": "Byte 49",
          "x": 395.5,
          "xanchor": "center",
          "xref": "x",
          "y": 1,
          "yanchor": "bottom",
          "yref": "y domain"
         },
         {
          "font": {
           "size": 10
          },
          "showarrow": false,
          "text": "Byte 50",
          "x": 403.5,
          "xanchor": "center",
          "xref": "x",
          "y": 1,
          "yanchor": "bottom",
          "yref": "y domain"
         },
         {
          "font": {
           "size": 10
          },
          "showarrow": false,
          "text": "Byte 51",
          "x": 411.5,
          "xanchor": "center",
          "xref": "x",
          "y": 1,
          "yanchor": "bottom",
          "yref": "y domain"
         },
         {
          "font": {
           "size": 10
          },
          "showarrow": false,
          "text": "Byte 52",
          "x": 419.5,
          "xanchor": "center",
          "xref": "x",
          "y": 1,
          "yanchor": "bottom",
          "yref": "y domain"
         },
         {
          "font": {
           "size": 10
          },
          "showarrow": false,
          "text": "Byte 53",
          "x": 427.5,
          "xanchor": "center",
          "xref": "x",
          "y": 1,
          "yanchor": "bottom",
          "yref": "y domain"
         },
         {
          "font": {
           "size": 10
          },
          "showarrow": false,
          "text": "Byte 54",
          "x": 435.5,
          "xanchor": "center",
          "xref": "x",
          "y": 1,
          "yanchor": "bottom",
          "yref": "y domain"
         },
         {
          "font": {
           "size": 10
          },
          "showarrow": false,
          "text": "Byte 55",
          "x": 443.5,
          "xanchor": "center",
          "xref": "x",
          "y": 1,
          "yanchor": "bottom",
          "yref": "y domain"
         },
         {
          "font": {
           "size": 10
          },
          "showarrow": false,
          "text": "Byte 56",
          "x": 451.5,
          "xanchor": "center",
          "xref": "x",
          "y": 1,
          "yanchor": "bottom",
          "yref": "y domain"
         },
         {
          "font": {
           "size": 10
          },
          "showarrow": false,
          "text": "Byte 57",
          "x": 459.5,
          "xanchor": "center",
          "xref": "x",
          "y": 1,
          "yanchor": "bottom",
          "yref": "y domain"
         },
         {
          "font": {
           "size": 10
          },
          "showarrow": false,
          "text": "Byte 58",
          "x": 467.5,
          "xanchor": "center",
          "xref": "x",
          "y": 1,
          "yanchor": "bottom",
          "yref": "y domain"
         },
         {
          "font": {
           "size": 10
          },
          "showarrow": false,
          "text": "Byte 59",
          "x": 475.5,
          "xanchor": "center",
          "xref": "x",
          "y": 1,
          "yanchor": "bottom",
          "yref": "y domain"
         },
         {
          "font": {
           "size": 10
          },
          "showarrow": false,
          "text": "Byte 60",
          "x": 483.5,
          "xanchor": "center",
          "xref": "x",
          "y": 1,
          "yanchor": "bottom",
          "yref": "y domain"
         },
         {
          "font": {
           "size": 10
          },
          "showarrow": false,
          "text": "Byte 61",
          "x": 491.5,
          "xanchor": "center",
          "xref": "x",
          "y": 1,
          "yanchor": "bottom",
          "yref": "y domain"
         },
         {
          "font": {
           "size": 10
          },
          "showarrow": false,
          "text": "Byte 62",
          "x": 499.5,
          "xanchor": "center",
          "xref": "x",
          "y": 1,
          "yanchor": "bottom",
          "yref": "y domain"
         },
         {
          "font": {
           "size": 10
          },
          "showarrow": false,
          "text": "Byte 63",
          "x": 507.5,
          "xanchor": "center",
          "xref": "x",
          "y": 1,
          "yanchor": "bottom",
          "yref": "y domain"
         },
         {
          "showarrow": false,
          "text": "SIG_BE_1",
          "x": 3.5,
          "xanchor": "left",
          "xref": "x",
          "y": 1,
          "yanchor": "top",
          "yref": "y domain"
         },
         {
          "showarrow": false,
          "text": "SIG_BE_2",
          "x": 7.5,
          "xanchor": "left",
          "xref": "x",
          "y": 1,
          "yanchor": "top",
          "yref": "y domain"
         },
         {
          "showarrow": false,
          "text": "SIG_BE_4",
          "x": 18.5,
          "xanchor": "left",
          "xref": "x",
          "y": 1,
          "yanchor": "top",
          "yref": "y domain"
         },
         {
          "showarrow": false,
          "text": "SIG_BE_6",
          "x": 35.5,
          "xanchor": "left",
          "xref": "x",
          "y": 1,
          "yanchor": "top",
          "yref": "y domain"
         },
         {
          "showarrow": false,
          "text": "SIG_BE_7",
          "x": 39.5,
          "xanchor": "left",
          "xref": "x",
          "y": 1,
          "yanchor": "top",
          "yref": "y domain"
         },
         {
          "showarrow": false,
          "text": "SIG_BE_9",
          "x": 50.5,
          "xanchor": "left",
          "xref": "x",
          "y": 1,
          "yanchor": "top",
          "yref": "y domain"
         },
         {
          "showarrow": false,
          "text": "SIG_BE_11",
          "x": 67.5,
          "xanchor": "left",
          "xref": "x",
          "y": 1,
          "yanchor": "top",
          "yref": "y domain"
         },
         {
          "showarrow": false,
          "text": "SIG_BE_12",
          "x": 71.5,
          "xanchor": "left",
          "xref": "x",
          "y": 1,
          "yanchor": "top",
          "yref": "y domain"
         },
         {
          "showarrow": false,
          "text": "SIG_BE_14",
          "x": 99.5,
          "xanchor": "left",
          "xref": "x",
          "y": 1,
          "yanchor": "top",
          "yref": "y domain"
         },
         {
          "showarrow": false,
          "text": "SIG_BE_15",
          "x": 111.5,
          "xanchor": "left",
          "xref": "x",
          "y": 1,
          "yanchor": "top",
          "yref": "y domain"
         },
         {
          "showarrow": false,
          "text": "SIG_BE_16",
          "x": 112.5,
          "xanchor": "left",
          "xref": "x",
          "y": 1,
          "yanchor": "top",
          "yref": "y domain"
         },
         {
          "showarrow": false,
          "text": "SIG_BE_17",
          "x": 115.5,
          "xanchor": "left",
          "xref": "x",
          "y": 1,
          "yanchor": "top",
          "yref": "y domain"
         },
         {
          "showarrow": false,
          "text": "SIG_BE_19",
          "x": 129.5,
          "xanchor": "left",
          "xref": "x",
          "y": 1,
          "yanchor": "top",
          "yref": "y domain"
         },
         {
          "showarrow": false,
          "text": "SIG_BE_21",
          "x": 131.5,
          "xanchor": "left",
          "xref": "x",
          "y": 1,
          "yanchor": "top",
          "yref": "y domain"
         },
         {
          "showarrow": false,
          "text": "SIG_BE_23",
          "x": 179.5,
          "xanchor": "left",
          "xref": "x",
          "y": 1,
          "yanchor": "top",
          "yref": "y domain"
         },
         {
          "showarrow": false,
          "text": "SIG_BE_24",
          "x": 191.5,
          "xanchor": "left",
          "xref": "x",
          "y": 1,
          "yanchor": "top",
          "yref": "y domain"
         },
         {
          "showarrow": false,
          "text": "SIG_BE_26",
          "x": 196.5,
          "xanchor": "left",
          "xref": "x",
          "y": 1,
          "yanchor": "top",
          "yref": "y domain"
         },
         {
          "showarrow": false,
          "text": "SIG_BE_28",
          "x": 216.5,
          "xanchor": "left",
          "xref": "x",
          "y": 1,
          "yanchor": "top",
          "yref": "y domain"
         },
         {
          "showarrow": false,
          "text": "SIG_BE_29",
          "x": 223.5,
          "xanchor": "left",
          "xref": "x",
          "y": 1,
          "yanchor": "top",
          "yref": "y domain"
         },
         {
          "showarrow": false,
          "text": "SIG_BE_31",
          "x": 225.5,
          "xanchor": "left",
          "xref": "x",
          "y": 1,
          "yanchor": "top",
          "yref": "y domain"
         },
         {
          "showarrow": false,
          "text": "SIG_BE_33",
          "x": 228.5,
          "xanchor": "left",
          "xref": "x",
          "y": 1,
          "yanchor": "top",
          "yref": "y domain"
         },
         {
          "showarrow": false,
          "text": "SIG_BE_34",
          "x": 239.5,
          "xanchor": "left",
          "xref": "x",
          "y": 1,
          "yanchor": "top",
          "yref": "y domain"
         },
         {
          "showarrow": false,
          "text": "SIG_BE_36",
          "x": 244.5,
          "xanchor": "left",
          "xref": "x",
          "y": 1,
          "yanchor": "top",
          "yref": "y domain"
         },
         {
          "showarrow": false,
          "text": "SIG_BE_38",
          "x": 258.5,
          "xanchor": "left",
          "xref": "x",
          "y": 1,
          "yanchor": "top",
          "yref": "y domain"
         },
         {
          "showarrow": false,
          "text": "SIG_BE_39",
          "x": 259.5,
          "xanchor": "left",
          "xref": "x",
          "y": 1,
          "yanchor": "top",
          "yref": "y domain"
         },
         {
          "showarrow": false,
          "text": "SIG_BE_41",
          "x": 272.5,
          "xanchor": "left",
          "xref": "x",
          "y": 1,
          "yanchor": "top",
          "yref": "y domain"
         },
         {
          "showarrow": false,
          "text": "SIG_BE_43",
          "x": 275.5,
          "xanchor": "left",
          "xref": "x",
          "y": 1,
          "yanchor": "top",
          "yref": "y domain"
         },
         {
          "showarrow": false,
          "text": "SIG_BE_45",
          "x": 290.5,
          "xanchor": "left",
          "xref": "x",
          "y": 1,
          "yanchor": "top",
          "yref": "y domain"
         },
         {
          "showarrow": false,
          "text": "SIG_BE_47",
          "x": 292.5,
          "xanchor": "left",
          "xref": "x",
          "y": 1,
          "yanchor": "top",
          "yref": "y domain"
         },
         {
          "showarrow": false,
          "text": "SIG_BE_49",
          "x": 308.5,
          "xanchor": "left",
          "xref": "x",
          "y": 1,
          "yanchor": "top",
          "yref": "y domain"
         },
         {
          "showarrow": false,
          "text": "SIG_BE_51",
          "x": 335.5,
          "xanchor": "left",
          "xref": "x",
          "y": 1,
          "yanchor": "top",
          "yref": "y domain"
         },
         {
          "showarrow": false,
          "text": "SIG_BE_53",
          "x": 364.5,
          "xanchor": "left",
          "xref": "x",
          "y": 1,
          "yanchor": "top",
          "yref": "y domain"
         },
         {
          "showarrow": false,
          "text": "SIG_BE_55",
          "x": 370.5,
          "xanchor": "left",
          "xref": "x",
          "y": 1,
          "yanchor": "top",
          "yref": "y domain"
         },
         {
          "showarrow": false,
          "text": "SIG_BE_57",
          "x": 375.5,
          "xanchor": "left",
          "xref": "x",
          "y": 1,
          "yanchor": "top",
          "yref": "y domain"
         },
         {
          "showarrow": false,
          "text": "SIG_BE_59",
          "x": 398.5,
          "xanchor": "left",
          "xref": "x",
          "y": 1,
          "yanchor": "top",
          "yref": "y domain"
         },
         {
          "showarrow": false,
          "text": "SIG_BE_61",
          "x": 435.5,
          "xanchor": "left",
          "xref": "x",
          "y": 1,
          "yanchor": "top",
          "yref": "y domain"
         }
        ],
        "legend": {
         "font": {
          "size": 8
         },
         "orientation": "h",
         "x": 0.5,
         "xanchor": "center",
         "y": -0.2
        },
        "shapes": [
         {
          "line": {
           "color": "gray",
           "dash": "dash",
           "width": 1
          },
          "type": "line",
          "x0": 7.5,
          "x1": 7.5,
          "y0": 0,
          "y1": 1.0498813559322036
         },
         {
          "line": {
           "color": "gray",
           "dash": "dash",
           "width": 1
          },
          "type": "line",
          "x0": 15.5,
          "x1": 15.5,
          "y0": 0,
          "y1": 1.0498813559322036
         },
         {
          "line": {
           "color": "gray",
           "dash": "dash",
           "width": 1
          },
          "type": "line",
          "x0": 23.5,
          "x1": 23.5,
          "y0": 0,
          "y1": 1.0498813559322036
         },
         {
          "line": {
           "color": "gray",
           "dash": "dash",
           "width": 1
          },
          "type": "line",
          "x0": 31.5,
          "x1": 31.5,
          "y0": 0,
          "y1": 1.0498813559322036
         },
         {
          "line": {
           "color": "gray",
           "dash": "dash",
           "width": 1
          },
          "type": "line",
          "x0": 39.5,
          "x1": 39.5,
          "y0": 0,
          "y1": 1.0498813559322036
         },
         {
          "line": {
           "color": "gray",
           "dash": "dash",
           "width": 1
          },
          "type": "line",
          "x0": 47.5,
          "x1": 47.5,
          "y0": 0,
          "y1": 1.0498813559322036
         },
         {
          "line": {
           "color": "gray",
           "dash": "dash",
           "width": 1
          },
          "type": "line",
          "x0": 55.5,
          "x1": 55.5,
          "y0": 0,
          "y1": 1.0498813559322036
         },
         {
          "line": {
           "color": "gray",
           "dash": "dash",
           "width": 1
          },
          "type": "line",
          "x0": 63.5,
          "x1": 63.5,
          "y0": 0,
          "y1": 1.0498813559322036
         },
         {
          "line": {
           "color": "gray",
           "dash": "dash",
           "width": 1
          },
          "type": "line",
          "x0": 71.5,
          "x1": 71.5,
          "y0": 0,
          "y1": 1.0498813559322036
         },
         {
          "line": {
           "color": "gray",
           "dash": "dash",
           "width": 1
          },
          "type": "line",
          "x0": 79.5,
          "x1": 79.5,
          "y0": 0,
          "y1": 1.0498813559322036
         },
         {
          "line": {
           "color": "gray",
           "dash": "dash",
           "width": 1
          },
          "type": "line",
          "x0": 87.5,
          "x1": 87.5,
          "y0": 0,
          "y1": 1.0498813559322036
         },
         {
          "line": {
           "color": "gray",
           "dash": "dash",
           "width": 1
          },
          "type": "line",
          "x0": 95.5,
          "x1": 95.5,
          "y0": 0,
          "y1": 1.0498813559322036
         },
         {
          "line": {
           "color": "gray",
           "dash": "dash",
           "width": 1
          },
          "type": "line",
          "x0": 103.5,
          "x1": 103.5,
          "y0": 0,
          "y1": 1.0498813559322036
         },
         {
          "line": {
           "color": "gray",
           "dash": "dash",
           "width": 1
          },
          "type": "line",
          "x0": 111.5,
          "x1": 111.5,
          "y0": 0,
          "y1": 1.0498813559322036
         },
         {
          "line": {
           "color": "gray",
           "dash": "dash",
           "width": 1
          },
          "type": "line",
          "x0": 119.5,
          "x1": 119.5,
          "y0": 0,
          "y1": 1.0498813559322036
         },
         {
          "line": {
           "color": "gray",
           "dash": "dash",
           "width": 1
          },
          "type": "line",
          "x0": 127.5,
          "x1": 127.5,
          "y0": 0,
          "y1": 1.0498813559322036
         },
         {
          "line": {
           "color": "gray",
           "dash": "dash",
           "width": 1
          },
          "type": "line",
          "x0": 135.5,
          "x1": 135.5,
          "y0": 0,
          "y1": 1.0498813559322036
         },
         {
          "line": {
           "color": "gray",
           "dash": "dash",
           "width": 1
          },
          "type": "line",
          "x0": 143.5,
          "x1": 143.5,
          "y0": 0,
          "y1": 1.0498813559322036
         },
         {
          "line": {
           "color": "gray",
           "dash": "dash",
           "width": 1
          },
          "type": "line",
          "x0": 151.5,
          "x1": 151.5,
          "y0": 0,
          "y1": 1.0498813559322036
         },
         {
          "line": {
           "color": "gray",
           "dash": "dash",
           "width": 1
          },
          "type": "line",
          "x0": 159.5,
          "x1": 159.5,
          "y0": 0,
          "y1": 1.0498813559322036
         },
         {
          "line": {
           "color": "gray",
           "dash": "dash",
           "width": 1
          },
          "type": "line",
          "x0": 167.5,
          "x1": 167.5,
          "y0": 0,
          "y1": 1.0498813559322036
         },
         {
          "line": {
           "color": "gray",
           "dash": "dash",
           "width": 1
          },
          "type": "line",
          "x0": 175.5,
          "x1": 175.5,
          "y0": 0,
          "y1": 1.0498813559322036
         },
         {
          "line": {
           "color": "gray",
           "dash": "dash",
           "width": 1
          },
          "type": "line",
          "x0": 183.5,
          "x1": 183.5,
          "y0": 0,
          "y1": 1.0498813559322036
         },
         {
          "line": {
           "color": "gray",
           "dash": "dash",
           "width": 1
          },
          "type": "line",
          "x0": 191.5,
          "x1": 191.5,
          "y0": 0,
          "y1": 1.0498813559322036
         },
         {
          "line": {
           "color": "gray",
           "dash": "dash",
           "width": 1
          },
          "type": "line",
          "x0": 199.5,
          "x1": 199.5,
          "y0": 0,
          "y1": 1.0498813559322036
         },
         {
          "line": {
           "color": "gray",
           "dash": "dash",
           "width": 1
          },
          "type": "line",
          "x0": 207.5,
          "x1": 207.5,
          "y0": 0,
          "y1": 1.0498813559322036
         },
         {
          "line": {
           "color": "gray",
           "dash": "dash",
           "width": 1
          },
          "type": "line",
          "x0": 215.5,
          "x1": 215.5,
          "y0": 0,
          "y1": 1.0498813559322036
         },
         {
          "line": {
           "color": "gray",
           "dash": "dash",
           "width": 1
          },
          "type": "line",
          "x0": 223.5,
          "x1": 223.5,
          "y0": 0,
          "y1": 1.0498813559322036
         },
         {
          "line": {
           "color": "gray",
           "dash": "dash",
           "width": 1
          },
          "type": "line",
          "x0": 231.5,
          "x1": 231.5,
          "y0": 0,
          "y1": 1.0498813559322036
         },
         {
          "line": {
           "color": "gray",
           "dash": "dash",
           "width": 1
          },
          "type": "line",
          "x0": 239.5,
          "x1": 239.5,
          "y0": 0,
          "y1": 1.0498813559322036
         },
         {
          "line": {
           "color": "gray",
           "dash": "dash",
           "width": 1
          },
          "type": "line",
          "x0": 247.5,
          "x1": 247.5,
          "y0": 0,
          "y1": 1.0498813559322036
         },
         {
          "line": {
           "color": "gray",
           "dash": "dash",
           "width": 1
          },
          "type": "line",
          "x0": 255.5,
          "x1": 255.5,
          "y0": 0,
          "y1": 1.0498813559322036
         },
         {
          "line": {
           "color": "gray",
           "dash": "dash",
           "width": 1
          },
          "type": "line",
          "x0": 263.5,
          "x1": 263.5,
          "y0": 0,
          "y1": 1.0498813559322036
         },
         {
          "line": {
           "color": "gray",
           "dash": "dash",
           "width": 1
          },
          "type": "line",
          "x0": 271.5,
          "x1": 271.5,
          "y0": 0,
          "y1": 1.0498813559322036
         },
         {
          "line": {
           "color": "gray",
           "dash": "dash",
           "width": 1
          },
          "type": "line",
          "x0": 279.5,
          "x1": 279.5,
          "y0": 0,
          "y1": 1.0498813559322036
         },
         {
          "line": {
           "color": "gray",
           "dash": "dash",
           "width": 1
          },
          "type": "line",
          "x0": 287.5,
          "x1": 287.5,
          "y0": 0,
          "y1": 1.0498813559322036
         },
         {
          "line": {
           "color": "gray",
           "dash": "dash",
           "width": 1
          },
          "type": "line",
          "x0": 295.5,
          "x1": 295.5,
          "y0": 0,
          "y1": 1.0498813559322036
         },
         {
          "line": {
           "color": "gray",
           "dash": "dash",
           "width": 1
          },
          "type": "line",
          "x0": 303.5,
          "x1": 303.5,
          "y0": 0,
          "y1": 1.0498813559322036
         },
         {
          "line": {
           "color": "gray",
           "dash": "dash",
           "width": 1
          },
          "type": "line",
          "x0": 311.5,
          "x1": 311.5,
          "y0": 0,
          "y1": 1.0498813559322036
         },
         {
          "line": {
           "color": "gray",
           "dash": "dash",
           "width": 1
          },
          "type": "line",
          "x0": 319.5,
          "x1": 319.5,
          "y0": 0,
          "y1": 1.0498813559322036
         },
         {
          "line": {
           "color": "gray",
           "dash": "dash",
           "width": 1
          },
          "type": "line",
          "x0": 327.5,
          "x1": 327.5,
          "y0": 0,
          "y1": 1.0498813559322036
         },
         {
          "line": {
           "color": "gray",
           "dash": "dash",
           "width": 1
          },
          "type": "line",
          "x0": 335.5,
          "x1": 335.5,
          "y0": 0,
          "y1": 1.0498813559322036
         },
         {
          "line": {
           "color": "gray",
           "dash": "dash",
           "width": 1
          },
          "type": "line",
          "x0": 343.5,
          "x1": 343.5,
          "y0": 0,
          "y1": 1.0498813559322036
         },
         {
          "line": {
           "color": "gray",
           "dash": "dash",
           "width": 1
          },
          "type": "line",
          "x0": 351.5,
          "x1": 351.5,
          "y0": 0,
          "y1": 1.0498813559322036
         },
         {
          "line": {
           "color": "gray",
           "dash": "dash",
           "width": 1
          },
          "type": "line",
          "x0": 359.5,
          "x1": 359.5,
          "y0": 0,
          "y1": 1.0498813559322036
         },
         {
          "line": {
           "color": "gray",
           "dash": "dash",
           "width": 1
          },
          "type": "line",
          "x0": 367.5,
          "x1": 367.5,
          "y0": 0,
          "y1": 1.0498813559322036
         },
         {
          "line": {
           "color": "gray",
           "dash": "dash",
           "width": 1
          },
          "type": "line",
          "x0": 375.5,
          "x1": 375.5,
          "y0": 0,
          "y1": 1.0498813559322036
         },
         {
          "line": {
           "color": "gray",
           "dash": "dash",
           "width": 1
          },
          "type": "line",
          "x0": 383.5,
          "x1": 383.5,
          "y0": 0,
          "y1": 1.0498813559322036
         },
         {
          "line": {
           "color": "gray",
           "dash": "dash",
           "width": 1
          },
          "type": "line",
          "x0": 391.5,
          "x1": 391.5,
          "y0": 0,
          "y1": 1.0498813559322036
         },
         {
          "line": {
           "color": "gray",
           "dash": "dash",
           "width": 1
          },
          "type": "line",
          "x0": 399.5,
          "x1": 399.5,
          "y0": 0,
          "y1": 1.0498813559322036
         },
         {
          "line": {
           "color": "gray",
           "dash": "dash",
           "width": 1
          },
          "type": "line",
          "x0": 407.5,
          "x1": 407.5,
          "y0": 0,
          "y1": 1.0498813559322036
         },
         {
          "line": {
           "color": "gray",
           "dash": "dash",
           "width": 1
          },
          "type": "line",
          "x0": 415.5,
          "x1": 415.5,
          "y0": 0,
          "y1": 1.0498813559322036
         },
         {
          "line": {
           "color": "gray",
           "dash": "dash",
           "width": 1
          },
          "type": "line",
          "x0": 423.5,
          "x1": 423.5,
          "y0": 0,
          "y1": 1.0498813559322036
         },
         {
          "line": {
           "color": "gray",
           "dash": "dash",
           "width": 1
          },
          "type": "line",
          "x0": 431.5,
          "x1": 431.5,
          "y0": 0,
          "y1": 1.0498813559322036
         },
         {
          "line": {
           "color": "gray",
           "dash": "dash",
           "width": 1
          },
          "type": "line",
          "x0": 439.5,
          "x1": 439.5,
          "y0": 0,
          "y1": 1.0498813559322036
         },
         {
          "line": {
           "color": "gray",
           "dash": "dash",
           "width": 1
          },
          "type": "line",
          "x0": 447.5,
          "x1": 447.5,
          "y0": 0,
          "y1": 1.0498813559322036
         },
         {
          "line": {
           "color": "gray",
           "dash": "dash",
           "width": 1
          },
          "type": "line",
          "x0": 455.5,
          "x1": 455.5,
          "y0": 0,
          "y1": 1.0498813559322036
         },
         {
          "line": {
           "color": "gray",
           "dash": "dash",
           "width": 1
          },
          "type": "line",
          "x0": 463.5,
          "x1": 463.5,
          "y0": 0,
          "y1": 1.0498813559322036
         },
         {
          "line": {
           "color": "gray",
           "dash": "dash",
           "width": 1
          },
          "type": "line",
          "x0": 471.5,
          "x1": 471.5,
          "y0": 0,
          "y1": 1.0498813559322036
         },
         {
          "line": {
           "color": "gray",
           "dash": "dash",
           "width": 1
          },
          "type": "line",
          "x0": 479.5,
          "x1": 479.5,
          "y0": 0,
          "y1": 1.0498813559322036
         },
         {
          "line": {
           "color": "gray",
           "dash": "dash",
           "width": 1
          },
          "type": "line",
          "x0": 487.5,
          "x1": 487.5,
          "y0": 0,
          "y1": 1.0498813559322036
         },
         {
          "line": {
           "color": "gray",
           "dash": "dash",
           "width": 1
          },
          "type": "line",
          "x0": 495.5,
          "x1": 495.5,
          "y0": 0,
          "y1": 1.0498813559322036
         },
         {
          "line": {
           "color": "gray",
           "dash": "dash",
           "width": 1
          },
          "type": "line",
          "x0": 503.5,
          "x1": 503.5,
          "y0": 0,
          "y1": 1.0498813559322036
         },
         {
          "line": {
           "color": "black",
           "width": 1
          },
          "opacity": 0,
          "type": "rect",
          "x0": -0.5,
          "x1": 7.5,
          "xref": "x",
          "y0": 0,
          "y1": 1,
          "yref": "y domain"
         },
         {
          "line": {
           "color": "black",
           "width": 1
          },
          "opacity": 0,
          "type": "rect",
          "x0": 7.5,
          "x1": 15.5,
          "xref": "x",
          "y0": 0,
          "y1": 1,
          "yref": "y domain"
         },
         {
          "line": {
           "color": "black",
           "width": 1
          },
          "opacity": 0,
          "type": "rect",
          "x0": 15.5,
          "x1": 23.5,
          "xref": "x",
          "y0": 0,
          "y1": 1,
          "yref": "y domain"
         },
         {
          "line": {
           "color": "black",
           "width": 1
          },
          "opacity": 0,
          "type": "rect",
          "x0": 23.5,
          "x1": 31.5,
          "xref": "x",
          "y0": 0,
          "y1": 1,
          "yref": "y domain"
         },
         {
          "line": {
           "color": "black",
           "width": 1
          },
          "opacity": 0,
          "type": "rect",
          "x0": 31.5,
          "x1": 39.5,
          "xref": "x",
          "y0": 0,
          "y1": 1,
          "yref": "y domain"
         },
         {
          "line": {
           "color": "black",
           "width": 1
          },
          "opacity": 0,
          "type": "rect",
          "x0": 39.5,
          "x1": 47.5,
          "xref": "x",
          "y0": 0,
          "y1": 1,
          "yref": "y domain"
         },
         {
          "line": {
           "color": "black",
           "width": 1
          },
          "opacity": 0,
          "type": "rect",
          "x0": 47.5,
          "x1": 55.5,
          "xref": "x",
          "y0": 0,
          "y1": 1,
          "yref": "y domain"
         },
         {
          "line": {
           "color": "black",
           "width": 1
          },
          "opacity": 0,
          "type": "rect",
          "x0": 55.5,
          "x1": 63.5,
          "xref": "x",
          "y0": 0,
          "y1": 1,
          "yref": "y domain"
         },
         {
          "line": {
           "color": "black",
           "width": 1
          },
          "opacity": 0,
          "type": "rect",
          "x0": 63.5,
          "x1": 71.5,
          "xref": "x",
          "y0": 0,
          "y1": 1,
          "yref": "y domain"
         },
         {
          "line": {
           "color": "black",
           "width": 1
          },
          "opacity": 0,
          "type": "rect",
          "x0": 71.5,
          "x1": 79.5,
          "xref": "x",
          "y0": 0,
          "y1": 1,
          "yref": "y domain"
         },
         {
          "line": {
           "color": "black",
           "width": 1
          },
          "opacity": 0,
          "type": "rect",
          "x0": 79.5,
          "x1": 87.5,
          "xref": "x",
          "y0": 0,
          "y1": 1,
          "yref": "y domain"
         },
         {
          "line": {
           "color": "black",
           "width": 1
          },
          "opacity": 0,
          "type": "rect",
          "x0": 87.5,
          "x1": 95.5,
          "xref": "x",
          "y0": 0,
          "y1": 1,
          "yref": "y domain"
         },
         {
          "line": {
           "color": "black",
           "width": 1
          },
          "opacity": 0,
          "type": "rect",
          "x0": 95.5,
          "x1": 103.5,
          "xref": "x",
          "y0": 0,
          "y1": 1,
          "yref": "y domain"
         },
         {
          "line": {
           "color": "black",
           "width": 1
          },
          "opacity": 0,
          "type": "rect",
          "x0": 103.5,
          "x1": 111.5,
          "xref": "x",
          "y0": 0,
          "y1": 1,
          "yref": "y domain"
         },
         {
          "line": {
           "color": "black",
           "width": 1
          },
          "opacity": 0,
          "type": "rect",
          "x0": 111.5,
          "x1": 119.5,
          "xref": "x",
          "y0": 0,
          "y1": 1,
          "yref": "y domain"
         },
         {
          "line": {
           "color": "black",
           "width": 1
          },
          "opacity": 0,
          "type": "rect",
          "x0": 119.5,
          "x1": 127.5,
          "xref": "x",
          "y0": 0,
          "y1": 1,
          "yref": "y domain"
         },
         {
          "line": {
           "color": "black",
           "width": 1
          },
          "opacity": 0,
          "type": "rect",
          "x0": 127.5,
          "x1": 135.5,
          "xref": "x",
          "y0": 0,
          "y1": 1,
          "yref": "y domain"
         },
         {
          "line": {
           "color": "black",
           "width": 1
          },
          "opacity": 0,
          "type": "rect",
          "x0": 135.5,
          "x1": 143.5,
          "xref": "x",
          "y0": 0,
          "y1": 1,
          "yref": "y domain"
         },
         {
          "line": {
           "color": "black",
           "width": 1
          },
          "opacity": 0,
          "type": "rect",
          "x0": 143.5,
          "x1": 151.5,
          "xref": "x",
          "y0": 0,
          "y1": 1,
          "yref": "y domain"
         },
         {
          "line": {
           "color": "black",
           "width": 1
          },
          "opacity": 0,
          "type": "rect",
          "x0": 151.5,
          "x1": 159.5,
          "xref": "x",
          "y0": 0,
          "y1": 1,
          "yref": "y domain"
         },
         {
          "line": {
           "color": "black",
           "width": 1
          },
          "opacity": 0,
          "type": "rect",
          "x0": 159.5,
          "x1": 167.5,
          "xref": "x",
          "y0": 0,
          "y1": 1,
          "yref": "y domain"
         },
         {
          "line": {
           "color": "black",
           "width": 1
          },
          "opacity": 0,
          "type": "rect",
          "x0": 167.5,
          "x1": 175.5,
          "xref": "x",
          "y0": 0,
          "y1": 1,
          "yref": "y domain"
         },
         {
          "line": {
           "color": "black",
           "width": 1
          },
          "opacity": 0,
          "type": "rect",
          "x0": 175.5,
          "x1": 183.5,
          "xref": "x",
          "y0": 0,
          "y1": 1,
          "yref": "y domain"
         },
         {
          "line": {
           "color": "black",
           "width": 1
          },
          "opacity": 0,
          "type": "rect",
          "x0": 183.5,
          "x1": 191.5,
          "xref": "x",
          "y0": 0,
          "y1": 1,
          "yref": "y domain"
         },
         {
          "line": {
           "color": "black",
           "width": 1
          },
          "opacity": 0,
          "type": "rect",
          "x0": 191.5,
          "x1": 199.5,
          "xref": "x",
          "y0": 0,
          "y1": 1,
          "yref": "y domain"
         },
         {
          "line": {
           "color": "black",
           "width": 1
          },
          "opacity": 0,
          "type": "rect",
          "x0": 199.5,
          "x1": 207.5,
          "xref": "x",
          "y0": 0,
          "y1": 1,
          "yref": "y domain"
         },
         {
          "line": {
           "color": "black",
           "width": 1
          },
          "opacity": 0,
          "type": "rect",
          "x0": 207.5,
          "x1": 215.5,
          "xref": "x",
          "y0": 0,
          "y1": 1,
          "yref": "y domain"
         },
         {
          "line": {
           "color": "black",
           "width": 1
          },
          "opacity": 0,
          "type": "rect",
          "x0": 215.5,
          "x1": 223.5,
          "xref": "x",
          "y0": 0,
          "y1": 1,
          "yref": "y domain"
         },
         {
          "line": {
           "color": "black",
           "width": 1
          },
          "opacity": 0,
          "type": "rect",
          "x0": 223.5,
          "x1": 231.5,
          "xref": "x",
          "y0": 0,
          "y1": 1,
          "yref": "y domain"
         },
         {
          "line": {
           "color": "black",
           "width": 1
          },
          "opacity": 0,
          "type": "rect",
          "x0": 231.5,
          "x1": 239.5,
          "xref": "x",
          "y0": 0,
          "y1": 1,
          "yref": "y domain"
         },
         {
          "line": {
           "color": "black",
           "width": 1
          },
          "opacity": 0,
          "type": "rect",
          "x0": 239.5,
          "x1": 247.5,
          "xref": "x",
          "y0": 0,
          "y1": 1,
          "yref": "y domain"
         },
         {
          "line": {
           "color": "black",
           "width": 1
          },
          "opacity": 0,
          "type": "rect",
          "x0": 247.5,
          "x1": 255.5,
          "xref": "x",
          "y0": 0,
          "y1": 1,
          "yref": "y domain"
         },
         {
          "line": {
           "color": "black",
           "width": 1
          },
          "opacity": 0,
          "type": "rect",
          "x0": 255.5,
          "x1": 263.5,
          "xref": "x",
          "y0": 0,
          "y1": 1,
          "yref": "y domain"
         },
         {
          "line": {
           "color": "black",
           "width": 1
          },
          "opacity": 0,
          "type": "rect",
          "x0": 263.5,
          "x1": 271.5,
          "xref": "x",
          "y0": 0,
          "y1": 1,
          "yref": "y domain"
         },
         {
          "line": {
           "color": "black",
           "width": 1
          },
          "opacity": 0,
          "type": "rect",
          "x0": 271.5,
          "x1": 279.5,
          "xref": "x",
          "y0": 0,
          "y1": 1,
          "yref": "y domain"
         },
         {
          "line": {
           "color": "black",
           "width": 1
          },
          "opacity": 0,
          "type": "rect",
          "x0": 279.5,
          "x1": 287.5,
          "xref": "x",
          "y0": 0,
          "y1": 1,
          "yref": "y domain"
         },
         {
          "line": {
           "color": "black",
           "width": 1
          },
          "opacity": 0,
          "type": "rect",
          "x0": 287.5,
          "x1": 295.5,
          "xref": "x",
          "y0": 0,
          "y1": 1,
          "yref": "y domain"
         },
         {
          "line": {
           "color": "black",
           "width": 1
          },
          "opacity": 0,
          "type": "rect",
          "x0": 295.5,
          "x1": 303.5,
          "xref": "x",
          "y0": 0,
          "y1": 1,
          "yref": "y domain"
         },
         {
          "line": {
           "color": "black",
           "width": 1
          },
          "opacity": 0,
          "type": "rect",
          "x0": 303.5,
          "x1": 311.5,
          "xref": "x",
          "y0": 0,
          "y1": 1,
          "yref": "y domain"
         },
         {
          "line": {
           "color": "black",
           "width": 1
          },
          "opacity": 0,
          "type": "rect",
          "x0": 311.5,
          "x1": 319.5,
          "xref": "x",
          "y0": 0,
          "y1": 1,
          "yref": "y domain"
         },
         {
          "line": {
           "color": "black",
           "width": 1
          },
          "opacity": 0,
          "type": "rect",
          "x0": 319.5,
          "x1": 327.5,
          "xref": "x",
          "y0": 0,
          "y1": 1,
          "yref": "y domain"
         },
         {
          "line": {
           "color": "black",
           "width": 1
          },
          "opacity": 0,
          "type": "rect",
          "x0": 327.5,
          "x1": 335.5,
          "xref": "x",
          "y0": 0,
          "y1": 1,
          "yref": "y domain"
         },
         {
          "line": {
           "color": "black",
           "width": 1
          },
          "opacity": 0,
          "type": "rect",
          "x0": 335.5,
          "x1": 343.5,
          "xref": "x",
          "y0": 0,
          "y1": 1,
          "yref": "y domain"
         },
         {
          "line": {
           "color": "black",
           "width": 1
          },
          "opacity": 0,
          "type": "rect",
          "x0": 343.5,
          "x1": 351.5,
          "xref": "x",
          "y0": 0,
          "y1": 1,
          "yref": "y domain"
         },
         {
          "line": {
           "color": "black",
           "width": 1
          },
          "opacity": 0,
          "type": "rect",
          "x0": 351.5,
          "x1": 359.5,
          "xref": "x",
          "y0": 0,
          "y1": 1,
          "yref": "y domain"
         },
         {
          "line": {
           "color": "black",
           "width": 1
          },
          "opacity": 0,
          "type": "rect",
          "x0": 359.5,
          "x1": 367.5,
          "xref": "x",
          "y0": 0,
          "y1": 1,
          "yref": "y domain"
         },
         {
          "line": {
           "color": "black",
           "width": 1
          },
          "opacity": 0,
          "type": "rect",
          "x0": 367.5,
          "x1": 375.5,
          "xref": "x",
          "y0": 0,
          "y1": 1,
          "yref": "y domain"
         },
         {
          "line": {
           "color": "black",
           "width": 1
          },
          "opacity": 0,
          "type": "rect",
          "x0": 375.5,
          "x1": 383.5,
          "xref": "x",
          "y0": 0,
          "y1": 1,
          "yref": "y domain"
         },
         {
          "line": {
           "color": "black",
           "width": 1
          },
          "opacity": 0,
          "type": "rect",
          "x0": 383.5,
          "x1": 391.5,
          "xref": "x",
          "y0": 0,
          "y1": 1,
          "yref": "y domain"
         },
         {
          "line": {
           "color": "black",
           "width": 1
          },
          "opacity": 0,
          "type": "rect",
          "x0": 391.5,
          "x1": 399.5,
          "xref": "x",
          "y0": 0,
          "y1": 1,
          "yref": "y domain"
         },
         {
          "line": {
           "color": "black",
           "width": 1
          },
          "opacity": 0,
          "type": "rect",
          "x0": 399.5,
          "x1": 407.5,
          "xref": "x",
          "y0": 0,
          "y1": 1,
          "yref": "y domain"
         },
         {
          "line": {
           "color": "black",
           "width": 1
          },
          "opacity": 0,
          "type": "rect",
          "x0": 407.5,
          "x1": 415.5,
          "xref": "x",
          "y0": 0,
          "y1": 1,
          "yref": "y domain"
         },
         {
          "line": {
           "color": "black",
           "width": 1
          },
          "opacity": 0,
          "type": "rect",
          "x0": 415.5,
          "x1": 423.5,
          "xref": "x",
          "y0": 0,
          "y1": 1,
          "yref": "y domain"
         },
         {
          "line": {
           "color": "black",
           "width": 1
          },
          "opacity": 0,
          "type": "rect",
          "x0": 423.5,
          "x1": 431.5,
          "xref": "x",
          "y0": 0,
          "y1": 1,
          "yref": "y domain"
         },
         {
          "line": {
           "color": "black",
           "width": 1
          },
          "opacity": 0,
          "type": "rect",
          "x0": 431.5,
          "x1": 439.5,
          "xref": "x",
          "y0": 0,
          "y1": 1,
          "yref": "y domain"
         },
         {
          "line": {
           "color": "black",
           "width": 1
          },
          "opacity": 0,
          "type": "rect",
          "x0": 439.5,
          "x1": 447.5,
          "xref": "x",
          "y0": 0,
          "y1": 1,
          "yref": "y domain"
         },
         {
          "line": {
           "color": "black",
           "width": 1
          },
          "opacity": 0,
          "type": "rect",
          "x0": 447.5,
          "x1": 455.5,
          "xref": "x",
          "y0": 0,
          "y1": 1,
          "yref": "y domain"
         },
         {
          "line": {
           "color": "black",
           "width": 1
          },
          "opacity": 0,
          "type": "rect",
          "x0": 455.5,
          "x1": 463.5,
          "xref": "x",
          "y0": 0,
          "y1": 1,
          "yref": "y domain"
         },
         {
          "line": {
           "color": "black",
           "width": 1
          },
          "opacity": 0,
          "type": "rect",
          "x0": 463.5,
          "x1": 471.5,
          "xref": "x",
          "y0": 0,
          "y1": 1,
          "yref": "y domain"
         },
         {
          "line": {
           "color": "black",
           "width": 1
          },
          "opacity": 0,
          "type": "rect",
          "x0": 471.5,
          "x1": 479.5,
          "xref": "x",
          "y0": 0,
          "y1": 1,
          "yref": "y domain"
         },
         {
          "line": {
           "color": "black",
           "width": 1
          },
          "opacity": 0,
          "type": "rect",
          "x0": 479.5,
          "x1": 487.5,
          "xref": "x",
          "y0": 0,
          "y1": 1,
          "yref": "y domain"
         },
         {
          "line": {
           "color": "black",
           "width": 1
          },
          "opacity": 0,
          "type": "rect",
          "x0": 487.5,
          "x1": 495.5,
          "xref": "x",
          "y0": 0,
          "y1": 1,
          "yref": "y domain"
         },
         {
          "line": {
           "color": "black",
           "width": 1
          },
          "opacity": 0,
          "type": "rect",
          "x0": 495.5,
          "x1": 503.5,
          "xref": "x",
          "y0": 0,
          "y1": 1,
          "yref": "y domain"
         },
         {
          "line": {
           "color": "black",
           "width": 1
          },
          "opacity": 0,
          "type": "rect",
          "x0": 503.5,
          "x1": 511.5,
          "xref": "x",
          "y0": 0,
          "y1": 1,
          "yref": "y domain"
         },
         {
          "fillcolor": "#79A8DD",
          "layer": "below",
          "line": {
           "width": 0
          },
          "opacity": 0.2,
          "type": "rect",
          "x0": 3.5,
          "x1": 7.5,
          "xref": "x",
          "y0": 0,
          "y1": 1,
          "yref": "y domain"
         },
         {
          "fillcolor": "#DD79DA",
          "layer": "below",
          "line": {
           "width": 0
          },
          "opacity": 0.2,
          "type": "rect",
          "x0": 7.5,
          "x1": 15.5,
          "xref": "x",
          "y0": 0,
          "y1": 1,
          "yref": "y domain"
         },
         {
          "fillcolor": "#DDAE79",
          "layer": "below",
          "line": {
           "width": 0
          },
          "opacity": 0.2,
          "type": "rect",
          "x0": 18.5,
          "x1": 31.5,
          "xref": "x",
          "y0": 0,
          "y1": 1,
          "yref": "y domain"
         },
         {
          "fillcolor": "#79DD7C",
          "layer": "below",
          "line": {
           "width": 0
          },
          "opacity": 0.2,
          "type": "rect",
          "x0": 35.5,
          "x1": 39.5,
          "xref": "x",
          "y0": 0,
          "y1": 1,
          "yref": "y domain"
         },
         {
          "fillcolor": "#79A8DD",
          "layer": "below",
          "line": {
           "width": 0
          },
          "opacity": 0.2,
          "type": "rect",
          "x0": 39.5,
          "x1": 47.5,
          "xref": "x",
          "y0": 0,
          "y1": 1,
          "yref": "y domain"
         },
         {
          "fillcolor": "#DD79DA",
          "layer": "below",
          "line": {
           "width": 0
          },
          "opacity": 0.2,
          "type": "rect",
          "x0": 50.5,
          "x1": 63.5,
          "xref": "x",
          "y0": 0,
          "y1": 1,
          "yref": "y domain"
         },
         {
          "fillcolor": "#DDAE79",
          "layer": "below",
          "line": {
           "width": 0
          },
          "opacity": 0.2,
          "type": "rect",
          "x0": 67.5,
          "x1": 71.5,
          "xref": "x",
          "y0": 0,
          "y1": 1,
          "yref": "y domain"
         },
         {
          "fillcolor": "#79DD7C",
          "layer": "below",
          "line": {
           "width": 0
          },
          "opacity": 0.2,
          "type": "rect",
          "x0": 71.5,
          "x1": 79.5,
          "xref": "x",
          "y0": 0,
          "y1": 1,
          "yref": "y domain"
         },
         {
          "fillcolor": "#79A8DD",
          "layer": "below",
          "line": {
           "width": 0
          },
          "opacity": 0.2,
          "type": "rect",
          "x0": 99.5,
          "x1": 111.5,
          "xref": "x",
          "y0": 0,
          "y1": 1,
          "yref": "y domain"
         },
         {
          "fillcolor": "#DD79DA",
          "layer": "below",
          "line": {
           "width": 0
          },
          "opacity": 0.2,
          "type": "rect",
          "x0": 111.5,
          "x1": 112.5,
          "xref": "x",
          "y0": 0,
          "y1": 1,
          "yref": "y domain"
         },
         {
          "fillcolor": "#DDAE79",
          "layer": "below",
          "line": {
           "width": 0
          },
          "opacity": 0.2,
          "type": "rect",
          "x0": 112.5,
          "x1": 115.5,
          "xref": "x",
          "y0": 0,
          "y1": 1,
          "yref": "y domain"
         },
         {
          "fillcolor": "#79DD7C",
          "layer": "below",
          "line": {
           "width": 0
          },
          "opacity": 0.2,
          "type": "rect",
          "x0": 115.5,
          "x1": 127.5,
          "xref": "x",
          "y0": 0,
          "y1": 1,
          "yref": "y domain"
         },
         {
          "fillcolor": "#79A8DD",
          "layer": "below",
          "line": {
           "width": 0
          },
          "opacity": 0.2,
          "type": "rect",
          "x0": 129.5,
          "x1": 130.5,
          "xref": "x",
          "y0": 0,
          "y1": 1,
          "yref": "y domain"
         },
         {
          "fillcolor": "#DD79DA",
          "layer": "below",
          "line": {
           "width": 0
          },
          "opacity": 0.2,
          "type": "rect",
          "x0": 131.5,
          "x1": 143.5,
          "xref": "x",
          "y0": 0,
          "y1": 1,
          "yref": "y domain"
         },
         {
          "fillcolor": "#DDAE79",
          "layer": "below",
          "line": {
           "width": 0
          },
          "opacity": 0.2,
          "type": "rect",
          "x0": 179.5,
          "x1": 191.5,
          "xref": "x",
          "y0": 0,
          "y1": 1,
          "yref": "y domain"
         },
         {
          "fillcolor": "#79DD7C",
          "layer": "below",
          "line": {
           "width": 0
          },
          "opacity": 0.2,
          "type": "rect",
          "x0": 191.5,
          "x1": 192.5,
          "xref": "x",
          "y0": 0,
          "y1": 1,
          "yref": "y domain"
         },
         {
          "fillcolor": "#79A8DD",
          "layer": "below",
          "line": {
           "width": 0
          },
          "opacity": 0.2,
          "type": "rect",
          "x0": 196.5,
          "x1": 207.5,
          "xref": "x",
          "y0": 0,
          "y1": 1,
          "yref": "y domain"
         },
         {
          "fillcolor": "#DD79DA",
          "layer": "below",
          "line": {
           "width": 0
          },
          "opacity": 0.2,
          "type": "rect",
          "x0": 216.5,
          "x1": 223.5,
          "xref": "x",
          "y0": 0,
          "y1": 1,
          "yref": "y domain"
         },
         {
          "fillcolor": "#DDAE79",
          "layer": "below",
          "line": {
           "width": 0
          },
          "opacity": 0.2,
          "type": "rect",
          "x0": 223.5,
          "x1": 224.5,
          "xref": "x",
          "y0": 0,
          "y1": 1,
          "yref": "y domain"
         },
         {
          "fillcolor": "#79DD7C",
          "layer": "below",
          "line": {
           "width": 0
          },
          "opacity": 0.2,
          "type": "rect",
          "x0": 225.5,
          "x1": 226.5,
          "xref": "x",
          "y0": 0,
          "y1": 1,
          "yref": "y domain"
         },
         {
          "fillcolor": "#79A8DD",
          "layer": "below",
          "line": {
           "width": 0
          },
          "opacity": 0.2,
          "type": "rect",
          "x0": 228.5,
          "x1": 239.5,
          "xref": "x",
          "y0": 0,
          "y1": 1,
          "yref": "y domain"
         },
         {
          "fillcolor": "#DD79DA",
          "layer": "below",
          "line": {
           "width": 0
          },
          "opacity": 0.2,
          "type": "rect",
          "x0": 239.5,
          "x1": 240.5,
          "xref": "x",
          "y0": 0,
          "y1": 1,
          "yref": "y domain"
         },
         {
          "fillcolor": "#DDAE79",
          "layer": "below",
          "line": {
           "width": 0
          },
          "opacity": 0.2,
          "type": "rect",
          "x0": 244.5,
          "x1": 255.5,
          "xref": "x",
          "y0": 0,
          "y1": 1,
          "yref": "y domain"
         },
         {
          "fillcolor": "#79DD7C",
          "layer": "below",
          "line": {
           "width": 0
          },
          "opacity": 0.2,
          "type": "rect",
          "x0": 258.5,
          "x1": 259.5,
          "xref": "x",
          "y0": 0,
          "y1": 1,
          "yref": "y domain"
         },
         {
          "fillcolor": "#79A8DD",
          "layer": "below",
          "line": {
           "width": 0
          },
          "opacity": 0.2,
          "type": "rect",
          "x0": 259.5,
          "x1": 271.5,
          "xref": "x",
          "y0": 0,
          "y1": 1,
          "yref": "y domain"
         },
         {
          "fillcolor": "#DD79DA",
          "layer": "below",
          "line": {
           "width": 0
          },
          "opacity": 0.2,
          "type": "rect",
          "x0": 272.5,
          "x1": 274.5,
          "xref": "x",
          "y0": 0,
          "y1": 1,
          "yref": "y domain"
         },
         {
          "fillcolor": "#DDAE79",
          "layer": "below",
          "line": {
           "width": 0
          },
          "opacity": 0.2,
          "type": "rect",
          "x0": 275.5,
          "x1": 287.5,
          "xref": "x",
          "y0": 0,
          "y1": 1,
          "yref": "y domain"
         },
         {
          "fillcolor": "#79DD7C",
          "layer": "below",
          "line": {
           "width": 0
          },
          "opacity": 0.2,
          "type": "rect",
          "x0": 290.5,
          "x1": 291.5,
          "xref": "x",
          "y0": 0,
          "y1": 1,
          "yref": "y domain"
         },
         {
          "fillcolor": "#79A8DD",
          "layer": "below",
          "line": {
           "width": 0
          },
          "opacity": 0.2,
          "type": "rect",
          "x0": 292.5,
          "x1": 302.5,
          "xref": "x",
          "y0": 0,
          "y1": 1,
          "yref": "y domain"
         },
         {
          "fillcolor": "#DD79DA",
          "layer": "below",
          "line": {
           "width": 0
          },
          "opacity": 0.2,
          "type": "rect",
          "x0": 308.5,
          "x1": 319.5,
          "xref": "x",
          "y0": 0,
          "y1": 1,
          "yref": "y domain"
         },
         {
          "fillcolor": "#DDAE79",
          "layer": "below",
          "line": {
           "width": 0
          },
          "opacity": 0.2,
          "type": "rect",
          "x0": 335.5,
          "x1": 343.5,
          "xref": "x",
          "y0": 0,
          "y1": 1,
          "yref": "y domain"
         },
         {
          "fillcolor": "#79DD7C",
          "layer": "below",
          "line": {
           "width": 0
          },
          "opacity": 0.2,
          "type": "rect",
          "x0": 364.5,
          "x1": 367.5,
          "xref": "x",
          "y0": 0,
          "y1": 1,
          "yref": "y domain"
         },
         {
          "fillcolor": "#79A8DD",
          "layer": "below",
          "line": {
           "width": 0
          },
          "opacity": 0.2,
          "type": "rect",
          "x0": 370.5,
          "x1": 373.5,
          "xref": "x",
          "y0": 0,
          "y1": 1,
          "yref": "y domain"
         },
         {
          "fillcolor": "#DD79DA",
          "layer": "below",
          "line": {
           "width": 0
          },
          "opacity": 0.2,
          "type": "rect",
          "x0": 375.5,
          "x1": 383.5,
          "xref": "x",
          "y0": 0,
          "y1": 1,
          "yref": "y domain"
         },
         {
          "fillcolor": "#DDAE79",
          "layer": "below",
          "line": {
           "width": 0
          },
          "opacity": 0.2,
          "type": "rect",
          "x0": 398.5,
          "x1": 407.5,
          "xref": "x",
          "y0": 0,
          "y1": 1,
          "yref": "y domain"
         },
         {
          "fillcolor": "#79DD7C",
          "layer": "below",
          "line": {
           "width": 0
          },
          "opacity": 0.2,
          "type": "rect",
          "x0": 435.5,
          "x1": 447.5,
          "xref": "x",
          "y0": 0,
          "y1": 1,
          "yref": "y domain"
         }
        ],
        "template": {
         "data": {
          "bar": [
           {
            "error_x": {
             "color": "#2a3f5f"
            },
            "error_y": {
             "color": "#2a3f5f"
            },
            "marker": {
             "line": {
              "color": "#E5ECF6",
              "width": 0.5
             },
             "pattern": {
              "fillmode": "overlay",
              "size": 10,
              "solidity": 0.2
             }
            },
            "type": "bar"
           }
          ],
          "barpolar": [
           {
            "marker": {
             "line": {
              "color": "#E5ECF6",
              "width": 0.5
             },
             "pattern": {
              "fillmode": "overlay",
              "size": 10,
              "solidity": 0.2
             }
            },
            "type": "barpolar"
           }
          ],
          "carpet": [
           {
            "aaxis": {
             "endlinecolor": "#2a3f5f",
             "gridcolor": "white",
             "linecolor": "white",
             "minorgridcolor": "white",
             "startlinecolor": "#2a3f5f"
            },
            "baxis": {
             "endlinecolor": "#2a3f5f",
             "gridcolor": "white",
             "linecolor": "white",
             "minorgridcolor": "white",
             "startlinecolor": "#2a3f5f"
            },
            "type": "carpet"
           }
          ],
          "choropleth": [
           {
            "colorbar": {
             "outlinewidth": 0,
             "ticks": ""
            },
            "type": "choropleth"
           }
          ],
          "contour": [
           {
            "colorbar": {
             "outlinewidth": 0,
             "ticks": ""
            },
            "colorscale": [
             [
              0,
              "#0d0887"
             ],
             [
              0.1111111111111111,
              "#46039f"
             ],
             [
              0.2222222222222222,
              "#7201a8"
             ],
             [
              0.3333333333333333,
              "#9c179e"
             ],
             [
              0.4444444444444444,
              "#bd3786"
             ],
             [
              0.5555555555555556,
              "#d8576b"
             ],
             [
              0.6666666666666666,
              "#ed7953"
             ],
             [
              0.7777777777777778,
              "#fb9f3a"
             ],
             [
              0.8888888888888888,
              "#fdca26"
             ],
             [
              1,
              "#f0f921"
             ]
            ],
            "type": "contour"
           }
          ],
          "contourcarpet": [
           {
            "colorbar": {
             "outlinewidth": 0,
             "ticks": ""
            },
            "type": "contourcarpet"
           }
          ],
          "heatmap": [
           {
            "colorbar": {
             "outlinewidth": 0,
             "ticks": ""
            },
            "colorscale": [
             [
              0,
              "#0d0887"
             ],
             [
              0.1111111111111111,
              "#46039f"
             ],
             [
              0.2222222222222222,
              "#7201a8"
             ],
             [
              0.3333333333333333,
              "#9c179e"
             ],
             [
              0.4444444444444444,
              "#bd3786"
             ],
             [
              0.5555555555555556,
              "#d8576b"
             ],
             [
              0.6666666666666666,
              "#ed7953"
             ],
             [
              0.7777777777777778,
              "#fb9f3a"
             ],
             [
              0.8888888888888888,
              "#fdca26"
             ],
             [
              1,
              "#f0f921"
             ]
            ],
            "type": "heatmap"
           }
          ],
          "histogram": [
           {
            "marker": {
             "pattern": {
              "fillmode": "overlay",
              "size": 10,
              "solidity": 0.2
             }
            },
            "type": "histogram"
           }
          ],
          "histogram2d": [
           {
            "colorbar": {
             "outlinewidth": 0,
             "ticks": ""
            },
            "colorscale": [
             [
              0,
              "#0d0887"
             ],
             [
              0.1111111111111111,
              "#46039f"
             ],
             [
              0.2222222222222222,
              "#7201a8"
             ],
             [
              0.3333333333333333,
              "#9c179e"
             ],
             [
              0.4444444444444444,
              "#bd3786"
             ],
             [
              0.5555555555555556,
              "#d8576b"
             ],
             [
              0.6666666666666666,
              "#ed7953"
             ],
             [
              0.7777777777777778,
              "#fb9f3a"
             ],
             [
              0.8888888888888888,
              "#fdca26"
             ],
             [
              1,
              "#f0f921"
             ]
            ],
            "type": "histogram2d"
           }
          ],
          "histogram2dcontour": [
           {
            "colorbar": {
             "outlinewidth": 0,
             "ticks": ""
            },
            "colorscale": [
             [
              0,
              "#0d0887"
             ],
             [
              0.1111111111111111,
              "#46039f"
             ],
             [
              0.2222222222222222,
              "#7201a8"
             ],
             [
              0.3333333333333333,
              "#9c179e"
             ],
             [
              0.4444444444444444,
              "#bd3786"
             ],
             [
              0.5555555555555556,
              "#d8576b"
             ],
             [
              0.6666666666666666,
              "#ed7953"
             ],
             [
              0.7777777777777778,
              "#fb9f3a"
             ],
             [
              0.8888888888888888,
              "#fdca26"
             ],
             [
              1,
              "#f0f921"
             ]
            ],
            "type": "histogram2dcontour"
           }
          ],
          "mesh3d": [
           {
            "colorbar": {
             "outlinewidth": 0,
             "ticks": ""
            },
            "type": "mesh3d"
           }
          ],
          "parcoords": [
           {
            "line": {
             "colorbar": {
              "outlinewidth": 0,
              "ticks": ""
             }
            },
            "type": "parcoords"
           }
          ],
          "pie": [
           {
            "automargin": true,
            "type": "pie"
           }
          ],
          "scatter": [
           {
            "fillpattern": {
             "fillmode": "overlay",
             "size": 10,
             "solidity": 0.2
            },
            "type": "scatter"
           }
          ],
          "scatter3d": [
           {
            "line": {
             "colorbar": {
              "outlinewidth": 0,
              "ticks": ""
             }
            },
            "marker": {
             "colorbar": {
              "outlinewidth": 0,
              "ticks": ""
             }
            },
            "type": "scatter3d"
           }
          ],
          "scattercarpet": [
           {
            "marker": {
             "colorbar": {
              "outlinewidth": 0,
              "ticks": ""
             }
            },
            "type": "scattercarpet"
           }
          ],
          "scattergeo": [
           {
            "marker": {
             "colorbar": {
              "outlinewidth": 0,
              "ticks": ""
             }
            },
            "type": "scattergeo"
           }
          ],
          "scattergl": [
           {
            "marker": {
             "colorbar": {
              "outlinewidth": 0,
              "ticks": ""
             }
            },
            "type": "scattergl"
           }
          ],
          "scattermap": [
           {
            "marker": {
             "colorbar": {
              "outlinewidth": 0,
              "ticks": ""
             }
            },
            "type": "scattermap"
           }
          ],
          "scattermapbox": [
           {
            "marker": {
             "colorbar": {
              "outlinewidth": 0,
              "ticks": ""
             }
            },
            "type": "scattermapbox"
           }
          ],
          "scatterpolar": [
           {
            "marker": {
             "colorbar": {
              "outlinewidth": 0,
              "ticks": ""
             }
            },
            "type": "scatterpolar"
           }
          ],
          "scatterpolargl": [
           {
            "marker": {
             "colorbar": {
              "outlinewidth": 0,
              "ticks": ""
             }
            },
            "type": "scatterpolargl"
           }
          ],
          "scatterternary": [
           {
            "marker": {
             "colorbar": {
              "outlinewidth": 0,
              "ticks": ""
             }
            },
            "type": "scatterternary"
           }
          ],
          "surface": [
           {
            "colorbar": {
             "outlinewidth": 0,
             "ticks": ""
            },
            "colorscale": [
             [
              0,
              "#0d0887"
             ],
             [
              0.1111111111111111,
              "#46039f"
             ],
             [
              0.2222222222222222,
              "#7201a8"
             ],
             [
              0.3333333333333333,
              "#9c179e"
             ],
             [
              0.4444444444444444,
              "#bd3786"
             ],
             [
              0.5555555555555556,
              "#d8576b"
             ],
             [
              0.6666666666666666,
              "#ed7953"
             ],
             [
              0.7777777777777778,
              "#fb9f3a"
             ],
             [
              0.8888888888888888,
              "#fdca26"
             ],
             [
              1,
              "#f0f921"
             ]
            ],
            "type": "surface"
           }
          ],
          "table": [
           {
            "cells": {
             "fill": {
              "color": "#EBF0F8"
             },
             "line": {
              "color": "white"
             }
            },
            "header": {
             "fill": {
              "color": "#C8D4E3"
             },
             "line": {
              "color": "white"
             }
            },
            "type": "table"
           }
          ]
         },
         "layout": {
          "annotationdefaults": {
           "arrowcolor": "#2a3f5f",
           "arrowhead": 0,
           "arrowwidth": 1
          },
          "autotypenumbers": "strict",
          "coloraxis": {
           "colorbar": {
            "outlinewidth": 0,
            "ticks": ""
           }
          },
          "colorscale": {
           "diverging": [
            [
             0,
             "#8e0152"
            ],
            [
             0.1,
             "#c51b7d"
            ],
            [
             0.2,
             "#de77ae"
            ],
            [
             0.3,
             "#f1b6da"
            ],
            [
             0.4,
             "#fde0ef"
            ],
            [
             0.5,
             "#f7f7f7"
            ],
            [
             0.6,
             "#e6f5d0"
            ],
            [
             0.7,
             "#b8e186"
            ],
            [
             0.8,
             "#7fbc41"
            ],
            [
             0.9,
             "#4d9221"
            ],
            [
             1,
             "#276419"
            ]
           ],
           "sequential": [
            [
             0,
             "#0d0887"
            ],
            [
             0.1111111111111111,
             "#46039f"
            ],
            [
             0.2222222222222222,
             "#7201a8"
            ],
            [
             0.3333333333333333,
             "#9c179e"
            ],
            [
             0.4444444444444444,
             "#bd3786"
            ],
            [
             0.5555555555555556,
             "#d8576b"
            ],
            [
             0.6666666666666666,
             "#ed7953"
            ],
            [
             0.7777777777777778,
             "#fb9f3a"
            ],
            [
             0.8888888888888888,
             "#fdca26"
            ],
            [
             1,
             "#f0f921"
            ]
           ],
           "sequentialminus": [
            [
             0,
             "#0d0887"
            ],
            [
             0.1111111111111111,
             "#46039f"
            ],
            [
             0.2222222222222222,
             "#7201a8"
            ],
            [
             0.3333333333333333,
             "#9c179e"
            ],
            [
             0.4444444444444444,
             "#bd3786"
            ],
            [
             0.5555555555555556,
             "#d8576b"
            ],
            [
             0.6666666666666666,
             "#ed7953"
            ],
            [
             0.7777777777777778,
             "#fb9f3a"
            ],
            [
             0.8888888888888888,
             "#fdca26"
            ],
            [
             1,
             "#f0f921"
            ]
           ]
          },
          "colorway": [
           "#636efa",
           "#EF553B",
           "#00cc96",
           "#ab63fa",
           "#FFA15A",
           "#19d3f3",
           "#FF6692",
           "#B6E880",
           "#FF97FF",
           "#FECB52"
          ],
          "font": {
           "color": "#2a3f5f"
          },
          "geo": {
           "bgcolor": "white",
           "lakecolor": "white",
           "landcolor": "#E5ECF6",
           "showlakes": true,
           "showland": true,
           "subunitcolor": "white"
          },
          "hoverlabel": {
           "align": "left"
          },
          "hovermode": "closest",
          "mapbox": {
           "style": "light"
          },
          "paper_bgcolor": "white",
          "plot_bgcolor": "#E5ECF6",
          "polar": {
           "angularaxis": {
            "gridcolor": "white",
            "linecolor": "white",
            "ticks": ""
           },
           "bgcolor": "#E5ECF6",
           "radialaxis": {
            "gridcolor": "white",
            "linecolor": "white",
            "ticks": ""
           }
          },
          "scene": {
           "xaxis": {
            "backgroundcolor": "#E5ECF6",
            "gridcolor": "white",
            "gridwidth": 2,
            "linecolor": "white",
            "showbackground": true,
            "ticks": "",
            "zerolinecolor": "white"
           },
           "yaxis": {
            "backgroundcolor": "#E5ECF6",
            "gridcolor": "white",
            "gridwidth": 2,
            "linecolor": "white",
            "showbackground": true,
            "ticks": "",
            "zerolinecolor": "white"
           },
           "zaxis": {
            "backgroundcolor": "#E5ECF6",
            "gridcolor": "white",
            "gridwidth": 2,
            "linecolor": "white",
            "showbackground": true,
            "ticks": "",
            "zerolinecolor": "white"
           }
          },
          "shapedefaults": {
           "line": {
            "color": "#2a3f5f"
           }
          },
          "ternary": {
           "aaxis": {
            "gridcolor": "white",
            "linecolor": "white",
            "ticks": ""
           },
           "baxis": {
            "gridcolor": "white",
            "linecolor": "white",
            "ticks": ""
           },
           "bgcolor": "#E5ECF6",
           "caxis": {
            "gridcolor": "white",
            "linecolor": "white",
            "ticks": ""
           }
          },
          "title": {
           "x": 0.05
          },
          "xaxis": {
           "automargin": true,
           "gridcolor": "white",
           "linecolor": "white",
           "ticks": "",
           "title": {
            "standoff": 15
           },
           "zerolinecolor": "white",
           "zerolinewidth": 2
          },
          "yaxis": {
           "automargin": true,
           "gridcolor": "white",
           "linecolor": "white",
           "ticks": "",
           "title": {
            "standoff": 15
           },
           "zerolinecolor": "white",
           "zerolinewidth": 2
          }
         }
        },
        "title": {
         "text": "Big-Endian: Bit Flip Probabilities"
        },
        "xaxis": {
         "tickfont": {
          "size": 8
         },
         "tickmode": "array",
         "ticktext": {
          "bdata": "BwAGAAUABAADAAIAAQAAAA8ADgANAAwACwAKAAkACAAXABYAFQAUABMAEgARABAAHwAeAB0AHAAbABoAGQAYACcAJgAlACQAIwAiACEAIAAvAC4ALQAsACsAKgApACgANwA2ADUANAAzADIAMQAwAD8APgA9ADwAOwA6ADkAOABHAEYARQBEAEMAQgBBAEAATwBOAE0ATABLAEoASQBIAFcAVgBVAFQAUwBSAFEAUABfAF4AXQBcAFsAWgBZAFgAZwBmAGUAZABjAGIAYQBgAG8AbgBtAGwAawBqAGkAaAB3AHYAdQB0AHMAcgBxAHAAfwB+AH0AfAB7AHoAeQB4AIcAhgCFAIQAgwCCAIEAgACPAI4AjQCMAIsAigCJAIgAlwCWAJUAlACTAJIAkQCQAJ8AngCdAJwAmwCaAJkAmACnAKYApQCkAKMAogChAKAArwCuAK0ArACrAKoAqQCoALcAtgC1ALQAswCyALEAsAC/AL4AvQC8ALsAugC5ALgAxwDGAMUAxADDAMIAwQDAAM8AzgDNAMwAywDKAMkAyADXANYA1QDUANMA0gDRANAA3wDeAN0A3ADbANoA2QDYAOcA5gDlAOQA4wDiAOEA4ADvAO4A7QDsAOsA6gDpAOgA9wD2APUA9ADzAPIA8QDwAP8A/gD9APwA+wD6APkA+AAHAQYBBQEEAQMBAgEBAQABDwEOAQ0BDAELAQoBCQEIARcBFgEVARQBEwESAREBEAEfAR4BHQEcARsBGgEZARgBJwEmASUBJAEjASIBIQEgAS8BLgEtASwBKwEqASkBKAE3ATYBNQE0ATMBMgExATABPwE+AT0BPAE7AToBOQE4AUcBRgFFAUQBQwFCAUEBQAFPAU4BTQFMAUsBSgFJAUgBVwFWAVUBVAFTAVIBUQFQAV8BXgFdAVwBWwFaAVkBWAFnAWYBZQFkAWMBYgFhAWABbwFuAW0BbAFrAWoBaQFoAXcBdgF1AXQBcwFyAXEBcAF/AX4BfQF8AXsBegF5AXgBhwGGAYUBhAGDAYIBgQGAAY8BjgGNAYwBiwGKAYkBiAGXAZYBlQGUAZMBkgGRAZABnwGeAZ0BnAGbAZoBmQGYAacBpgGlAaQBowGiAaEBoAGvAa4BrQGsAasBqgGpAagBtwG2AbUBtAGzAbIBsQGwAb8BvgG9AbwBuwG6AbkBuAHHAcYBxQHEAcMBwgHBAcABzwHOAc0BzAHLAcoByQHIAdcB1gHVAdQB0wHSAdEB0AHfAd4B3QHcAdsB2gHZAdgB5wHmAeUB5AHjAeIB4QHgAe8B7gHtAewB6wHqAekB6AH3AfYB9QH0AfMB8gHxAfAB/wH+Af0B/AH7AfoB+QH4AQ==",
          "dtype": "i2"
         },
         "tickvals": {
          "bdata": "AAABAAIAAwAEAAUABgAHAAgACQAKAAsADAANAA4ADwAQABEAEgATABQAFQAWABcAGAAZABoAGwAcAB0AHgAfACAAIQAiACMAJAAlACYAJwAoACkAKgArACwALQAuAC8AMAAxADIAMwA0ADUANgA3ADgAOQA6ADsAPAA9AD4APwBAAEEAQgBDAEQARQBGAEcASABJAEoASwBMAE0ATgBPAFAAUQBSAFMAVABVAFYAVwBYAFkAWgBbAFwAXQBeAF8AYABhAGIAYwBkAGUAZgBnAGgAaQBqAGsAbABtAG4AbwBwAHEAcgBzAHQAdQB2AHcAeAB5AHoAewB8AH0AfgB/AIAAgQCCAIMAhACFAIYAhwCIAIkAigCLAIwAjQCOAI8AkACRAJIAkwCUAJUAlgCXAJgAmQCaAJsAnACdAJ4AnwCgAKEAogCjAKQApQCmAKcAqACpAKoAqwCsAK0ArgCvALAAsQCyALMAtAC1ALYAtwC4ALkAugC7ALwAvQC+AL8AwADBAMIAwwDEAMUAxgDHAMgAyQDKAMsAzADNAM4AzwDQANEA0gDTANQA1QDWANcA2ADZANoA2wDcAN0A3gDfAOAA4QDiAOMA5ADlAOYA5wDoAOkA6gDrAOwA7QDuAO8A8ADxAPIA8wD0APUA9gD3APgA+QD6APsA/AD9AP4A/wAAAQEBAgEDAQQBBQEGAQcBCAEJAQoBCwEMAQ0BDgEPARABEQESARMBFAEVARYBFwEYARkBGgEbARwBHQEeAR8BIAEhASIBIwEkASUBJgEnASgBKQEqASsBLAEtAS4BLwEwATEBMgEzATQBNQE2ATcBOAE5AToBOwE8AT0BPgE/AUABQQFCAUMBRAFFAUYBRwFIAUkBSgFLAUwBTQFOAU8BUAFRAVIBUwFUAVUBVgFXAVgBWQFaAVsBXAFdAV4BXwFgAWEBYgFjAWQBZQFmAWcBaAFpAWoBawFsAW0BbgFvAXABcQFyAXMBdAF1AXYBdwF4AXkBegF7AXwBfQF+AX8BgAGBAYIBgwGEAYUBhgGHAYgBiQGKAYsBjAGNAY4BjwGQAZEBkgGTAZQBlQGWAZcBmAGZAZoBmwGcAZ0BngGfAaABoQGiAaMBpAGlAaYBpwGoAakBqgGrAawBrQGuAa8BsAGxAbIBswG0AbUBtgG3AbgBuQG6AbsBvAG9Ab4BvwHAAcEBwgHDAcQBxQHGAccByAHJAcoBywHMAc0BzgHPAdAB0QHSAdMB1AHVAdYB1wHYAdkB2gHbAdwB3QHeAd8B4AHhAeIB4wHkAeUB5gHnAegB6QHqAesB7AHtAe4B7wHwAfEB8gHzAfQB9QH2AfcB+AH5AfoB+wH8Af0B/gH/AQ==",
          "dtype": "i2"
         },
         "title": {
          "text": "Bit Number"
         }
        },
        "yaxis": {
         "range": [
          0,
          1.1
         ],
         "title": {
          "text": "Bit Flip Probability"
         }
        }
       }
      }
     },
     "metadata": {},
     "output_type": "display_data"
    }
   ],
   "source": [
    "decoder.plot_message_from_id('10F')"
   ]
  },
  {
   "cell_type": "code",
   "execution_count": 10,
   "id": "e571719c",
   "metadata": {},
   "outputs": [
    {
     "data": {
      "application/vnd.plotly.v1+json": {
       "config": {
        "plotlyServerURL": "https://plot.ly"
       },
       "data": [
        {
         "marker": {
          "color": "black"
         },
         "name": "Bit Flip Probability",
         "opacity": 0.7,
         "type": "bar",
         "x": {
          "bdata": "AAECAwQFBgcICQoLDA0ODxAREhMUFRYXGBkaGxwdHh8gISIjJCUmJygpKissLS4vMDEyMzQ1Njc4OTo7PD0+P0BBQkNERUZHSElKS0xNTk9QUVJTVFVWV1hZWltcXV5fYGFiY2RlZmdoaWprbG1ub3BxcnN0dXZ3eHl6e3x9fn8=",
          "dtype": "i1"
         },
         "y": {
          "bdata": "AAAAAAAAAAAAAAAAAAAAAAAAAAAAAAAAAAAAAAAAAAAAAAAAAAAAAAAAAAAAAAAAAAAAAAAAAAAAAAAAAAAAAAAAAAAAAAAAAAAAAAAAAAAAAAAAAAAAAAAAAAAAAAAAAAAAAAAAAAAAAAAAAAAAAAAAAAAAAAAAAAAAAAAAAAAAAAAAAAAAAAAAAAAAAAAAAAAAAAAAAAAAAAAAAAAAAAAAAAAAAAAAAAAAAAAAAAAAAAAAAAAAAAAAAAAAAAAAAAAAAAAAAAAAAAAAAAAAAAAAAAAAAAAAAAAAAAAAAAAAAAAAAAAAAAAAAAAAAAAAAAAAAAAAAAAAAAAAAAAAAAAAAAAAAAAAAAAAAAAAAAAAAAAAAAAAAAAAAAAAAAAAAAAAAAAAAAAAAAAAAAAAAAAAAAAAAAAAAAAAAAAAAAAAAAAAAAAAAAAAAAAAAAAAAAAAAAAAAAAAAAAAAAAAAAAAAAAAAAAAAAAAAAAAAAAAAAAAAAAAAAAAAAAAAAAAAAAAAAAAAAAAAAAAAAAAAAAAAAAAAAAAAAAAAAAAAAAAAAAAAAAAAAAAAAAAAAAAAAAAAAAAAAAAAAAAAAAAAAAAAAAAAAAAAAAAAAAAAAAAAAAAAAAAAAAAAAAAAAAAAAAAAAAAAAAAAAAAAAAAAAAAAAAAAAAAAAAAAAAAAAAAAAAAAAAAAAAAAAAAAAAAAAAAAAAAAACjYFGwKFiUP6NgUbAoWKQ/lZhKTCWmsj/nSHOkOdK8P8u4Zdwybsk/2YBsQDYgyz+LgkXBomDRP+2sdlY7q80/kuZIc6Q50j+LgkXBomDRP6YSU4mpxNQ/i4JFwaJg0T+VmEpMJabSPwAAAAAAAAAAAAAAAAAAAAAAAAAAAAAAAAAAAAAAAAAA2YBsQDYgez/ZgGxANiCLP6NgUbAoWKQ/iNBD6CH0sD+c/E3+Jn/DP5+uT9en69M/y7hl3DJu2T/WzmpntbPaP/QQegg9hN4/8V54L7wX3j/cMm4Zt4zbP4QeQg+hh+A/3DJuGbeM2z/q+nR9uj7dP4QeQg+hh9A/50hzpDnS3D/0EHoIPYTOP/QQegg9hM4/7ax2VjurzT+wKFgULArGPwAAAAAAAAAAAAAAAAAAAAAAAAAAAAAAANmAbEA2IGs/2YBsQDYgaz+jYFGwKFiEP9mAbEA2IIs/lZhKTCWmoj8AAAAAAAAAAAAAAAAAAAAAAAAAAAAAAAAAAAAAAAAAAAAAAAAAAAAAAAAAAAAAAAAAAAAAAAAAAAAAAAAAAAAAAAAAAAAAAAAAAAAAAAAAAAAAAAAAAAAAAAAAAAAAAAAAAAAAAAAAAAAAAAAAAAAAAAAAAAAAAAAAAAAAAAAAAA==",
          "dtype": "f8"
         }
        }
       ],
       "layout": {
        "annotations": [
         {
          "font": {
           "size": 10
          },
          "showarrow": false,
          "text": "Byte 0",
          "x": 3.5,
          "xanchor": "center",
          "xref": "x",
          "y": 1,
          "yanchor": "bottom",
          "yref": "y domain"
         },
         {
          "font": {
           "size": 10
          },
          "showarrow": false,
          "text": "Byte 1",
          "x": 11.5,
          "xanchor": "center",
          "xref": "x",
          "y": 1,
          "yanchor": "bottom",
          "yref": "y domain"
         },
         {
          "font": {
           "size": 10
          },
          "showarrow": false,
          "text": "Byte 2",
          "x": 19.5,
          "xanchor": "center",
          "xref": "x",
          "y": 1,
          "yanchor": "bottom",
          "yref": "y domain"
         },
         {
          "font": {
           "size": 10
          },
          "showarrow": false,
          "text": "Byte 3",
          "x": 27.5,
          "xanchor": "center",
          "xref": "x",
          "y": 1,
          "yanchor": "bottom",
          "yref": "y domain"
         },
         {
          "font": {
           "size": 10
          },
          "showarrow": false,
          "text": "Byte 4",
          "x": 35.5,
          "xanchor": "center",
          "xref": "x",
          "y": 1,
          "yanchor": "bottom",
          "yref": "y domain"
         },
         {
          "font": {
           "size": 10
          },
          "showarrow": false,
          "text": "Byte 5",
          "x": 43.5,
          "xanchor": "center",
          "xref": "x",
          "y": 1,
          "yanchor": "bottom",
          "yref": "y domain"
         },
         {
          "font": {
           "size": 10
          },
          "showarrow": false,
          "text": "Byte 6",
          "x": 51.5,
          "xanchor": "center",
          "xref": "x",
          "y": 1,
          "yanchor": "bottom",
          "yref": "y domain"
         },
         {
          "font": {
           "size": 10
          },
          "showarrow": false,
          "text": "Byte 7",
          "x": 59.5,
          "xanchor": "center",
          "xref": "x",
          "y": 1,
          "yanchor": "bottom",
          "yref": "y domain"
         },
         {
          "font": {
           "size": 10
          },
          "showarrow": false,
          "text": "Byte 8",
          "x": 67.5,
          "xanchor": "center",
          "xref": "x",
          "y": 1,
          "yanchor": "bottom",
          "yref": "y domain"
         },
         {
          "font": {
           "size": 10
          },
          "showarrow": false,
          "text": "Byte 9",
          "x": 75.5,
          "xanchor": "center",
          "xref": "x",
          "y": 1,
          "yanchor": "bottom",
          "yref": "y domain"
         },
         {
          "font": {
           "size": 10
          },
          "showarrow": false,
          "text": "Byte 10",
          "x": 83.5,
          "xanchor": "center",
          "xref": "x",
          "y": 1,
          "yanchor": "bottom",
          "yref": "y domain"
         },
         {
          "font": {
           "size": 10
          },
          "showarrow": false,
          "text": "Byte 11",
          "x": 91.5,
          "xanchor": "center",
          "xref": "x",
          "y": 1,
          "yanchor": "bottom",
          "yref": "y domain"
         },
         {
          "font": {
           "size": 10
          },
          "showarrow": false,
          "text": "Byte 12",
          "x": 99.5,
          "xanchor": "center",
          "xref": "x",
          "y": 1,
          "yanchor": "bottom",
          "yref": "y domain"
         },
         {
          "font": {
           "size": 10
          },
          "showarrow": false,
          "text": "Byte 13",
          "x": 107.5,
          "xanchor": "center",
          "xref": "x",
          "y": 1,
          "yanchor": "bottom",
          "yref": "y domain"
         },
         {
          "font": {
           "size": 10
          },
          "showarrow": false,
          "text": "Byte 14",
          "x": 115.5,
          "xanchor": "center",
          "xref": "x",
          "y": 1,
          "yanchor": "bottom",
          "yref": "y domain"
         },
         {
          "font": {
           "size": 10
          },
          "showarrow": false,
          "text": "Byte 15",
          "x": 123.5,
          "xanchor": "center",
          "xref": "x",
          "y": 1,
          "yanchor": "bottom",
          "yref": "y domain"
         },
         {
          "showarrow": false,
          "text": "SIG_BE_1",
          "x": 66.5,
          "xanchor": "left",
          "xref": "x",
          "y": 1,
          "yanchor": "top",
          "yref": "y domain"
         },
         {
          "showarrow": false,
          "text": "SIG_BE_3",
          "x": 83.5,
          "xanchor": "left",
          "xref": "x",
          "y": 1,
          "yanchor": "top",
          "yref": "y domain"
         },
         {
          "showarrow": false,
          "text": "SIG_BE_5",
          "x": 106.5,
          "xanchor": "left",
          "xref": "x",
          "y": 1,
          "yanchor": "top",
          "yref": "y domain"
         }
        ],
        "legend": {
         "font": {
          "size": 8
         },
         "orientation": "h",
         "x": 0.5,
         "xanchor": "center",
         "y": -0.2
        },
        "shapes": [
         {
          "line": {
           "color": "gray",
           "dash": "dash",
           "width": 1
          },
          "type": "line",
          "x0": 7.5,
          "x1": 7.5,
          "y0": 0,
          "y1": 0.5423841059602649
         },
         {
          "line": {
           "color": "gray",
           "dash": "dash",
           "width": 1
          },
          "type": "line",
          "x0": 15.5,
          "x1": 15.5,
          "y0": 0,
          "y1": 0.5423841059602649
         },
         {
          "line": {
           "color": "gray",
           "dash": "dash",
           "width": 1
          },
          "type": "line",
          "x0": 23.5,
          "x1": 23.5,
          "y0": 0,
          "y1": 0.5423841059602649
         },
         {
          "line": {
           "color": "gray",
           "dash": "dash",
           "width": 1
          },
          "type": "line",
          "x0": 31.5,
          "x1": 31.5,
          "y0": 0,
          "y1": 0.5423841059602649
         },
         {
          "line": {
           "color": "gray",
           "dash": "dash",
           "width": 1
          },
          "type": "line",
          "x0": 39.5,
          "x1": 39.5,
          "y0": 0,
          "y1": 0.5423841059602649
         },
         {
          "line": {
           "color": "gray",
           "dash": "dash",
           "width": 1
          },
          "type": "line",
          "x0": 47.5,
          "x1": 47.5,
          "y0": 0,
          "y1": 0.5423841059602649
         },
         {
          "line": {
           "color": "gray",
           "dash": "dash",
           "width": 1
          },
          "type": "line",
          "x0": 55.5,
          "x1": 55.5,
          "y0": 0,
          "y1": 0.5423841059602649
         },
         {
          "line": {
           "color": "gray",
           "dash": "dash",
           "width": 1
          },
          "type": "line",
          "x0": 63.5,
          "x1": 63.5,
          "y0": 0,
          "y1": 0.5423841059602649
         },
         {
          "line": {
           "color": "gray",
           "dash": "dash",
           "width": 1
          },
          "type": "line",
          "x0": 71.5,
          "x1": 71.5,
          "y0": 0,
          "y1": 0.5423841059602649
         },
         {
          "line": {
           "color": "gray",
           "dash": "dash",
           "width": 1
          },
          "type": "line",
          "x0": 79.5,
          "x1": 79.5,
          "y0": 0,
          "y1": 0.5423841059602649
         },
         {
          "line": {
           "color": "gray",
           "dash": "dash",
           "width": 1
          },
          "type": "line",
          "x0": 87.5,
          "x1": 87.5,
          "y0": 0,
          "y1": 0.5423841059602649
         },
         {
          "line": {
           "color": "gray",
           "dash": "dash",
           "width": 1
          },
          "type": "line",
          "x0": 95.5,
          "x1": 95.5,
          "y0": 0,
          "y1": 0.5423841059602649
         },
         {
          "line": {
           "color": "gray",
           "dash": "dash",
           "width": 1
          },
          "type": "line",
          "x0": 103.5,
          "x1": 103.5,
          "y0": 0,
          "y1": 0.5423841059602649
         },
         {
          "line": {
           "color": "gray",
           "dash": "dash",
           "width": 1
          },
          "type": "line",
          "x0": 111.5,
          "x1": 111.5,
          "y0": 0,
          "y1": 0.5423841059602649
         },
         {
          "line": {
           "color": "gray",
           "dash": "dash",
           "width": 1
          },
          "type": "line",
          "x0": 119.5,
          "x1": 119.5,
          "y0": 0,
          "y1": 0.5423841059602649
         },
         {
          "line": {
           "color": "black",
           "width": 1
          },
          "opacity": 0,
          "type": "rect",
          "x0": -0.5,
          "x1": 7.5,
          "xref": "x",
          "y0": 0,
          "y1": 1,
          "yref": "y domain"
         },
         {
          "line": {
           "color": "black",
           "width": 1
          },
          "opacity": 0,
          "type": "rect",
          "x0": 7.5,
          "x1": 15.5,
          "xref": "x",
          "y0": 0,
          "y1": 1,
          "yref": "y domain"
         },
         {
          "line": {
           "color": "black",
           "width": 1
          },
          "opacity": 0,
          "type": "rect",
          "x0": 15.5,
          "x1": 23.5,
          "xref": "x",
          "y0": 0,
          "y1": 1,
          "yref": "y domain"
         },
         {
          "line": {
           "color": "black",
           "width": 1
          },
          "opacity": 0,
          "type": "rect",
          "x0": 23.5,
          "x1": 31.5,
          "xref": "x",
          "y0": 0,
          "y1": 1,
          "yref": "y domain"
         },
         {
          "line": {
           "color": "black",
           "width": 1
          },
          "opacity": 0,
          "type": "rect",
          "x0": 31.5,
          "x1": 39.5,
          "xref": "x",
          "y0": 0,
          "y1": 1,
          "yref": "y domain"
         },
         {
          "line": {
           "color": "black",
           "width": 1
          },
          "opacity": 0,
          "type": "rect",
          "x0": 39.5,
          "x1": 47.5,
          "xref": "x",
          "y0": 0,
          "y1": 1,
          "yref": "y domain"
         },
         {
          "line": {
           "color": "black",
           "width": 1
          },
          "opacity": 0,
          "type": "rect",
          "x0": 47.5,
          "x1": 55.5,
          "xref": "x",
          "y0": 0,
          "y1": 1,
          "yref": "y domain"
         },
         {
          "line": {
           "color": "black",
           "width": 1
          },
          "opacity": 0,
          "type": "rect",
          "x0": 55.5,
          "x1": 63.5,
          "xref": "x",
          "y0": 0,
          "y1": 1,
          "yref": "y domain"
         },
         {
          "line": {
           "color": "black",
           "width": 1
          },
          "opacity": 0,
          "type": "rect",
          "x0": 63.5,
          "x1": 71.5,
          "xref": "x",
          "y0": 0,
          "y1": 1,
          "yref": "y domain"
         },
         {
          "line": {
           "color": "black",
           "width": 1
          },
          "opacity": 0,
          "type": "rect",
          "x0": 71.5,
          "x1": 79.5,
          "xref": "x",
          "y0": 0,
          "y1": 1,
          "yref": "y domain"
         },
         {
          "line": {
           "color": "black",
           "width": 1
          },
          "opacity": 0,
          "type": "rect",
          "x0": 79.5,
          "x1": 87.5,
          "xref": "x",
          "y0": 0,
          "y1": 1,
          "yref": "y domain"
         },
         {
          "line": {
           "color": "black",
           "width": 1
          },
          "opacity": 0,
          "type": "rect",
          "x0": 87.5,
          "x1": 95.5,
          "xref": "x",
          "y0": 0,
          "y1": 1,
          "yref": "y domain"
         },
         {
          "line": {
           "color": "black",
           "width": 1
          },
          "opacity": 0,
          "type": "rect",
          "x0": 95.5,
          "x1": 103.5,
          "xref": "x",
          "y0": 0,
          "y1": 1,
          "yref": "y domain"
         },
         {
          "line": {
           "color": "black",
           "width": 1
          },
          "opacity": 0,
          "type": "rect",
          "x0": 103.5,
          "x1": 111.5,
          "xref": "x",
          "y0": 0,
          "y1": 1,
          "yref": "y domain"
         },
         {
          "line": {
           "color": "black",
           "width": 1
          },
          "opacity": 0,
          "type": "rect",
          "x0": 111.5,
          "x1": 119.5,
          "xref": "x",
          "y0": 0,
          "y1": 1,
          "yref": "y domain"
         },
         {
          "line": {
           "color": "black",
           "width": 1
          },
          "opacity": 0,
          "type": "rect",
          "x0": 119.5,
          "x1": 127.5,
          "xref": "x",
          "y0": 0,
          "y1": 1,
          "yref": "y domain"
         },
         {
          "fillcolor": "#79A8DD",
          "layer": "below",
          "line": {
           "width": 0
          },
          "opacity": 0.2,
          "type": "rect",
          "x0": 66.5,
          "x1": 79.5,
          "xref": "x",
          "y0": 0,
          "y1": 1,
          "yref": "y domain"
         },
         {
          "fillcolor": "#DD79DA",
          "layer": "below",
          "line": {
           "width": 0
          },
          "opacity": 0.2,
          "type": "rect",
          "x0": 83.5,
          "x1": 103.5,
          "xref": "x",
          "y0": 0,
          "y1": 1,
          "yref": "y domain"
         },
         {
          "fillcolor": "#DDAE79",
          "layer": "below",
          "line": {
           "width": 0
          },
          "opacity": 0.2,
          "type": "rect",
          "x0": 106.5,
          "x1": 111.5,
          "xref": "x",
          "y0": 0,
          "y1": 1,
          "yref": "y domain"
         }
        ],
        "template": {
         "data": {
          "bar": [
           {
            "error_x": {
             "color": "#2a3f5f"
            },
            "error_y": {
             "color": "#2a3f5f"
            },
            "marker": {
             "line": {
              "color": "#E5ECF6",
              "width": 0.5
             },
             "pattern": {
              "fillmode": "overlay",
              "size": 10,
              "solidity": 0.2
             }
            },
            "type": "bar"
           }
          ],
          "barpolar": [
           {
            "marker": {
             "line": {
              "color": "#E5ECF6",
              "width": 0.5
             },
             "pattern": {
              "fillmode": "overlay",
              "size": 10,
              "solidity": 0.2
             }
            },
            "type": "barpolar"
           }
          ],
          "carpet": [
           {
            "aaxis": {
             "endlinecolor": "#2a3f5f",
             "gridcolor": "white",
             "linecolor": "white",
             "minorgridcolor": "white",
             "startlinecolor": "#2a3f5f"
            },
            "baxis": {
             "endlinecolor": "#2a3f5f",
             "gridcolor": "white",
             "linecolor": "white",
             "minorgridcolor": "white",
             "startlinecolor": "#2a3f5f"
            },
            "type": "carpet"
           }
          ],
          "choropleth": [
           {
            "colorbar": {
             "outlinewidth": 0,
             "ticks": ""
            },
            "type": "choropleth"
           }
          ],
          "contour": [
           {
            "colorbar": {
             "outlinewidth": 0,
             "ticks": ""
            },
            "colorscale": [
             [
              0,
              "#0d0887"
             ],
             [
              0.1111111111111111,
              "#46039f"
             ],
             [
              0.2222222222222222,
              "#7201a8"
             ],
             [
              0.3333333333333333,
              "#9c179e"
             ],
             [
              0.4444444444444444,
              "#bd3786"
             ],
             [
              0.5555555555555556,
              "#d8576b"
             ],
             [
              0.6666666666666666,
              "#ed7953"
             ],
             [
              0.7777777777777778,
              "#fb9f3a"
             ],
             [
              0.8888888888888888,
              "#fdca26"
             ],
             [
              1,
              "#f0f921"
             ]
            ],
            "type": "contour"
           }
          ],
          "contourcarpet": [
           {
            "colorbar": {
             "outlinewidth": 0,
             "ticks": ""
            },
            "type": "contourcarpet"
           }
          ],
          "heatmap": [
           {
            "colorbar": {
             "outlinewidth": 0,
             "ticks": ""
            },
            "colorscale": [
             [
              0,
              "#0d0887"
             ],
             [
              0.1111111111111111,
              "#46039f"
             ],
             [
              0.2222222222222222,
              "#7201a8"
             ],
             [
              0.3333333333333333,
              "#9c179e"
             ],
             [
              0.4444444444444444,
              "#bd3786"
             ],
             [
              0.5555555555555556,
              "#d8576b"
             ],
             [
              0.6666666666666666,
              "#ed7953"
             ],
             [
              0.7777777777777778,
              "#fb9f3a"
             ],
             [
              0.8888888888888888,
              "#fdca26"
             ],
             [
              1,
              "#f0f921"
             ]
            ],
            "type": "heatmap"
           }
          ],
          "histogram": [
           {
            "marker": {
             "pattern": {
              "fillmode": "overlay",
              "size": 10,
              "solidity": 0.2
             }
            },
            "type": "histogram"
           }
          ],
          "histogram2d": [
           {
            "colorbar": {
             "outlinewidth": 0,
             "ticks": ""
            },
            "colorscale": [
             [
              0,
              "#0d0887"
             ],
             [
              0.1111111111111111,
              "#46039f"
             ],
             [
              0.2222222222222222,
              "#7201a8"
             ],
             [
              0.3333333333333333,
              "#9c179e"
             ],
             [
              0.4444444444444444,
              "#bd3786"
             ],
             [
              0.5555555555555556,
              "#d8576b"
             ],
             [
              0.6666666666666666,
              "#ed7953"
             ],
             [
              0.7777777777777778,
              "#fb9f3a"
             ],
             [
              0.8888888888888888,
              "#fdca26"
             ],
             [
              1,
              "#f0f921"
             ]
            ],
            "type": "histogram2d"
           }
          ],
          "histogram2dcontour": [
           {
            "colorbar": {
             "outlinewidth": 0,
             "ticks": ""
            },
            "colorscale": [
             [
              0,
              "#0d0887"
             ],
             [
              0.1111111111111111,
              "#46039f"
             ],
             [
              0.2222222222222222,
              "#7201a8"
             ],
             [
              0.3333333333333333,
              "#9c179e"
             ],
             [
              0.4444444444444444,
              "#bd3786"
             ],
             [
              0.5555555555555556,
              "#d8576b"
             ],
             [
              0.6666666666666666,
              "#ed7953"
             ],
             [
              0.7777777777777778,
              "#fb9f3a"
             ],
             [
              0.8888888888888888,
              "#fdca26"
             ],
             [
              1,
              "#f0f921"
             ]
            ],
            "type": "histogram2dcontour"
           }
          ],
          "mesh3d": [
           {
            "colorbar": {
             "outlinewidth": 0,
             "ticks": ""
            },
            "type": "mesh3d"
           }
          ],
          "parcoords": [
           {
            "line": {
             "colorbar": {
              "outlinewidth": 0,
              "ticks": ""
             }
            },
            "type": "parcoords"
           }
          ],
          "pie": [
           {
            "automargin": true,
            "type": "pie"
           }
          ],
          "scatter": [
           {
            "fillpattern": {
             "fillmode": "overlay",
             "size": 10,
             "solidity": 0.2
            },
            "type": "scatter"
           }
          ],
          "scatter3d": [
           {
            "line": {
             "colorbar": {
              "outlinewidth": 0,
              "ticks": ""
             }
            },
            "marker": {
             "colorbar": {
              "outlinewidth": 0,
              "ticks": ""
             }
            },
            "type": "scatter3d"
           }
          ],
          "scattercarpet": [
           {
            "marker": {
             "colorbar": {
              "outlinewidth": 0,
              "ticks": ""
             }
            },
            "type": "scattercarpet"
           }
          ],
          "scattergeo": [
           {
            "marker": {
             "colorbar": {
              "outlinewidth": 0,
              "ticks": ""
             }
            },
            "type": "scattergeo"
           }
          ],
          "scattergl": [
           {
            "marker": {
             "colorbar": {
              "outlinewidth": 0,
              "ticks": ""
             }
            },
            "type": "scattergl"
           }
          ],
          "scattermap": [
           {
            "marker": {
             "colorbar": {
              "outlinewidth": 0,
              "ticks": ""
             }
            },
            "type": "scattermap"
           }
          ],
          "scattermapbox": [
           {
            "marker": {
             "colorbar": {
              "outlinewidth": 0,
              "ticks": ""
             }
            },
            "type": "scattermapbox"
           }
          ],
          "scatterpolar": [
           {
            "marker": {
             "colorbar": {
              "outlinewidth": 0,
              "ticks": ""
             }
            },
            "type": "scatterpolar"
           }
          ],
          "scatterpolargl": [
           {
            "marker": {
             "colorbar": {
              "outlinewidth": 0,
              "ticks": ""
             }
            },
            "type": "scatterpolargl"
           }
          ],
          "scatterternary": [
           {
            "marker": {
             "colorbar": {
              "outlinewidth": 0,
              "ticks": ""
             }
            },
            "type": "scatterternary"
           }
          ],
          "surface": [
           {
            "colorbar": {
             "outlinewidth": 0,
             "ticks": ""
            },
            "colorscale": [
             [
              0,
              "#0d0887"
             ],
             [
              0.1111111111111111,
              "#46039f"
             ],
             [
              0.2222222222222222,
              "#7201a8"
             ],
             [
              0.3333333333333333,
              "#9c179e"
             ],
             [
              0.4444444444444444,
              "#bd3786"
             ],
             [
              0.5555555555555556,
              "#d8576b"
             ],
             [
              0.6666666666666666,
              "#ed7953"
             ],
             [
              0.7777777777777778,
              "#fb9f3a"
             ],
             [
              0.8888888888888888,
              "#fdca26"
             ],
             [
              1,
              "#f0f921"
             ]
            ],
            "type": "surface"
           }
          ],
          "table": [
           {
            "cells": {
             "fill": {
              "color": "#EBF0F8"
             },
             "line": {
              "color": "white"
             }
            },
            "header": {
             "fill": {
              "color": "#C8D4E3"
             },
             "line": {
              "color": "white"
             }
            },
            "type": "table"
           }
          ]
         },
         "layout": {
          "annotationdefaults": {
           "arrowcolor": "#2a3f5f",
           "arrowhead": 0,
           "arrowwidth": 1
          },
          "autotypenumbers": "strict",
          "coloraxis": {
           "colorbar": {
            "outlinewidth": 0,
            "ticks": ""
           }
          },
          "colorscale": {
           "diverging": [
            [
             0,
             "#8e0152"
            ],
            [
             0.1,
             "#c51b7d"
            ],
            [
             0.2,
             "#de77ae"
            ],
            [
             0.3,
             "#f1b6da"
            ],
            [
             0.4,
             "#fde0ef"
            ],
            [
             0.5,
             "#f7f7f7"
            ],
            [
             0.6,
             "#e6f5d0"
            ],
            [
             0.7,
             "#b8e186"
            ],
            [
             0.8,
             "#7fbc41"
            ],
            [
             0.9,
             "#4d9221"
            ],
            [
             1,
             "#276419"
            ]
           ],
           "sequential": [
            [
             0,
             "#0d0887"
            ],
            [
             0.1111111111111111,
             "#46039f"
            ],
            [
             0.2222222222222222,
             "#7201a8"
            ],
            [
             0.3333333333333333,
             "#9c179e"
            ],
            [
             0.4444444444444444,
             "#bd3786"
            ],
            [
             0.5555555555555556,
             "#d8576b"
            ],
            [
             0.6666666666666666,
             "#ed7953"
            ],
            [
             0.7777777777777778,
             "#fb9f3a"
            ],
            [
             0.8888888888888888,
             "#fdca26"
            ],
            [
             1,
             "#f0f921"
            ]
           ],
           "sequentialminus": [
            [
             0,
             "#0d0887"
            ],
            [
             0.1111111111111111,
             "#46039f"
            ],
            [
             0.2222222222222222,
             "#7201a8"
            ],
            [
             0.3333333333333333,
             "#9c179e"
            ],
            [
             0.4444444444444444,
             "#bd3786"
            ],
            [
             0.5555555555555556,
             "#d8576b"
            ],
            [
             0.6666666666666666,
             "#ed7953"
            ],
            [
             0.7777777777777778,
             "#fb9f3a"
            ],
            [
             0.8888888888888888,
             "#fdca26"
            ],
            [
             1,
             "#f0f921"
            ]
           ]
          },
          "colorway": [
           "#636efa",
           "#EF553B",
           "#00cc96",
           "#ab63fa",
           "#FFA15A",
           "#19d3f3",
           "#FF6692",
           "#B6E880",
           "#FF97FF",
           "#FECB52"
          ],
          "font": {
           "color": "#2a3f5f"
          },
          "geo": {
           "bgcolor": "white",
           "lakecolor": "white",
           "landcolor": "#E5ECF6",
           "showlakes": true,
           "showland": true,
           "subunitcolor": "white"
          },
          "hoverlabel": {
           "align": "left"
          },
          "hovermode": "closest",
          "mapbox": {
           "style": "light"
          },
          "paper_bgcolor": "white",
          "plot_bgcolor": "#E5ECF6",
          "polar": {
           "angularaxis": {
            "gridcolor": "white",
            "linecolor": "white",
            "ticks": ""
           },
           "bgcolor": "#E5ECF6",
           "radialaxis": {
            "gridcolor": "white",
            "linecolor": "white",
            "ticks": ""
           }
          },
          "scene": {
           "xaxis": {
            "backgroundcolor": "#E5ECF6",
            "gridcolor": "white",
            "gridwidth": 2,
            "linecolor": "white",
            "showbackground": true,
            "ticks": "",
            "zerolinecolor": "white"
           },
           "yaxis": {
            "backgroundcolor": "#E5ECF6",
            "gridcolor": "white",
            "gridwidth": 2,
            "linecolor": "white",
            "showbackground": true,
            "ticks": "",
            "zerolinecolor": "white"
           },
           "zaxis": {
            "backgroundcolor": "#E5ECF6",
            "gridcolor": "white",
            "gridwidth": 2,
            "linecolor": "white",
            "showbackground": true,
            "ticks": "",
            "zerolinecolor": "white"
           }
          },
          "shapedefaults": {
           "line": {
            "color": "#2a3f5f"
           }
          },
          "ternary": {
           "aaxis": {
            "gridcolor": "white",
            "linecolor": "white",
            "ticks": ""
           },
           "baxis": {
            "gridcolor": "white",
            "linecolor": "white",
            "ticks": ""
           },
           "bgcolor": "#E5ECF6",
           "caxis": {
            "gridcolor": "white",
            "linecolor": "white",
            "ticks": ""
           }
          },
          "title": {
           "x": 0.05
          },
          "xaxis": {
           "automargin": true,
           "gridcolor": "white",
           "linecolor": "white",
           "ticks": "",
           "title": {
            "standoff": 15
           },
           "zerolinecolor": "white",
           "zerolinewidth": 2
          },
          "yaxis": {
           "automargin": true,
           "gridcolor": "white",
           "linecolor": "white",
           "ticks": "",
           "title": {
            "standoff": 15
           },
           "zerolinecolor": "white",
           "zerolinewidth": 2
          }
         }
        },
        "title": {
         "text": "Big-Endian: Bit Flip Probabilities"
        },
        "xaxis": {
         "tickfont": {
          "size": 8
         },
         "tickmode": "array",
         "ticktext": {
          "bdata": "BwYFBAMCAQAPDg0MCwoJCBcWFRQTEhEQHx4dHBsaGRgnJiUkIyIhIC8uLSwrKikoNzY1NDMyMTA/Pj08Ozo5OEdGRURDQkFAT05NTEtKSUhXVlVUU1JRUF9eXVxbWllYZ2ZlZGNiYWBvbm1sa2ppaHd2dXRzcnFwf359fHt6eXg=",
          "dtype": "i1"
         },
         "tickvals": {
          "bdata": "AAECAwQFBgcICQoLDA0ODxAREhMUFRYXGBkaGxwdHh8gISIjJCUmJygpKissLS4vMDEyMzQ1Njc4OTo7PD0+P0BBQkNERUZHSElKS0xNTk9QUVJTVFVWV1hZWltcXV5fYGFiY2RlZmdoaWprbG1ub3BxcnN0dXZ3eHl6e3x9fn8=",
          "dtype": "i1"
         },
         "title": {
          "text": "Bit Number"
         }
        },
        "yaxis": {
         "range": [
          0,
          1.1
         ],
         "title": {
          "text": "Bit Flip Probability"
         }
        }
       }
      }
     },
     "metadata": {},
     "output_type": "display_data"
    }
   ],
   "source": [
    "decoder.plot_message_from_id('18DAF218',[0,12,98,5,31])"
   ]
  },
  {
   "cell_type": "code",
   "execution_count": 11,
   "id": "5aa4b6a3",
   "metadata": {},
   "outputs": [
    {
     "data": {
      "application/vnd.plotly.v1+json": {
       "config": {
        "plotlyServerURL": "https://plot.ly"
       },
       "data": [
        {
         "mode": "lines",
         "name": "SIG_BE_1",
         "type": "scatter",
         "x": {
          "bdata": "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",
          "dtype": "f8"
         },
         "y": {
          "bdata": "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",
          "dtype": "f8"
         }
        }
       ],
       "layout": {
        "template": {
         "data": {
          "bar": [
           {
            "error_x": {
             "color": "#2a3f5f"
            },
            "error_y": {
             "color": "#2a3f5f"
            },
            "marker": {
             "line": {
              "color": "#E5ECF6",
              "width": 0.5
             },
             "pattern": {
              "fillmode": "overlay",
              "size": 10,
              "solidity": 0.2
             }
            },
            "type": "bar"
           }
          ],
          "barpolar": [
           {
            "marker": {
             "line": {
              "color": "#E5ECF6",
              "width": 0.5
             },
             "pattern": {
              "fillmode": "overlay",
              "size": 10,
              "solidity": 0.2
             }
            },
            "type": "barpolar"
           }
          ],
          "carpet": [
           {
            "aaxis": {
             "endlinecolor": "#2a3f5f",
             "gridcolor": "white",
             "linecolor": "white",
             "minorgridcolor": "white",
             "startlinecolor": "#2a3f5f"
            },
            "baxis": {
             "endlinecolor": "#2a3f5f",
             "gridcolor": "white",
             "linecolor": "white",
             "minorgridcolor": "white",
             "startlinecolor": "#2a3f5f"
            },
            "type": "carpet"
           }
          ],
          "choropleth": [
           {
            "colorbar": {
             "outlinewidth": 0,
             "ticks": ""
            },
            "type": "choropleth"
           }
          ],
          "contour": [
           {
            "colorbar": {
             "outlinewidth": 0,
             "ticks": ""
            },
            "colorscale": [
             [
              0,
              "#0d0887"
             ],
             [
              0.1111111111111111,
              "#46039f"
             ],
             [
              0.2222222222222222,
              "#7201a8"
             ],
             [
              0.3333333333333333,
              "#9c179e"
             ],
             [
              0.4444444444444444,
              "#bd3786"
             ],
             [
              0.5555555555555556,
              "#d8576b"
             ],
             [
              0.6666666666666666,
              "#ed7953"
             ],
             [
              0.7777777777777778,
              "#fb9f3a"
             ],
             [
              0.8888888888888888,
              "#fdca26"
             ],
             [
              1,
              "#f0f921"
             ]
            ],
            "type": "contour"
           }
          ],
          "contourcarpet": [
           {
            "colorbar": {
             "outlinewidth": 0,
             "ticks": ""
            },
            "type": "contourcarpet"
           }
          ],
          "heatmap": [
           {
            "colorbar": {
             "outlinewidth": 0,
             "ticks": ""
            },
            "colorscale": [
             [
              0,
              "#0d0887"
             ],
             [
              0.1111111111111111,
              "#46039f"
             ],
             [
              0.2222222222222222,
              "#7201a8"
             ],
             [
              0.3333333333333333,
              "#9c179e"
             ],
             [
              0.4444444444444444,
              "#bd3786"
             ],
             [
              0.5555555555555556,
              "#d8576b"
             ],
             [
              0.6666666666666666,
              "#ed7953"
             ],
             [
              0.7777777777777778,
              "#fb9f3a"
             ],
             [
              0.8888888888888888,
              "#fdca26"
             ],
             [
              1,
              "#f0f921"
             ]
            ],
            "type": "heatmap"
           }
          ],
          "histogram": [
           {
            "marker": {
             "pattern": {
              "fillmode": "overlay",
              "size": 10,
              "solidity": 0.2
             }
            },
            "type": "histogram"
           }
          ],
          "histogram2d": [
           {
            "colorbar": {
             "outlinewidth": 0,
             "ticks": ""
            },
            "colorscale": [
             [
              0,
              "#0d0887"
             ],
             [
              0.1111111111111111,
              "#46039f"
             ],
             [
              0.2222222222222222,
              "#7201a8"
             ],
             [
              0.3333333333333333,
              "#9c179e"
             ],
             [
              0.4444444444444444,
              "#bd3786"
             ],
             [
              0.5555555555555556,
              "#d8576b"
             ],
             [
              0.6666666666666666,
              "#ed7953"
             ],
             [
              0.7777777777777778,
              "#fb9f3a"
             ],
             [
              0.8888888888888888,
              "#fdca26"
             ],
             [
              1,
              "#f0f921"
             ]
            ],
            "type": "histogram2d"
           }
          ],
          "histogram2dcontour": [
           {
            "colorbar": {
             "outlinewidth": 0,
             "ticks": ""
            },
            "colorscale": [
             [
              0,
              "#0d0887"
             ],
             [
              0.1111111111111111,
              "#46039f"
             ],
             [
              0.2222222222222222,
              "#7201a8"
             ],
             [
              0.3333333333333333,
              "#9c179e"
             ],
             [
              0.4444444444444444,
              "#bd3786"
             ],
             [
              0.5555555555555556,
              "#d8576b"
             ],
             [
              0.6666666666666666,
              "#ed7953"
             ],
             [
              0.7777777777777778,
              "#fb9f3a"
             ],
             [
              0.8888888888888888,
              "#fdca26"
             ],
             [
              1,
              "#f0f921"
             ]
            ],
            "type": "histogram2dcontour"
           }
          ],
          "mesh3d": [
           {
            "colorbar": {
             "outlinewidth": 0,
             "ticks": ""
            },
            "type": "mesh3d"
           }
          ],
          "parcoords": [
           {
            "line": {
             "colorbar": {
              "outlinewidth": 0,
              "ticks": ""
             }
            },
            "type": "parcoords"
           }
          ],
          "pie": [
           {
            "automargin": true,
            "type": "pie"
           }
          ],
          "scatter": [
           {
            "fillpattern": {
             "fillmode": "overlay",
             "size": 10,
             "solidity": 0.2
            },
            "type": "scatter"
           }
          ],
          "scatter3d": [
           {
            "line": {
             "colorbar": {
              "outlinewidth": 0,
              "ticks": ""
             }
            },
            "marker": {
             "colorbar": {
              "outlinewidth": 0,
              "ticks": ""
             }
            },
            "type": "scatter3d"
           }
          ],
          "scattercarpet": [
           {
            "marker": {
             "colorbar": {
              "outlinewidth": 0,
              "ticks": ""
             }
            },
            "type": "scattercarpet"
           }
          ],
          "scattergeo": [
           {
            "marker": {
             "colorbar": {
              "outlinewidth": 0,
              "ticks": ""
             }
            },
            "type": "scattergeo"
           }
          ],
          "scattergl": [
           {
            "marker": {
             "colorbar": {
              "outlinewidth": 0,
              "ticks": ""
             }
            },
            "type": "scattergl"
           }
          ],
          "scattermap": [
           {
            "marker": {
             "colorbar": {
              "outlinewidth": 0,
              "ticks": ""
             }
            },
            "type": "scattermap"
           }
          ],
          "scattermapbox": [
           {
            "marker": {
             "colorbar": {
              "outlinewidth": 0,
              "ticks": ""
             }
            },
            "type": "scattermapbox"
           }
          ],
          "scatterpolar": [
           {
            "marker": {
             "colorbar": {
              "outlinewidth": 0,
              "ticks": ""
             }
            },
            "type": "scatterpolar"
           }
          ],
          "scatterpolargl": [
           {
            "marker": {
             "colorbar": {
              "outlinewidth": 0,
              "ticks": ""
             }
            },
            "type": "scatterpolargl"
           }
          ],
          "scatterternary": [
           {
            "marker": {
             "colorbar": {
              "outlinewidth": 0,
              "ticks": ""
             }
            },
            "type": "scatterternary"
           }
          ],
          "surface": [
           {
            "colorbar": {
             "outlinewidth": 0,
             "ticks": ""
            },
            "colorscale": [
             [
              0,
              "#0d0887"
             ],
             [
              0.1111111111111111,
              "#46039f"
             ],
             [
              0.2222222222222222,
              "#7201a8"
             ],
             [
              0.3333333333333333,
              "#9c179e"
             ],
             [
              0.4444444444444444,
              "#bd3786"
             ],
             [
              0.5555555555555556,
              "#d8576b"
             ],
             [
              0.6666666666666666,
              "#ed7953"
             ],
             [
              0.7777777777777778,
              "#fb9f3a"
             ],
             [
              0.8888888888888888,
              "#fdca26"
             ],
             [
              1,
              "#f0f921"
             ]
            ],
            "type": "surface"
           }
          ],
          "table": [
           {
            "cells": {
             "fill": {
              "color": "#EBF0F8"
             },
             "line": {
              "color": "white"
             }
            },
            "header": {
             "fill": {
              "color": "#C8D4E3"
             },
             "line": {
              "color": "white"
             }
            },
            "type": "table"
           }
          ]
         },
         "layout": {
          "annotationdefaults": {
           "arrowcolor": "#2a3f5f",
           "arrowhead": 0,
           "arrowwidth": 1
          },
          "autotypenumbers": "strict",
          "coloraxis": {
           "colorbar": {
            "outlinewidth": 0,
            "ticks": ""
           }
          },
          "colorscale": {
           "diverging": [
            [
             0,
             "#8e0152"
            ],
            [
             0.1,
             "#c51b7d"
            ],
            [
             0.2,
             "#de77ae"
            ],
            [
             0.3,
             "#f1b6da"
            ],
            [
             0.4,
             "#fde0ef"
            ],
            [
             0.5,
             "#f7f7f7"
            ],
            [
             0.6,
             "#e6f5d0"
            ],
            [
             0.7,
             "#b8e186"
            ],
            [
             0.8,
             "#7fbc41"
            ],
            [
             0.9,
             "#4d9221"
            ],
            [
             1,
             "#276419"
            ]
           ],
           "sequential": [
            [
             0,
             "#0d0887"
            ],
            [
             0.1111111111111111,
             "#46039f"
            ],
            [
             0.2222222222222222,
             "#7201a8"
            ],
            [
             0.3333333333333333,
             "#9c179e"
            ],
            [
             0.4444444444444444,
             "#bd3786"
            ],
            [
             0.5555555555555556,
             "#d8576b"
            ],
            [
             0.6666666666666666,
             "#ed7953"
            ],
            [
             0.7777777777777778,
             "#fb9f3a"
            ],
            [
             0.8888888888888888,
             "#fdca26"
            ],
            [
             1,
             "#f0f921"
            ]
           ],
           "sequentialminus": [
            [
             0,
             "#0d0887"
            ],
            [
             0.1111111111111111,
             "#46039f"
            ],
            [
             0.2222222222222222,
             "#7201a8"
            ],
            [
             0.3333333333333333,
             "#9c179e"
            ],
            [
             0.4444444444444444,
             "#bd3786"
            ],
            [
             0.5555555555555556,
             "#d8576b"
            ],
            [
             0.6666666666666666,
             "#ed7953"
            ],
            [
             0.7777777777777778,
             "#fb9f3a"
            ],
            [
             0.8888888888888888,
             "#fdca26"
            ],
            [
             1,
             "#f0f921"
            ]
           ]
          },
          "colorway": [
           "#636efa",
           "#EF553B",
           "#00cc96",
           "#ab63fa",
           "#FFA15A",
           "#19d3f3",
           "#FF6692",
           "#B6E880",
           "#FF97FF",
           "#FECB52"
          ],
          "font": {
           "color": "#2a3f5f"
          },
          "geo": {
           "bgcolor": "white",
           "lakecolor": "white",
           "landcolor": "#E5ECF6",
           "showlakes": true,
           "showland": true,
           "subunitcolor": "white"
          },
          "hoverlabel": {
           "align": "left"
          },
          "hovermode": "closest",
          "mapbox": {
           "style": "light"
          },
          "paper_bgcolor": "white",
          "plot_bgcolor": "#E5ECF6",
          "polar": {
           "angularaxis": {
            "gridcolor": "white",
            "linecolor": "white",
            "ticks": ""
           },
           "bgcolor": "#E5ECF6",
           "radialaxis": {
            "gridcolor": "white",
            "linecolor": "white",
            "ticks": ""
           }
          },
          "scene": {
           "xaxis": {
            "backgroundcolor": "#E5ECF6",
            "gridcolor": "white",
            "gridwidth": 2,
            "linecolor": "white",
            "showbackground": true,
            "ticks": "",
            "zerolinecolor": "white"
           },
           "yaxis": {
            "backgroundcolor": "#E5ECF6",
            "gridcolor": "white",
            "gridwidth": 2,
            "linecolor": "white",
            "showbackground": true,
            "ticks": "",
            "zerolinecolor": "white"
           },
           "zaxis": {
            "backgroundcolor": "#E5ECF6",
            "gridcolor": "white",
            "gridwidth": 2,
            "linecolor": "white",
            "showbackground": true,
            "ticks": "",
            "zerolinecolor": "white"
           }
          },
          "shapedefaults": {
           "line": {
            "color": "#2a3f5f"
           }
          },
          "ternary": {
           "aaxis": {
            "gridcolor": "white",
            "linecolor": "white",
            "ticks": ""
           },
           "baxis": {
            "gridcolor": "white",
            "linecolor": "white",
            "ticks": ""
           },
           "bgcolor": "#E5ECF6",
           "caxis": {
            "gridcolor": "white",
            "linecolor": "white",
            "ticks": ""
           }
          },
          "title": {
           "x": 0.05
          },
          "xaxis": {
           "automargin": true,
           "gridcolor": "white",
           "linecolor": "white",
           "ticks": "",
           "title": {
            "standoff": 15
           },
           "zerolinecolor": "white",
           "zerolinewidth": 2
          },
          "yaxis": {
           "automargin": true,
           "gridcolor": "white",
           "linecolor": "white",
           "ticks": "",
           "title": {
            "standoff": 15
           },
           "zerolinecolor": "white",
           "zerolinewidth": 2
          }
         }
        }
       }
      }
     },
     "metadata": {},
     "output_type": "display_data"
    }
   ],
   "source": [
    "decoder.plot_signal_from_id('18DAF218',[0,12,98,5,31], signal_id='SIG_BE_1')"
   ]
  },
  {
   "cell_type": "code",
   "execution_count": 28,
   "id": "154dea19",
   "metadata": {},
   "outputs": [
    {
     "data": {
      "application/vnd.plotly.v1+json": {
       "config": {
        "plotlyServerURL": "https://plot.ly"
       },
       "data": [
        {
         "mode": "lines+markers",
         "name": "SIG_BE_12",
         "type": "scatter",
         "x": {
          "bdata": "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",
          "dtype": "f8"
         },
         "y": {
          "bdata": "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",
          "dtype": "f8"
         }
        }
       ],
       "layout": {
        "template": {
         "data": {
          "bar": [
           {
            "error_x": {
             "color": "#2a3f5f"
            },
            "error_y": {
             "color": "#2a3f5f"
            },
            "marker": {
             "line": {
              "color": "#E5ECF6",
              "width": 0.5
             },
             "pattern": {
              "fillmode": "overlay",
              "size": 10,
              "solidity": 0.2
             }
            },
            "type": "bar"
           }
          ],
          "barpolar": [
           {
            "marker": {
             "line": {
              "color": "#E5ECF6",
              "width": 0.5
             },
             "pattern": {
              "fillmode": "overlay",
              "size": 10,
              "solidity": 0.2
             }
            },
            "type": "barpolar"
           }
          ],
          "carpet": [
           {
            "aaxis": {
             "endlinecolor": "#2a3f5f",
             "gridcolor": "white",
             "linecolor": "white",
             "minorgridcolor": "white",
             "startlinecolor": "#2a3f5f"
            },
            "baxis": {
             "endlinecolor": "#2a3f5f",
             "gridcolor": "white",
             "linecolor": "white",
             "minorgridcolor": "white",
             "startlinecolor": "#2a3f5f"
            },
            "type": "carpet"
           }
          ],
          "choropleth": [
           {
            "colorbar": {
             "outlinewidth": 0,
             "ticks": ""
            },
            "type": "choropleth"
           }
          ],
          "contour": [
           {
            "colorbar": {
             "outlinewidth": 0,
             "ticks": ""
            },
            "colorscale": [
             [
              0,
              "#0d0887"
             ],
             [
              0.1111111111111111,
              "#46039f"
             ],
             [
              0.2222222222222222,
              "#7201a8"
             ],
             [
              0.3333333333333333,
              "#9c179e"
             ],
             [
              0.4444444444444444,
              "#bd3786"
             ],
             [
              0.5555555555555556,
              "#d8576b"
             ],
             [
              0.6666666666666666,
              "#ed7953"
             ],
             [
              0.7777777777777778,
              "#fb9f3a"
             ],
             [
              0.8888888888888888,
              "#fdca26"
             ],
             [
              1,
              "#f0f921"
             ]
            ],
            "type": "contour"
           }
          ],
          "contourcarpet": [
           {
            "colorbar": {
             "outlinewidth": 0,
             "ticks": ""
            },
            "type": "contourcarpet"
           }
          ],
          "heatmap": [
           {
            "colorbar": {
             "outlinewidth": 0,
             "ticks": ""
            },
            "colorscale": [
             [
              0,
              "#0d0887"
             ],
             [
              0.1111111111111111,
              "#46039f"
             ],
             [
              0.2222222222222222,
              "#7201a8"
             ],
             [
              0.3333333333333333,
              "#9c179e"
             ],
             [
              0.4444444444444444,
              "#bd3786"
             ],
             [
              0.5555555555555556,
              "#d8576b"
             ],
             [
              0.6666666666666666,
              "#ed7953"
             ],
             [
              0.7777777777777778,
              "#fb9f3a"
             ],
             [
              0.8888888888888888,
              "#fdca26"
             ],
             [
              1,
              "#f0f921"
             ]
            ],
            "type": "heatmap"
           }
          ],
          "histogram": [
           {
            "marker": {
             "pattern": {
              "fillmode": "overlay",
              "size": 10,
              "solidity": 0.2
             }
            },
            "type": "histogram"
           }
          ],
          "histogram2d": [
           {
            "colorbar": {
             "outlinewidth": 0,
             "ticks": ""
            },
            "colorscale": [
             [
              0,
              "#0d0887"
             ],
             [
              0.1111111111111111,
              "#46039f"
             ],
             [
              0.2222222222222222,
              "#7201a8"
             ],
             [
              0.3333333333333333,
              "#9c179e"
             ],
             [
              0.4444444444444444,
              "#bd3786"
             ],
             [
              0.5555555555555556,
              "#d8576b"
             ],
             [
              0.6666666666666666,
              "#ed7953"
             ],
             [
              0.7777777777777778,
              "#fb9f3a"
             ],
             [
              0.8888888888888888,
              "#fdca26"
             ],
             [
              1,
              "#f0f921"
             ]
            ],
            "type": "histogram2d"
           }
          ],
          "histogram2dcontour": [
           {
            "colorbar": {
             "outlinewidth": 0,
             "ticks": ""
            },
            "colorscale": [
             [
              0,
              "#0d0887"
             ],
             [
              0.1111111111111111,
              "#46039f"
             ],
             [
              0.2222222222222222,
              "#7201a8"
             ],
             [
              0.3333333333333333,
              "#9c179e"
             ],
             [
              0.4444444444444444,
              "#bd3786"
             ],
             [
              0.5555555555555556,
              "#d8576b"
             ],
             [
              0.6666666666666666,
              "#ed7953"
             ],
             [
              0.7777777777777778,
              "#fb9f3a"
             ],
             [
              0.8888888888888888,
              "#fdca26"
             ],
             [
              1,
              "#f0f921"
             ]
            ],
            "type": "histogram2dcontour"
           }
          ],
          "mesh3d": [
           {
            "colorbar": {
             "outlinewidth": 0,
             "ticks": ""
            },
            "type": "mesh3d"
           }
          ],
          "parcoords": [
           {
            "line": {
             "colorbar": {
              "outlinewidth": 0,
              "ticks": ""
             }
            },
            "type": "parcoords"
           }
          ],
          "pie": [
           {
            "automargin": true,
            "type": "pie"
           }
          ],
          "scatter": [
           {
            "fillpattern": {
             "fillmode": "overlay",
             "size": 10,
             "solidity": 0.2
            },
            "type": "scatter"
           }
          ],
          "scatter3d": [
           {
            "line": {
             "colorbar": {
              "outlinewidth": 0,
              "ticks": ""
             }
            },
            "marker": {
             "colorbar": {
              "outlinewidth": 0,
              "ticks": ""
             }
            },
            "type": "scatter3d"
           }
          ],
          "scattercarpet": [
           {
            "marker": {
             "colorbar": {
              "outlinewidth": 0,
              "ticks": ""
             }
            },
            "type": "scattercarpet"
           }
          ],
          "scattergeo": [
           {
            "marker": {
             "colorbar": {
              "outlinewidth": 0,
              "ticks": ""
             }
            },
            "type": "scattergeo"
           }
          ],
          "scattergl": [
           {
            "marker": {
             "colorbar": {
              "outlinewidth": 0,
              "ticks": ""
             }
            },
            "type": "scattergl"
           }
          ],
          "scattermap": [
           {
            "marker": {
             "colorbar": {
              "outlinewidth": 0,
              "ticks": ""
             }
            },
            "type": "scattermap"
           }
          ],
          "scattermapbox": [
           {
            "marker": {
             "colorbar": {
              "outlinewidth": 0,
              "ticks": ""
             }
            },
            "type": "scattermapbox"
           }
          ],
          "scatterpolar": [
           {
            "marker": {
             "colorbar": {
              "outlinewidth": 0,
              "ticks": ""
             }
            },
            "type": "scatterpolar"
           }
          ],
          "scatterpolargl": [
           {
            "marker": {
             "colorbar": {
              "outlinewidth": 0,
              "ticks": ""
             }
            },
            "type": "scatterpolargl"
           }
          ],
          "scatterternary": [
           {
            "marker": {
             "colorbar": {
              "outlinewidth": 0,
              "ticks": ""
             }
            },
            "type": "scatterternary"
           }
          ],
          "surface": [
           {
            "colorbar": {
             "outlinewidth": 0,
             "ticks": ""
            },
            "colorscale": [
             [
              0,
              "#0d0887"
             ],
             [
              0.1111111111111111,
              "#46039f"
             ],
             [
              0.2222222222222222,
              "#7201a8"
             ],
             [
              0.3333333333333333,
              "#9c179e"
             ],
             [
              0.4444444444444444,
              "#bd3786"
             ],
             [
              0.5555555555555556,
              "#d8576b"
             ],
             [
              0.6666666666666666,
              "#ed7953"
             ],
             [
              0.7777777777777778,
              "#fb9f3a"
             ],
             [
              0.8888888888888888,
              "#fdca26"
             ],
             [
              1,
              "#f0f921"
             ]
            ],
            "type": "surface"
           }
          ],
          "table": [
           {
            "cells": {
             "fill": {
              "color": "#EBF0F8"
             },
             "line": {
              "color": "white"
             }
            },
            "header": {
             "fill": {
              "color": "#C8D4E3"
             },
             "line": {
              "color": "white"
             }
            },
            "type": "table"
           }
          ]
         },
         "layout": {
          "annotationdefaults": {
           "arrowcolor": "#2a3f5f",
           "arrowhead": 0,
           "arrowwidth": 1
          },
          "autotypenumbers": "strict",
          "coloraxis": {
           "colorbar": {
            "outlinewidth": 0,
            "ticks": ""
           }
          },
          "colorscale": {
           "diverging": [
            [
             0,
             "#8e0152"
            ],
            [
             0.1,
             "#c51b7d"
            ],
            [
             0.2,
             "#de77ae"
            ],
            [
             0.3,
             "#f1b6da"
            ],
            [
             0.4,
             "#fde0ef"
            ],
            [
             0.5,
             "#f7f7f7"
            ],
            [
             0.6,
             "#e6f5d0"
            ],
            [
             0.7,
             "#b8e186"
            ],
            [
             0.8,
             "#7fbc41"
            ],
            [
             0.9,
             "#4d9221"
            ],
            [
             1,
             "#276419"
            ]
           ],
           "sequential": [
            [
             0,
             "#0d0887"
            ],
            [
             0.1111111111111111,
             "#46039f"
            ],
            [
             0.2222222222222222,
             "#7201a8"
            ],
            [
             0.3333333333333333,
             "#9c179e"
            ],
            [
             0.4444444444444444,
             "#bd3786"
            ],
            [
             0.5555555555555556,
             "#d8576b"
            ],
            [
             0.6666666666666666,
             "#ed7953"
            ],
            [
             0.7777777777777778,
             "#fb9f3a"
            ],
            [
             0.8888888888888888,
             "#fdca26"
            ],
            [
             1,
             "#f0f921"
            ]
           ],
           "sequentialminus": [
            [
             0,
             "#0d0887"
            ],
            [
             0.1111111111111111,
             "#46039f"
            ],
            [
             0.2222222222222222,
             "#7201a8"
            ],
            [
             0.3333333333333333,
             "#9c179e"
            ],
            [
             0.4444444444444444,
             "#bd3786"
            ],
            [
             0.5555555555555556,
             "#d8576b"
            ],
            [
             0.6666666666666666,
             "#ed7953"
            ],
            [
             0.7777777777777778,
             "#fb9f3a"
            ],
            [
             0.8888888888888888,
             "#fdca26"
            ],
            [
             1,
             "#f0f921"
            ]
           ]
          },
          "colorway": [
           "#636efa",
           "#EF553B",
           "#00cc96",
           "#ab63fa",
           "#FFA15A",
           "#19d3f3",
           "#FF6692",
           "#B6E880",
           "#FF97FF",
           "#FECB52"
          ],
          "font": {
           "color": "#2a3f5f"
          },
          "geo": {
           "bgcolor": "white",
           "lakecolor": "white",
           "landcolor": "#E5ECF6",
           "showlakes": true,
           "showland": true,
           "subunitcolor": "white"
          },
          "hoverlabel": {
           "align": "left"
          },
          "hovermode": "closest",
          "mapbox": {
           "style": "light"
          },
          "paper_bgcolor": "white",
          "plot_bgcolor": "#E5ECF6",
          "polar": {
           "angularaxis": {
            "gridcolor": "white",
            "linecolor": "white",
            "ticks": ""
           },
           "bgcolor": "#E5ECF6",
           "radialaxis": {
            "gridcolor": "white",
            "linecolor": "white",
            "ticks": ""
           }
          },
          "scene": {
           "xaxis": {
            "backgroundcolor": "#E5ECF6",
            "gridcolor": "white",
            "gridwidth": 2,
            "linecolor": "white",
            "showbackground": true,
            "ticks": "",
            "zerolinecolor": "white"
           },
           "yaxis": {
            "backgroundcolor": "#E5ECF6",
            "gridcolor": "white",
            "gridwidth": 2,
            "linecolor": "white",
            "showbackground": true,
            "ticks": "",
            "zerolinecolor": "white"
           },
           "zaxis": {
            "backgroundcolor": "#E5ECF6",
            "gridcolor": "white",
            "gridwidth": 2,
            "linecolor": "white",
            "showbackground": true,
            "ticks": "",
            "zerolinecolor": "white"
           }
          },
          "shapedefaults": {
           "line": {
            "color": "#2a3f5f"
           }
          },
          "ternary": {
           "aaxis": {
            "gridcolor": "white",
            "linecolor": "white",
            "ticks": ""
           },
           "baxis": {
            "gridcolor": "white",
            "linecolor": "white",
            "ticks": ""
           },
           "bgcolor": "#E5ECF6",
           "caxis": {
            "gridcolor": "white",
            "linecolor": "white",
            "ticks": ""
           }
          },
          "title": {
           "x": 0.05
          },
          "xaxis": {
           "automargin": true,
           "gridcolor": "white",
           "linecolor": "white",
           "ticks": "",
           "title": {
            "standoff": 15
           },
           "zerolinecolor": "white",
           "zerolinewidth": 2
          },
          "yaxis": {
           "automargin": true,
           "gridcolor": "white",
           "linecolor": "white",
           "ticks": "",
           "title": {
            "standoff": 15
           },
           "zerolinecolor": "white",
           "zerolinewidth": 2
          }
         }
        }
       }
      }
     },
     "metadata": {},
     "output_type": "display_data"
    }
   ],
   "source": [
    "f = decoder.plot_signal_from_id('10F',signal_id='SIG_BE_12', return_fig=True)\n",
    "f['data'][0]['mode'] = 'lines+markers'\n",
    "f.show()"
   ]
  },
  {
   "cell_type": "code",
   "execution_count": null,
   "id": "84033e5c",
   "metadata": {},
   "outputs": [
    {
     "data": {
      "application/vnd.plotly.v1+json": {
       "config": {
        "plotlyServerURL": "https://plot.ly"
       },
       "data": [
        {
         "marker": {
          "color": "black"
         },
         "name": "Bit Flip Probability",
         "opacity": 0.7,
         "type": "bar",
         "x": {
          "bdata": "AAECAwQFBgcICQoLDA0ODxAREhMUFRYXGBkaGxwdHh8gISIjJCUmJygpKissLS4vMDEyMzQ1Njc4OTo7PD0+P0BBQkNERUZHSElKS0xNTk9QUVJTVFVWV1hZWltcXV5fYGFiY2RlZmdoaWprbG1ub3BxcnN0dXZ3eHl6e3x9fn8=",
          "dtype": "i1"
         },
         "y": {
          "bdata": "AAAAAAAAAAAAAAAAAAAAAAAAAAAAAAAAAAAAAAAAAAAAAAAAAAAAAAAAAAAAAAAAAAAAAAAAAAAAAAAAAAAAAAAAAAAAAAAAAAAAAAAAAAAAAAAAAAAAAAAAAAAAAAAAAAAAAAAAAAAAAAAAAAAAAAAAAAAAAAAAAAAAAAAAAAAAAAAAAAAAAAAAAAAAAAAAAAAAAAAAAAAAAAAAAAAAAAAAAAAAAAAAAAAAAAAAAAAAAAAAAAAAAAAAAAAAAAAAAAAAAAAAAAAAAAAAAAAAAAAAAAAAAAAAAAAAAAAAAAAAAAAAAAAAAAAAAAAAAAAAAAAAAAAAAAAAAAAAAAAAAAAAAAAAAAAAAAAAAAAAAAAAAAAAAAAAAAAAAAAAAAAAAAAAAAAAAAAAAAAAAAAAAAAAAAAAAAAAAAAAAAAAAAAAAAAAAAAAAAAAAAAAAAAAAAAAAAAAAAAAAAAAAAAAAAAAAAAAAAAAAAAAAAAAAAAAAAAAAAAAAAAAAAAAAAAAAAAAAAAAAAAAAAAAAAAAAAAAAAAAAAAAAAAAAAAAAAAAAAAAAAAAAAAAAAAAAAAAAAAAAAAAAAAAAAAAAAAAAAAAAAAAAAAAAAAAAAAAAAAAAAAAAAAAAAAAAAAAAAAAAAAAAAAAAAAAAAAAAAAAAAAAAAAAAAAAAAAAAAAAAAAAAAAAAAAAAAAAAAAAAAAAAAAAAAAAAACjYFGwKFiUP6NgUbAoWKQ/lZhKTCWmsj/nSHOkOdK8P8u4Zdwybsk/2YBsQDYgyz+LgkXBomDRP+2sdlY7q80/kuZIc6Q50j+LgkXBomDRP6YSU4mpxNQ/i4JFwaJg0T+VmEpMJabSPwAAAAAAAAAAAAAAAAAAAAAAAAAAAAAAAAAAAAAAAAAA2YBsQDYgez/ZgGxANiCLP6NgUbAoWKQ/iNBD6CH0sD+c/E3+Jn/DP5+uT9en69M/y7hl3DJu2T/WzmpntbPaP/QQegg9hN4/8V54L7wX3j/cMm4Zt4zbP4QeQg+hh+A/3DJuGbeM2z/q+nR9uj7dP4QeQg+hh9A/50hzpDnS3D/0EHoIPYTOP/QQegg9hM4/7ax2VjurzT+wKFgULArGPwAAAAAAAAAAAAAAAAAAAAAAAAAAAAAAANmAbEA2IGs/2YBsQDYgaz+jYFGwKFiEP9mAbEA2IIs/lZhKTCWmoj8AAAAAAAAAAAAAAAAAAAAAAAAAAAAAAAAAAAAAAAAAAAAAAAAAAAAAAAAAAAAAAAAAAAAAAAAAAAAAAAAAAAAAAAAAAAAAAAAAAAAAAAAAAAAAAAAAAAAAAAAAAAAAAAAAAAAAAAAAAAAAAAAAAAAAAAAAAAAAAAAAAAAAAAAAAA==",
          "dtype": "f8"
         }
        }
       ],
       "layout": {
        "annotations": [
         {
          "font": {
           "size": 10
          },
          "showarrow": false,
          "text": "Byte 0",
          "x": 3.5,
          "xanchor": "center",
          "xref": "x",
          "y": 1,
          "yanchor": "bottom",
          "yref": "y domain"
         },
         {
          "font": {
           "size": 10
          },
          "showarrow": false,
          "text": "Byte 1",
          "x": 11.5,
          "xanchor": "center",
          "xref": "x",
          "y": 1,
          "yanchor": "bottom",
          "yref": "y domain"
         },
         {
          "font": {
           "size": 10
          },
          "showarrow": false,
          "text": "Byte 2",
          "x": 19.5,
          "xanchor": "center",
          "xref": "x",
          "y": 1,
          "yanchor": "bottom",
          "yref": "y domain"
         },
         {
          "font": {
           "size": 10
          },
          "showarrow": false,
          "text": "Byte 3",
          "x": 27.5,
          "xanchor": "center",
          "xref": "x",
          "y": 1,
          "yanchor": "bottom",
          "yref": "y domain"
         },
         {
          "font": {
           "size": 10
          },
          "showarrow": false,
          "text": "Byte 4",
          "x": 35.5,
          "xanchor": "center",
          "xref": "x",
          "y": 1,
          "yanchor": "bottom",
          "yref": "y domain"
         },
         {
          "font": {
           "size": 10
          },
          "showarrow": false,
          "text": "Byte 5",
          "x": 43.5,
          "xanchor": "center",
          "xref": "x",
          "y": 1,
          "yanchor": "bottom",
          "yref": "y domain"
         },
         {
          "font": {
           "size": 10
          },
          "showarrow": false,
          "text": "Byte 6",
          "x": 51.5,
          "xanchor": "center",
          "xref": "x",
          "y": 1,
          "yanchor": "bottom",
          "yref": "y domain"
         },
         {
          "font": {
           "size": 10
          },
          "showarrow": false,
          "text": "Byte 7",
          "x": 59.5,
          "xanchor": "center",
          "xref": "x",
          "y": 1,
          "yanchor": "bottom",
          "yref": "y domain"
         },
         {
          "font": {
           "size": 10
          },
          "showarrow": false,
          "text": "Byte 8",
          "x": 67.5,
          "xanchor": "center",
          "xref": "x",
          "y": 1,
          "yanchor": "bottom",
          "yref": "y domain"
         },
         {
          "font": {
           "size": 10
          },
          "showarrow": false,
          "text": "Byte 9",
          "x": 75.5,
          "xanchor": "center",
          "xref": "x",
          "y": 1,
          "yanchor": "bottom",
          "yref": "y domain"
         },
         {
          "font": {
           "size": 10
          },
          "showarrow": false,
          "text": "Byte 10",
          "x": 83.5,
          "xanchor": "center",
          "xref": "x",
          "y": 1,
          "yanchor": "bottom",
          "yref": "y domain"
         },
         {
          "font": {
           "size": 10
          },
          "showarrow": false,
          "text": "Byte 11",
          "x": 91.5,
          "xanchor": "center",
          "xref": "x",
          "y": 1,
          "yanchor": "bottom",
          "yref": "y domain"
         },
         {
          "font": {
           "size": 10
          },
          "showarrow": false,
          "text": "Byte 12",
          "x": 99.5,
          "xanchor": "center",
          "xref": "x",
          "y": 1,
          "yanchor": "bottom",
          "yref": "y domain"
         },
         {
          "font": {
           "size": 10
          },
          "showarrow": false,
          "text": "Byte 13",
          "x": 107.5,
          "xanchor": "center",
          "xref": "x",
          "y": 1,
          "yanchor": "bottom",
          "yref": "y domain"
         },
         {
          "font": {
           "size": 10
          },
          "showarrow": false,
          "text": "Byte 14",
          "x": 115.5,
          "xanchor": "center",
          "xref": "x",
          "y": 1,
          "yanchor": "bottom",
          "yref": "y domain"
         },
         {
          "font": {
           "size": 10
          },
          "showarrow": false,
          "text": "Byte 15",
          "x": 123.5,
          "xanchor": "center",
          "xref": "x",
          "y": 1,
          "yanchor": "bottom",
          "yref": "y domain"
         },
         {
          "showarrow": false,
          "text": "SIG_BE_1",
          "x": 66.5,
          "xanchor": "left",
          "xref": "x",
          "y": 1,
          "yanchor": "top",
          "yref": "y domain"
         },
         {
          "showarrow": false,
          "text": "SIG_BE_3",
          "x": 83.5,
          "xanchor": "left",
          "xref": "x",
          "y": 1,
          "yanchor": "top",
          "yref": "y domain"
         },
         {
          "showarrow": false,
          "text": "SIG_BE_5",
          "x": 106.5,
          "xanchor": "left",
          "xref": "x",
          "y": 1,
          "yanchor": "top",
          "yref": "y domain"
         }
        ],
        "legend": {
         "font": {
          "size": 8
         },
         "orientation": "h",
         "x": 0.5,
         "xanchor": "center",
         "y": -0.2
        },
        "shapes": [
         {
          "line": {
           "color": "gray",
           "dash": "dash",
           "width": 1
          },
          "type": "line",
          "x0": 7.5,
          "x1": 7.5,
          "y0": 0,
          "y1": 0.5423841059602649
         },
         {
          "line": {
           "color": "gray",
           "dash": "dash",
           "width": 1
          },
          "type": "line",
          "x0": 15.5,
          "x1": 15.5,
          "y0": 0,
          "y1": 0.5423841059602649
         },
         {
          "line": {
           "color": "gray",
           "dash": "dash",
           "width": 1
          },
          "type": "line",
          "x0": 23.5,
          "x1": 23.5,
          "y0": 0,
          "y1": 0.5423841059602649
         },
         {
          "line": {
           "color": "gray",
           "dash": "dash",
           "width": 1
          },
          "type": "line",
          "x0": 31.5,
          "x1": 31.5,
          "y0": 0,
          "y1": 0.5423841059602649
         },
         {
          "line": {
           "color": "gray",
           "dash": "dash",
           "width": 1
          },
          "type": "line",
          "x0": 39.5,
          "x1": 39.5,
          "y0": 0,
          "y1": 0.5423841059602649
         },
         {
          "line": {
           "color": "gray",
           "dash": "dash",
           "width": 1
          },
          "type": "line",
          "x0": 47.5,
          "x1": 47.5,
          "y0": 0,
          "y1": 0.5423841059602649
         },
         {
          "line": {
           "color": "gray",
           "dash": "dash",
           "width": 1
          },
          "type": "line",
          "x0": 55.5,
          "x1": 55.5,
          "y0": 0,
          "y1": 0.5423841059602649
         },
         {
          "line": {
           "color": "gray",
           "dash": "dash",
           "width": 1
          },
          "type": "line",
          "x0": 63.5,
          "x1": 63.5,
          "y0": 0,
          "y1": 0.5423841059602649
         },
         {
          "line": {
           "color": "gray",
           "dash": "dash",
           "width": 1
          },
          "type": "line",
          "x0": 71.5,
          "x1": 71.5,
          "y0": 0,
          "y1": 0.5423841059602649
         },
         {
          "line": {
           "color": "gray",
           "dash": "dash",
           "width": 1
          },
          "type": "line",
          "x0": 79.5,
          "x1": 79.5,
          "y0": 0,
          "y1": 0.5423841059602649
         },
         {
          "line": {
           "color": "gray",
           "dash": "dash",
           "width": 1
          },
          "type": "line",
          "x0": 87.5,
          "x1": 87.5,
          "y0": 0,
          "y1": 0.5423841059602649
         },
         {
          "line": {
           "color": "gray",
           "dash": "dash",
           "width": 1
          },
          "type": "line",
          "x0": 95.5,
          "x1": 95.5,
          "y0": 0,
          "y1": 0.5423841059602649
         },
         {
          "line": {
           "color": "gray",
           "dash": "dash",
           "width": 1
          },
          "type": "line",
          "x0": 103.5,
          "x1": 103.5,
          "y0": 0,
          "y1": 0.5423841059602649
         },
         {
          "line": {
           "color": "gray",
           "dash": "dash",
           "width": 1
          },
          "type": "line",
          "x0": 111.5,
          "x1": 111.5,
          "y0": 0,
          "y1": 0.5423841059602649
         },
         {
          "line": {
           "color": "gray",
           "dash": "dash",
           "width": 1
          },
          "type": "line",
          "x0": 119.5,
          "x1": 119.5,
          "y0": 0,
          "y1": 0.5423841059602649
         },
         {
          "line": {
           "color": "black",
           "width": 1
          },
          "opacity": 0,
          "type": "rect",
          "x0": -0.5,
          "x1": 7.5,
          "xref": "x",
          "y0": 0,
          "y1": 1,
          "yref": "y domain"
         },
         {
          "line": {
           "color": "black",
           "width": 1
          },
          "opacity": 0,
          "type": "rect",
          "x0": 7.5,
          "x1": 15.5,
          "xref": "x",
          "y0": 0,
          "y1": 1,
          "yref": "y domain"
         },
         {
          "line": {
           "color": "black",
           "width": 1
          },
          "opacity": 0,
          "type": "rect",
          "x0": 15.5,
          "x1": 23.5,
          "xref": "x",
          "y0": 0,
          "y1": 1,
          "yref": "y domain"
         },
         {
          "line": {
           "color": "black",
           "width": 1
          },
          "opacity": 0,
          "type": "rect",
          "x0": 23.5,
          "x1": 31.5,
          "xref": "x",
          "y0": 0,
          "y1": 1,
          "yref": "y domain"
         },
         {
          "line": {
           "color": "black",
           "width": 1
          },
          "opacity": 0,
          "type": "rect",
          "x0": 31.5,
          "x1": 39.5,
          "xref": "x",
          "y0": 0,
          "y1": 1,
          "yref": "y domain"
         },
         {
          "line": {
           "color": "black",
           "width": 1
          },
          "opacity": 0,
          "type": "rect",
          "x0": 39.5,
          "x1": 47.5,
          "xref": "x",
          "y0": 0,
          "y1": 1,
          "yref": "y domain"
         },
         {
          "line": {
           "color": "black",
           "width": 1
          },
          "opacity": 0,
          "type": "rect",
          "x0": 47.5,
          "x1": 55.5,
          "xref": "x",
          "y0": 0,
          "y1": 1,
          "yref": "y domain"
         },
         {
          "line": {
           "color": "black",
           "width": 1
          },
          "opacity": 0,
          "type": "rect",
          "x0": 55.5,
          "x1": 63.5,
          "xref": "x",
          "y0": 0,
          "y1": 1,
          "yref": "y domain"
         },
         {
          "line": {
           "color": "black",
           "width": 1
          },
          "opacity": 0,
          "type": "rect",
          "x0": 63.5,
          "x1": 71.5,
          "xref": "x",
          "y0": 0,
          "y1": 1,
          "yref": "y domain"
         },
         {
          "line": {
           "color": "black",
           "width": 1
          },
          "opacity": 0,
          "type": "rect",
          "x0": 71.5,
          "x1": 79.5,
          "xref": "x",
          "y0": 0,
          "y1": 1,
          "yref": "y domain"
         },
         {
          "line": {
           "color": "black",
           "width": 1
          },
          "opacity": 0,
          "type": "rect",
          "x0": 79.5,
          "x1": 87.5,
          "xref": "x",
          "y0": 0,
          "y1": 1,
          "yref": "y domain"
         },
         {
          "line": {
           "color": "black",
           "width": 1
          },
          "opacity": 0,
          "type": "rect",
          "x0": 87.5,
          "x1": 95.5,
          "xref": "x",
          "y0": 0,
          "y1": 1,
          "yref": "y domain"
         },
         {
          "line": {
           "color": "black",
           "width": 1
          },
          "opacity": 0,
          "type": "rect",
          "x0": 95.5,
          "x1": 103.5,
          "xref": "x",
          "y0": 0,
          "y1": 1,
          "yref": "y domain"
         },
         {
          "line": {
           "color": "black",
           "width": 1
          },
          "opacity": 0,
          "type": "rect",
          "x0": 103.5,
          "x1": 111.5,
          "xref": "x",
          "y0": 0,
          "y1": 1,
          "yref": "y domain"
         },
         {
          "line": {
           "color": "black",
           "width": 1
          },
          "opacity": 0,
          "type": "rect",
          "x0": 111.5,
          "x1": 119.5,
          "xref": "x",
          "y0": 0,
          "y1": 1,
          "yref": "y domain"
         },
         {
          "line": {
           "color": "black",
           "width": 1
          },
          "opacity": 0,
          "type": "rect",
          "x0": 119.5,
          "x1": 127.5,
          "xref": "x",
          "y0": 0,
          "y1": 1,
          "yref": "y domain"
         },
         {
          "fillcolor": "#79A8DD",
          "layer": "below",
          "line": {
           "width": 0
          },
          "opacity": 0.2,
          "type": "rect",
          "x0": 66.5,
          "x1": 79.5,
          "xref": "x",
          "y0": 0,
          "y1": 1,
          "yref": "y domain"
         },
         {
          "fillcolor": "#DD79DA",
          "layer": "below",
          "line": {
           "width": 0
          },
          "opacity": 0.2,
          "type": "rect",
          "x0": 83.5,
          "x1": 103.5,
          "xref": "x",
          "y0": 0,
          "y1": 1,
          "yref": "y domain"
         },
         {
          "fillcolor": "#DDAE79",
          "layer": "below",
          "line": {
           "width": 0
          },
          "opacity": 0.2,
          "type": "rect",
          "x0": 106.5,
          "x1": 111.5,
          "xref": "x",
          "y0": 0,
          "y1": 1,
          "yref": "y domain"
         }
        ],
        "template": {
         "data": {
          "bar": [
           {
            "error_x": {
             "color": "#2a3f5f"
            },
            "error_y": {
             "color": "#2a3f5f"
            },
            "marker": {
             "line": {
              "color": "#E5ECF6",
              "width": 0.5
             },
             "pattern": {
              "fillmode": "overlay",
              "size": 10,
              "solidity": 0.2
             }
            },
            "type": "bar"
           }
          ],
          "barpolar": [
           {
            "marker": {
             "line": {
              "color": "#E5ECF6",
              "width": 0.5
             },
             "pattern": {
              "fillmode": "overlay",
              "size": 10,
              "solidity": 0.2
             }
            },
            "type": "barpolar"
           }
          ],
          "carpet": [
           {
            "aaxis": {
             "endlinecolor": "#2a3f5f",
             "gridcolor": "white",
             "linecolor": "white",
             "minorgridcolor": "white",
             "startlinecolor": "#2a3f5f"
            },
            "baxis": {
             "endlinecolor": "#2a3f5f",
             "gridcolor": "white",
             "linecolor": "white",
             "minorgridcolor": "white",
             "startlinecolor": "#2a3f5f"
            },
            "type": "carpet"
           }
          ],
          "choropleth": [
           {
            "colorbar": {
             "outlinewidth": 0,
             "ticks": ""
            },
            "type": "choropleth"
           }
          ],
          "contour": [
           {
            "colorbar": {
             "outlinewidth": 0,
             "ticks": ""
            },
            "colorscale": [
             [
              0,
              "#0d0887"
             ],
             [
              0.1111111111111111,
              "#46039f"
             ],
             [
              0.2222222222222222,
              "#7201a8"
             ],
             [
              0.3333333333333333,
              "#9c179e"
             ],
             [
              0.4444444444444444,
              "#bd3786"
             ],
             [
              0.5555555555555556,
              "#d8576b"
             ],
             [
              0.6666666666666666,
              "#ed7953"
             ],
             [
              0.7777777777777778,
              "#fb9f3a"
             ],
             [
              0.8888888888888888,
              "#fdca26"
             ],
             [
              1,
              "#f0f921"
             ]
            ],
            "type": "contour"
           }
          ],
          "contourcarpet": [
           {
            "colorbar": {
             "outlinewidth": 0,
             "ticks": ""
            },
            "type": "contourcarpet"
           }
          ],
          "heatmap": [
           {
            "colorbar": {
             "outlinewidth": 0,
             "ticks": ""
            },
            "colorscale": [
             [
              0,
              "#0d0887"
             ],
             [
              0.1111111111111111,
              "#46039f"
             ],
             [
              0.2222222222222222,
              "#7201a8"
             ],
             [
              0.3333333333333333,
              "#9c179e"
             ],
             [
              0.4444444444444444,
              "#bd3786"
             ],
             [
              0.5555555555555556,
              "#d8576b"
             ],
             [
              0.6666666666666666,
              "#ed7953"
             ],
             [
              0.7777777777777778,
              "#fb9f3a"
             ],
             [
              0.8888888888888888,
              "#fdca26"
             ],
             [
              1,
              "#f0f921"
             ]
            ],
            "type": "heatmap"
           }
          ],
          "histogram": [
           {
            "marker": {
             "pattern": {
              "fillmode": "overlay",
              "size": 10,
              "solidity": 0.2
             }
            },
            "type": "histogram"
           }
          ],
          "histogram2d": [
           {
            "colorbar": {
             "outlinewidth": 0,
             "ticks": ""
            },
            "colorscale": [
             [
              0,
              "#0d0887"
             ],
             [
              0.1111111111111111,
              "#46039f"
             ],
             [
              0.2222222222222222,
              "#7201a8"
             ],
             [
              0.3333333333333333,
              "#9c179e"
             ],
             [
              0.4444444444444444,
              "#bd3786"
             ],
             [
              0.5555555555555556,
              "#d8576b"
             ],
             [
              0.6666666666666666,
              "#ed7953"
             ],
             [
              0.7777777777777778,
              "#fb9f3a"
             ],
             [
              0.8888888888888888,
              "#fdca26"
             ],
             [
              1,
              "#f0f921"
             ]
            ],
            "type": "histogram2d"
           }
          ],
          "histogram2dcontour": [
           {
            "colorbar": {
             "outlinewidth": 0,
             "ticks": ""
            },
            "colorscale": [
             [
              0,
              "#0d0887"
             ],
             [
              0.1111111111111111,
              "#46039f"
             ],
             [
              0.2222222222222222,
              "#7201a8"
             ],
             [
              0.3333333333333333,
              "#9c179e"
             ],
             [
              0.4444444444444444,
              "#bd3786"
             ],
             [
              0.5555555555555556,
              "#d8576b"
             ],
             [
              0.6666666666666666,
              "#ed7953"
             ],
             [
              0.7777777777777778,
              "#fb9f3a"
             ],
             [
              0.8888888888888888,
              "#fdca26"
             ],
             [
              1,
              "#f0f921"
             ]
            ],
            "type": "histogram2dcontour"
           }
          ],
          "mesh3d": [
           {
            "colorbar": {
             "outlinewidth": 0,
             "ticks": ""
            },
            "type": "mesh3d"
           }
          ],
          "parcoords": [
           {
            "line": {
             "colorbar": {
              "outlinewidth": 0,
              "ticks": ""
             }
            },
            "type": "parcoords"
           }
          ],
          "pie": [
           {
            "automargin": true,
            "type": "pie"
           }
          ],
          "scatter": [
           {
            "fillpattern": {
             "fillmode": "overlay",
             "size": 10,
             "solidity": 0.2
            },
            "type": "scatter"
           }
          ],
          "scatter3d": [
           {
            "line": {
             "colorbar": {
              "outlinewidth": 0,
              "ticks": ""
             }
            },
            "marker": {
             "colorbar": {
              "outlinewidth": 0,
              "ticks": ""
             }
            },
            "type": "scatter3d"
           }
          ],
          "scattercarpet": [
           {
            "marker": {
             "colorbar": {
              "outlinewidth": 0,
              "ticks": ""
             }
            },
            "type": "scattercarpet"
           }
          ],
          "scattergeo": [
           {
            "marker": {
             "colorbar": {
              "outlinewidth": 0,
              "ticks": ""
             }
            },
            "type": "scattergeo"
           }
          ],
          "scattergl": [
           {
            "marker": {
             "colorbar": {
              "outlinewidth": 0,
              "ticks": ""
             }
            },
            "type": "scattergl"
           }
          ],
          "scattermap": [
           {
            "marker": {
             "colorbar": {
              "outlinewidth": 0,
              "ticks": ""
             }
            },
            "type": "scattermap"
           }
          ],
          "scattermapbox": [
           {
            "marker": {
             "colorbar": {
              "outlinewidth": 0,
              "ticks": ""
             }
            },
            "type": "scattermapbox"
           }
          ],
          "scatterpolar": [
           {
            "marker": {
             "colorbar": {
              "outlinewidth": 0,
              "ticks": ""
             }
            },
            "type": "scatterpolar"
           }
          ],
          "scatterpolargl": [
           {
            "marker": {
             "colorbar": {
              "outlinewidth": 0,
              "ticks": ""
             }
            },
            "type": "scatterpolargl"
           }
          ],
          "scatterternary": [
           {
            "marker": {
             "colorbar": {
              "outlinewidth": 0,
              "ticks": ""
             }
            },
            "type": "scatterternary"
           }
          ],
          "surface": [
           {
            "colorbar": {
             "outlinewidth": 0,
             "ticks": ""
            },
            "colorscale": [
             [
              0,
              "#0d0887"
             ],
             [
              0.1111111111111111,
              "#46039f"
             ],
             [
              0.2222222222222222,
              "#7201a8"
             ],
             [
              0.3333333333333333,
              "#9c179e"
             ],
             [
              0.4444444444444444,
              "#bd3786"
             ],
             [
              0.5555555555555556,
              "#d8576b"
             ],
             [
              0.6666666666666666,
              "#ed7953"
             ],
             [
              0.7777777777777778,
              "#fb9f3a"
             ],
             [
              0.8888888888888888,
              "#fdca26"
             ],
             [
              1,
              "#f0f921"
             ]
            ],
            "type": "surface"
           }
          ],
          "table": [
           {
            "cells": {
             "fill": {
              "color": "#EBF0F8"
             },
             "line": {
              "color": "white"
             }
            },
            "header": {
             "fill": {
              "color": "#C8D4E3"
             },
             "line": {
              "color": "white"
             }
            },
            "type": "table"
           }
          ]
         },
         "layout": {
          "annotationdefaults": {
           "arrowcolor": "#2a3f5f",
           "arrowhead": 0,
           "arrowwidth": 1
          },
          "autotypenumbers": "strict",
          "coloraxis": {
           "colorbar": {
            "outlinewidth": 0,
            "ticks": ""
           }
          },
          "colorscale": {
           "diverging": [
            [
             0,
             "#8e0152"
            ],
            [
             0.1,
             "#c51b7d"
            ],
            [
             0.2,
             "#de77ae"
            ],
            [
             0.3,
             "#f1b6da"
            ],
            [
             0.4,
             "#fde0ef"
            ],
            [
             0.5,
             "#f7f7f7"
            ],
            [
             0.6,
             "#e6f5d0"
            ],
            [
             0.7,
             "#b8e186"
            ],
            [
             0.8,
             "#7fbc41"
            ],
            [
             0.9,
             "#4d9221"
            ],
            [
             1,
             "#276419"
            ]
           ],
           "sequential": [
            [
             0,
             "#0d0887"
            ],
            [
             0.1111111111111111,
             "#46039f"
            ],
            [
             0.2222222222222222,
             "#7201a8"
            ],
            [
             0.3333333333333333,
             "#9c179e"
            ],
            [
             0.4444444444444444,
             "#bd3786"
            ],
            [
             0.5555555555555556,
             "#d8576b"
            ],
            [
             0.6666666666666666,
             "#ed7953"
            ],
            [
             0.7777777777777778,
             "#fb9f3a"
            ],
            [
             0.8888888888888888,
             "#fdca26"
            ],
            [
             1,
             "#f0f921"
            ]
           ],
           "sequentialminus": [
            [
             0,
             "#0d0887"
            ],
            [
             0.1111111111111111,
             "#46039f"
            ],
            [
             0.2222222222222222,
             "#7201a8"
            ],
            [
             0.3333333333333333,
             "#9c179e"
            ],
            [
             0.4444444444444444,
             "#bd3786"
            ],
            [
             0.5555555555555556,
             "#d8576b"
            ],
            [
             0.6666666666666666,
             "#ed7953"
            ],
            [
             0.7777777777777778,
             "#fb9f3a"
            ],
            [
             0.8888888888888888,
             "#fdca26"
            ],
            [
             1,
             "#f0f921"
            ]
           ]
          },
          "colorway": [
           "#636efa",
           "#EF553B",
           "#00cc96",
           "#ab63fa",
           "#FFA15A",
           "#19d3f3",
           "#FF6692",
           "#B6E880",
           "#FF97FF",
           "#FECB52"
          ],
          "font": {
           "color": "#2a3f5f"
          },
          "geo": {
           "bgcolor": "white",
           "lakecolor": "white",
           "landcolor": "#E5ECF6",
           "showlakes": true,
           "showland": true,
           "subunitcolor": "white"
          },
          "hoverlabel": {
           "align": "left"
          },
          "hovermode": "closest",
          "mapbox": {
           "style": "light"
          },
          "paper_bgcolor": "white",
          "plot_bgcolor": "#E5ECF6",
          "polar": {
           "angularaxis": {
            "gridcolor": "white",
            "linecolor": "white",
            "ticks": ""
           },
           "bgcolor": "#E5ECF6",
           "radialaxis": {
            "gridcolor": "white",
            "linecolor": "white",
            "ticks": ""
           }
          },
          "scene": {
           "xaxis": {
            "backgroundcolor": "#E5ECF6",
            "gridcolor": "white",
            "gridwidth": 2,
            "linecolor": "white",
            "showbackground": true,
            "ticks": "",
            "zerolinecolor": "white"
           },
           "yaxis": {
            "backgroundcolor": "#E5ECF6",
            "gridcolor": "white",
            "gridwidth": 2,
            "linecolor": "white",
            "showbackground": true,
            "ticks": "",
            "zerolinecolor": "white"
           },
           "zaxis": {
            "backgroundcolor": "#E5ECF6",
            "gridcolor": "white",
            "gridwidth": 2,
            "linecolor": "white",
            "showbackground": true,
            "ticks": "",
            "zerolinecolor": "white"
           }
          },
          "shapedefaults": {
           "line": {
            "color": "#2a3f5f"
           }
          },
          "ternary": {
           "aaxis": {
            "gridcolor": "white",
            "linecolor": "white",
            "ticks": ""
           },
           "baxis": {
            "gridcolor": "white",
            "linecolor": "white",
            "ticks": ""
           },
           "bgcolor": "#E5ECF6",
           "caxis": {
            "gridcolor": "white",
            "linecolor": "white",
            "ticks": ""
           }
          },
          "title": {
           "x": 0.05
          },
          "xaxis": {
           "automargin": true,
           "gridcolor": "white",
           "linecolor": "white",
           "ticks": "",
           "title": {
            "standoff": 15
           },
           "zerolinecolor": "white",
           "zerolinewidth": 2
          },
          "yaxis": {
           "automargin": true,
           "gridcolor": "white",
           "linecolor": "white",
           "ticks": "",
           "title": {
            "standoff": 15
           },
           "zerolinecolor": "white",
           "zerolinewidth": 2
          }
         }
        },
        "title": {
         "text": "Big-Endian: Bit Flip Probabilities"
        },
        "xaxis": {
         "tickfont": {
          "size": 8
         },
         "tickmode": "array",
         "ticktext": {
          "bdata": "BwYFBAMCAQAPDg0MCwoJCBcWFRQTEhEQHx4dHBsaGRgnJiUkIyIhIC8uLSwrKikoNzY1NDMyMTA/Pj08Ozo5OEdGRURDQkFAT05NTEtKSUhXVlVUU1JRUF9eXVxbWllYZ2ZlZGNiYWBvbm1sa2ppaHd2dXRzcnFwf359fHt6eXg=",
          "dtype": "i1"
         },
         "tickvals": {
          "bdata": "AAECAwQFBgcICQoLDA0ODxAREhMUFRYXGBkaGxwdHh8gISIjJCUmJygpKissLS4vMDEyMzQ1Njc4OTo7PD0+P0BBQkNERUZHSElKS0xNTk9QUVJTVFVWV1hZWltcXV5fYGFiY2RlZmdoaWprbG1ub3BxcnN0dXZ3eHl6e3x9fn8=",
          "dtype": "i1"
         },
         "title": {
          "text": "Bit Number"
         }
        },
        "yaxis": {
         "range": [
          0,
          1.1
         ],
         "title": {
          "text": "Bit Flip Probability"
         }
        }
       }
      }
     },
     "metadata": {},
     "output_type": "display_data"
    }
   ],
   "source": [
    "decoder.plot_message_from_id('18DAF218',[0,12,98,5,31])"
   ]
  },
  {
   "cell_type": "code",
   "execution_count": null,
   "id": "e0788a98",
   "metadata": {},
   "outputs": [
    {
     "data": {
      "application/vnd.plotly.v1+json": {
       "config": {
        "plotlyServerURL": "https://plot.ly"
       },
       "data": [
        {
         "mode": "lines+markers",
         "name": "SIG_BE_1",
         "type": "scatter",
         "x": {
          "bdata": "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",
          "dtype": "f8"
         },
         "y": {
          "bdata": "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",
          "dtype": "f8"
         }
        }
       ],
       "layout": {
        "template": {
         "data": {
          "bar": [
           {
            "error_x": {
             "color": "#2a3f5f"
            },
            "error_y": {
             "color": "#2a3f5f"
            },
            "marker": {
             "line": {
              "color": "#E5ECF6",
              "width": 0.5
             },
             "pattern": {
              "fillmode": "overlay",
              "size": 10,
              "solidity": 0.2
             }
            },
            "type": "bar"
           }
          ],
          "barpolar": [
           {
            "marker": {
             "line": {
              "color": "#E5ECF6",
              "width": 0.5
             },
             "pattern": {
              "fillmode": "overlay",
              "size": 10,
              "solidity": 0.2
             }
            },
            "type": "barpolar"
           }
          ],
          "carpet": [
           {
            "aaxis": {
             "endlinecolor": "#2a3f5f",
             "gridcolor": "white",
             "linecolor": "white",
             "minorgridcolor": "white",
             "startlinecolor": "#2a3f5f"
            },
            "baxis": {
             "endlinecolor": "#2a3f5f",
             "gridcolor": "white",
             "linecolor": "white",
             "minorgridcolor": "white",
             "startlinecolor": "#2a3f5f"
            },
            "type": "carpet"
           }
          ],
          "choropleth": [
           {
            "colorbar": {
             "outlinewidth": 0,
             "ticks": ""
            },
            "type": "choropleth"
           }
          ],
          "contour": [
           {
            "colorbar": {
             "outlinewidth": 0,
             "ticks": ""
            },
            "colorscale": [
             [
              0,
              "#0d0887"
             ],
             [
              0.1111111111111111,
              "#46039f"
             ],
             [
              0.2222222222222222,
              "#7201a8"
             ],
             [
              0.3333333333333333,
              "#9c179e"
             ],
             [
              0.4444444444444444,
              "#bd3786"
             ],
             [
              0.5555555555555556,
              "#d8576b"
             ],
             [
              0.6666666666666666,
              "#ed7953"
             ],
             [
              0.7777777777777778,
              "#fb9f3a"
             ],
             [
              0.8888888888888888,
              "#fdca26"
             ],
             [
              1,
              "#f0f921"
             ]
            ],
            "type": "contour"
           }
          ],
          "contourcarpet": [
           {
            "colorbar": {
             "outlinewidth": 0,
             "ticks": ""
            },
            "type": "contourcarpet"
           }
          ],
          "heatmap": [
           {
            "colorbar": {
             "outlinewidth": 0,
             "ticks": ""
            },
            "colorscale": [
             [
              0,
              "#0d0887"
             ],
             [
              0.1111111111111111,
              "#46039f"
             ],
             [
              0.2222222222222222,
              "#7201a8"
             ],
             [
              0.3333333333333333,
              "#9c179e"
             ],
             [
              0.4444444444444444,
              "#bd3786"
             ],
             [
              0.5555555555555556,
              "#d8576b"
             ],
             [
              0.6666666666666666,
              "#ed7953"
             ],
             [
              0.7777777777777778,
              "#fb9f3a"
             ],
             [
              0.8888888888888888,
              "#fdca26"
             ],
             [
              1,
              "#f0f921"
             ]
            ],
            "type": "heatmap"
           }
          ],
          "histogram": [
           {
            "marker": {
             "pattern": {
              "fillmode": "overlay",
              "size": 10,
              "solidity": 0.2
             }
            },
            "type": "histogram"
           }
          ],
          "histogram2d": [
           {
            "colorbar": {
             "outlinewidth": 0,
             "ticks": ""
            },
            "colorscale": [
             [
              0,
              "#0d0887"
             ],
             [
              0.1111111111111111,
              "#46039f"
             ],
             [
              0.2222222222222222,
              "#7201a8"
             ],
             [
              0.3333333333333333,
              "#9c179e"
             ],
             [
              0.4444444444444444,
              "#bd3786"
             ],
             [
              0.5555555555555556,
              "#d8576b"
             ],
             [
              0.6666666666666666,
              "#ed7953"
             ],
             [
              0.7777777777777778,
              "#fb9f3a"
             ],
             [
              0.8888888888888888,
              "#fdca26"
             ],
             [
              1,
              "#f0f921"
             ]
            ],
            "type": "histogram2d"
           }
          ],
          "histogram2dcontour": [
           {
            "colorbar": {
             "outlinewidth": 0,
             "ticks": ""
            },
            "colorscale": [
             [
              0,
              "#0d0887"
             ],
             [
              0.1111111111111111,
              "#46039f"
             ],
             [
              0.2222222222222222,
              "#7201a8"
             ],
             [
              0.3333333333333333,
              "#9c179e"
             ],
             [
              0.4444444444444444,
              "#bd3786"
             ],
             [
              0.5555555555555556,
              "#d8576b"
             ],
             [
              0.6666666666666666,
              "#ed7953"
             ],
             [
              0.7777777777777778,
              "#fb9f3a"
             ],
             [
              0.8888888888888888,
              "#fdca26"
             ],
             [
              1,
              "#f0f921"
             ]
            ],
            "type": "histogram2dcontour"
           }
          ],
          "mesh3d": [
           {
            "colorbar": {
             "outlinewidth": 0,
             "ticks": ""
            },
            "type": "mesh3d"
           }
          ],
          "parcoords": [
           {
            "line": {
             "colorbar": {
              "outlinewidth": 0,
              "ticks": ""
             }
            },
            "type": "parcoords"
           }
          ],
          "pie": [
           {
            "automargin": true,
            "type": "pie"
           }
          ],
          "scatter": [
           {
            "fillpattern": {
             "fillmode": "overlay",
             "size": 10,
             "solidity": 0.2
            },
            "type": "scatter"
           }
          ],
          "scatter3d": [
           {
            "line": {
             "colorbar": {
              "outlinewidth": 0,
              "ticks": ""
             }
            },
            "marker": {
             "colorbar": {
              "outlinewidth": 0,
              "ticks": ""
             }
            },
            "type": "scatter3d"
           }
          ],
          "scattercarpet": [
           {
            "marker": {
             "colorbar": {
              "outlinewidth": 0,
              "ticks": ""
             }
            },
            "type": "scattercarpet"
           }
          ],
          "scattergeo": [
           {
            "marker": {
             "colorbar": {
              "outlinewidth": 0,
              "ticks": ""
             }
            },
            "type": "scattergeo"
           }
          ],
          "scattergl": [
           {
            "marker": {
             "colorbar": {
              "outlinewidth": 0,
              "ticks": ""
             }
            },
            "type": "scattergl"
           }
          ],
          "scattermap": [
           {
            "marker": {
             "colorbar": {
              "outlinewidth": 0,
              "ticks": ""
             }
            },
            "type": "scattermap"
           }
          ],
          "scattermapbox": [
           {
            "marker": {
             "colorbar": {
              "outlinewidth": 0,
              "ticks": ""
             }
            },
            "type": "scattermapbox"
           }
          ],
          "scatterpolar": [
           {
            "marker": {
             "colorbar": {
              "outlinewidth": 0,
              "ticks": ""
             }
            },
            "type": "scatterpolar"
           }
          ],
          "scatterpolargl": [
           {
            "marker": {
             "colorbar": {
              "outlinewidth": 0,
              "ticks": ""
             }
            },
            "type": "scatterpolargl"
           }
          ],
          "scatterternary": [
           {
            "marker": {
             "colorbar": {
              "outlinewidth": 0,
              "ticks": ""
             }
            },
            "type": "scatterternary"
           }
          ],
          "surface": [
           {
            "colorbar": {
             "outlinewidth": 0,
             "ticks": ""
            },
            "colorscale": [
             [
              0,
              "#0d0887"
             ],
             [
              0.1111111111111111,
              "#46039f"
             ],
             [
              0.2222222222222222,
              "#7201a8"
             ],
             [
              0.3333333333333333,
              "#9c179e"
             ],
             [
              0.4444444444444444,
              "#bd3786"
             ],
             [
              0.5555555555555556,
              "#d8576b"
             ],
             [
              0.6666666666666666,
              "#ed7953"
             ],
             [
              0.7777777777777778,
              "#fb9f3a"
             ],
             [
              0.8888888888888888,
              "#fdca26"
             ],
             [
              1,
              "#f0f921"
             ]
            ],
            "type": "surface"
           }
          ],
          "table": [
           {
            "cells": {
             "fill": {
              "color": "#EBF0F8"
             },
             "line": {
              "color": "white"
             }
            },
            "header": {
             "fill": {
              "color": "#C8D4E3"
             },
             "line": {
              "color": "white"
             }
            },
            "type": "table"
           }
          ]
         },
         "layout": {
          "annotationdefaults": {
           "arrowcolor": "#2a3f5f",
           "arrowhead": 0,
           "arrowwidth": 1
          },
          "autotypenumbers": "strict",
          "coloraxis": {
           "colorbar": {
            "outlinewidth": 0,
            "ticks": ""
           }
          },
          "colorscale": {
           "diverging": [
            [
             0,
             "#8e0152"
            ],
            [
             0.1,
             "#c51b7d"
            ],
            [
             0.2,
             "#de77ae"
            ],
            [
             0.3,
             "#f1b6da"
            ],
            [
             0.4,
             "#fde0ef"
            ],
            [
             0.5,
             "#f7f7f7"
            ],
            [
             0.6,
             "#e6f5d0"
            ],
            [
             0.7,
             "#b8e186"
            ],
            [
             0.8,
             "#7fbc41"
            ],
            [
             0.9,
             "#4d9221"
            ],
            [
             1,
             "#276419"
            ]
           ],
           "sequential": [
            [
             0,
             "#0d0887"
            ],
            [
             0.1111111111111111,
             "#46039f"
            ],
            [
             0.2222222222222222,
             "#7201a8"
            ],
            [
             0.3333333333333333,
             "#9c179e"
            ],
            [
             0.4444444444444444,
             "#bd3786"
            ],
            [
             0.5555555555555556,
             "#d8576b"
            ],
            [
             0.6666666666666666,
             "#ed7953"
            ],
            [
             0.7777777777777778,
             "#fb9f3a"
            ],
            [
             0.8888888888888888,
             "#fdca26"
            ],
            [
             1,
             "#f0f921"
            ]
           ],
           "sequentialminus": [
            [
             0,
             "#0d0887"
            ],
            [
             0.1111111111111111,
             "#46039f"
            ],
            [
             0.2222222222222222,
             "#7201a8"
            ],
            [
             0.3333333333333333,
             "#9c179e"
            ],
            [
             0.4444444444444444,
             "#bd3786"
            ],
            [
             0.5555555555555556,
             "#d8576b"
            ],
            [
             0.6666666666666666,
             "#ed7953"
            ],
            [
             0.7777777777777778,
             "#fb9f3a"
            ],
            [
             0.8888888888888888,
             "#fdca26"
            ],
            [
             1,
             "#f0f921"
            ]
           ]
          },
          "colorway": [
           "#636efa",
           "#EF553B",
           "#00cc96",
           "#ab63fa",
           "#FFA15A",
           "#19d3f3",
           "#FF6692",
           "#B6E880",
           "#FF97FF",
           "#FECB52"
          ],
          "font": {
           "color": "#2a3f5f"
          },
          "geo": {
           "bgcolor": "white",
           "lakecolor": "white",
           "landcolor": "#E5ECF6",
           "showlakes": true,
           "showland": true,
           "subunitcolor": "white"
          },
          "hoverlabel": {
           "align": "left"
          },
          "hovermode": "closest",
          "mapbox": {
           "style": "light"
          },
          "paper_bgcolor": "white",
          "plot_bgcolor": "#E5ECF6",
          "polar": {
           "angularaxis": {
            "gridcolor": "white",
            "linecolor": "white",
            "ticks": ""
           },
           "bgcolor": "#E5ECF6",
           "radialaxis": {
            "gridcolor": "white",
            "linecolor": "white",
            "ticks": ""
           }
          },
          "scene": {
           "xaxis": {
            "backgroundcolor": "#E5ECF6",
            "gridcolor": "white",
            "gridwidth": 2,
            "linecolor": "white",
            "showbackground": true,
            "ticks": "",
            "zerolinecolor": "white"
           },
           "yaxis": {
            "backgroundcolor": "#E5ECF6",
            "gridcolor": "white",
            "gridwidth": 2,
            "linecolor": "white",
            "showbackground": true,
            "ticks": "",
            "zerolinecolor": "white"
           },
           "zaxis": {
            "backgroundcolor": "#E5ECF6",
            "gridcolor": "white",
            "gridwidth": 2,
            "linecolor": "white",
            "showbackground": true,
            "ticks": "",
            "zerolinecolor": "white"
           }
          },
          "shapedefaults": {
           "line": {
            "color": "#2a3f5f"
           }
          },
          "ternary": {
           "aaxis": {
            "gridcolor": "white",
            "linecolor": "white",
            "ticks": ""
           },
           "baxis": {
            "gridcolor": "white",
            "linecolor": "white",
            "ticks": ""
           },
           "bgcolor": "#E5ECF6",
           "caxis": {
            "gridcolor": "white",
            "linecolor": "white",
            "ticks": ""
           }
          },
          "title": {
           "x": 0.05
          },
          "xaxis": {
           "automargin": true,
           "gridcolor": "white",
           "linecolor": "white",
           "ticks": "",
           "title": {
            "standoff": 15
           },
           "zerolinecolor": "white",
           "zerolinewidth": 2
          },
          "yaxis": {
           "automargin": true,
           "gridcolor": "white",
           "linecolor": "white",
           "ticks": "",
           "title": {
            "standoff": 15
           },
           "zerolinecolor": "white",
           "zerolinewidth": 2
          }
         }
        }
       }
      }
     },
     "metadata": {},
     "output_type": "display_data"
    }
   ],
   "source": [
    "f = decoder.plot_signal_from_id('18DAF218',[0,12,98,5,31], 'SIG_BE_1', return_fig=True)\n",
    "f['data'][0]['mode'] = 'lines+markers'\n",
    "f.show()"
   ]
  },
  {
   "cell_type": "code",
   "execution_count": null,
   "id": "49870194",
   "metadata": {},
   "outputs": [
    {
     "data": {
      "application/vnd.plotly.v1+json": {
       "config": {
        "plotlyServerURL": "https://plot.ly"
       },
       "data": [
        {
         "marker": {
          "color": "black"
         },
         "name": "Bit Flip Probability",
         "opacity": 0.7,
         "type": "bar",
         "x": {
          "bdata": "AAABAAIAAwAEAAUABgAHAAgACQAKAAsADAANAA4ADwAQABEAEgATABQAFQAWABcAGAAZABoAGwAcAB0AHgAfACAAIQAiACMAJAAlACYAJwAoACkAKgArACwALQAuAC8AMAAxADIAMwA0ADUANgA3ADgAOQA6ADsAPAA9AD4APwBAAEEAQgBDAEQARQBGAEcASABJAEoASwBMAE0ATgBPAFAAUQBSAFMAVABVAFYAVwBYAFkAWgBbAFwAXQBeAF8AYABhAGIAYwBkAGUAZgBnAGgAaQBqAGsAbABtAG4AbwBwAHEAcgBzAHQAdQB2AHcAeAB5AHoAewB8AH0AfgB/AIAAgQCCAIMAhACFAIYAhwCIAIkAigCLAIwAjQCOAI8AkACRAJIAkwCUAJUAlgCXAJgAmQCaAJsAnACdAJ4AnwCgAKEAogCjAKQApQCmAKcAqACpAKoAqwCsAK0ArgCvALAAsQCyALMAtAC1ALYAtwC4ALkAugC7ALwAvQC+AL8AwADBAMIAwwDEAMUAxgDHAMgAyQDKAMsAzADNAM4AzwDQANEA0gDTANQA1QDWANcA2ADZANoA2wDcAN0A3gDfAOAA4QDiAOMA5ADlAOYA5wDoAOkA6gDrAOwA7QDuAO8A8ADxAPIA8wD0APUA9gD3APgA+QD6APsA/AD9AP4A/wA=",
          "dtype": "i2"
         },
         "y": {
          "bdata": "AAAAAAAAAAAAAAAAAAAAAAAAAAAAAAAAAAAAAAAAAAAAAAAAAAAAAAAAAAAAAAAAAAAAAAAAAAAAAAAAAAAAAAAAAAAAAAAAAAAAAAAAAAAAAAAAAAAAAAAAAAAAAAAAAAAAAAAAAAAAAAAAAAAAAAAAAAAAAAAAAAAAAAAAAAAAAAAAAAAAAAAAAAAAAAAAAAAAAAAAAAAAAAAAAAAAAAAAAAAAAAAAAAAAAAAAAAAAAAAAAAAAAAAAAAAAAAAAAAAAAAAAAAAAAAAAAAAAAAAAAAAAAAAAAAAAAAAAAAAAAAAAAAAAAAAAAAAAAAAAAAAAAAAAAAAAAAAAAAAAAAAAAAAAAAAAAAAAAAAAAAAAAAAAAAAAAAAAAAAAAAAAAAAAAAAAAAAAAAAAAAAAAAAAAAAAAAAAAAAAAAAAAAAAAAAAAAAAAAAAAAAAAAAAAAAAAAAAAAAAAAAAAAAAAAAAAAAAAAAAAAAAAAAAAAAAAAAAAAAAAAAAAAAAAAAAAAAAAAAAAAAAAAAAAAAAAAAAAAAAAAAAAAAAAAAAAAAAAAAAAAAAAAAAAAAAAAAAAAAAAAAAAACjYFGwKFiEP6NgUbAoWJQ/lZhKTCWmoj+wKFgULAq2P/QQegg9hL4/i4JFwaJgwT+jYFGwKFjEP612VjurncU/yAZkA7IByT8AAAAAAAAAAAAAAAAAAAAAAAAAAAAAAAAAAAAAAAAAAAAAAAAAAAAAAAAAAAAAAAAAAAAAAAAAAAAAAAAAAAAAAAAAAAAAAAAAAAAAAAAAAAAAAAAAAAAAAAAAAAAAAAAAAAAAAAAAAAAAAAAAAAAAAAAAAAAAAAAAAAAAAAAAAAAAAAAAAAAAAAAAAAAAAACjYFGwKFiEP9mAbEA2IIs/t4xbxi3jtj++8F54L7y3P5LmSHOkOcI/xVRiKjGVuD8AAAAAAAAAAAAAAAAAAAAAAAAAAAAAAAAAAAAAAAAAAAAAAAAAAAAA2YBsQDYgez/0EHoIPYSeP4jQQ+gh9LA/t4xbxi3jtj/trHZWO6u9P5lKTCWmEsM/nPxN/iZ/wz+02lntrHbGP5+uT9en68M/mUpMJaYSwz+c/E3+Jn/DPwAAAAAAAAAAAAAAAAAAAAAAAAAAAAAAAAAAAAAAAAAAAAAAAAAAAAAAAAAAAAAAAAAAAAAAAAAAAAAAAAAAAAAAAAAAAAAAAAAAAAAAAAAAAAAAAAAAAAAAAAAAAAAAAAAAAAAAAAAAAAAAAAAAAAAAAAAAAAAAAAAAAAAAAAAAAAAAAAAAAAAAAAAAAAAAAAAAAAAAAAAAAAAAAAAAAAAAAAAAAAAAAAAAAAAAAAAAAAAAAAAAAAAAAAAAAAAAAAAAAAAAAAAAAAAAAAAAAAAAAAAAAAAAAAAAAAAAAAAAAAAAAAAAAACI0EPoIfSgP9mAbEA2IKs/sChYFCwKtj+wKFgULAq2P/QQegg9hL4/jjRHmiPNwT+BbEA2IBvAP4jQQ+gh9MA/50hzpDnSvD/0EHoIPYS+P440R5ojzcE/AAAAAAAAAAAAAAAAAAAAAAAAAAAAAAAAAAAAAAAAAAAAAAAAAAAAAAAAAAAAAAAAAAAAAAAAAAAAAAAAAAAAAAAAAAAAAAAAAAAAAAAAAAAAAAAAAAAAAAAAAAAAAAAAAAAAAAAAAAAAAAAAAAAAAAAAAAAAAAAAAAAAAAAAAAAAAAAAAAAAAAAAAAAAAAAAAAAAAAAAAAAAAAAAAAAAAAAAAAAAAAAAAAAAAAAAAACI0EPoIfSgP77wXngvvKc/lZhKTCWmsj/nSHOkOdK8P6NgUbAoWMQ/7ax2VjurzT+ZSkwlphLTP5z8Tf4mf9M/tNpZ7ax21j+02lntrHbWPwAAAAAAAAAAAAAAAAAAAAAAAAAAAAAAAAAAAAAAAAAAAAAAAAAAAADZgGxANiCLP+dIc6Q50qw/y7hl3DJuuT+frk/Xp+vDP612VjurncU/waJgUbAoyD/LuGXcMm7JP8GiYFGwKMg/tNpZ7ax2xj+tdlY7q53FP9mAbEA2IMs/AAAAAAAAAAAAAAAAAAAAAAAAAAAAAAAAAAAAAAAAAAAAAAAAAAAAANmAbEA2IHs/o2BRsChYlD++8F54L7ynP8u4Zdwybrk/0hxpjjRHyj+tdlY7q53VP9mAbEA2INs/2YBsQDYg2z/nSHOkOdLcP9IcaY40R9o/6vp0fbo+3T8AAAAAAAAAAAAAAAAAAAAAAAAAAAAAAAAAAAAAAAAAAAAAAAAAAAAAAAAAAAAAAAAAAAAAAAAAAAAAAAAAAAAAAAAAAAAAAAAAAAAAAAAAAAAAAAAAAAAAAAAAAAAAAAAAAAAAAAAAAAAAAAAAAAAAAAAAAAAAAAAAAAAAAAAAAAAAAAAAAAAAAAAAAAAAAAAAAAAAAAAAAAAAAAAAAAAAAAAAAAAAAAAAAAAAAAAAAAAAAAAAAAAAAAAAAAAAAAAAAAAAAAAAAAAAAAAAAAAAAAAAAAAAAAAAAAAAAAAAAAAAAAAAAAAAAAAAAAAAAAAAAAAAAAAAAAAAAAAAAAAAAAAAAAAAAAAAAAAAAAAAAAAAAAAAAAAAAAAAAAAAAAAAAAAAAAAAAAAAAAAAAAAAAAAAAAAAAAAAAAAAAAAAAAAAAAAAAAAAAAAAAAAAAAAAAAAAAAAAAAAAAAAAAAAAAAAAAAAAAAAAAAAAAAAAAAAAAAAAAAAAAAAAAAAAAAA=",
          "dtype": "f8"
         }
        }
       ],
       "layout": {
        "annotations": [
         {
          "font": {
           "size": 10
          },
          "showarrow": false,
          "text": "Byte 0",
          "x": 3.5,
          "xanchor": "center",
          "xref": "x",
          "y": 1,
          "yanchor": "bottom",
          "yref": "y domain"
         },
         {
          "font": {
           "size": 10
          },
          "showarrow": false,
          "text": "Byte 1",
          "x": 11.5,
          "xanchor": "center",
          "xref": "x",
          "y": 1,
          "yanchor": "bottom",
          "yref": "y domain"
         },
         {
          "font": {
           "size": 10
          },
          "showarrow": false,
          "text": "Byte 2",
          "x": 19.5,
          "xanchor": "center",
          "xref": "x",
          "y": 1,
          "yanchor": "bottom",
          "yref": "y domain"
         },
         {
          "font": {
           "size": 10
          },
          "showarrow": false,
          "text": "Byte 3",
          "x": 27.5,
          "xanchor": "center",
          "xref": "x",
          "y": 1,
          "yanchor": "bottom",
          "yref": "y domain"
         },
         {
          "font": {
           "size": 10
          },
          "showarrow": false,
          "text": "Byte 4",
          "x": 35.5,
          "xanchor": "center",
          "xref": "x",
          "y": 1,
          "yanchor": "bottom",
          "yref": "y domain"
         },
         {
          "font": {
           "size": 10
          },
          "showarrow": false,
          "text": "Byte 5",
          "x": 43.5,
          "xanchor": "center",
          "xref": "x",
          "y": 1,
          "yanchor": "bottom",
          "yref": "y domain"
         },
         {
          "font": {
           "size": 10
          },
          "showarrow": false,
          "text": "Byte 6",
          "x": 51.5,
          "xanchor": "center",
          "xref": "x",
          "y": 1,
          "yanchor": "bottom",
          "yref": "y domain"
         },
         {
          "font": {
           "size": 10
          },
          "showarrow": false,
          "text": "Byte 7",
          "x": 59.5,
          "xanchor": "center",
          "xref": "x",
          "y": 1,
          "yanchor": "bottom",
          "yref": "y domain"
         },
         {
          "font": {
           "size": 10
          },
          "showarrow": false,
          "text": "Byte 8",
          "x": 67.5,
          "xanchor": "center",
          "xref": "x",
          "y": 1,
          "yanchor": "bottom",
          "yref": "y domain"
         },
         {
          "font": {
           "size": 10
          },
          "showarrow": false,
          "text": "Byte 9",
          "x": 75.5,
          "xanchor": "center",
          "xref": "x",
          "y": 1,
          "yanchor": "bottom",
          "yref": "y domain"
         },
         {
          "font": {
           "size": 10
          },
          "showarrow": false,
          "text": "Byte 10",
          "x": 83.5,
          "xanchor": "center",
          "xref": "x",
          "y": 1,
          "yanchor": "bottom",
          "yref": "y domain"
         },
         {
          "font": {
           "size": 10
          },
          "showarrow": false,
          "text": "Byte 11",
          "x": 91.5,
          "xanchor": "center",
          "xref": "x",
          "y": 1,
          "yanchor": "bottom",
          "yref": "y domain"
         },
         {
          "font": {
           "size": 10
          },
          "showarrow": false,
          "text": "Byte 12",
          "x": 99.5,
          "xanchor": "center",
          "xref": "x",
          "y": 1,
          "yanchor": "bottom",
          "yref": "y domain"
         },
         {
          "font": {
           "size": 10
          },
          "showarrow": false,
          "text": "Byte 13",
          "x": 107.5,
          "xanchor": "center",
          "xref": "x",
          "y": 1,
          "yanchor": "bottom",
          "yref": "y domain"
         },
         {
          "font": {
           "size": 10
          },
          "showarrow": false,
          "text": "Byte 14",
          "x": 115.5,
          "xanchor": "center",
          "xref": "x",
          "y": 1,
          "yanchor": "bottom",
          "yref": "y domain"
         },
         {
          "font": {
           "size": 10
          },
          "showarrow": false,
          "text": "Byte 15",
          "x": 123.5,
          "xanchor": "center",
          "xref": "x",
          "y": 1,
          "yanchor": "bottom",
          "yref": "y domain"
         },
         {
          "font": {
           "size": 10
          },
          "showarrow": false,
          "text": "Byte 16",
          "x": 131.5,
          "xanchor": "center",
          "xref": "x",
          "y": 1,
          "yanchor": "bottom",
          "yref": "y domain"
         },
         {
          "font": {
           "size": 10
          },
          "showarrow": false,
          "text": "Byte 17",
          "x": 139.5,
          "xanchor": "center",
          "xref": "x",
          "y": 1,
          "yanchor": "bottom",
          "yref": "y domain"
         },
         {
          "font": {
           "size": 10
          },
          "showarrow": false,
          "text": "Byte 18",
          "x": 147.5,
          "xanchor": "center",
          "xref": "x",
          "y": 1,
          "yanchor": "bottom",
          "yref": "y domain"
         },
         {
          "font": {
           "size": 10
          },
          "showarrow": false,
          "text": "Byte 19",
          "x": 155.5,
          "xanchor": "center",
          "xref": "x",
          "y": 1,
          "yanchor": "bottom",
          "yref": "y domain"
         },
         {
          "font": {
           "size": 10
          },
          "showarrow": false,
          "text": "Byte 20",
          "x": 163.5,
          "xanchor": "center",
          "xref": "x",
          "y": 1,
          "yanchor": "bottom",
          "yref": "y domain"
         },
         {
          "font": {
           "size": 10
          },
          "showarrow": false,
          "text": "Byte 21",
          "x": 171.5,
          "xanchor": "center",
          "xref": "x",
          "y": 1,
          "yanchor": "bottom",
          "yref": "y domain"
         },
         {
          "font": {
           "size": 10
          },
          "showarrow": false,
          "text": "Byte 22",
          "x": 179.5,
          "xanchor": "center",
          "xref": "x",
          "y": 1,
          "yanchor": "bottom",
          "yref": "y domain"
         },
         {
          "font": {
           "size": 10
          },
          "showarrow": false,
          "text": "Byte 23",
          "x": 187.5,
          "xanchor": "center",
          "xref": "x",
          "y": 1,
          "yanchor": "bottom",
          "yref": "y domain"
         },
         {
          "font": {
           "size": 10
          },
          "showarrow": false,
          "text": "Byte 24",
          "x": 195.5,
          "xanchor": "center",
          "xref": "x",
          "y": 1,
          "yanchor": "bottom",
          "yref": "y domain"
         },
         {
          "font": {
           "size": 10
          },
          "showarrow": false,
          "text": "Byte 25",
          "x": 203.5,
          "xanchor": "center",
          "xref": "x",
          "y": 1,
          "yanchor": "bottom",
          "yref": "y domain"
         },
         {
          "font": {
           "size": 10
          },
          "showarrow": false,
          "text": "Byte 26",
          "x": 211.5,
          "xanchor": "center",
          "xref": "x",
          "y": 1,
          "yanchor": "bottom",
          "yref": "y domain"
         },
         {
          "font": {
           "size": 10
          },
          "showarrow": false,
          "text": "Byte 27",
          "x": 219.5,
          "xanchor": "center",
          "xref": "x",
          "y": 1,
          "yanchor": "bottom",
          "yref": "y domain"
         },
         {
          "font": {
           "size": 10
          },
          "showarrow": false,
          "text": "Byte 28",
          "x": 227.5,
          "xanchor": "center",
          "xref": "x",
          "y": 1,
          "yanchor": "bottom",
          "yref": "y domain"
         },
         {
          "font": {
           "size": 10
          },
          "showarrow": false,
          "text": "Byte 29",
          "x": 235.5,
          "xanchor": "center",
          "xref": "x",
          "y": 1,
          "yanchor": "bottom",
          "yref": "y domain"
         },
         {
          "font": {
           "size": 10
          },
          "showarrow": false,
          "text": "Byte 30",
          "x": 243.5,
          "xanchor": "center",
          "xref": "x",
          "y": 1,
          "yanchor": "bottom",
          "yref": "y domain"
         },
         {
          "font": {
           "size": 10
          },
          "showarrow": false,
          "text": "Byte 31",
          "x": 251.5,
          "xanchor": "center",
          "xref": "x",
          "y": 1,
          "yanchor": "bottom",
          "yref": "y domain"
         },
         {
          "showarrow": false,
          "text": "SIG_BE_1",
          "x": 54.5,
          "xanchor": "left",
          "xref": "x",
          "y": 1,
          "yanchor": "top",
          "yref": "y domain"
         },
         {
          "showarrow": false,
          "text": "SIG_BE_3",
          "x": 81.5,
          "xanchor": "left",
          "xref": "x",
          "y": 1,
          "yanchor": "top",
          "yref": "y domain"
         },
         {
          "showarrow": false,
          "text": "SIG_BE_5",
          "x": 92.5,
          "xanchor": "left",
          "xref": "x",
          "y": 1,
          "yanchor": "top",
          "yref": "y domain"
         },
         {
          "showarrow": false,
          "text": "SIG_BE_7",
          "x": 132.5,
          "xanchor": "left",
          "xref": "x",
          "y": 1,
          "yanchor": "top",
          "yref": "y domain"
         },
         {
          "showarrow": false,
          "text": "SIG_BE_9",
          "x": 165.5,
          "xanchor": "left",
          "xref": "x",
          "y": 1,
          "yanchor": "top",
          "yref": "y domain"
         },
         {
          "showarrow": false,
          "text": "SIG_BE_11",
          "x": 180.5,
          "xanchor": "left",
          "xref": "x",
          "y": 1,
          "yanchor": "top",
          "yref": "y domain"
         },
         {
          "showarrow": false,
          "text": "SIG_BE_13",
          "x": 196.5,
          "xanchor": "left",
          "xref": "x",
          "y": 1,
          "yanchor": "top",
          "yref": "y domain"
         }
        ],
        "legend": {
         "font": {
          "size": 8
         },
         "orientation": "h",
         "x": 0.5,
         "xanchor": "center",
         "y": -0.2
        },
        "shapes": [
         {
          "line": {
           "color": "gray",
           "dash": "dash",
           "width": 1
          },
          "type": "line",
          "x0": 7.5,
          "x1": 7.5,
          "y0": 0,
          "y1": 0.47980132450331126
         },
         {
          "line": {
           "color": "gray",
           "dash": "dash",
           "width": 1
          },
          "type": "line",
          "x0": 15.5,
          "x1": 15.5,
          "y0": 0,
          "y1": 0.47980132450331126
         },
         {
          "line": {
           "color": "gray",
           "dash": "dash",
           "width": 1
          },
          "type": "line",
          "x0": 23.5,
          "x1": 23.5,
          "y0": 0,
          "y1": 0.47980132450331126
         },
         {
          "line": {
           "color": "gray",
           "dash": "dash",
           "width": 1
          },
          "type": "line",
          "x0": 31.5,
          "x1": 31.5,
          "y0": 0,
          "y1": 0.47980132450331126
         },
         {
          "line": {
           "color": "gray",
           "dash": "dash",
           "width": 1
          },
          "type": "line",
          "x0": 39.5,
          "x1": 39.5,
          "y0": 0,
          "y1": 0.47980132450331126
         },
         {
          "line": {
           "color": "gray",
           "dash": "dash",
           "width": 1
          },
          "type": "line",
          "x0": 47.5,
          "x1": 47.5,
          "y0": 0,
          "y1": 0.47980132450331126
         },
         {
          "line": {
           "color": "gray",
           "dash": "dash",
           "width": 1
          },
          "type": "line",
          "x0": 55.5,
          "x1": 55.5,
          "y0": 0,
          "y1": 0.47980132450331126
         },
         {
          "line": {
           "color": "gray",
           "dash": "dash",
           "width": 1
          },
          "type": "line",
          "x0": 63.5,
          "x1": 63.5,
          "y0": 0,
          "y1": 0.47980132450331126
         },
         {
          "line": {
           "color": "gray",
           "dash": "dash",
           "width": 1
          },
          "type": "line",
          "x0": 71.5,
          "x1": 71.5,
          "y0": 0,
          "y1": 0.47980132450331126
         },
         {
          "line": {
           "color": "gray",
           "dash": "dash",
           "width": 1
          },
          "type": "line",
          "x0": 79.5,
          "x1": 79.5,
          "y0": 0,
          "y1": 0.47980132450331126
         },
         {
          "line": {
           "color": "gray",
           "dash": "dash",
           "width": 1
          },
          "type": "line",
          "x0": 87.5,
          "x1": 87.5,
          "y0": 0,
          "y1": 0.47980132450331126
         },
         {
          "line": {
           "color": "gray",
           "dash": "dash",
           "width": 1
          },
          "type": "line",
          "x0": 95.5,
          "x1": 95.5,
          "y0": 0,
          "y1": 0.47980132450331126
         },
         {
          "line": {
           "color": "gray",
           "dash": "dash",
           "width": 1
          },
          "type": "line",
          "x0": 103.5,
          "x1": 103.5,
          "y0": 0,
          "y1": 0.47980132450331126
         },
         {
          "line": {
           "color": "gray",
           "dash": "dash",
           "width": 1
          },
          "type": "line",
          "x0": 111.5,
          "x1": 111.5,
          "y0": 0,
          "y1": 0.47980132450331126
         },
         {
          "line": {
           "color": "gray",
           "dash": "dash",
           "width": 1
          },
          "type": "line",
          "x0": 119.5,
          "x1": 119.5,
          "y0": 0,
          "y1": 0.47980132450331126
         },
         {
          "line": {
           "color": "gray",
           "dash": "dash",
           "width": 1
          },
          "type": "line",
          "x0": 127.5,
          "x1": 127.5,
          "y0": 0,
          "y1": 0.47980132450331126
         },
         {
          "line": {
           "color": "gray",
           "dash": "dash",
           "width": 1
          },
          "type": "line",
          "x0": 135.5,
          "x1": 135.5,
          "y0": 0,
          "y1": 0.47980132450331126
         },
         {
          "line": {
           "color": "gray",
           "dash": "dash",
           "width": 1
          },
          "type": "line",
          "x0": 143.5,
          "x1": 143.5,
          "y0": 0,
          "y1": 0.47980132450331126
         },
         {
          "line": {
           "color": "gray",
           "dash": "dash",
           "width": 1
          },
          "type": "line",
          "x0": 151.5,
          "x1": 151.5,
          "y0": 0,
          "y1": 0.47980132450331126
         },
         {
          "line": {
           "color": "gray",
           "dash": "dash",
           "width": 1
          },
          "type": "line",
          "x0": 159.5,
          "x1": 159.5,
          "y0": 0,
          "y1": 0.47980132450331126
         },
         {
          "line": {
           "color": "gray",
           "dash": "dash",
           "width": 1
          },
          "type": "line",
          "x0": 167.5,
          "x1": 167.5,
          "y0": 0,
          "y1": 0.47980132450331126
         },
         {
          "line": {
           "color": "gray",
           "dash": "dash",
           "width": 1
          },
          "type": "line",
          "x0": 175.5,
          "x1": 175.5,
          "y0": 0,
          "y1": 0.47980132450331126
         },
         {
          "line": {
           "color": "gray",
           "dash": "dash",
           "width": 1
          },
          "type": "line",
          "x0": 183.5,
          "x1": 183.5,
          "y0": 0,
          "y1": 0.47980132450331126
         },
         {
          "line": {
           "color": "gray",
           "dash": "dash",
           "width": 1
          },
          "type": "line",
          "x0": 191.5,
          "x1": 191.5,
          "y0": 0,
          "y1": 0.47980132450331126
         },
         {
          "line": {
           "color": "gray",
           "dash": "dash",
           "width": 1
          },
          "type": "line",
          "x0": 199.5,
          "x1": 199.5,
          "y0": 0,
          "y1": 0.47980132450331126
         },
         {
          "line": {
           "color": "gray",
           "dash": "dash",
           "width": 1
          },
          "type": "line",
          "x0": 207.5,
          "x1": 207.5,
          "y0": 0,
          "y1": 0.47980132450331126
         },
         {
          "line": {
           "color": "gray",
           "dash": "dash",
           "width": 1
          },
          "type": "line",
          "x0": 215.5,
          "x1": 215.5,
          "y0": 0,
          "y1": 0.47980132450331126
         },
         {
          "line": {
           "color": "gray",
           "dash": "dash",
           "width": 1
          },
          "type": "line",
          "x0": 223.5,
          "x1": 223.5,
          "y0": 0,
          "y1": 0.47980132450331126
         },
         {
          "line": {
           "color": "gray",
           "dash": "dash",
           "width": 1
          },
          "type": "line",
          "x0": 231.5,
          "x1": 231.5,
          "y0": 0,
          "y1": 0.47980132450331126
         },
         {
          "line": {
           "color": "gray",
           "dash": "dash",
           "width": 1
          },
          "type": "line",
          "x0": 239.5,
          "x1": 239.5,
          "y0": 0,
          "y1": 0.47980132450331126
         },
         {
          "line": {
           "color": "gray",
           "dash": "dash",
           "width": 1
          },
          "type": "line",
          "x0": 247.5,
          "x1": 247.5,
          "y0": 0,
          "y1": 0.47980132450331126
         },
         {
          "line": {
           "color": "black",
           "width": 1
          },
          "opacity": 0,
          "type": "rect",
          "x0": -0.5,
          "x1": 7.5,
          "xref": "x",
          "y0": 0,
          "y1": 1,
          "yref": "y domain"
         },
         {
          "line": {
           "color": "black",
           "width": 1
          },
          "opacity": 0,
          "type": "rect",
          "x0": 7.5,
          "x1": 15.5,
          "xref": "x",
          "y0": 0,
          "y1": 1,
          "yref": "y domain"
         },
         {
          "line": {
           "color": "black",
           "width": 1
          },
          "opacity": 0,
          "type": "rect",
          "x0": 15.5,
          "x1": 23.5,
          "xref": "x",
          "y0": 0,
          "y1": 1,
          "yref": "y domain"
         },
         {
          "line": {
           "color": "black",
           "width": 1
          },
          "opacity": 0,
          "type": "rect",
          "x0": 23.5,
          "x1": 31.5,
          "xref": "x",
          "y0": 0,
          "y1": 1,
          "yref": "y domain"
         },
         {
          "line": {
           "color": "black",
           "width": 1
          },
          "opacity": 0,
          "type": "rect",
          "x0": 31.5,
          "x1": 39.5,
          "xref": "x",
          "y0": 0,
          "y1": 1,
          "yref": "y domain"
         },
         {
          "line": {
           "color": "black",
           "width": 1
          },
          "opacity": 0,
          "type": "rect",
          "x0": 39.5,
          "x1": 47.5,
          "xref": "x",
          "y0": 0,
          "y1": 1,
          "yref": "y domain"
         },
         {
          "line": {
           "color": "black",
           "width": 1
          },
          "opacity": 0,
          "type": "rect",
          "x0": 47.5,
          "x1": 55.5,
          "xref": "x",
          "y0": 0,
          "y1": 1,
          "yref": "y domain"
         },
         {
          "line": {
           "color": "black",
           "width": 1
          },
          "opacity": 0,
          "type": "rect",
          "x0": 55.5,
          "x1": 63.5,
          "xref": "x",
          "y0": 0,
          "y1": 1,
          "yref": "y domain"
         },
         {
          "line": {
           "color": "black",
           "width": 1
          },
          "opacity": 0,
          "type": "rect",
          "x0": 63.5,
          "x1": 71.5,
          "xref": "x",
          "y0": 0,
          "y1": 1,
          "yref": "y domain"
         },
         {
          "line": {
           "color": "black",
           "width": 1
          },
          "opacity": 0,
          "type": "rect",
          "x0": 71.5,
          "x1": 79.5,
          "xref": "x",
          "y0": 0,
          "y1": 1,
          "yref": "y domain"
         },
         {
          "line": {
           "color": "black",
           "width": 1
          },
          "opacity": 0,
          "type": "rect",
          "x0": 79.5,
          "x1": 87.5,
          "xref": "x",
          "y0": 0,
          "y1": 1,
          "yref": "y domain"
         },
         {
          "line": {
           "color": "black",
           "width": 1
          },
          "opacity": 0,
          "type": "rect",
          "x0": 87.5,
          "x1": 95.5,
          "xref": "x",
          "y0": 0,
          "y1": 1,
          "yref": "y domain"
         },
         {
          "line": {
           "color": "black",
           "width": 1
          },
          "opacity": 0,
          "type": "rect",
          "x0": 95.5,
          "x1": 103.5,
          "xref": "x",
          "y0": 0,
          "y1": 1,
          "yref": "y domain"
         },
         {
          "line": {
           "color": "black",
           "width": 1
          },
          "opacity": 0,
          "type": "rect",
          "x0": 103.5,
          "x1": 111.5,
          "xref": "x",
          "y0": 0,
          "y1": 1,
          "yref": "y domain"
         },
         {
          "line": {
           "color": "black",
           "width": 1
          },
          "opacity": 0,
          "type": "rect",
          "x0": 111.5,
          "x1": 119.5,
          "xref": "x",
          "y0": 0,
          "y1": 1,
          "yref": "y domain"
         },
         {
          "line": {
           "color": "black",
           "width": 1
          },
          "opacity": 0,
          "type": "rect",
          "x0": 119.5,
          "x1": 127.5,
          "xref": "x",
          "y0": 0,
          "y1": 1,
          "yref": "y domain"
         },
         {
          "line": {
           "color": "black",
           "width": 1
          },
          "opacity": 0,
          "type": "rect",
          "x0": 127.5,
          "x1": 135.5,
          "xref": "x",
          "y0": 0,
          "y1": 1,
          "yref": "y domain"
         },
         {
          "line": {
           "color": "black",
           "width": 1
          },
          "opacity": 0,
          "type": "rect",
          "x0": 135.5,
          "x1": 143.5,
          "xref": "x",
          "y0": 0,
          "y1": 1,
          "yref": "y domain"
         },
         {
          "line": {
           "color": "black",
           "width": 1
          },
          "opacity": 0,
          "type": "rect",
          "x0": 143.5,
          "x1": 151.5,
          "xref": "x",
          "y0": 0,
          "y1": 1,
          "yref": "y domain"
         },
         {
          "line": {
           "color": "black",
           "width": 1
          },
          "opacity": 0,
          "type": "rect",
          "x0": 151.5,
          "x1": 159.5,
          "xref": "x",
          "y0": 0,
          "y1": 1,
          "yref": "y domain"
         },
         {
          "line": {
           "color": "black",
           "width": 1
          },
          "opacity": 0,
          "type": "rect",
          "x0": 159.5,
          "x1": 167.5,
          "xref": "x",
          "y0": 0,
          "y1": 1,
          "yref": "y domain"
         },
         {
          "line": {
           "color": "black",
           "width": 1
          },
          "opacity": 0,
          "type": "rect",
          "x0": 167.5,
          "x1": 175.5,
          "xref": "x",
          "y0": 0,
          "y1": 1,
          "yref": "y domain"
         },
         {
          "line": {
           "color": "black",
           "width": 1
          },
          "opacity": 0,
          "type": "rect",
          "x0": 175.5,
          "x1": 183.5,
          "xref": "x",
          "y0": 0,
          "y1": 1,
          "yref": "y domain"
         },
         {
          "line": {
           "color": "black",
           "width": 1
          },
          "opacity": 0,
          "type": "rect",
          "x0": 183.5,
          "x1": 191.5,
          "xref": "x",
          "y0": 0,
          "y1": 1,
          "yref": "y domain"
         },
         {
          "line": {
           "color": "black",
           "width": 1
          },
          "opacity": 0,
          "type": "rect",
          "x0": 191.5,
          "x1": 199.5,
          "xref": "x",
          "y0": 0,
          "y1": 1,
          "yref": "y domain"
         },
         {
          "line": {
           "color": "black",
           "width": 1
          },
          "opacity": 0,
          "type": "rect",
          "x0": 199.5,
          "x1": 207.5,
          "xref": "x",
          "y0": 0,
          "y1": 1,
          "yref": "y domain"
         },
         {
          "line": {
           "color": "black",
           "width": 1
          },
          "opacity": 0,
          "type": "rect",
          "x0": 207.5,
          "x1": 215.5,
          "xref": "x",
          "y0": 0,
          "y1": 1,
          "yref": "y domain"
         },
         {
          "line": {
           "color": "black",
           "width": 1
          },
          "opacity": 0,
          "type": "rect",
          "x0": 215.5,
          "x1": 223.5,
          "xref": "x",
          "y0": 0,
          "y1": 1,
          "yref": "y domain"
         },
         {
          "line": {
           "color": "black",
           "width": 1
          },
          "opacity": 0,
          "type": "rect",
          "x0": 223.5,
          "x1": 231.5,
          "xref": "x",
          "y0": 0,
          "y1": 1,
          "yref": "y domain"
         },
         {
          "line": {
           "color": "black",
           "width": 1
          },
          "opacity": 0,
          "type": "rect",
          "x0": 231.5,
          "x1": 239.5,
          "xref": "x",
          "y0": 0,
          "y1": 1,
          "yref": "y domain"
         },
         {
          "line": {
           "color": "black",
           "width": 1
          },
          "opacity": 0,
          "type": "rect",
          "x0": 239.5,
          "x1": 247.5,
          "xref": "x",
          "y0": 0,
          "y1": 1,
          "yref": "y domain"
         },
         {
          "line": {
           "color": "black",
           "width": 1
          },
          "opacity": 0,
          "type": "rect",
          "x0": 247.5,
          "x1": 255.5,
          "xref": "x",
          "y0": 0,
          "y1": 1,
          "yref": "y domain"
         },
         {
          "fillcolor": "#79A8DD",
          "layer": "below",
          "line": {
           "width": 0
          },
          "opacity": 0.2,
          "type": "rect",
          "x0": 54.5,
          "x1": 63.5,
          "xref": "x",
          "y0": 0,
          "y1": 1,
          "yref": "y domain"
         },
         {
          "fillcolor": "#DD79DA",
          "layer": "below",
          "line": {
           "width": 0
          },
          "opacity": 0.2,
          "type": "rect",
          "x0": 81.5,
          "x1": 87.5,
          "xref": "x",
          "y0": 0,
          "y1": 1,
          "yref": "y domain"
         },
         {
          "fillcolor": "#DDAE79",
          "layer": "below",
          "line": {
           "width": 0
          },
          "opacity": 0.2,
          "type": "rect",
          "x0": 92.5,
          "x1": 103.5,
          "xref": "x",
          "y0": 0,
          "y1": 1,
          "yref": "y domain"
         },
         {
          "fillcolor": "#79DD7C",
          "layer": "below",
          "line": {
           "width": 0
          },
          "opacity": 0.2,
          "type": "rect",
          "x0": 132.5,
          "x1": 143.5,
          "xref": "x",
          "y0": 0,
          "y1": 1,
          "yref": "y domain"
         },
         {
          "fillcolor": "#79A8DD",
          "layer": "below",
          "line": {
           "width": 0
          },
          "opacity": 0.2,
          "type": "rect",
          "x0": 165.5,
          "x1": 175.5,
          "xref": "x",
          "y0": 0,
          "y1": 1,
          "yref": "y domain"
         },
         {
          "fillcolor": "#DD79DA",
          "layer": "below",
          "line": {
           "width": 0
          },
          "opacity": 0.2,
          "type": "rect",
          "x0": 180.5,
          "x1": 191.5,
          "xref": "x",
          "y0": 0,
          "y1": 1,
          "yref": "y domain"
         },
         {
          "fillcolor": "#DDAE79",
          "layer": "below",
          "line": {
           "width": 0
          },
          "opacity": 0.2,
          "type": "rect",
          "x0": 196.5,
          "x1": 207.5,
          "xref": "x",
          "y0": 0,
          "y1": 1,
          "yref": "y domain"
         }
        ],
        "template": {
         "data": {
          "bar": [
           {
            "error_x": {
             "color": "#2a3f5f"
            },
            "error_y": {
             "color": "#2a3f5f"
            },
            "marker": {
             "line": {
              "color": "#E5ECF6",
              "width": 0.5
             },
             "pattern": {
              "fillmode": "overlay",
              "size": 10,
              "solidity": 0.2
             }
            },
            "type": "bar"
           }
          ],
          "barpolar": [
           {
            "marker": {
             "line": {
              "color": "#E5ECF6",
              "width": 0.5
             },
             "pattern": {
              "fillmode": "overlay",
              "size": 10,
              "solidity": 0.2
             }
            },
            "type": "barpolar"
           }
          ],
          "carpet": [
           {
            "aaxis": {
             "endlinecolor": "#2a3f5f",
             "gridcolor": "white",
             "linecolor": "white",
             "minorgridcolor": "white",
             "startlinecolor": "#2a3f5f"
            },
            "baxis": {
             "endlinecolor": "#2a3f5f",
             "gridcolor": "white",
             "linecolor": "white",
             "minorgridcolor": "white",
             "startlinecolor": "#2a3f5f"
            },
            "type": "carpet"
           }
          ],
          "choropleth": [
           {
            "colorbar": {
             "outlinewidth": 0,
             "ticks": ""
            },
            "type": "choropleth"
           }
          ],
          "contour": [
           {
            "colorbar": {
             "outlinewidth": 0,
             "ticks": ""
            },
            "colorscale": [
             [
              0,
              "#0d0887"
             ],
             [
              0.1111111111111111,
              "#46039f"
             ],
             [
              0.2222222222222222,
              "#7201a8"
             ],
             [
              0.3333333333333333,
              "#9c179e"
             ],
             [
              0.4444444444444444,
              "#bd3786"
             ],
             [
              0.5555555555555556,
              "#d8576b"
             ],
             [
              0.6666666666666666,
              "#ed7953"
             ],
             [
              0.7777777777777778,
              "#fb9f3a"
             ],
             [
              0.8888888888888888,
              "#fdca26"
             ],
             [
              1,
              "#f0f921"
             ]
            ],
            "type": "contour"
           }
          ],
          "contourcarpet": [
           {
            "colorbar": {
             "outlinewidth": 0,
             "ticks": ""
            },
            "type": "contourcarpet"
           }
          ],
          "heatmap": [
           {
            "colorbar": {
             "outlinewidth": 0,
             "ticks": ""
            },
            "colorscale": [
             [
              0,
              "#0d0887"
             ],
             [
              0.1111111111111111,
              "#46039f"
             ],
             [
              0.2222222222222222,
              "#7201a8"
             ],
             [
              0.3333333333333333,
              "#9c179e"
             ],
             [
              0.4444444444444444,
              "#bd3786"
             ],
             [
              0.5555555555555556,
              "#d8576b"
             ],
             [
              0.6666666666666666,
              "#ed7953"
             ],
             [
              0.7777777777777778,
              "#fb9f3a"
             ],
             [
              0.8888888888888888,
              "#fdca26"
             ],
             [
              1,
              "#f0f921"
             ]
            ],
            "type": "heatmap"
           }
          ],
          "histogram": [
           {
            "marker": {
             "pattern": {
              "fillmode": "overlay",
              "size": 10,
              "solidity": 0.2
             }
            },
            "type": "histogram"
           }
          ],
          "histogram2d": [
           {
            "colorbar": {
             "outlinewidth": 0,
             "ticks": ""
            },
            "colorscale": [
             [
              0,
              "#0d0887"
             ],
             [
              0.1111111111111111,
              "#46039f"
             ],
             [
              0.2222222222222222,
              "#7201a8"
             ],
             [
              0.3333333333333333,
              "#9c179e"
             ],
             [
              0.4444444444444444,
              "#bd3786"
             ],
             [
              0.5555555555555556,
              "#d8576b"
             ],
             [
              0.6666666666666666,
              "#ed7953"
             ],
             [
              0.7777777777777778,
              "#fb9f3a"
             ],
             [
              0.8888888888888888,
              "#fdca26"
             ],
             [
              1,
              "#f0f921"
             ]
            ],
            "type": "histogram2d"
           }
          ],
          "histogram2dcontour": [
           {
            "colorbar": {
             "outlinewidth": 0,
             "ticks": ""
            },
            "colorscale": [
             [
              0,
              "#0d0887"
             ],
             [
              0.1111111111111111,
              "#46039f"
             ],
             [
              0.2222222222222222,
              "#7201a8"
             ],
             [
              0.3333333333333333,
              "#9c179e"
             ],
             [
              0.4444444444444444,
              "#bd3786"
             ],
             [
              0.5555555555555556,
              "#d8576b"
             ],
             [
              0.6666666666666666,
              "#ed7953"
             ],
             [
              0.7777777777777778,
              "#fb9f3a"
             ],
             [
              0.8888888888888888,
              "#fdca26"
             ],
             [
              1,
              "#f0f921"
             ]
            ],
            "type": "histogram2dcontour"
           }
          ],
          "mesh3d": [
           {
            "colorbar": {
             "outlinewidth": 0,
             "ticks": ""
            },
            "type": "mesh3d"
           }
          ],
          "parcoords": [
           {
            "line": {
             "colorbar": {
              "outlinewidth": 0,
              "ticks": ""
             }
            },
            "type": "parcoords"
           }
          ],
          "pie": [
           {
            "automargin": true,
            "type": "pie"
           }
          ],
          "scatter": [
           {
            "fillpattern": {
             "fillmode": "overlay",
             "size": 10,
             "solidity": 0.2
            },
            "type": "scatter"
           }
          ],
          "scatter3d": [
           {
            "line": {
             "colorbar": {
              "outlinewidth": 0,
              "ticks": ""
             }
            },
            "marker": {
             "colorbar": {
              "outlinewidth": 0,
              "ticks": ""
             }
            },
            "type": "scatter3d"
           }
          ],
          "scattercarpet": [
           {
            "marker": {
             "colorbar": {
              "outlinewidth": 0,
              "ticks": ""
             }
            },
            "type": "scattercarpet"
           }
          ],
          "scattergeo": [
           {
            "marker": {
             "colorbar": {
              "outlinewidth": 0,
              "ticks": ""
             }
            },
            "type": "scattergeo"
           }
          ],
          "scattergl": [
           {
            "marker": {
             "colorbar": {
              "outlinewidth": 0,
              "ticks": ""
             }
            },
            "type": "scattergl"
           }
          ],
          "scattermap": [
           {
            "marker": {
             "colorbar": {
              "outlinewidth": 0,
              "ticks": ""
             }
            },
            "type": "scattermap"
           }
          ],
          "scattermapbox": [
           {
            "marker": {
             "colorbar": {
              "outlinewidth": 0,
              "ticks": ""
             }
            },
            "type": "scattermapbox"
           }
          ],
          "scatterpolar": [
           {
            "marker": {
             "colorbar": {
              "outlinewidth": 0,
              "ticks": ""
             }
            },
            "type": "scatterpolar"
           }
          ],
          "scatterpolargl": [
           {
            "marker": {
             "colorbar": {
              "outlinewidth": 0,
              "ticks": ""
             }
            },
            "type": "scatterpolargl"
           }
          ],
          "scatterternary": [
           {
            "marker": {
             "colorbar": {
              "outlinewidth": 0,
              "ticks": ""
             }
            },
            "type": "scatterternary"
           }
          ],
          "surface": [
           {
            "colorbar": {
             "outlinewidth": 0,
             "ticks": ""
            },
            "colorscale": [
             [
              0,
              "#0d0887"
             ],
             [
              0.1111111111111111,
              "#46039f"
             ],
             [
              0.2222222222222222,
              "#7201a8"
             ],
             [
              0.3333333333333333,
              "#9c179e"
             ],
             [
              0.4444444444444444,
              "#bd3786"
             ],
             [
              0.5555555555555556,
              "#d8576b"
             ],
             [
              0.6666666666666666,
              "#ed7953"
             ],
             [
              0.7777777777777778,
              "#fb9f3a"
             ],
             [
              0.8888888888888888,
              "#fdca26"
             ],
             [
              1,
              "#f0f921"
             ]
            ],
            "type": "surface"
           }
          ],
          "table": [
           {
            "cells": {
             "fill": {
              "color": "#EBF0F8"
             },
             "line": {
              "color": "white"
             }
            },
            "header": {
             "fill": {
              "color": "#C8D4E3"
             },
             "line": {
              "color": "white"
             }
            },
            "type": "table"
           }
          ]
         },
         "layout": {
          "annotationdefaults": {
           "arrowcolor": "#2a3f5f",
           "arrowhead": 0,
           "arrowwidth": 1
          },
          "autotypenumbers": "strict",
          "coloraxis": {
           "colorbar": {
            "outlinewidth": 0,
            "ticks": ""
           }
          },
          "colorscale": {
           "diverging": [
            [
             0,
             "#8e0152"
            ],
            [
             0.1,
             "#c51b7d"
            ],
            [
             0.2,
             "#de77ae"
            ],
            [
             0.3,
             "#f1b6da"
            ],
            [
             0.4,
             "#fde0ef"
            ],
            [
             0.5,
             "#f7f7f7"
            ],
            [
             0.6,
             "#e6f5d0"
            ],
            [
             0.7,
             "#b8e186"
            ],
            [
             0.8,
             "#7fbc41"
            ],
            [
             0.9,
             "#4d9221"
            ],
            [
             1,
             "#276419"
            ]
           ],
           "sequential": [
            [
             0,
             "#0d0887"
            ],
            [
             0.1111111111111111,
             "#46039f"
            ],
            [
             0.2222222222222222,
             "#7201a8"
            ],
            [
             0.3333333333333333,
             "#9c179e"
            ],
            [
             0.4444444444444444,
             "#bd3786"
            ],
            [
             0.5555555555555556,
             "#d8576b"
            ],
            [
             0.6666666666666666,
             "#ed7953"
            ],
            [
             0.7777777777777778,
             "#fb9f3a"
            ],
            [
             0.8888888888888888,
             "#fdca26"
            ],
            [
             1,
             "#f0f921"
            ]
           ],
           "sequentialminus": [
            [
             0,
             "#0d0887"
            ],
            [
             0.1111111111111111,
             "#46039f"
            ],
            [
             0.2222222222222222,
             "#7201a8"
            ],
            [
             0.3333333333333333,
             "#9c179e"
            ],
            [
             0.4444444444444444,
             "#bd3786"
            ],
            [
             0.5555555555555556,
             "#d8576b"
            ],
            [
             0.6666666666666666,
             "#ed7953"
            ],
            [
             0.7777777777777778,
             "#fb9f3a"
            ],
            [
             0.8888888888888888,
             "#fdca26"
            ],
            [
             1,
             "#f0f921"
            ]
           ]
          },
          "colorway": [
           "#636efa",
           "#EF553B",
           "#00cc96",
           "#ab63fa",
           "#FFA15A",
           "#19d3f3",
           "#FF6692",
           "#B6E880",
           "#FF97FF",
           "#FECB52"
          ],
          "font": {
           "color": "#2a3f5f"
          },
          "geo": {
           "bgcolor": "white",
           "lakecolor": "white",
           "landcolor": "#E5ECF6",
           "showlakes": true,
           "showland": true,
           "subunitcolor": "white"
          },
          "hoverlabel": {
           "align": "left"
          },
          "hovermode": "closest",
          "mapbox": {
           "style": "light"
          },
          "paper_bgcolor": "white",
          "plot_bgcolor": "#E5ECF6",
          "polar": {
           "angularaxis": {
            "gridcolor": "white",
            "linecolor": "white",
            "ticks": ""
           },
           "bgcolor": "#E5ECF6",
           "radialaxis": {
            "gridcolor": "white",
            "linecolor": "white",
            "ticks": ""
           }
          },
          "scene": {
           "xaxis": {
            "backgroundcolor": "#E5ECF6",
            "gridcolor": "white",
            "gridwidth": 2,
            "linecolor": "white",
            "showbackground": true,
            "ticks": "",
            "zerolinecolor": "white"
           },
           "yaxis": {
            "backgroundcolor": "#E5ECF6",
            "gridcolor": "white",
            "gridwidth": 2,
            "linecolor": "white",
            "showbackground": true,
            "ticks": "",
            "zerolinecolor": "white"
           },
           "zaxis": {
            "backgroundcolor": "#E5ECF6",
            "gridcolor": "white",
            "gridwidth": 2,
            "linecolor": "white",
            "showbackground": true,
            "ticks": "",
            "zerolinecolor": "white"
           }
          },
          "shapedefaults": {
           "line": {
            "color": "#2a3f5f"
           }
          },
          "ternary": {
           "aaxis": {
            "gridcolor": "white",
            "linecolor": "white",
            "ticks": ""
           },
           "baxis": {
            "gridcolor": "white",
            "linecolor": "white",
            "ticks": ""
           },
           "bgcolor": "#E5ECF6",
           "caxis": {
            "gridcolor": "white",
            "linecolor": "white",
            "ticks": ""
           }
          },
          "title": {
           "x": 0.05
          },
          "xaxis": {
           "automargin": true,
           "gridcolor": "white",
           "linecolor": "white",
           "ticks": "",
           "title": {
            "standoff": 15
           },
           "zerolinecolor": "white",
           "zerolinewidth": 2
          },
          "yaxis": {
           "automargin": true,
           "gridcolor": "white",
           "linecolor": "white",
           "ticks": "",
           "title": {
            "standoff": 15
           },
           "zerolinecolor": "white",
           "zerolinewidth": 2
          }
         }
        },
        "title": {
         "text": "Big-Endian: Bit Flip Probabilities"
        },
        "xaxis": {
         "tickfont": {
          "size": 8
         },
         "tickmode": "array",
         "ticktext": {
          "bdata": "BwAGAAUABAADAAIAAQAAAA8ADgANAAwACwAKAAkACAAXABYAFQAUABMAEgARABAAHwAeAB0AHAAbABoAGQAYACcAJgAlACQAIwAiACEAIAAvAC4ALQAsACsAKgApACgANwA2ADUANAAzADIAMQAwAD8APgA9ADwAOwA6ADkAOABHAEYARQBEAEMAQgBBAEAATwBOAE0ATABLAEoASQBIAFcAVgBVAFQAUwBSAFEAUABfAF4AXQBcAFsAWgBZAFgAZwBmAGUAZABjAGIAYQBgAG8AbgBtAGwAawBqAGkAaAB3AHYAdQB0AHMAcgBxAHAAfwB+AH0AfAB7AHoAeQB4AIcAhgCFAIQAgwCCAIEAgACPAI4AjQCMAIsAigCJAIgAlwCWAJUAlACTAJIAkQCQAJ8AngCdAJwAmwCaAJkAmACnAKYApQCkAKMAogChAKAArwCuAK0ArACrAKoAqQCoALcAtgC1ALQAswCyALEAsAC/AL4AvQC8ALsAugC5ALgAxwDGAMUAxADDAMIAwQDAAM8AzgDNAMwAywDKAMkAyADXANYA1QDUANMA0gDRANAA3wDeAN0A3ADbANoA2QDYAOcA5gDlAOQA4wDiAOEA4ADvAO4A7QDsAOsA6gDpAOgA9wD2APUA9ADzAPIA8QDwAP8A/gD9APwA+wD6APkA+AA=",
          "dtype": "i2"
         },
         "tickvals": {
          "bdata": "AAABAAIAAwAEAAUABgAHAAgACQAKAAsADAANAA4ADwAQABEAEgATABQAFQAWABcAGAAZABoAGwAcAB0AHgAfACAAIQAiACMAJAAlACYAJwAoACkAKgArACwALQAuAC8AMAAxADIAMwA0ADUANgA3ADgAOQA6ADsAPAA9AD4APwBAAEEAQgBDAEQARQBGAEcASABJAEoASwBMAE0ATgBPAFAAUQBSAFMAVABVAFYAVwBYAFkAWgBbAFwAXQBeAF8AYABhAGIAYwBkAGUAZgBnAGgAaQBqAGsAbABtAG4AbwBwAHEAcgBzAHQAdQB2AHcAeAB5AHoAewB8AH0AfgB/AIAAgQCCAIMAhACFAIYAhwCIAIkAigCLAIwAjQCOAI8AkACRAJIAkwCUAJUAlgCXAJgAmQCaAJsAnACdAJ4AnwCgAKEAogCjAKQApQCmAKcAqACpAKoAqwCsAK0ArgCvALAAsQCyALMAtAC1ALYAtwC4ALkAugC7ALwAvQC+AL8AwADBAMIAwwDEAMUAxgDHAMgAyQDKAMsAzADNAM4AzwDQANEA0gDTANQA1QDWANcA2ADZANoA2wDcAN0A3gDfAOAA4QDiAOMA5ADlAOYA5wDoAOkA6gDrAOwA7QDuAO8A8ADxAPIA8wD0APUA9gD3APgA+QD6APsA/AD9AP4A/wA=",
          "dtype": "i2"
         },
         "title": {
          "text": "Bit Number"
         }
        },
        "yaxis": {
         "range": [
          0,
          1.1
         ],
         "title": {
          "text": "Bit Flip Probability"
         }
        }
       }
      }
     },
     "metadata": {},
     "output_type": "display_data"
    }
   ],
   "source": [
    "decoder.plot_message_from_id('18DAF218',[0,24,98,80,33])"
   ]
  },
  {
   "cell_type": "code",
   "execution_count": null,
   "id": "4e8bf1c3",
   "metadata": {},
   "outputs": [
    {
     "data": {
      "application/vnd.plotly.v1+json": {
       "config": {
        "plotlyServerURL": "https://plot.ly"
       },
       "data": [
        {
         "mode": "lines+markers",
         "name": "SIG_BE_13",
         "type": "scatter",
         "x": {
          "bdata": "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",
          "dtype": "f8"
         },
         "y": {
          "bdata": "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",
          "dtype": "f8"
         }
        }
       ],
       "layout": {
        "template": {
         "data": {
          "bar": [
           {
            "error_x": {
             "color": "#2a3f5f"
            },
            "error_y": {
             "color": "#2a3f5f"
            },
            "marker": {
             "line": {
              "color": "#E5ECF6",
              "width": 0.5
             },
             "pattern": {
              "fillmode": "overlay",
              "size": 10,
              "solidity": 0.2
             }
            },
            "type": "bar"
           }
          ],
          "barpolar": [
           {
            "marker": {
             "line": {
              "color": "#E5ECF6",
              "width": 0.5
             },
             "pattern": {
              "fillmode": "overlay",
              "size": 10,
              "solidity": 0.2
             }
            },
            "type": "barpolar"
           }
          ],
          "carpet": [
           {
            "aaxis": {
             "endlinecolor": "#2a3f5f",
             "gridcolor": "white",
             "linecolor": "white",
             "minorgridcolor": "white",
             "startlinecolor": "#2a3f5f"
            },
            "baxis": {
             "endlinecolor": "#2a3f5f",
             "gridcolor": "white",
             "linecolor": "white",
             "minorgridcolor": "white",
             "startlinecolor": "#2a3f5f"
            },
            "type": "carpet"
           }
          ],
          "choropleth": [
           {
            "colorbar": {
             "outlinewidth": 0,
             "ticks": ""
            },
            "type": "choropleth"
           }
          ],
          "contour": [
           {
            "colorbar": {
             "outlinewidth": 0,
             "ticks": ""
            },
            "colorscale": [
             [
              0,
              "#0d0887"
             ],
             [
              0.1111111111111111,
              "#46039f"
             ],
             [
              0.2222222222222222,
              "#7201a8"
             ],
             [
              0.3333333333333333,
              "#9c179e"
             ],
             [
              0.4444444444444444,
              "#bd3786"
             ],
             [
              0.5555555555555556,
              "#d8576b"
             ],
             [
              0.6666666666666666,
              "#ed7953"
             ],
             [
              0.7777777777777778,
              "#fb9f3a"
             ],
             [
              0.8888888888888888,
              "#fdca26"
             ],
             [
              1,
              "#f0f921"
             ]
            ],
            "type": "contour"
           }
          ],
          "contourcarpet": [
           {
            "colorbar": {
             "outlinewidth": 0,
             "ticks": ""
            },
            "type": "contourcarpet"
           }
          ],
          "heatmap": [
           {
            "colorbar": {
             "outlinewidth": 0,
             "ticks": ""
            },
            "colorscale": [
             [
              0,
              "#0d0887"
             ],
             [
              0.1111111111111111,
              "#46039f"
             ],
             [
              0.2222222222222222,
              "#7201a8"
             ],
             [
              0.3333333333333333,
              "#9c179e"
             ],
             [
              0.4444444444444444,
              "#bd3786"
             ],
             [
              0.5555555555555556,
              "#d8576b"
             ],
             [
              0.6666666666666666,
              "#ed7953"
             ],
             [
              0.7777777777777778,
              "#fb9f3a"
             ],
             [
              0.8888888888888888,
              "#fdca26"
             ],
             [
              1,
              "#f0f921"
             ]
            ],
            "type": "heatmap"
           }
          ],
          "histogram": [
           {
            "marker": {
             "pattern": {
              "fillmode": "overlay",
              "size": 10,
              "solidity": 0.2
             }
            },
            "type": "histogram"
           }
          ],
          "histogram2d": [
           {
            "colorbar": {
             "outlinewidth": 0,
             "ticks": ""
            },
            "colorscale": [
             [
              0,
              "#0d0887"
             ],
             [
              0.1111111111111111,
              "#46039f"
             ],
             [
              0.2222222222222222,
              "#7201a8"
             ],
             [
              0.3333333333333333,
              "#9c179e"
             ],
             [
              0.4444444444444444,
              "#bd3786"
             ],
             [
              0.5555555555555556,
              "#d8576b"
             ],
             [
              0.6666666666666666,
              "#ed7953"
             ],
             [
              0.7777777777777778,
              "#fb9f3a"
             ],
             [
              0.8888888888888888,
              "#fdca26"
             ],
             [
              1,
              "#f0f921"
             ]
            ],
            "type": "histogram2d"
           }
          ],
          "histogram2dcontour": [
           {
            "colorbar": {
             "outlinewidth": 0,
             "ticks": ""
            },
            "colorscale": [
             [
              0,
              "#0d0887"
             ],
             [
              0.1111111111111111,
              "#46039f"
             ],
             [
              0.2222222222222222,
              "#7201a8"
             ],
             [
              0.3333333333333333,
              "#9c179e"
             ],
             [
              0.4444444444444444,
              "#bd3786"
             ],
             [
              0.5555555555555556,
              "#d8576b"
             ],
             [
              0.6666666666666666,
              "#ed7953"
             ],
             [
              0.7777777777777778,
              "#fb9f3a"
             ],
             [
              0.8888888888888888,
              "#fdca26"
             ],
             [
              1,
              "#f0f921"
             ]
            ],
            "type": "histogram2dcontour"
           }
          ],
          "mesh3d": [
           {
            "colorbar": {
             "outlinewidth": 0,
             "ticks": ""
            },
            "type": "mesh3d"
           }
          ],
          "parcoords": [
           {
            "line": {
             "colorbar": {
              "outlinewidth": 0,
              "ticks": ""
             }
            },
            "type": "parcoords"
           }
          ],
          "pie": [
           {
            "automargin": true,
            "type": "pie"
           }
          ],
          "scatter": [
           {
            "fillpattern": {
             "fillmode": "overlay",
             "size": 10,
             "solidity": 0.2
            },
            "type": "scatter"
           }
          ],
          "scatter3d": [
           {
            "line": {
             "colorbar": {
              "outlinewidth": 0,
              "ticks": ""
             }
            },
            "marker": {
             "colorbar": {
              "outlinewidth": 0,
              "ticks": ""
             }
            },
            "type": "scatter3d"
           }
          ],
          "scattercarpet": [
           {
            "marker": {
             "colorbar": {
              "outlinewidth": 0,
              "ticks": ""
             }
            },
            "type": "scattercarpet"
           }
          ],
          "scattergeo": [
           {
            "marker": {
             "colorbar": {
              "outlinewidth": 0,
              "ticks": ""
             }
            },
            "type": "scattergeo"
           }
          ],
          "scattergl": [
           {
            "marker": {
             "colorbar": {
              "outlinewidth": 0,
              "ticks": ""
             }
            },
            "type": "scattergl"
           }
          ],
          "scattermap": [
           {
            "marker": {
             "colorbar": {
              "outlinewidth": 0,
              "ticks": ""
             }
            },
            "type": "scattermap"
           }
          ],
          "scattermapbox": [
           {
            "marker": {
             "colorbar": {
              "outlinewidth": 0,
              "ticks": ""
             }
            },
            "type": "scattermapbox"
           }
          ],
          "scatterpolar": [
           {
            "marker": {
             "colorbar": {
              "outlinewidth": 0,
              "ticks": ""
             }
            },
            "type": "scatterpolar"
           }
          ],
          "scatterpolargl": [
           {
            "marker": {
             "colorbar": {
              "outlinewidth": 0,
              "ticks": ""
             }
            },
            "type": "scatterpolargl"
           }
          ],
          "scatterternary": [
           {
            "marker": {
             "colorbar": {
              "outlinewidth": 0,
              "ticks": ""
             }
            },
            "type": "scatterternary"
           }
          ],
          "surface": [
           {
            "colorbar": {
             "outlinewidth": 0,
             "ticks": ""
            },
            "colorscale": [
             [
              0,
              "#0d0887"
             ],
             [
              0.1111111111111111,
              "#46039f"
             ],
             [
              0.2222222222222222,
              "#7201a8"
             ],
             [
              0.3333333333333333,
              "#9c179e"
             ],
             [
              0.4444444444444444,
              "#bd3786"
             ],
             [
              0.5555555555555556,
              "#d8576b"
             ],
             [
              0.6666666666666666,
              "#ed7953"
             ],
             [
              0.7777777777777778,
              "#fb9f3a"
             ],
             [
              0.8888888888888888,
              "#fdca26"
             ],
             [
              1,
              "#f0f921"
             ]
            ],
            "type": "surface"
           }
          ],
          "table": [
           {
            "cells": {
             "fill": {
              "color": "#EBF0F8"
             },
             "line": {
              "color": "white"
             }
            },
            "header": {
             "fill": {
              "color": "#C8D4E3"
             },
             "line": {
              "color": "white"
             }
            },
            "type": "table"
           }
          ]
         },
         "layout": {
          "annotationdefaults": {
           "arrowcolor": "#2a3f5f",
           "arrowhead": 0,
           "arrowwidth": 1
          },
          "autotypenumbers": "strict",
          "coloraxis": {
           "colorbar": {
            "outlinewidth": 0,
            "ticks": ""
           }
          },
          "colorscale": {
           "diverging": [
            [
             0,
             "#8e0152"
            ],
            [
             0.1,
             "#c51b7d"
            ],
            [
             0.2,
             "#de77ae"
            ],
            [
             0.3,
             "#f1b6da"
            ],
            [
             0.4,
             "#fde0ef"
            ],
            [
             0.5,
             "#f7f7f7"
            ],
            [
             0.6,
             "#e6f5d0"
            ],
            [
             0.7,
             "#b8e186"
            ],
            [
             0.8,
             "#7fbc41"
            ],
            [
             0.9,
             "#4d9221"
            ],
            [
             1,
             "#276419"
            ]
           ],
           "sequential": [
            [
             0,
             "#0d0887"
            ],
            [
             0.1111111111111111,
             "#46039f"
            ],
            [
             0.2222222222222222,
             "#7201a8"
            ],
            [
             0.3333333333333333,
             "#9c179e"
            ],
            [
             0.4444444444444444,
             "#bd3786"
            ],
            [
             0.5555555555555556,
             "#d8576b"
            ],
            [
             0.6666666666666666,
             "#ed7953"
            ],
            [
             0.7777777777777778,
             "#fb9f3a"
            ],
            [
             0.8888888888888888,
             "#fdca26"
            ],
            [
             1,
             "#f0f921"
            ]
           ],
           "sequentialminus": [
            [
             0,
             "#0d0887"
            ],
            [
             0.1111111111111111,
             "#46039f"
            ],
            [
             0.2222222222222222,
             "#7201a8"
            ],
            [
             0.3333333333333333,
             "#9c179e"
            ],
            [
             0.4444444444444444,
             "#bd3786"
            ],
            [
             0.5555555555555556,
             "#d8576b"
            ],
            [
             0.6666666666666666,
             "#ed7953"
            ],
            [
             0.7777777777777778,
             "#fb9f3a"
            ],
            [
             0.8888888888888888,
             "#fdca26"
            ],
            [
             1,
             "#f0f921"
            ]
           ]
          },
          "colorway": [
           "#636efa",
           "#EF553B",
           "#00cc96",
           "#ab63fa",
           "#FFA15A",
           "#19d3f3",
           "#FF6692",
           "#B6E880",
           "#FF97FF",
           "#FECB52"
          ],
          "font": {
           "color": "#2a3f5f"
          },
          "geo": {
           "bgcolor": "white",
           "lakecolor": "white",
           "landcolor": "#E5ECF6",
           "showlakes": true,
           "showland": true,
           "subunitcolor": "white"
          },
          "hoverlabel": {
           "align": "left"
          },
          "hovermode": "closest",
          "mapbox": {
           "style": "light"
          },
          "paper_bgcolor": "white",
          "plot_bgcolor": "#E5ECF6",
          "polar": {
           "angularaxis": {
            "gridcolor": "white",
            "linecolor": "white",
            "ticks": ""
           },
           "bgcolor": "#E5ECF6",
           "radialaxis": {
            "gridcolor": "white",
            "linecolor": "white",
            "ticks": ""
           }
          },
          "scene": {
           "xaxis": {
            "backgroundcolor": "#E5ECF6",
            "gridcolor": "white",
            "gridwidth": 2,
            "linecolor": "white",
            "showbackground": true,
            "ticks": "",
            "zerolinecolor": "white"
           },
           "yaxis": {
            "backgroundcolor": "#E5ECF6",
            "gridcolor": "white",
            "gridwidth": 2,
            "linecolor": "white",
            "showbackground": true,
            "ticks": "",
            "zerolinecolor": "white"
           },
           "zaxis": {
            "backgroundcolor": "#E5ECF6",
            "gridcolor": "white",
            "gridwidth": 2,
            "linecolor": "white",
            "showbackground": true,
            "ticks": "",
            "zerolinecolor": "white"
           }
          },
          "shapedefaults": {
           "line": {
            "color": "#2a3f5f"
           }
          },
          "ternary": {
           "aaxis": {
            "gridcolor": "white",
            "linecolor": "white",
            "ticks": ""
           },
           "baxis": {
            "gridcolor": "white",
            "linecolor": "white",
            "ticks": ""
           },
           "bgcolor": "#E5ECF6",
           "caxis": {
            "gridcolor": "white",
            "linecolor": "white",
            "ticks": ""
           }
          },
          "title": {
           "x": 0.05
          },
          "xaxis": {
           "automargin": true,
           "gridcolor": "white",
           "linecolor": "white",
           "ticks": "",
           "title": {
            "standoff": 15
           },
           "zerolinecolor": "white",
           "zerolinewidth": 2
          },
          "yaxis": {
           "automargin": true,
           "gridcolor": "white",
           "linecolor": "white",
           "ticks": "",
           "title": {
            "standoff": 15
           },
           "zerolinecolor": "white",
           "zerolinewidth": 2
          }
         }
        }
       }
      }
     },
     "metadata": {},
     "output_type": "display_data"
    }
   ],
   "source": [
    "f = decoder.plot_signal_from_id('18DAF218',[0,24,98,80,33], 'SIG_BE_13', return_fig=True)\n",
    "f['data'][0]['mode'] = 'lines+markers'\n",
    "f.show()"
   ]
  },
  {
   "cell_type": "code",
   "execution_count": null,
   "id": "a8d478d8",
   "metadata": {},
   "outputs": [
    {
     "data": {
      "text/plain": [
       "Message: 18DAF218, Signal: SIG_BE_1, Type: ts , Signed: unsigned"
      ]
     },
     "execution_count": 165,
     "metadata": {},
     "output_type": "execute_result"
    }
   ],
   "source": [
    "decoder.get_signal('18DAF218',[0,12,98,5,31], 'SIG_BE_1')"
   ]
  },
  {
   "cell_type": "code",
   "execution_count": null,
   "id": "8ab71e10",
   "metadata": {},
   "outputs": [
    {
     "data": {
      "text/plain": [
       "[Message 42A: Length 32 bytes,\n",
       " Message 18DA10F1 - Filter [B1:3|B2:34|B3:1|B4:201] : Length 8 bytes,\n",
       " Message 18DA10F1 - Filter [B1:3|B2:34|B3:1|B4:209] : Length 8 bytes,\n",
       " Message 18DA10F1 - Filter [B1:3|B2:34|B3:1|B4:213] : Length 8 bytes,\n",
       " Message 18DA10F1 - Filter [B1:3|B2:34|B3:2|B4:178] : Length 8 bytes,\n",
       " Message 18DA10F1 - Filter [B1:3|B2:34|B3:2|B4:179] : Length 8 bytes,\n",
       " Message 18DA10F1 - Filter [B1:3|B2:34|B3:2|B4:180] : Length 8 bytes,\n",
       " Message 18DA10F1 - Filter [B1:3|B2:34|B3:2|B4:181] : Length 8 bytes,\n",
       " Message 18DA10F1 - Filter [B1:3|B2:34|B3:3|B4:225] : Length 8 bytes,\n",
       " Message 18DA10F1 - Filter [B1:3|B2:34|B3:3|B4:240] : Length 8 bytes,\n",
       " Message 18DA10F1 - Filter [B1:3|B2:34|B3:1|B4:29] : Length 8 bytes,\n",
       " Message 18DA10F1 - Filter [B1:3|B2:34|B3:1|B4:32] : Length 8 bytes,\n",
       " Message 18DA10F1 - Filter [B1:3|B2:34|B3:1|B4:35] : Length 8 bytes,\n",
       " Message 18DA10F1 - Filter [B1:3|B2:34|B3:1|B4:39] : Length 8 bytes,\n",
       " Message 18DA10F1 - Filter [B1:3|B2:34|B3:18|B4:201] : Length 8 bytes,\n",
       " Message 18DA10F1 - Filter [B1:3|B2:34|B3:1|B4:186] : Length 8 bytes,\n",
       " Message 18DA10F1 - Filter [B1:3|B2:34|B3:2|B4:39] : Length 8 bytes,\n",
       " Message 18DA10F1 - Filter [B1:3|B2:34|B3:2|B4:42] : Length 8 bytes,\n",
       " Message 18DA10F1 - Filter [B1:3|B2:34|B3:0|B4:45] : Length 8 bytes,\n",
       " Message 18DA10F1 - Filter [B1:3|B2:34|B3:3|B4:248] : Length 8 bytes,\n",
       " Message 18DA10F1 - Filter [B1:3|B2:34|B3:6|B4:158] : Length 8 bytes,\n",
       " Message 18DA10F1 - Filter [B1:3|B2:34|B3:6|B4:159] : Length 8 bytes,\n",
       " Message 18DA10F1 - Filter [B1:3|B2:34|B3:3|B4:227] : Length 8 bytes,\n",
       " Message 18DA10F1 - Filter [B1:3|B2:34|B3:3|B4:228] : Length 8 bytes,\n",
       " Message 18DA10F1 - Filter [B1:3|B2:34|B3:2|B4:51] : Length 8 bytes,\n",
       " Message 18DA10F1 - Filter [B1:3|B2:34|B3:2|B4:52] : Length 8 bytes,\n",
       " Message 18DA10F1 - Filter [B1:3|B2:34|B3:2|B4:53] : Length 8 bytes,\n",
       " Message 18DA10F1 - Filter [B1:3|B2:34|B3:2|B4:54] : Length 8 bytes,\n",
       " Message 18DA10F1 - Filter [B1:3|B2:34|B3:2|B4:55] : Length 8 bytes,\n",
       " Message 18DA10F1 - Filter [B1:3|B2:34|B3:2|B4:85] : Length 8 bytes,\n",
       " Message 18DA10F1 - Filter [B1:3|B2:34|B3:2|B4:86] : Length 8 bytes,\n",
       " Message 18DA10F1 - Filter [B1:3|B2:34|B3:2|B4:87] : Length 8 bytes,\n",
       " Message 18DA10F1 - Filter [B1:3|B2:34|B3:2|B4:88] : Length 8 bytes,\n",
       " Message 18DA10F1 - Filter [B1:3|B2:34|B3:6|B4:218] : Length 8 bytes,\n",
       " Message 18DA10F1 - Filter [B1:3|B2:34|B3:6|B4:124] : Length 8 bytes,\n",
       " Message 18DA10F1 - Filter [B1:3|B2:34|B3:1|B4:202] : Length 8 bytes,\n",
       " Message 18DA10F1 - Filter [B1:3|B2:34|B3:1|B4:6] : Length 8 bytes,\n",
       " Message 18DA10F1 - Filter [B1:3|B2:34|B3:1|B4:9] : Length 8 bytes,\n",
       " Message 18DA10F1 - Filter [B1:3|B2:34|B3:18|B4:71] : Length 8 bytes,\n",
       " Message 18DA10F1 - Filter [B1:3|B2:34|B3:18|B4:80] : Length 8 bytes,\n",
       " Message 18DA10F1 - Filter [B1:3|B2:34|B3:1|B4:43] : Length 8 bytes,\n",
       " Message 18DA10F1 - Filter [B1:3|B2:34|B3:20|B4:177] : Length 8 bytes,\n",
       " Message 18DA10F1 - Filter [B1:3|B2:34|B3:1|B4:255] : Length 8 bytes,\n",
       " Message 18DA10F1 - Filter [B1:3|B2:34|B3:2|B4:40] : Length 8 bytes,\n",
       " Message 18DA10F1 - Filter [B1:3|B2:34|B3:21|B4:67] : Length 8 bytes,\n",
       " Message 18DA10F1 - Filter [B1:3|B2:34|B3:1|B4:116] : Length 8 bytes,\n",
       " Message 18DA10F1 - Filter [B1:3|B2:34|B3:1|B4:158] : Length 8 bytes,\n",
       " Message 18DA10F1 - Filter [B1:3|B2:34|B3:1|B4:195] : Length 8 bytes,\n",
       " Message 18DA10F1 - Filter [B1:2|B2:62|B3:128|B4:0] : Length 8 bytes,\n",
       " Message 18DA18F2 - Filter [B1:3|B2:34|B3:80|B4:32] : Length 8 bytes,\n",
       " Message 18DA18F2 - Filter [B1:3|B2:34|B3:80|B4:33] : Length 8 bytes,\n",
       " Message 18DA18F2 - Filter [B1:3|B2:34|B3:80|B4:34] : Length 8 bytes,\n",
       " Message 18DA18F2 - Filter [B1:3|B2:34|B3:80|B4:47] : Length 8 bytes,\n",
       " Message 18DA18F2 - Filter [B1:3|B2:34|B3:80|B4:58] : Length 8 bytes,\n",
       " Message 18DA18F2 - Filter [B1:3|B2:34|B3:80|B4:64] : Length 8 bytes,\n",
       " Message 18DA18F2 - Filter [B1:3|B2:34|B3:5|B4:31] : Length 8 bytes,\n",
       " Message 18DA18F2 - Filter [B1:3|B2:34|B3:80|B4:37] : Length 8 bytes,\n",
       " Message 18DA18F2 - Filter [B1:3|B2:34|B3:80|B4:44] : Length 8 bytes,\n",
       " Message 18DA18F2 - Filter [B1:3|B2:34|B3:80|B4:48] : Length 8 bytes,\n",
       " Message 18DA18F2 - Filter [B1:3|B2:34|B3:80|B4:49] : Length 8 bytes,\n",
       " Message 18DA18F2 - Filter [B1:3|B2:34|B3:80|B4:51] : Length 8 bytes,\n",
       " Message 18DA18F2 - Filter [B1:3|B2:34|B3:5|B4:28] : Length 8 bytes,\n",
       " Message 18DA18F2 - Filter [B1:3|B2:34|B3:5|B4:69] : Length 8 bytes,\n",
       " Message 18DA18F2 - Filter [B1:3|B2:34|B3:16|B4:24] : Length 8 bytes,\n",
       " Message 18DA18F2 - Filter [B1:3|B2:34|B3:5|B4:0] : Length 8 bytes,\n",
       " Message 18DA18F2 - Filter [B1:3|B2:34|B3:80|B4:12] : Length 8 bytes,\n",
       " Message 18DA18F2 - Filter [B1:3|B2:34|B3:80|B4:16] : Length 8 bytes,\n",
       " Message 18DA18F2 - Filter [B1:2|B2:62|B3:128|B4:0] : Length 8 bytes,\n",
       " Message 113: Length 32 bytes,\n",
       " Message 116: Length 64 bytes,\n",
       " Message 208: Length 32 bytes,\n",
       " Message 112: Length 32 bytes,\n",
       " Message 2EF: Length 32 bytes,\n",
       " Message 18DAF110 - Filter [B1:5|B2:98|B3:1|B4:201] : Length 8 bytes,\n",
       " Message 18DAF110 - Filter [B1:5|B2:98|B3:1|B4:209] : Length 8 bytes,\n",
       " Message 18DAF110 - Filter [B1:5|B2:98|B3:1|B4:213] : Length 8 bytes,\n",
       " Message 18DAF110 - Filter [B1:5|B2:98|B3:2|B4:178] : Length 8 bytes,\n",
       " Message 18DAF110 - Filter [B1:5|B2:98|B3:2|B4:179] : Length 8 bytes,\n",
       " Message 18DAF110 - Filter [B1:5|B2:98|B3:2|B4:180] : Length 8 bytes,\n",
       " Message 18DAF110 - Filter [B1:5|B2:98|B3:2|B4:181] : Length 8 bytes,\n",
       " Message 18DAF110 - Filter [B1:5|B2:98|B3:3|B4:225] : Length 8 bytes,\n",
       " Message 18DAF110 - Filter [B1:5|B2:98|B3:3|B4:240] : Length 8 bytes,\n",
       " Message 18DAF110 - Filter [B1:4|B2:98|B3:1|B4:29] : Length 8 bytes,\n",
       " Message 18DAF110 - Filter [B1:4|B2:98|B3:1|B4:32] : Length 8 bytes,\n",
       " Message 18DAF110 - Filter [B1:4|B2:98|B3:1|B4:35] : Length 8 bytes,\n",
       " Message 18DAF110 - Filter [B1:4|B2:98|B3:1|B4:39] : Length 8 bytes,\n",
       " Message 18DAF110 - Filter [B1:4|B2:98|B3:18|B4:201] : Length 8 bytes,\n",
       " Message 18DAF110 - Filter [B1:4|B2:98|B3:1|B4:186] : Length 8 bytes,\n",
       " Message 18DAF110 - Filter [B1:4|B2:98|B3:2|B4:39] : Length 8 bytes,\n",
       " Message 18DAF110 - Filter [B1:4|B2:98|B3:2|B4:42] : Length 8 bytes,\n",
       " Message 18DAF110 - Filter [B1:3|B2:127|B3:34|B4:18] : Length 8 bytes,\n",
       " Message 18DAF110 - Filter [B1:7|B2:98|B3:3|B4:248] : Length 8 bytes,\n",
       " Message 18DAF110 - Filter [B1:4|B2:98|B3:6|B4:158] : Length 8 bytes,\n",
       " Message 18DAF110 - Filter [B1:4|B2:98|B3:6|B4:159] : Length 8 bytes,\n",
       " Message 18DAF110 - Filter [B1:4|B2:98|B3:3|B4:227] : Length 8 bytes,\n",
       " Message 18DAF110 - Filter [B1:4|B2:98|B3:3|B4:228] : Length 8 bytes,\n",
       " Message 18DAF110 - Filter [B1:7|B2:98|B3:2|B4:51] : Length 8 bytes,\n",
       " Message 18DAF110 - Filter [B1:7|B2:98|B3:2|B4:52] : Length 8 bytes,\n",
       " Message 18DAF110 - Filter [B1:7|B2:98|B3:2|B4:53] : Length 8 bytes,\n",
       " Message 18DAF110 - Filter [B1:7|B2:98|B3:2|B4:54] : Length 8 bytes,\n",
       " Message 18DAF110 - Filter [B1:7|B2:98|B3:2|B4:55] : Length 8 bytes,\n",
       " Message 18DAF110 - Filter [B1:5|B2:98|B3:2|B4:85] : Length 8 bytes,\n",
       " Message 18DAF110 - Filter [B1:5|B2:98|B3:2|B4:86] : Length 8 bytes,\n",
       " Message 18DAF110 - Filter [B1:5|B2:98|B3:2|B4:87] : Length 8 bytes,\n",
       " Message 18DAF110 - Filter [B1:5|B2:98|B3:2|B4:88] : Length 8 bytes,\n",
       " Message 18DAF110 - Filter [B1:5|B2:98|B3:6|B4:218] : Length 8 bytes,\n",
       " Message 18DAF110 - Filter [B1:4|B2:98|B3:6|B4:124] : Length 8 bytes,\n",
       " Message 18DAF110 - Filter [B1:7|B2:98|B3:1|B4:202] : Length 8 bytes,\n",
       " Message 18DAF110 - Filter [B1:5|B2:98|B3:1|B4:6] : Length 8 bytes,\n",
       " Message 18DAF110 - Filter [B1:5|B2:98|B3:1|B4:9] : Length 8 bytes,\n",
       " Message 18DAF110 - Filter [B1:5|B2:98|B3:18|B4:71] : Length 8 bytes,\n",
       " Message 18DAF110 - Filter [B1:4|B2:98|B3:18|B4:80] : Length 8 bytes,\n",
       " Message 18DAF110 - Filter [B1:5|B2:98|B3:1|B4:43] : Length 8 bytes,\n",
       " Message 18DAF110 - Filter [B1:5|B2:98|B3:20|B4:177] : Length 8 bytes,\n",
       " Message 18DAF110 - Filter [B1:5|B2:98|B3:1|B4:255] : Length 8 bytes,\n",
       " Message 18DAF110 - Filter [B1:5|B2:98|B3:2|B4:40] : Length 8 bytes,\n",
       " Message 18DAF110 - Filter [B1:5|B2:98|B3:21|B4:67] : Length 8 bytes,\n",
       " Message 18DAF110 - Filter [B1:5|B2:98|B3:1|B4:116] : Length 8 bytes,\n",
       " Message 18DAF110 - Filter [B1:5|B2:98|B3:1|B4:158] : Length 8 bytes,\n",
       " Message 18DAF110 - Filter [B1:5|B2:98|B3:1|B4:195] : Length 8 bytes,\n",
       " Message 18DAF110 - Filter [B1:3|B2:127|B3:62|B4:18] : Length 8 bytes,\n",
       " Message 102: Length 64 bytes,\n",
       " Message 103: Length 32 bytes,\n",
       " Message 40B: Length 32 bytes,\n",
       " Message 118: Length 32 bytes,\n",
       " Message 108: Length 32 bytes,\n",
       " Message 106: Length 64 bytes,\n",
       " Message 9F: Length 32 bytes,\n",
       " Message FF: Length 48 bytes,\n",
       " Message 100: Length 32 bytes,\n",
       " Message 10A: Length 32 bytes,\n",
       " Message 10D: Length 64 bytes,\n",
       " Message 10F: Length 64 bytes,\n",
       " Message 114: Length 64 bytes,\n",
       " Message 1DF: Length 32 bytes,\n",
       " Message 200: Length 32 bytes,\n",
       " Message 2F1: Length 32 bytes,\n",
       " Message 402: Length 32 bytes,\n",
       " Message 403: Length 32 bytes,\n",
       " Message 205: Length 32 bytes,\n",
       " Message 405: Length 32 bytes,\n",
       " Message 406: Length 32 bytes,\n",
       " Message 407: Length 32 bytes,\n",
       " Message 408: Length 32 bytes,\n",
       " Message 409: Length 32 bytes,\n",
       " Message 40A: Length 48 bytes,\n",
       " Message 419: Length 32 bytes,\n",
       " Message 55D: Length 32 bytes,\n",
       " Message 5B1: Length 32 bytes,\n",
       " Message 5B3: Length 32 bytes,\n",
       " Message 1DC: Length 32 bytes,\n",
       " Message 5BC: Length 32 bytes,\n",
       " Message 18DAF218 - Filter [B1:0|B2:15|B3:98|B4:80|B5:32] : Length 20 bytes,\n",
       " Message 18DAF218 - Filter [B1:0|B2:24|B3:98|B4:80|B5:33] : Length 32 bytes,\n",
       " Message 18DAF218 - Filter [B1:0|B2:15|B3:98|B4:80|B5:34] : Length 20 bytes,\n",
       " Message 18DAF218 - Filter [B1:0|B2:10|B3:98|B4:80|B5:47] : Length 12 bytes,\n",
       " Message 18DAF218 - Filter [B1:0|B2:19|B3:98|B4:80|B5:58] : Length 24 bytes,\n",
       " Message 18DAF218 - Filter [B1:0|B2:25|B3:98|B4:80|B5:64] : Length 32 bytes,\n",
       " Message 18DAF218 - Filter [B1:0|B2:12|B3:98|B4:5|B5:31] : Length 16 bytes,\n",
       " Message 18DAF218 - Filter [B1:5|B2:98|B3:80|B4:37] : Length 6 bytes,\n",
       " Message 18DAF218 - Filter [B1:4|B2:98|B3:80|B4:44] : Length 5 bytes,\n",
       " Message 18DAF218 - Filter [B1:0|B2:23|B3:98|B4:80|B5:48] : Length 32 bytes,\n",
       " Message 18DAF218 - Filter [B1:7|B2:98|B3:80|B4:49] : Length 8 bytes,\n",
       " Message 18DAF218 - Filter [B1:5|B2:98|B3:80|B4:51] : Length 6 bytes,\n",
       " Message 18DAF218 - Filter [B1:4|B2:98|B3:5|B4:28] : Length 5 bytes,\n",
       " Message 18DAF218 - Filter [B1:6|B2:98|B3:5|B4:69] : Length 7 bytes,\n",
       " Message 18DAF218 - Filter [B1:5|B2:98|B3:16|B4:24] : Length 6 bytes,\n",
       " Message 18DAF218 - Filter [B1:5|B2:98|B3:5|B4:0] : Length 6 bytes,\n",
       " Message 18DAF218 - Filter [B1:6|B2:98|B3:80|B4:12] : Length 7 bytes,\n",
       " Message 18DAF218 - Filter [B1:7|B2:98|B3:80|B4:16] : Length 8 bytes,\n",
       " Message 201: Length 32 bytes,\n",
       " Message 202: Length 32 bytes,\n",
       " Message 207: Length 32 bytes,\n",
       " Message 40C: Length 32 bytes,\n",
       " Message 5B4: Length 32 bytes,\n",
       " Message 206: Length 32 bytes,\n",
       " Message 72A: Length 32 bytes,\n",
       " Message 730: Length 32 bytes,\n",
       " Message 1E360062: Length 12 bytes,\n",
       " Message 7A4: Length 32 bytes,\n",
       " Message 42C: Length 32 bytes,\n",
       " Message 7A0: Length 32 bytes,\n",
       " Message 41E: Length 32 bytes,\n",
       " Message 1E360070: Length 64 bytes,\n",
       " Message 2EE: Length 32 bytes,\n",
       " Message 260: Length 32 bytes,\n",
       " Message 1E360056: Length 12 bytes,\n",
       " Message 2F0: Length 32 bytes,\n",
       " Message 261: Length 32 bytes,\n",
       " Message 41F: Length 32 bytes,\n",
       " Message 483: Length 32 bytes,\n",
       " Message 2F2: Length 32 bytes,\n",
       " Message 420: Length 32 bytes,\n",
       " Message 1E360006: Length 12 bytes,\n",
       " Message 404: Length 32 bytes,\n",
       " Message 25A: Length 32 bytes,\n",
       " Message 530: Length 32 bytes,\n",
       " Message 422: Length 32 bytes,\n",
       " Message 5B0: Length 32 bytes,\n",
       " Message 262: Length 32 bytes,\n",
       " Message 42D: Length 32 bytes,\n",
       " Message 25B: Length 32 bytes,\n",
       " Message 9A: Length 64 bytes,\n",
       " Message 41B: Length 32 bytes,\n",
       " Message 263: Length 32 bytes,\n",
       " Message 258: Length 32 bytes,\n",
       " Message 264: Length 32 bytes,\n",
       " Message 596: Length 32 bytes,\n",
       " Message 597: Length 32 bytes,\n",
       " Message 59A: Length 32 bytes,\n",
       " Message 59B: Length 32 bytes,\n",
       " Message 41D: Length 32 bytes,\n",
       " Message 59C: Length 32 bytes,\n",
       " Message 5BE: Length 32 bytes,\n",
       " Message 3B6: Length 32 bytes,\n",
       " Message 5A7: Length 32 bytes,\n",
       " Message 723: Length 32 bytes,\n",
       " Message 1E360043: Length 12 bytes,\n",
       " Message 7A3: Length 32 bytes,\n",
       " Message 1E360000: Length 48 bytes,\n",
       " Message 55F: Length 32 bytes,\n",
       " Message 341: Length 32 bytes,\n",
       " Message 1E384000: Length 2 bytes,\n",
       " Message 481: Length 32 bytes,\n",
       " Message 732: Length 32 bytes,\n",
       " Message 5A1: Length 32 bytes,\n",
       " Message 5C2: Length 48 bytes,\n",
       " Message 5AF: Length 32 bytes,\n",
       " Message 1E360003: Length 12 bytes,\n",
       " Message 734: Length 32 bytes,\n",
       " Message 725: Length 32 bytes,\n",
       " Message 727: Length 32 bytes,\n",
       " Message 482: Length 32 bytes,\n",
       " Message 598: Length 32 bytes,\n",
       " Message 5A3: Length 48 bytes,\n",
       " Message 9C: Length 32 bytes,\n",
       " Message 5AA: Length 32 bytes,\n",
       " Message 736: Length 32 bytes,\n",
       " Message 1E36008D: Length 12 bytes,\n",
       " Message 5A9: Length 32 bytes,\n",
       " Message 65A: Length 32 bytes,\n",
       " Message 1E360018: Length 12 bytes,\n",
       " Message 5B8: Length 32 bytes,\n",
       " Message 593: Length 32 bytes,\n",
       " Message 594: Length 32 bytes,\n",
       " Message 5B9: Length 32 bytes,\n",
       " Message 5BA: Length 32 bytes,\n",
       " Message 5BF: Length 32 bytes,\n",
       " Message 728: Length 32 bytes,\n",
       " Message 1E360024: Length 12 bytes,\n",
       " Message 5A8: Length 32 bytes,\n",
       " Message 1E360016: Length 12 bytes,\n",
       " Message 1E360046: Length 12 bytes,\n",
       " Message 5B6: Length 32 bytes,\n",
       " Message 595: Length 32 bytes,\n",
       " Message 5AB: Length 32 bytes,\n",
       " Message 5AC: Length 32 bytes,\n",
       " Message 1E360023: Length 12 bytes,\n",
       " Message 1E36000B: Length 12 bytes,\n",
       " Message 1E384006: Length 2 bytes,\n",
       " Message 1E360001: Length 12 bytes,\n",
       " Message 1E36001D: Length 12 bytes,\n",
       " Message 1E36007D: Length 12 bytes,\n",
       " Message 1E360002: Length 12 bytes,\n",
       " Message 1E36007E: Length 12 bytes,\n",
       " Message 1E36001A: Length 12 bytes,\n",
       " Message 7A2: Length 32 bytes,\n",
       " Message 1E360041: Length 12 bytes,\n",
       " Message 754: Length 32 bytes,\n",
       " Message 96: Length 64 bytes]"
      ]
     },
     "execution_count": 166,
     "metadata": {},
     "output_type": "execute_result"
    }
   ],
   "source": [
    "decoder.msgs"
   ]
  },
  {
   "cell_type": "code",
   "execution_count": null,
   "id": "802eb19c",
   "metadata": {},
   "outputs": [],
   "source": [
    "s = decoder.get_signal('18DAF218',[0,12,98,5,31], 'SIG_BE_1')"
   ]
  },
  {
   "cell_type": "code",
   "execution_count": null,
   "id": "2f4ec9b7",
   "metadata": {},
   "outputs": [],
   "source": [
    "signal = decoder.get_signal('18DAF218',[0,12,98,5,31], 'SIG_BE_1')"
   ]
  },
  {
   "cell_type": "code",
   "execution_count": null,
   "id": "aa45b167",
   "metadata": {},
   "outputs": [
    {
     "data": {
      "application/vnd.microsoft.datawrangler.viewer.v0+json": {
       "columns": [
        {
         "name": "index",
         "rawType": "int64",
         "type": "integer"
        },
        {
         "name": "abs_time",
         "rawType": "float64",
         "type": "float"
        }
       ],
       "ref": "2069c5a9-2884-448b-80a6-311131f78f75",
       "rows": [
        [
         "0",
         "0.658172025"
        ],
        [
         "1",
         "0.89785875"
        ],
        [
         "2",
         "1.18811525"
        ],
        [
         "3",
         "1.418119725"
        ],
        [
         "4",
         "1.6579166"
        ],
        [
         "5",
         "1.867934675"
        ],
        [
         "6",
         "2.108035375"
        ],
        [
         "7",
         "2.32796795"
        ],
        [
         "8",
         "2.56798485"
        ],
        [
         "9",
         "2.80805445"
        ],
        [
         "10",
         "3.028025525"
        ],
        [
         "11",
         "3.26804335"
        ],
        [
         "12",
         "3.50807055"
        ],
        [
         "13",
         "3.728073275"
        ],
        [
         "14",
         "3.96809035"
        ],
        [
         "15",
         "4.208108925"
        ],
        [
         "16",
         "4.43812575"
        ],
        [
         "17",
         "4.678144075"
        ],
        [
         "18",
         "4.918161525"
        ],
        [
         "19",
         "5.1581873"
        ],
        [
         "20",
         "5.388456225"
        ],
        [
         "21",
         "5.61821315"
        ],
        [
         "22",
         "5.858230825"
        ],
        [
         "23",
         "6.088692325"
        ],
        [
         "24",
         "6.31826415"
        ],
        [
         "25",
         "6.538298275"
        ],
        [
         "26",
         "6.76832425"
        ],
        [
         "27",
         "8.498429025"
        ],
        [
         "28",
         "8.7384483"
        ],
        [
         "29",
         "8.968461675"
        ],
        [
         "30",
         "9.1984811"
        ],
        [
         "31",
         "9.4484981"
        ],
        [
         "32",
         "9.678515125"
        ],
        [
         "33",
         "9.898536725"
        ],
        [
         "34",
         "10.12854985"
        ],
        [
         "35",
         "10.368561775"
        ],
        [
         "36",
         "10.598584975"
        ],
        [
         "37",
         "10.82859955"
        ],
        [
         "38",
         "11.068616425"
        ],
        [
         "39",
         "11.29863655"
        ],
        [
         "40",
         "11.528654575"
        ],
        [
         "41",
         "11.858679025"
        ],
        [
         "42",
         "12.122431775"
        ],
        [
         "43",
         "12.409664875"
        ],
        [
         "44",
         "12.670315825"
        ],
        [
         "45",
         "12.892499175"
        ],
        [
         "46",
         "13.118772"
        ],
        [
         "47",
         "13.33878745"
        ],
        [
         "48",
         "13.568808625"
        ],
        [
         "49",
         "13.798836275"
        ]
       ],
       "shape": {
        "columns": 1,
        "rows": 303
       }
      },
      "text/plain": [
       "0       0.658172\n",
       "1       0.897859\n",
       "2       1.188115\n",
       "3       1.418120\n",
       "4       1.657917\n",
       "         ...    \n",
       "298    88.454479\n",
       "299    88.674494\n",
       "300    88.914513\n",
       "301    89.174534\n",
       "302    89.424553\n",
       "Name: abs_time, Length: 303, dtype: float64"
      ]
     },
     "execution_count": 169,
     "metadata": {},
     "output_type": "execute_result"
    }
   ],
   "source": [
    "signal.ts_data_timestamps"
   ]
  },
  {
   "cell_type": "code",
   "execution_count": null,
   "id": "f715f860",
   "metadata": {},
   "outputs": [],
   "source": [
    "all_data = decoder.all_data"
   ]
  }
 ],
 "metadata": {
  "kernelspec": {
   "display_name": "main",
   "language": "python",
   "name": "python3"
  },
  "language_info": {
   "codemirror_mode": {
    "name": "ipython",
    "version": 3
   },
   "file_extension": ".py",
   "mimetype": "text/x-python",
   "name": "python",
   "nbconvert_exporter": "python",
   "pygments_lexer": "ipython3",
   "version": "3.13.5"
  }
 },
 "nbformat": 4,
 "nbformat_minor": 5
}
