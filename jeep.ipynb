{
 "cells": [
  {
   "cell_type": "code",
   "execution_count": 1,
   "id": "4789b968",
   "metadata": {},
   "outputs": [],
   "source": [
    "import sys\n",
    "import os\n",
    "\n",
    "\n",
    "# auto-reload library if developing library functionalities\n",
    "%reload_ext autoreload\n",
    "%autoreload 2\n",
    "# Add the old-can-decoder-c56d4fe6 directory to sys.path\n",
    "sys.path.append(os.path.abspath('old-can-decoder-c56d4fe6'))\n",
    "\n",
    "# import library\n",
    "from PandaCANDecoder.decoder import Decoder as OldDecoder\n",
    "from can_decoder.decoder import Decoder"
   ]
  },
  {
   "cell_type": "code",
   "execution_count": 2,
   "id": "0861afb1",
   "metadata": {},
   "outputs": [
    {
     "name": "stdout",
     "output_type": "stream",
     "text": [
      "Generated 910 messages\n"
     ]
    }
   ],
   "source": [
    "decoder = Decoder(\"./data/SampleRoadAcceleration_v2.csv\")\n",
    "\n",
    "# Generate message objects\n",
    "\n",
    "byte_filters = {\n",
    "    \"18DA10F1\": [\"1\", \"2\", \"3\", \"4\",'5'],\n",
    "    \"18DAF110\": [\"1\", \"2\", \"3\", \"4\",'5'],\n",
    "    \"18DAF218\": [\"1\", \"2\", \"3\", \"4\",'5'],\n",
    "    \"18DA18F2\": [\"1\", \"2\", \"3\", \"4\",'5'],\n",
    "}\n",
    "\n",
    "decoder.generate_msgs(byte_filters=byte_filters)\n"
   ]
  },
  {
   "cell_type": "code",
   "execution_count": 3,
   "id": "6e2141a6",
   "metadata": {},
   "outputs": [],
   "source": [
    "## Dynamic filtering: if byte 1 is 0 we should discard byte 5\n",
    "for msg in decoder.msgs:\n",
    "    if msg.msg_byte_filter is not None:\n",
    "        if msg.msg_byte_filter['1'] != 0:\n",
    "            msg.msg_byte_filter.pop('5', None)\n",
    "            # Remove duplicates\n",
    "\n",
    "# Remove duplicate messages with same msg_id and identical msg_byte_filter after discarding byte 5\n",
    "unique_msgs = []\n",
    "seen = set()\n",
    "for msg in decoder.msgs:\n",
    "    key = (msg.msg_id, tuple(sorted(msg.msg_byte_filter.items())) if msg.msg_byte_filter else None)\n",
    "    if key not in seen:\n",
    "        unique_msgs.append(msg)\n",
    "        seen.add(key)\n",
    "decoder.msgs = unique_msgs"
   ]
  },
  {
   "cell_type": "code",
   "execution_count": 4,
   "id": "449b2208",
   "metadata": {},
   "outputs": [],
   "source": [
    "# Generate message time series data\n",
    "\n",
    "decoder.generate_msg_ts_data(rewrite=True)  "
   ]
  },
  {
   "cell_type": "code",
   "execution_count": 66,
   "id": "ddf4457d",
   "metadata": {},
   "outputs": [],
   "source": [
    "decoder.calculate_signals(\n",
    "        tokenization_method='conditional_bit_flip',\n",
    "        signedness_method='msb_classifier',\n",
    "        alpha1=0.01,\n",
    "        alpha2=0.5, #0.5,\n",
    "        gamma1=0.2)"
   ]
  },
  {
   "cell_type": "code",
   "execution_count": 6,
   "id": "2c5ba2a1",
   "metadata": {},
   "outputs": [
    {
     "data": {
      "text/plain": [
       "Message 18DA10F1 - Filter [B1:3|B2:34|B3:1|B4:201] : Length 8 bytes"
      ]
     },
     "execution_count": 6,
     "metadata": {},
     "output_type": "execute_result"
    }
   ],
   "source": [
    "decoder.get_message('18DA10F1',[0x3,0x22,1,201])"
   ]
  },
  {
   "cell_type": "code",
   "execution_count": 36,
   "id": "89d6fb11",
   "metadata": {},
   "outputs": [
    {
     "data": {
      "text/plain": [
       "[Message 42A: Length 32 bytes,\n",
       " Message 18DA10F1 - Filter [B1:3|B2:34|B3:1|B4:201] : Length 8 bytes,\n",
       " Message 18DA10F1 - Filter [B1:3|B2:34|B3:1|B4:209] : Length 8 bytes,\n",
       " Message 18DA10F1 - Filter [B1:3|B2:34|B3:1|B4:213] : Length 8 bytes,\n",
       " Message 18DA10F1 - Filter [B1:3|B2:34|B3:2|B4:178] : Length 8 bytes,\n",
       " Message 18DA10F1 - Filter [B1:3|B2:34|B3:2|B4:179] : Length 8 bytes,\n",
       " Message 18DA10F1 - Filter [B1:3|B2:34|B3:2|B4:180] : Length 8 bytes,\n",
       " Message 18DA10F1 - Filter [B1:3|B2:34|B3:2|B4:181] : Length 8 bytes,\n",
       " Message 18DA10F1 - Filter [B1:3|B2:34|B3:3|B4:225] : Length 8 bytes,\n",
       " Message 18DA10F1 - Filter [B1:3|B2:34|B3:3|B4:240] : Length 8 bytes,\n",
       " Message 18DA10F1 - Filter [B1:3|B2:34|B3:1|B4:29] : Length 8 bytes,\n",
       " Message 18DA10F1 - Filter [B1:3|B2:34|B3:1|B4:32] : Length 8 bytes,\n",
       " Message 18DA10F1 - Filter [B1:3|B2:34|B3:1|B4:35] : Length 8 bytes,\n",
       " Message 18DA10F1 - Filter [B1:3|B2:34|B3:1|B4:39] : Length 8 bytes,\n",
       " Message 18DA10F1 - Filter [B1:3|B2:34|B3:18|B4:201] : Length 8 bytes,\n",
       " Message 18DA10F1 - Filter [B1:3|B2:34|B3:1|B4:186] : Length 8 bytes,\n",
       " Message 18DA10F1 - Filter [B1:3|B2:34|B3:2|B4:39] : Length 8 bytes,\n",
       " Message 18DA10F1 - Filter [B1:3|B2:34|B3:2|B4:42] : Length 8 bytes,\n",
       " Message 18DA10F1 - Filter [B1:3|B2:34|B3:0|B4:45] : Length 8 bytes,\n",
       " Message 18DA10F1 - Filter [B1:3|B2:34|B3:3|B4:248] : Length 8 bytes,\n",
       " Message 18DA10F1 - Filter [B1:3|B2:34|B3:6|B4:158] : Length 8 bytes,\n",
       " Message 18DA10F1 - Filter [B1:3|B2:34|B3:6|B4:159] : Length 8 bytes,\n",
       " Message 18DA10F1 - Filter [B1:3|B2:34|B3:3|B4:227] : Length 8 bytes,\n",
       " Message 18DA10F1 - Filter [B1:3|B2:34|B3:3|B4:228] : Length 8 bytes,\n",
       " Message 18DA10F1 - Filter [B1:3|B2:34|B3:2|B4:51] : Length 8 bytes,\n",
       " Message 18DA10F1 - Filter [B1:3|B2:34|B3:2|B4:52] : Length 8 bytes,\n",
       " Message 18DA10F1 - Filter [B1:3|B2:34|B3:2|B4:53] : Length 8 bytes,\n",
       " Message 18DA10F1 - Filter [B1:3|B2:34|B3:2|B4:54] : Length 8 bytes,\n",
       " Message 18DA10F1 - Filter [B1:3|B2:34|B3:2|B4:55] : Length 8 bytes,\n",
       " Message 18DA10F1 - Filter [B1:3|B2:34|B3:2|B4:85] : Length 8 bytes,\n",
       " Message 18DA10F1 - Filter [B1:3|B2:34|B3:2|B4:86] : Length 8 bytes,\n",
       " Message 18DA10F1 - Filter [B1:3|B2:34|B3:2|B4:87] : Length 8 bytes,\n",
       " Message 18DA10F1 - Filter [B1:3|B2:34|B3:2|B4:88] : Length 8 bytes,\n",
       " Message 18DA10F1 - Filter [B1:3|B2:34|B3:6|B4:218] : Length 8 bytes,\n",
       " Message 18DA10F1 - Filter [B1:3|B2:34|B3:6|B4:124] : Length 8 bytes,\n",
       " Message 18DA10F1 - Filter [B1:3|B2:34|B3:1|B4:202] : Length 8 bytes,\n",
       " Message 18DA10F1 - Filter [B1:3|B2:34|B3:1|B4:6] : Length 8 bytes,\n",
       " Message 18DA10F1 - Filter [B1:3|B2:34|B3:1|B4:9] : Length 8 bytes,\n",
       " Message 18DA10F1 - Filter [B1:3|B2:34|B3:18|B4:71] : Length 8 bytes,\n",
       " Message 18DA10F1 - Filter [B1:3|B2:34|B3:18|B4:80] : Length 8 bytes,\n",
       " Message 18DA10F1 - Filter [B1:3|B2:34|B3:1|B4:43] : Length 8 bytes,\n",
       " Message 18DA10F1 - Filter [B1:3|B2:34|B3:20|B4:177] : Length 8 bytes,\n",
       " Message 18DA10F1 - Filter [B1:3|B2:34|B3:1|B4:255] : Length 8 bytes,\n",
       " Message 18DA10F1 - Filter [B1:3|B2:34|B3:2|B4:40] : Length 8 bytes,\n",
       " Message 18DA10F1 - Filter [B1:3|B2:34|B3:21|B4:67] : Length 8 bytes,\n",
       " Message 18DA10F1 - Filter [B1:3|B2:34|B3:1|B4:116] : Length 8 bytes,\n",
       " Message 18DA10F1 - Filter [B1:3|B2:34|B3:1|B4:158] : Length 8 bytes,\n",
       " Message 18DA10F1 - Filter [B1:3|B2:34|B3:1|B4:195] : Length 8 bytes,\n",
       " Message 18DA10F1 - Filter [B1:2|B2:62|B3:128|B4:0] : Length 8 bytes,\n",
       " Message 18DA18F2 - Filter [B1:3|B2:34|B3:80|B4:32] : Length 8 bytes,\n",
       " Message 18DA18F2 - Filter [B1:3|B2:34|B3:80|B4:33] : Length 8 bytes,\n",
       " Message 18DA18F2 - Filter [B1:3|B2:34|B3:80|B4:34] : Length 8 bytes,\n",
       " Message 18DA18F2 - Filter [B1:3|B2:34|B3:80|B4:47] : Length 8 bytes,\n",
       " Message 18DA18F2 - Filter [B1:3|B2:34|B3:80|B4:58] : Length 8 bytes,\n",
       " Message 18DA18F2 - Filter [B1:3|B2:34|B3:80|B4:64] : Length 8 bytes,\n",
       " Message 18DA18F2 - Filter [B1:3|B2:34|B3:5|B4:31] : Length 8 bytes,\n",
       " Message 18DA18F2 - Filter [B1:3|B2:34|B3:80|B4:37] : Length 8 bytes,\n",
       " Message 18DA18F2 - Filter [B1:3|B2:34|B3:80|B4:44] : Length 8 bytes,\n",
       " Message 18DA18F2 - Filter [B1:3|B2:34|B3:80|B4:48] : Length 8 bytes,\n",
       " Message 18DA18F2 - Filter [B1:3|B2:34|B3:80|B4:49] : Length 8 bytes,\n",
       " Message 18DA18F2 - Filter [B1:3|B2:34|B3:80|B4:51] : Length 8 bytes,\n",
       " Message 18DA18F2 - Filter [B1:3|B2:34|B3:5|B4:28] : Length 8 bytes,\n",
       " Message 18DA18F2 - Filter [B1:3|B2:34|B3:5|B4:69] : Length 8 bytes,\n",
       " Message 18DA18F2 - Filter [B1:3|B2:34|B3:16|B4:24] : Length 8 bytes,\n",
       " Message 18DA18F2 - Filter [B1:3|B2:34|B3:5|B4:0] : Length 8 bytes,\n",
       " Message 18DA18F2 - Filter [B1:3|B2:34|B3:80|B4:12] : Length 8 bytes,\n",
       " Message 18DA18F2 - Filter [B1:3|B2:34|B3:80|B4:16] : Length 8 bytes,\n",
       " Message 18DA18F2 - Filter [B1:2|B2:62|B3:128|B4:0] : Length 8 bytes,\n",
       " Message 113: Length 32 bytes,\n",
       " Message 116: Length 64 bytes,\n",
       " Message 208: Length 32 bytes,\n",
       " Message 112: Length 32 bytes,\n",
       " Message 2EF: Length 32 bytes,\n",
       " Message 18DAF110 - Filter [B1:5|B2:98|B3:1|B4:201] : Length 8 bytes,\n",
       " Message 18DAF110 - Filter [B1:5|B2:98|B3:1|B4:209] : Length 8 bytes,\n",
       " Message 18DAF110 - Filter [B1:5|B2:98|B3:1|B4:213] : Length 8 bytes,\n",
       " Message 18DAF110 - Filter [B1:5|B2:98|B3:2|B4:178] : Length 8 bytes,\n",
       " Message 18DAF110 - Filter [B1:5|B2:98|B3:2|B4:179] : Length 8 bytes,\n",
       " Message 18DAF110 - Filter [B1:5|B2:98|B3:2|B4:180] : Length 8 bytes,\n",
       " Message 18DAF110 - Filter [B1:5|B2:98|B3:2|B4:181] : Length 8 bytes,\n",
       " Message 18DAF110 - Filter [B1:5|B2:98|B3:3|B4:225] : Length 8 bytes,\n",
       " Message 18DAF110 - Filter [B1:5|B2:98|B3:3|B4:240] : Length 8 bytes,\n",
       " Message 18DAF110 - Filter [B1:4|B2:98|B3:1|B4:29] : Length 8 bytes,\n",
       " Message 18DAF110 - Filter [B1:4|B2:98|B3:1|B4:32] : Length 8 bytes,\n",
       " Message 18DAF110 - Filter [B1:4|B2:98|B3:1|B4:35] : Length 8 bytes,\n",
       " Message 18DAF110 - Filter [B1:4|B2:98|B3:1|B4:39] : Length 8 bytes,\n",
       " Message 18DAF110 - Filter [B1:4|B2:98|B3:18|B4:201] : Length 8 bytes,\n",
       " Message 18DAF110 - Filter [B1:4|B2:98|B3:1|B4:186] : Length 8 bytes,\n",
       " Message 18DAF110 - Filter [B1:4|B2:98|B3:2|B4:39] : Length 8 bytes,\n",
       " Message 18DAF110 - Filter [B1:4|B2:98|B3:2|B4:42] : Length 8 bytes,\n",
       " Message 18DAF110 - Filter [B1:3|B2:127|B3:34|B4:18] : Length 8 bytes,\n",
       " Message 18DAF110 - Filter [B1:7|B2:98|B3:3|B4:248] : Length 8 bytes,\n",
       " Message 18DAF110 - Filter [B1:4|B2:98|B3:6|B4:158] : Length 8 bytes,\n",
       " Message 18DAF110 - Filter [B1:4|B2:98|B3:6|B4:159] : Length 8 bytes,\n",
       " Message 18DAF110 - Filter [B1:4|B2:98|B3:3|B4:227] : Length 8 bytes,\n",
       " Message 18DAF110 - Filter [B1:4|B2:98|B3:3|B4:228] : Length 8 bytes,\n",
       " Message 18DAF110 - Filter [B1:7|B2:98|B3:2|B4:51] : Length 8 bytes,\n",
       " Message 18DAF110 - Filter [B1:7|B2:98|B3:2|B4:52] : Length 8 bytes,\n",
       " Message 18DAF110 - Filter [B1:7|B2:98|B3:2|B4:53] : Length 8 bytes,\n",
       " Message 18DAF110 - Filter [B1:7|B2:98|B3:2|B4:54] : Length 8 bytes,\n",
       " Message 18DAF110 - Filter [B1:7|B2:98|B3:2|B4:55] : Length 8 bytes,\n",
       " Message 18DAF110 - Filter [B1:5|B2:98|B3:2|B4:85] : Length 8 bytes,\n",
       " Message 18DAF110 - Filter [B1:5|B2:98|B3:2|B4:86] : Length 8 bytes,\n",
       " Message 18DAF110 - Filter [B1:5|B2:98|B3:2|B4:87] : Length 8 bytes,\n",
       " Message 18DAF110 - Filter [B1:5|B2:98|B3:2|B4:88] : Length 8 bytes,\n",
       " Message 18DAF110 - Filter [B1:5|B2:98|B3:6|B4:218] : Length 8 bytes,\n",
       " Message 18DAF110 - Filter [B1:4|B2:98|B3:6|B4:124] : Length 8 bytes,\n",
       " Message 18DAF110 - Filter [B1:7|B2:98|B3:1|B4:202] : Length 8 bytes,\n",
       " Message 18DAF110 - Filter [B1:5|B2:98|B3:1|B4:6] : Length 8 bytes,\n",
       " Message 18DAF110 - Filter [B1:5|B2:98|B3:1|B4:9] : Length 8 bytes,\n",
       " Message 18DAF110 - Filter [B1:5|B2:98|B3:18|B4:71] : Length 8 bytes,\n",
       " Message 18DAF110 - Filter [B1:4|B2:98|B3:18|B4:80] : Length 8 bytes,\n",
       " Message 18DAF110 - Filter [B1:5|B2:98|B3:1|B4:43] : Length 8 bytes,\n",
       " Message 18DAF110 - Filter [B1:5|B2:98|B3:20|B4:177] : Length 8 bytes,\n",
       " Message 18DAF110 - Filter [B1:5|B2:98|B3:1|B4:255] : Length 8 bytes,\n",
       " Message 18DAF110 - Filter [B1:5|B2:98|B3:2|B4:40] : Length 8 bytes,\n",
       " Message 18DAF110 - Filter [B1:5|B2:98|B3:21|B4:67] : Length 8 bytes,\n",
       " Message 18DAF110 - Filter [B1:5|B2:98|B3:1|B4:116] : Length 8 bytes,\n",
       " Message 18DAF110 - Filter [B1:5|B2:98|B3:1|B4:158] : Length 8 bytes,\n",
       " Message 18DAF110 - Filter [B1:5|B2:98|B3:1|B4:195] : Length 8 bytes,\n",
       " Message 18DAF110 - Filter [B1:3|B2:127|B3:62|B4:18] : Length 8 bytes,\n",
       " Message 102: Length 64 bytes,\n",
       " Message 103: Length 32 bytes,\n",
       " Message 40B: Length 32 bytes,\n",
       " Message 118: Length 32 bytes,\n",
       " Message 108: Length 32 bytes,\n",
       " Message 106: Length 64 bytes,\n",
       " Message 9F: Length 32 bytes,\n",
       " Message FF: Length 48 bytes,\n",
       " Message 100: Length 32 bytes,\n",
       " Message 10A: Length 32 bytes,\n",
       " Message 10D: Length 64 bytes,\n",
       " Message 10F: Length 64 bytes,\n",
       " Message 114: Length 64 bytes,\n",
       " Message 1DF: Length 32 bytes,\n",
       " Message 200: Length 32 bytes,\n",
       " Message 2F1: Length 32 bytes,\n",
       " Message 402: Length 32 bytes,\n",
       " Message 403: Length 32 bytes,\n",
       " Message 205: Length 32 bytes,\n",
       " Message 405: Length 32 bytes,\n",
       " Message 406: Length 32 bytes,\n",
       " Message 407: Length 32 bytes,\n",
       " Message 408: Length 32 bytes,\n",
       " Message 409: Length 32 bytes,\n",
       " Message 40A: Length 48 bytes,\n",
       " Message 419: Length 32 bytes,\n",
       " Message 55D: Length 32 bytes,\n",
       " Message 5B1: Length 32 bytes,\n",
       " Message 5B3: Length 32 bytes,\n",
       " Message 1DC: Length 32 bytes,\n",
       " Message 5BC: Length 32 bytes,\n",
       " Message 18DAF218 - Filter [B1:0|B2:15|B3:98|B4:80|B5:32] : Length 20 bytes,\n",
       " Message 18DAF218 - Filter [B1:0|B2:24|B3:98|B4:80|B5:33] : Length 32 bytes,\n",
       " Message 18DAF218 - Filter [B1:0|B2:15|B3:98|B4:80|B5:34] : Length 20 bytes,\n",
       " Message 18DAF218 - Filter [B1:0|B2:10|B3:98|B4:80|B5:47] : Length 12 bytes,\n",
       " Message 18DAF218 - Filter [B1:0|B2:19|B3:98|B4:80|B5:58] : Length 24 bytes,\n",
       " Message 18DAF218 - Filter [B1:0|B2:25|B3:98|B4:80|B5:64] : Length 32 bytes,\n",
       " Message 18DAF218 - Filter [B1:0|B2:12|B3:98|B4:5|B5:31] : Length 16 bytes,\n",
       " Message 18DAF218 - Filter [B1:5|B2:98|B3:80|B4:37] : Length 6 bytes,\n",
       " Message 18DAF218 - Filter [B1:4|B2:98|B3:80|B4:44] : Length 5 bytes,\n",
       " Message 18DAF218 - Filter [B1:0|B2:23|B3:98|B4:80|B5:48] : Length 32 bytes,\n",
       " Message 18DAF218 - Filter [B1:7|B2:98|B3:80|B4:49] : Length 8 bytes,\n",
       " Message 18DAF218 - Filter [B1:5|B2:98|B3:80|B4:51] : Length 6 bytes,\n",
       " Message 18DAF218 - Filter [B1:4|B2:98|B3:5|B4:28] : Length 5 bytes,\n",
       " Message 18DAF218 - Filter [B1:6|B2:98|B3:5|B4:69] : Length 7 bytes,\n",
       " Message 18DAF218 - Filter [B1:5|B2:98|B3:16|B4:24] : Length 6 bytes,\n",
       " Message 18DAF218 - Filter [B1:5|B2:98|B3:5|B4:0] : Length 6 bytes,\n",
       " Message 18DAF218 - Filter [B1:6|B2:98|B3:80|B4:12] : Length 7 bytes,\n",
       " Message 18DAF218 - Filter [B1:7|B2:98|B3:80|B4:16] : Length 8 bytes,\n",
       " Message 201: Length 32 bytes,\n",
       " Message 202: Length 32 bytes,\n",
       " Message 207: Length 32 bytes,\n",
       " Message 40C: Length 32 bytes,\n",
       " Message 5B4: Length 32 bytes,\n",
       " Message 206: Length 32 bytes,\n",
       " Message 72A: Length 32 bytes,\n",
       " Message 730: Length 32 bytes,\n",
       " Message 1E360062: Length 12 bytes,\n",
       " Message 7A4: Length 32 bytes,\n",
       " Message 42C: Length 32 bytes,\n",
       " Message 7A0: Length 32 bytes,\n",
       " Message 41E: Length 32 bytes,\n",
       " Message 1E360070: Length 64 bytes,\n",
       " Message 2EE: Length 32 bytes,\n",
       " Message 260: Length 32 bytes,\n",
       " Message 1E360056: Length 12 bytes,\n",
       " Message 2F0: Length 32 bytes,\n",
       " Message 261: Length 32 bytes,\n",
       " Message 41F: Length 32 bytes,\n",
       " Message 483: Length 32 bytes,\n",
       " Message 2F2: Length 32 bytes,\n",
       " Message 420: Length 32 bytes,\n",
       " Message 1E360006: Length 12 bytes,\n",
       " Message 404: Length 32 bytes,\n",
       " Message 25A: Length 32 bytes,\n",
       " Message 530: Length 32 bytes,\n",
       " Message 422: Length 32 bytes,\n",
       " Message 5B0: Length 32 bytes,\n",
       " Message 262: Length 32 bytes,\n",
       " Message 42D: Length 32 bytes,\n",
       " Message 25B: Length 32 bytes,\n",
       " Message 9A: Length 64 bytes,\n",
       " Message 41B: Length 32 bytes,\n",
       " Message 263: Length 32 bytes,\n",
       " Message 258: Length 32 bytes,\n",
       " Message 264: Length 32 bytes,\n",
       " Message 596: Length 32 bytes,\n",
       " Message 597: Length 32 bytes,\n",
       " Message 59A: Length 32 bytes,\n",
       " Message 59B: Length 32 bytes,\n",
       " Message 41D: Length 32 bytes,\n",
       " Message 59C: Length 32 bytes,\n",
       " Message 5BE: Length 32 bytes,\n",
       " Message 3B6: Length 32 bytes,\n",
       " Message 5A7: Length 32 bytes,\n",
       " Message 723: Length 32 bytes,\n",
       " Message 1E360043: Length 12 bytes,\n",
       " Message 7A3: Length 32 bytes,\n",
       " Message 1E360000: Length 48 bytes,\n",
       " Message 55F: Length 32 bytes,\n",
       " Message 341: Length 32 bytes,\n",
       " Message 1E384000: Length 2 bytes,\n",
       " Message 481: Length 32 bytes,\n",
       " Message 732: Length 32 bytes,\n",
       " Message 5A1: Length 32 bytes,\n",
       " Message 5C2: Length 48 bytes,\n",
       " Message 5AF: Length 32 bytes,\n",
       " Message 1E360003: Length 12 bytes,\n",
       " Message 734: Length 32 bytes,\n",
       " Message 725: Length 32 bytes,\n",
       " Message 727: Length 32 bytes,\n",
       " Message 482: Length 32 bytes,\n",
       " Message 598: Length 32 bytes,\n",
       " Message 5A3: Length 48 bytes,\n",
       " Message 9C: Length 32 bytes,\n",
       " Message 5AA: Length 32 bytes,\n",
       " Message 736: Length 32 bytes,\n",
       " Message 1E36008D: Length 12 bytes,\n",
       " Message 5A9: Length 32 bytes,\n",
       " Message 65A: Length 32 bytes,\n",
       " Message 1E360018: Length 12 bytes,\n",
       " Message 5B8: Length 32 bytes,\n",
       " Message 593: Length 32 bytes,\n",
       " Message 594: Length 32 bytes,\n",
       " Message 5B9: Length 32 bytes,\n",
       " Message 5BA: Length 32 bytes,\n",
       " Message 5BF: Length 32 bytes,\n",
       " Message 728: Length 32 bytes,\n",
       " Message 1E360024: Length 12 bytes,\n",
       " Message 5A8: Length 32 bytes,\n",
       " Message 1E360016: Length 12 bytes,\n",
       " Message 1E360046: Length 12 bytes,\n",
       " Message 5B6: Length 32 bytes,\n",
       " Message 595: Length 32 bytes,\n",
       " Message 5AB: Length 32 bytes,\n",
       " Message 5AC: Length 32 bytes,\n",
       " Message 1E360023: Length 12 bytes,\n",
       " Message 1E36000B: Length 12 bytes,\n",
       " Message 1E384006: Length 2 bytes,\n",
       " Message 1E360001: Length 12 bytes,\n",
       " Message 1E36001D: Length 12 bytes,\n",
       " Message 1E36007D: Length 12 bytes,\n",
       " Message 1E360002: Length 12 bytes,\n",
       " Message 1E36007E: Length 12 bytes,\n",
       " Message 1E36001A: Length 12 bytes,\n",
       " Message 7A2: Length 32 bytes,\n",
       " Message 1E360041: Length 12 bytes,\n",
       " Message 754: Length 32 bytes,\n",
       " Message 96: Length 64 bytes]"
      ]
     },
     "execution_count": 36,
     "metadata": {},
     "output_type": "execute_result"
    }
   ],
   "source": [
    "decoder.msgs"
   ]
  },
  {
   "cell_type": "code",
   "execution_count": 48,
   "id": "dac92e36",
   "metadata": {},
   "outputs": [
    {
     "data": {
      "text/plain": [
       "[Message: 42A, Signal: SIG_BE_0, Type: constant , Signed: signed,\n",
       " Message: 42A, Signal: SIG_BE_1, Type: ts , Signed: signed,\n",
       " Message: 42A, Signal: SIG_BE_2, Type: constant , Signed: signed,\n",
       " Message: 42A, Signal: SIG_BE_3, Type: ts , Signed: unsigned,\n",
       " Message: 42A, Signal: SIG_BE_4, Type: constant , Signed: signed,\n",
       " Message: 42A, Signal: SIG_BE_5, Type: ts , Signed: signed,\n",
       " Message: 42A, Signal: SIG_BE_6, Type: ts , Signed: signed,\n",
       " Message: 42A, Signal: SIG_BE_7, Type: constant , Signed: signed,\n",
       " Message: 42A, Signal: SIG_LE_0, Type: constant , Signed: signed,\n",
       " Message: 42A, Signal: SIG_LE_1, Type: ts , Signed: unsigned,\n",
       " Message: 42A, Signal: SIG_LE_2, Type: ts , Signed: unsigned,\n",
       " Message: 42A, Signal: SIG_LE_3, Type: constant , Signed: signed,\n",
       " Message: 42A, Signal: SIG_LE_4, Type: ts , Signed: unsigned,\n",
       " Message: 42A, Signal: SIG_LE_5, Type: constant , Signed: signed,\n",
       " Message: 42A, Signal: SIG_LE_6, Type: ts , Signed: unsigned,\n",
       " Message: 42A, Signal: SIG_LE_7, Type: constant , Signed: signed,\n",
       " Message: 42A, Signal: SIG_LE_8, Type: ts , Signed: unsigned,\n",
       " Message: 42A, Signal: SIG_LE_9, Type: constant , Signed: signed]"
      ]
     },
     "execution_count": 48,
     "metadata": {},
     "output_type": "execute_result"
    }
   ],
   "source": [
    "decoder.get_message('42A').signals"
   ]
  },
  {
   "cell_type": "code",
   "execution_count": 38,
   "id": "4d4dfa5c",
   "metadata": {},
   "outputs": [
    {
     "data": {
      "application/vnd.plotly.v1+json": {
       "config": {
        "plotlyServerURL": "https://plot.ly"
       },
       "data": [
        {
         "marker": {
          "color": "black"
         },
         "name": "Bit Flip Probability",
         "opacity": 0.7,
         "type": "bar",
         "x": {
          "bdata": "AAABAAIAAwAEAAUABgAHAAgACQAKAAsADAANAA4ADwAQABEAEgATABQAFQAWABcAGAAZABoAGwAcAB0AHgAfACAAIQAiACMAJAAlACYAJwAoACkAKgArACwALQAuAC8AMAAxADIAMwA0ADUANgA3ADgAOQA6ADsAPAA9AD4APwBAAEEAQgBDAEQARQBGAEcASABJAEoASwBMAE0ATgBPAFAAUQBSAFMAVABVAFYAVwBYAFkAWgBbAFwAXQBeAF8AYABhAGIAYwBkAGUAZgBnAGgAaQBqAGsAbABtAG4AbwBwAHEAcgBzAHQAdQB2AHcAeAB5AHoAewB8AH0AfgB/AIAAgQCCAIMAhACFAIYAhwCIAIkAigCLAIwAjQCOAI8AkACRAJIAkwCUAJUAlgCXAJgAmQCaAJsAnACdAJ4AnwCgAKEAogCjAKQApQCmAKcAqACpAKoAqwCsAK0ArgCvALAAsQCyALMAtAC1ALYAtwC4ALkAugC7ALwAvQC+AL8AwADBAMIAwwDEAMUAxgDHAMgAyQDKAMsAzADNAM4AzwDQANEA0gDTANQA1QDWANcA2ADZANoA2wDcAN0A3gDfAOAA4QDiAOMA5ADlAOYA5wDoAOkA6gDrAOwA7QDuAO8A8ADxAPIA8wD0APUA9gD3APgA+QD6APsA/AD9AP4A/wA=",
          "dtype": "i2"
         },
         "y": {
          "bdata": "AAAAAAAAAAAAAAAAAAAAAAAAAAAAAAAAAAAAAAAAAAAAAAAAAAAAAAAAAAAAAAAAAAAAAAAAAAAAAAAAAAAAAAAAAAAAAAAAAAAAAAAAAAAAAAAAAAAAAAAAAAAAAAAAAAAAAAAAAACbTN1ij/NkP5tM3WKP82Q/m0zdYo/zZD8AAAAAAAAAAAAAAAAAAAAAAAAAAAAAAAAAAAAAAAAAAAAAAAAAAAAAAAAAAAAAAAAAAAAAAAAAAAAAAAAAAAAAAAAAAAAAAAAAAAAAAAAAAAAAAAAAAAAAAAAAAAAAAAAAAAAAAAAAAAAAAAAAAAAAAAAAAAAAAAAAAAAAAAAAAAAAAAAAAAAAAAAAAAAAAAAAAAAAAAAAAAAAAAAAAAAAAAAAAAAAAAAAAAAAAAAAAAAAAAAAAAAAAAAAAAAAAAAAAAAAAAAAAAAAAAAAAAAAAAAAAAAAAAAAAAAAAAAAAAAAAAAAAAAAAAAAAAAAAAAAAAAAAAAAAAAAAAAAAAAAAAAAAAAAAAAAAAAAAAAAAAAAAAAAAAAAAAAAAAAAAAAAAAAAAAAAAAAAAAAAAAAAAAAAAAAAAAAAAAAAAAAAAAAAAAAAAAAAAAAAAAAAAAAAAAAAAAAAAAAAAAAAAAAAAAAAAAAAAAAAAAAAAAAAAAAAAAAAAAAAAAAAAAAAAAAAAAAAAAAAAAAAAAAAAAAAAAAAAAAAAAAAAAAAAAAAAAAAAAAAAAAAAAAAAAAAAAAAAAAAAAAAAAAAAAAAAAAAAAAAAAAAAAAAAAAAAAAAAAAAAAAAAAAAAAAAAAAAAAAAAAAAAAAAAAAAAAAAAAAAAAAAAAAAAAAAAAAAAAAAAAAAAAAAAAAAAAAAAAAAAAAAAAAAAAAAAAAAAAAAAAAAAAAAAAAAAAAAAAAAAAAAAAAAAAAAAAAAAAAAAAAAAAAAAAAAAAAAAAAAAAAAAAAAAAAAAAAAAAAAAAAAAAAAAAAAAAAAAAAAAAAAAAAAAAAAAAAAAAAAAOjySxRXbZ8/AAAAAAAAAAAAAAAAAAAAAAAAAAAAAAAAAAAAAAAAAAAAAAAAAAAAAAAAAAAAAAAAAAAAAAAAAAAAAAAAAAAAAAAAAAAAAAAAAAAAAAAAAAAAAAAAAAAAAAAAAAAAAAAAAAAAAAAAAAAAAAAAAAAAAAAAAAAAAAAAAAAAAAAAAAAAAAAAAAAAAAAAAAAAAAAAAAAAAAAAAAAAAAAAAAAAAAAAAAAAAAAAAAAAAAAAAAAAAAAAAAAAAAAAAAAAAAAAAAAAAAAAAAAAAAAAAAAAAAAAAAAAAAAAAAAAAAAAAAAAAAAAAAAAAAAAAAAAAAAAAAAAAAAAAAAAAAAAAAAAAAAAAAAAAAAAAAAAAAAAAAAAAAAAAAAAAAAAAAAAAAAAAAAAAAAAAAAAAAAAAAAAAAAAAAAAAAAAAAAAAAAAAAAAAAAAAAAAAAAAAAAAAAAAAAAAAAAAAAAAAAAAAAAAAAAAAAAAAAAAAAAAAAAAAAAAAAAAAAAAAAAAAAAAAAAAAAAAAAAAAAAAAAAAAAAAAAAAAAAAAAAAAAAAAAAAAAAAAAAAAAAAAAAAAAAAAAAAAAAAAAAAAAAAAAAAAAAAAAAAAAAAAAAAAAAAAAAAAAAAAAAAAAAAAAAAAAAAAAAAAAAAAAAAAAAAAAAAAAAAAAAAAAAAAAAAAAAAAAAAAAAAAAAAAAAAAAAAAAAAAAAAAAAAAAAAAAAAAAAAAAAAAAAAAAAAAAAAAAAAAAAAAAAAAAAAAAAAAAAAAAAAAAAAAAAAAAAAAAAAAAAAAAAAAAAAAAAAAAAAAAAAAAAAAAAAAAAAAAAAAAAAAAAAAAAAAAAAAAAAAAAAAAAAAAAAAAAAAAAAAAAAAAAAAAAAAAAAAAAAAAAAAAAAAAAAAAAApm6xx3kKwD+mbrHHeQrQP6Zuscd5CuA/AAAAAAAA8D9sjZjxufzCP9Ut9jhPAcI/+SWKq7YP2D+VO3MwGmjnPwPtOqok+OM/rUgnHMP65z/zSxRXbR/gPxzD+reh7+4/AAAAAAAAAAAAAAAAAAAAAAAAAAAAAAAAAAAAAAAAAAAAAAAAAAAAAAAAAAAAAAAAAAAAAAAAAAAAAAAAAAAAAAAAAAAAAAAAAAAAAAAAAAAAAAAAAAAAAAAAAAAAAAAAAAAAAAAAAAAAAAAAAAAAAAAAAAAAAAAAAAAAAAAAAAAAAAAAAAAAAAAAAAAAAAAAAAAAAAAAAAAAAAAAAAAAAAAAAAAAAAAAAAAAAAAAAAAAAAAAAAAAAAAAAAAAAAAAAAAAAAAAAAAAAAAAAAAAAAAAAAAAAAAAAAAAAAAAAAAAAAAAAAAAAAAAAAAAAAAAAAAAAAAAAAAAAAAAAAAAAAAAAAAAAAAAAAAAAAAAAAAAAAAAAAAAAAAAAAAAAAAAAAAAAAAAAAAAAAAAAAAAAAAAAAAAAAAAAAAAAAAAAAAAAAAAAAAAAAAAAAAAAAAAAAAAAAAAAAAAAAAAAAAAAAAAAAAAAAAAAAAAAAAAAAAAAAAAAAAAAAAAAAAAAAAAAAAAAAAAAAAAAAAAAAAAAAAAAAAAAAAAAAAAAAAAAAAAAAAAAAAAAAAAAAAAAAAAAAAAAAAAAAAAAAAAAAAAAAAAAAAAAAAAAAAAAAAAAAAAAAAAAAAAAAAAAAAAAAAAAAAAAAAAAAAAAAAAAAAAAAAAAAAAAAAAAAAAAAAAAAA=",
          "dtype": "f8"
         }
        }
       ],
       "layout": {
        "annotations": [
         {
          "font": {
           "size": 10
          },
          "showarrow": false,
          "text": "Byte 0",
          "x": 3.5,
          "xanchor": "center",
          "xref": "x",
          "y": 1,
          "yanchor": "bottom",
          "yref": "y domain"
         },
         {
          "font": {
           "size": 10
          },
          "showarrow": false,
          "text": "Byte 1",
          "x": 11.5,
          "xanchor": "center",
          "xref": "x",
          "y": 1,
          "yanchor": "bottom",
          "yref": "y domain"
         },
         {
          "font": {
           "size": 10
          },
          "showarrow": false,
          "text": "Byte 2",
          "x": 19.5,
          "xanchor": "center",
          "xref": "x",
          "y": 1,
          "yanchor": "bottom",
          "yref": "y domain"
         },
         {
          "font": {
           "size": 10
          },
          "showarrow": false,
          "text": "Byte 3",
          "x": 27.5,
          "xanchor": "center",
          "xref": "x",
          "y": 1,
          "yanchor": "bottom",
          "yref": "y domain"
         },
         {
          "font": {
           "size": 10
          },
          "showarrow": false,
          "text": "Byte 4",
          "x": 35.5,
          "xanchor": "center",
          "xref": "x",
          "y": 1,
          "yanchor": "bottom",
          "yref": "y domain"
         },
         {
          "font": {
           "size": 10
          },
          "showarrow": false,
          "text": "Byte 5",
          "x": 43.5,
          "xanchor": "center",
          "xref": "x",
          "y": 1,
          "yanchor": "bottom",
          "yref": "y domain"
         },
         {
          "font": {
           "size": 10
          },
          "showarrow": false,
          "text": "Byte 6",
          "x": 51.5,
          "xanchor": "center",
          "xref": "x",
          "y": 1,
          "yanchor": "bottom",
          "yref": "y domain"
         },
         {
          "font": {
           "size": 10
          },
          "showarrow": false,
          "text": "Byte 7",
          "x": 59.5,
          "xanchor": "center",
          "xref": "x",
          "y": 1,
          "yanchor": "bottom",
          "yref": "y domain"
         },
         {
          "font": {
           "size": 10
          },
          "showarrow": false,
          "text": "Byte 8",
          "x": 67.5,
          "xanchor": "center",
          "xref": "x",
          "y": 1,
          "yanchor": "bottom",
          "yref": "y domain"
         },
         {
          "font": {
           "size": 10
          },
          "showarrow": false,
          "text": "Byte 9",
          "x": 75.5,
          "xanchor": "center",
          "xref": "x",
          "y": 1,
          "yanchor": "bottom",
          "yref": "y domain"
         },
         {
          "font": {
           "size": 10
          },
          "showarrow": false,
          "text": "Byte 10",
          "x": 83.5,
          "xanchor": "center",
          "xref": "x",
          "y": 1,
          "yanchor": "bottom",
          "yref": "y domain"
         },
         {
          "font": {
           "size": 10
          },
          "showarrow": false,
          "text": "Byte 11",
          "x": 91.5,
          "xanchor": "center",
          "xref": "x",
          "y": 1,
          "yanchor": "bottom",
          "yref": "y domain"
         },
         {
          "font": {
           "size": 10
          },
          "showarrow": false,
          "text": "Byte 12",
          "x": 99.5,
          "xanchor": "center",
          "xref": "x",
          "y": 1,
          "yanchor": "bottom",
          "yref": "y domain"
         },
         {
          "font": {
           "size": 10
          },
          "showarrow": false,
          "text": "Byte 13",
          "x": 107.5,
          "xanchor": "center",
          "xref": "x",
          "y": 1,
          "yanchor": "bottom",
          "yref": "y domain"
         },
         {
          "font": {
           "size": 10
          },
          "showarrow": false,
          "text": "Byte 14",
          "x": 115.5,
          "xanchor": "center",
          "xref": "x",
          "y": 1,
          "yanchor": "bottom",
          "yref": "y domain"
         },
         {
          "font": {
           "size": 10
          },
          "showarrow": false,
          "text": "Byte 15",
          "x": 123.5,
          "xanchor": "center",
          "xref": "x",
          "y": 1,
          "yanchor": "bottom",
          "yref": "y domain"
         },
         {
          "font": {
           "size": 10
          },
          "showarrow": false,
          "text": "Byte 16",
          "x": 131.5,
          "xanchor": "center",
          "xref": "x",
          "y": 1,
          "yanchor": "bottom",
          "yref": "y domain"
         },
         {
          "font": {
           "size": 10
          },
          "showarrow": false,
          "text": "Byte 17",
          "x": 139.5,
          "xanchor": "center",
          "xref": "x",
          "y": 1,
          "yanchor": "bottom",
          "yref": "y domain"
         },
         {
          "font": {
           "size": 10
          },
          "showarrow": false,
          "text": "Byte 18",
          "x": 147.5,
          "xanchor": "center",
          "xref": "x",
          "y": 1,
          "yanchor": "bottom",
          "yref": "y domain"
         },
         {
          "font": {
           "size": 10
          },
          "showarrow": false,
          "text": "Byte 19",
          "x": 155.5,
          "xanchor": "center",
          "xref": "x",
          "y": 1,
          "yanchor": "bottom",
          "yref": "y domain"
         },
         {
          "font": {
           "size": 10
          },
          "showarrow": false,
          "text": "Byte 20",
          "x": 163.5,
          "xanchor": "center",
          "xref": "x",
          "y": 1,
          "yanchor": "bottom",
          "yref": "y domain"
         },
         {
          "font": {
           "size": 10
          },
          "showarrow": false,
          "text": "Byte 21",
          "x": 171.5,
          "xanchor": "center",
          "xref": "x",
          "y": 1,
          "yanchor": "bottom",
          "yref": "y domain"
         },
         {
          "font": {
           "size": 10
          },
          "showarrow": false,
          "text": "Byte 22",
          "x": 179.5,
          "xanchor": "center",
          "xref": "x",
          "y": 1,
          "yanchor": "bottom",
          "yref": "y domain"
         },
         {
          "font": {
           "size": 10
          },
          "showarrow": false,
          "text": "Byte 23",
          "x": 187.5,
          "xanchor": "center",
          "xref": "x",
          "y": 1,
          "yanchor": "bottom",
          "yref": "y domain"
         },
         {
          "font": {
           "size": 10
          },
          "showarrow": false,
          "text": "Byte 24",
          "x": 195.5,
          "xanchor": "center",
          "xref": "x",
          "y": 1,
          "yanchor": "bottom",
          "yref": "y domain"
         },
         {
          "font": {
           "size": 10
          },
          "showarrow": false,
          "text": "Byte 25",
          "x": 203.5,
          "xanchor": "center",
          "xref": "x",
          "y": 1,
          "yanchor": "bottom",
          "yref": "y domain"
         },
         {
          "font": {
           "size": 10
          },
          "showarrow": false,
          "text": "Byte 26",
          "x": 211.5,
          "xanchor": "center",
          "xref": "x",
          "y": 1,
          "yanchor": "bottom",
          "yref": "y domain"
         },
         {
          "font": {
           "size": 10
          },
          "showarrow": false,
          "text": "Byte 27",
          "x": 219.5,
          "xanchor": "center",
          "xref": "x",
          "y": 1,
          "yanchor": "bottom",
          "yref": "y domain"
         },
         {
          "font": {
           "size": 10
          },
          "showarrow": false,
          "text": "Byte 28",
          "x": 227.5,
          "xanchor": "center",
          "xref": "x",
          "y": 1,
          "yanchor": "bottom",
          "yref": "y domain"
         },
         {
          "font": {
           "size": 10
          },
          "showarrow": false,
          "text": "Byte 29",
          "x": 235.5,
          "xanchor": "center",
          "xref": "x",
          "y": 1,
          "yanchor": "bottom",
          "yref": "y domain"
         },
         {
          "font": {
           "size": 10
          },
          "showarrow": false,
          "text": "Byte 30",
          "x": 243.5,
          "xanchor": "center",
          "xref": "x",
          "y": 1,
          "yanchor": "bottom",
          "yref": "y domain"
         },
         {
          "font": {
           "size": 10
          },
          "showarrow": false,
          "text": "Byte 31",
          "x": 251.5,
          "xanchor": "center",
          "xref": "x",
          "y": 1,
          "yanchor": "bottom",
          "yref": "y domain"
         },
         {
          "showarrow": false,
          "text": "SIG_BE_1",
          "x": 12.5,
          "xanchor": "left",
          "xref": "x",
          "y": 1,
          "yanchor": "top",
          "yref": "y domain"
         },
         {
          "showarrow": false,
          "text": "SIG_BE_3",
          "x": 94.5,
          "xanchor": "left",
          "xref": "x",
          "y": 1,
          "yanchor": "top",
          "yref": "y domain"
         },
         {
          "showarrow": false,
          "text": "SIG_BE_5",
          "x": 179.5,
          "xanchor": "left",
          "xref": "x",
          "y": 1,
          "yanchor": "top",
          "yref": "y domain"
         },
         {
          "showarrow": false,
          "text": "SIG_BE_6",
          "x": 189.5,
          "xanchor": "left",
          "xref": "x",
          "y": 1,
          "yanchor": "top",
          "yref": "y domain"
         }
        ],
        "legend": {
         "font": {
          "size": 8
         },
         "orientation": "h",
         "x": 0.5,
         "xanchor": "center",
         "y": -0.2
        },
        "shapes": [
         {
          "line": {
           "color": "gray",
           "dash": "dash",
           "width": 1
          },
          "type": "line",
          "x0": 7.5,
          "x1": 7.5,
          "y0": 0,
          "y1": 1.05
         },
         {
          "line": {
           "color": "gray",
           "dash": "dash",
           "width": 1
          },
          "type": "line",
          "x0": 15.5,
          "x1": 15.5,
          "y0": 0,
          "y1": 1.05
         },
         {
          "line": {
           "color": "gray",
           "dash": "dash",
           "width": 1
          },
          "type": "line",
          "x0": 23.5,
          "x1": 23.5,
          "y0": 0,
          "y1": 1.05
         },
         {
          "line": {
           "color": "gray",
           "dash": "dash",
           "width": 1
          },
          "type": "line",
          "x0": 31.5,
          "x1": 31.5,
          "y0": 0,
          "y1": 1.05
         },
         {
          "line": {
           "color": "gray",
           "dash": "dash",
           "width": 1
          },
          "type": "line",
          "x0": 39.5,
          "x1": 39.5,
          "y0": 0,
          "y1": 1.05
         },
         {
          "line": {
           "color": "gray",
           "dash": "dash",
           "width": 1
          },
          "type": "line",
          "x0": 47.5,
          "x1": 47.5,
          "y0": 0,
          "y1": 1.05
         },
         {
          "line": {
           "color": "gray",
           "dash": "dash",
           "width": 1
          },
          "type": "line",
          "x0": 55.5,
          "x1": 55.5,
          "y0": 0,
          "y1": 1.05
         },
         {
          "line": {
           "color": "gray",
           "dash": "dash",
           "width": 1
          },
          "type": "line",
          "x0": 63.5,
          "x1": 63.5,
          "y0": 0,
          "y1": 1.05
         },
         {
          "line": {
           "color": "gray",
           "dash": "dash",
           "width": 1
          },
          "type": "line",
          "x0": 71.5,
          "x1": 71.5,
          "y0": 0,
          "y1": 1.05
         },
         {
          "line": {
           "color": "gray",
           "dash": "dash",
           "width": 1
          },
          "type": "line",
          "x0": 79.5,
          "x1": 79.5,
          "y0": 0,
          "y1": 1.05
         },
         {
          "line": {
           "color": "gray",
           "dash": "dash",
           "width": 1
          },
          "type": "line",
          "x0": 87.5,
          "x1": 87.5,
          "y0": 0,
          "y1": 1.05
         },
         {
          "line": {
           "color": "gray",
           "dash": "dash",
           "width": 1
          },
          "type": "line",
          "x0": 95.5,
          "x1": 95.5,
          "y0": 0,
          "y1": 1.05
         },
         {
          "line": {
           "color": "gray",
           "dash": "dash",
           "width": 1
          },
          "type": "line",
          "x0": 103.5,
          "x1": 103.5,
          "y0": 0,
          "y1": 1.05
         },
         {
          "line": {
           "color": "gray",
           "dash": "dash",
           "width": 1
          },
          "type": "line",
          "x0": 111.5,
          "x1": 111.5,
          "y0": 0,
          "y1": 1.05
         },
         {
          "line": {
           "color": "gray",
           "dash": "dash",
           "width": 1
          },
          "type": "line",
          "x0": 119.5,
          "x1": 119.5,
          "y0": 0,
          "y1": 1.05
         },
         {
          "line": {
           "color": "gray",
           "dash": "dash",
           "width": 1
          },
          "type": "line",
          "x0": 127.5,
          "x1": 127.5,
          "y0": 0,
          "y1": 1.05
         },
         {
          "line": {
           "color": "gray",
           "dash": "dash",
           "width": 1
          },
          "type": "line",
          "x0": 135.5,
          "x1": 135.5,
          "y0": 0,
          "y1": 1.05
         },
         {
          "line": {
           "color": "gray",
           "dash": "dash",
           "width": 1
          },
          "type": "line",
          "x0": 143.5,
          "x1": 143.5,
          "y0": 0,
          "y1": 1.05
         },
         {
          "line": {
           "color": "gray",
           "dash": "dash",
           "width": 1
          },
          "type": "line",
          "x0": 151.5,
          "x1": 151.5,
          "y0": 0,
          "y1": 1.05
         },
         {
          "line": {
           "color": "gray",
           "dash": "dash",
           "width": 1
          },
          "type": "line",
          "x0": 159.5,
          "x1": 159.5,
          "y0": 0,
          "y1": 1.05
         },
         {
          "line": {
           "color": "gray",
           "dash": "dash",
           "width": 1
          },
          "type": "line",
          "x0": 167.5,
          "x1": 167.5,
          "y0": 0,
          "y1": 1.05
         },
         {
          "line": {
           "color": "gray",
           "dash": "dash",
           "width": 1
          },
          "type": "line",
          "x0": 175.5,
          "x1": 175.5,
          "y0": 0,
          "y1": 1.05
         },
         {
          "line": {
           "color": "gray",
           "dash": "dash",
           "width": 1
          },
          "type": "line",
          "x0": 183.5,
          "x1": 183.5,
          "y0": 0,
          "y1": 1.05
         },
         {
          "line": {
           "color": "gray",
           "dash": "dash",
           "width": 1
          },
          "type": "line",
          "x0": 191.5,
          "x1": 191.5,
          "y0": 0,
          "y1": 1.05
         },
         {
          "line": {
           "color": "gray",
           "dash": "dash",
           "width": 1
          },
          "type": "line",
          "x0": 199.5,
          "x1": 199.5,
          "y0": 0,
          "y1": 1.05
         },
         {
          "line": {
           "color": "gray",
           "dash": "dash",
           "width": 1
          },
          "type": "line",
          "x0": 207.5,
          "x1": 207.5,
          "y0": 0,
          "y1": 1.05
         },
         {
          "line": {
           "color": "gray",
           "dash": "dash",
           "width": 1
          },
          "type": "line",
          "x0": 215.5,
          "x1": 215.5,
          "y0": 0,
          "y1": 1.05
         },
         {
          "line": {
           "color": "gray",
           "dash": "dash",
           "width": 1
          },
          "type": "line",
          "x0": 223.5,
          "x1": 223.5,
          "y0": 0,
          "y1": 1.05
         },
         {
          "line": {
           "color": "gray",
           "dash": "dash",
           "width": 1
          },
          "type": "line",
          "x0": 231.5,
          "x1": 231.5,
          "y0": 0,
          "y1": 1.05
         },
         {
          "line": {
           "color": "gray",
           "dash": "dash",
           "width": 1
          },
          "type": "line",
          "x0": 239.5,
          "x1": 239.5,
          "y0": 0,
          "y1": 1.05
         },
         {
          "line": {
           "color": "gray",
           "dash": "dash",
           "width": 1
          },
          "type": "line",
          "x0": 247.5,
          "x1": 247.5,
          "y0": 0,
          "y1": 1.05
         },
         {
          "line": {
           "color": "black",
           "width": 1
          },
          "opacity": 0,
          "type": "rect",
          "x0": -0.5,
          "x1": 7.5,
          "xref": "x",
          "y0": 0,
          "y1": 1,
          "yref": "y domain"
         },
         {
          "line": {
           "color": "black",
           "width": 1
          },
          "opacity": 0,
          "type": "rect",
          "x0": 7.5,
          "x1": 15.5,
          "xref": "x",
          "y0": 0,
          "y1": 1,
          "yref": "y domain"
         },
         {
          "line": {
           "color": "black",
           "width": 1
          },
          "opacity": 0,
          "type": "rect",
          "x0": 15.5,
          "x1": 23.5,
          "xref": "x",
          "y0": 0,
          "y1": 1,
          "yref": "y domain"
         },
         {
          "line": {
           "color": "black",
           "width": 1
          },
          "opacity": 0,
          "type": "rect",
          "x0": 23.5,
          "x1": 31.5,
          "xref": "x",
          "y0": 0,
          "y1": 1,
          "yref": "y domain"
         },
         {
          "line": {
           "color": "black",
           "width": 1
          },
          "opacity": 0,
          "type": "rect",
          "x0": 31.5,
          "x1": 39.5,
          "xref": "x",
          "y0": 0,
          "y1": 1,
          "yref": "y domain"
         },
         {
          "line": {
           "color": "black",
           "width": 1
          },
          "opacity": 0,
          "type": "rect",
          "x0": 39.5,
          "x1": 47.5,
          "xref": "x",
          "y0": 0,
          "y1": 1,
          "yref": "y domain"
         },
         {
          "line": {
           "color": "black",
           "width": 1
          },
          "opacity": 0,
          "type": "rect",
          "x0": 47.5,
          "x1": 55.5,
          "xref": "x",
          "y0": 0,
          "y1": 1,
          "yref": "y domain"
         },
         {
          "line": {
           "color": "black",
           "width": 1
          },
          "opacity": 0,
          "type": "rect",
          "x0": 55.5,
          "x1": 63.5,
          "xref": "x",
          "y0": 0,
          "y1": 1,
          "yref": "y domain"
         },
         {
          "line": {
           "color": "black",
           "width": 1
          },
          "opacity": 0,
          "type": "rect",
          "x0": 63.5,
          "x1": 71.5,
          "xref": "x",
          "y0": 0,
          "y1": 1,
          "yref": "y domain"
         },
         {
          "line": {
           "color": "black",
           "width": 1
          },
          "opacity": 0,
          "type": "rect",
          "x0": 71.5,
          "x1": 79.5,
          "xref": "x",
          "y0": 0,
          "y1": 1,
          "yref": "y domain"
         },
         {
          "line": {
           "color": "black",
           "width": 1
          },
          "opacity": 0,
          "type": "rect",
          "x0": 79.5,
          "x1": 87.5,
          "xref": "x",
          "y0": 0,
          "y1": 1,
          "yref": "y domain"
         },
         {
          "line": {
           "color": "black",
           "width": 1
          },
          "opacity": 0,
          "type": "rect",
          "x0": 87.5,
          "x1": 95.5,
          "xref": "x",
          "y0": 0,
          "y1": 1,
          "yref": "y domain"
         },
         {
          "line": {
           "color": "black",
           "width": 1
          },
          "opacity": 0,
          "type": "rect",
          "x0": 95.5,
          "x1": 103.5,
          "xref": "x",
          "y0": 0,
          "y1": 1,
          "yref": "y domain"
         },
         {
          "line": {
           "color": "black",
           "width": 1
          },
          "opacity": 0,
          "type": "rect",
          "x0": 103.5,
          "x1": 111.5,
          "xref": "x",
          "y0": 0,
          "y1": 1,
          "yref": "y domain"
         },
         {
          "line": {
           "color": "black",
           "width": 1
          },
          "opacity": 0,
          "type": "rect",
          "x0": 111.5,
          "x1": 119.5,
          "xref": "x",
          "y0": 0,
          "y1": 1,
          "yref": "y domain"
         },
         {
          "line": {
           "color": "black",
           "width": 1
          },
          "opacity": 0,
          "type": "rect",
          "x0": 119.5,
          "x1": 127.5,
          "xref": "x",
          "y0": 0,
          "y1": 1,
          "yref": "y domain"
         },
         {
          "line": {
           "color": "black",
           "width": 1
          },
          "opacity": 0,
          "type": "rect",
          "x0": 127.5,
          "x1": 135.5,
          "xref": "x",
          "y0": 0,
          "y1": 1,
          "yref": "y domain"
         },
         {
          "line": {
           "color": "black",
           "width": 1
          },
          "opacity": 0,
          "type": "rect",
          "x0": 135.5,
          "x1": 143.5,
          "xref": "x",
          "y0": 0,
          "y1": 1,
          "yref": "y domain"
         },
         {
          "line": {
           "color": "black",
           "width": 1
          },
          "opacity": 0,
          "type": "rect",
          "x0": 143.5,
          "x1": 151.5,
          "xref": "x",
          "y0": 0,
          "y1": 1,
          "yref": "y domain"
         },
         {
          "line": {
           "color": "black",
           "width": 1
          },
          "opacity": 0,
          "type": "rect",
          "x0": 151.5,
          "x1": 159.5,
          "xref": "x",
          "y0": 0,
          "y1": 1,
          "yref": "y domain"
         },
         {
          "line": {
           "color": "black",
           "width": 1
          },
          "opacity": 0,
          "type": "rect",
          "x0": 159.5,
          "x1": 167.5,
          "xref": "x",
          "y0": 0,
          "y1": 1,
          "yref": "y domain"
         },
         {
          "line": {
           "color": "black",
           "width": 1
          },
          "opacity": 0,
          "type": "rect",
          "x0": 167.5,
          "x1": 175.5,
          "xref": "x",
          "y0": 0,
          "y1": 1,
          "yref": "y domain"
         },
         {
          "line": {
           "color": "black",
           "width": 1
          },
          "opacity": 0,
          "type": "rect",
          "x0": 175.5,
          "x1": 183.5,
          "xref": "x",
          "y0": 0,
          "y1": 1,
          "yref": "y domain"
         },
         {
          "line": {
           "color": "black",
           "width": 1
          },
          "opacity": 0,
          "type": "rect",
          "x0": 183.5,
          "x1": 191.5,
          "xref": "x",
          "y0": 0,
          "y1": 1,
          "yref": "y domain"
         },
         {
          "line": {
           "color": "black",
           "width": 1
          },
          "opacity": 0,
          "type": "rect",
          "x0": 191.5,
          "x1": 199.5,
          "xref": "x",
          "y0": 0,
          "y1": 1,
          "yref": "y domain"
         },
         {
          "line": {
           "color": "black",
           "width": 1
          },
          "opacity": 0,
          "type": "rect",
          "x0": 199.5,
          "x1": 207.5,
          "xref": "x",
          "y0": 0,
          "y1": 1,
          "yref": "y domain"
         },
         {
          "line": {
           "color": "black",
           "width": 1
          },
          "opacity": 0,
          "type": "rect",
          "x0": 207.5,
          "x1": 215.5,
          "xref": "x",
          "y0": 0,
          "y1": 1,
          "yref": "y domain"
         },
         {
          "line": {
           "color": "black",
           "width": 1
          },
          "opacity": 0,
          "type": "rect",
          "x0": 215.5,
          "x1": 223.5,
          "xref": "x",
          "y0": 0,
          "y1": 1,
          "yref": "y domain"
         },
         {
          "line": {
           "color": "black",
           "width": 1
          },
          "opacity": 0,
          "type": "rect",
          "x0": 223.5,
          "x1": 231.5,
          "xref": "x",
          "y0": 0,
          "y1": 1,
          "yref": "y domain"
         },
         {
          "line": {
           "color": "black",
           "width": 1
          },
          "opacity": 0,
          "type": "rect",
          "x0": 231.5,
          "x1": 239.5,
          "xref": "x",
          "y0": 0,
          "y1": 1,
          "yref": "y domain"
         },
         {
          "line": {
           "color": "black",
           "width": 1
          },
          "opacity": 0,
          "type": "rect",
          "x0": 239.5,
          "x1": 247.5,
          "xref": "x",
          "y0": 0,
          "y1": 1,
          "yref": "y domain"
         },
         {
          "line": {
           "color": "black",
           "width": 1
          },
          "opacity": 0,
          "type": "rect",
          "x0": 247.5,
          "x1": 255.5,
          "xref": "x",
          "y0": 0,
          "y1": 1,
          "yref": "y domain"
         },
         {
          "fillcolor": "#79A8DD",
          "layer": "below",
          "line": {
           "width": 0
          },
          "opacity": 0.2,
          "type": "rect",
          "x0": 12.5,
          "x1": 15.5,
          "xref": "x",
          "y0": 0,
          "y1": 1,
          "yref": "y domain"
         },
         {
          "fillcolor": "#DD79DA",
          "layer": "below",
          "line": {
           "width": 0
          },
          "opacity": 0.2,
          "type": "rect",
          "x0": 94.5,
          "x1": 95.5,
          "xref": "x",
          "y0": 0,
          "y1": 1,
          "yref": "y domain"
         },
         {
          "fillcolor": "#DDAE79",
          "layer": "below",
          "line": {
           "width": 0
          },
          "opacity": 0.2,
          "type": "rect",
          "x0": 179.5,
          "x1": 189.5,
          "xref": "x",
          "y0": 0,
          "y1": 1,
          "yref": "y domain"
         },
         {
          "fillcolor": "#79DD7C",
          "layer": "below",
          "line": {
           "width": 0
          },
          "opacity": 0.2,
          "type": "rect",
          "x0": 189.5,
          "x1": 191.5,
          "xref": "x",
          "y0": 0,
          "y1": 1,
          "yref": "y domain"
         }
        ],
        "template": {
         "data": {
          "bar": [
           {
            "error_x": {
             "color": "#2a3f5f"
            },
            "error_y": {
             "color": "#2a3f5f"
            },
            "marker": {
             "line": {
              "color": "#E5ECF6",
              "width": 0.5
             },
             "pattern": {
              "fillmode": "overlay",
              "size": 10,
              "solidity": 0.2
             }
            },
            "type": "bar"
           }
          ],
          "barpolar": [
           {
            "marker": {
             "line": {
              "color": "#E5ECF6",
              "width": 0.5
             },
             "pattern": {
              "fillmode": "overlay",
              "size": 10,
              "solidity": 0.2
             }
            },
            "type": "barpolar"
           }
          ],
          "carpet": [
           {
            "aaxis": {
             "endlinecolor": "#2a3f5f",
             "gridcolor": "white",
             "linecolor": "white",
             "minorgridcolor": "white",
             "startlinecolor": "#2a3f5f"
            },
            "baxis": {
             "endlinecolor": "#2a3f5f",
             "gridcolor": "white",
             "linecolor": "white",
             "minorgridcolor": "white",
             "startlinecolor": "#2a3f5f"
            },
            "type": "carpet"
           }
          ],
          "choropleth": [
           {
            "colorbar": {
             "outlinewidth": 0,
             "ticks": ""
            },
            "type": "choropleth"
           }
          ],
          "contour": [
           {
            "colorbar": {
             "outlinewidth": 0,
             "ticks": ""
            },
            "colorscale": [
             [
              0,
              "#0d0887"
             ],
             [
              0.1111111111111111,
              "#46039f"
             ],
             [
              0.2222222222222222,
              "#7201a8"
             ],
             [
              0.3333333333333333,
              "#9c179e"
             ],
             [
              0.4444444444444444,
              "#bd3786"
             ],
             [
              0.5555555555555556,
              "#d8576b"
             ],
             [
              0.6666666666666666,
              "#ed7953"
             ],
             [
              0.7777777777777778,
              "#fb9f3a"
             ],
             [
              0.8888888888888888,
              "#fdca26"
             ],
             [
              1,
              "#f0f921"
             ]
            ],
            "type": "contour"
           }
          ],
          "contourcarpet": [
           {
            "colorbar": {
             "outlinewidth": 0,
             "ticks": ""
            },
            "type": "contourcarpet"
           }
          ],
          "heatmap": [
           {
            "colorbar": {
             "outlinewidth": 0,
             "ticks": ""
            },
            "colorscale": [
             [
              0,
              "#0d0887"
             ],
             [
              0.1111111111111111,
              "#46039f"
             ],
             [
              0.2222222222222222,
              "#7201a8"
             ],
             [
              0.3333333333333333,
              "#9c179e"
             ],
             [
              0.4444444444444444,
              "#bd3786"
             ],
             [
              0.5555555555555556,
              "#d8576b"
             ],
             [
              0.6666666666666666,
              "#ed7953"
             ],
             [
              0.7777777777777778,
              "#fb9f3a"
             ],
             [
              0.8888888888888888,
              "#fdca26"
             ],
             [
              1,
              "#f0f921"
             ]
            ],
            "type": "heatmap"
           }
          ],
          "histogram": [
           {
            "marker": {
             "pattern": {
              "fillmode": "overlay",
              "size": 10,
              "solidity": 0.2
             }
            },
            "type": "histogram"
           }
          ],
          "histogram2d": [
           {
            "colorbar": {
             "outlinewidth": 0,
             "ticks": ""
            },
            "colorscale": [
             [
              0,
              "#0d0887"
             ],
             [
              0.1111111111111111,
              "#46039f"
             ],
             [
              0.2222222222222222,
              "#7201a8"
             ],
             [
              0.3333333333333333,
              "#9c179e"
             ],
             [
              0.4444444444444444,
              "#bd3786"
             ],
             [
              0.5555555555555556,
              "#d8576b"
             ],
             [
              0.6666666666666666,
              "#ed7953"
             ],
             [
              0.7777777777777778,
              "#fb9f3a"
             ],
             [
              0.8888888888888888,
              "#fdca26"
             ],
             [
              1,
              "#f0f921"
             ]
            ],
            "type": "histogram2d"
           }
          ],
          "histogram2dcontour": [
           {
            "colorbar": {
             "outlinewidth": 0,
             "ticks": ""
            },
            "colorscale": [
             [
              0,
              "#0d0887"
             ],
             [
              0.1111111111111111,
              "#46039f"
             ],
             [
              0.2222222222222222,
              "#7201a8"
             ],
             [
              0.3333333333333333,
              "#9c179e"
             ],
             [
              0.4444444444444444,
              "#bd3786"
             ],
             [
              0.5555555555555556,
              "#d8576b"
             ],
             [
              0.6666666666666666,
              "#ed7953"
             ],
             [
              0.7777777777777778,
              "#fb9f3a"
             ],
             [
              0.8888888888888888,
              "#fdca26"
             ],
             [
              1,
              "#f0f921"
             ]
            ],
            "type": "histogram2dcontour"
           }
          ],
          "mesh3d": [
           {
            "colorbar": {
             "outlinewidth": 0,
             "ticks": ""
            },
            "type": "mesh3d"
           }
          ],
          "parcoords": [
           {
            "line": {
             "colorbar": {
              "outlinewidth": 0,
              "ticks": ""
             }
            },
            "type": "parcoords"
           }
          ],
          "pie": [
           {
            "automargin": true,
            "type": "pie"
           }
          ],
          "scatter": [
           {
            "fillpattern": {
             "fillmode": "overlay",
             "size": 10,
             "solidity": 0.2
            },
            "type": "scatter"
           }
          ],
          "scatter3d": [
           {
            "line": {
             "colorbar": {
              "outlinewidth": 0,
              "ticks": ""
             }
            },
            "marker": {
             "colorbar": {
              "outlinewidth": 0,
              "ticks": ""
             }
            },
            "type": "scatter3d"
           }
          ],
          "scattercarpet": [
           {
            "marker": {
             "colorbar": {
              "outlinewidth": 0,
              "ticks": ""
             }
            },
            "type": "scattercarpet"
           }
          ],
          "scattergeo": [
           {
            "marker": {
             "colorbar": {
              "outlinewidth": 0,
              "ticks": ""
             }
            },
            "type": "scattergeo"
           }
          ],
          "scattergl": [
           {
            "marker": {
             "colorbar": {
              "outlinewidth": 0,
              "ticks": ""
             }
            },
            "type": "scattergl"
           }
          ],
          "scattermap": [
           {
            "marker": {
             "colorbar": {
              "outlinewidth": 0,
              "ticks": ""
             }
            },
            "type": "scattermap"
           }
          ],
          "scattermapbox": [
           {
            "marker": {
             "colorbar": {
              "outlinewidth": 0,
              "ticks": ""
             }
            },
            "type": "scattermapbox"
           }
          ],
          "scatterpolar": [
           {
            "marker": {
             "colorbar": {
              "outlinewidth": 0,
              "ticks": ""
             }
            },
            "type": "scatterpolar"
           }
          ],
          "scatterpolargl": [
           {
            "marker": {
             "colorbar": {
              "outlinewidth": 0,
              "ticks": ""
             }
            },
            "type": "scatterpolargl"
           }
          ],
          "scatterternary": [
           {
            "marker": {
             "colorbar": {
              "outlinewidth": 0,
              "ticks": ""
             }
            },
            "type": "scatterternary"
           }
          ],
          "surface": [
           {
            "colorbar": {
             "outlinewidth": 0,
             "ticks": ""
            },
            "colorscale": [
             [
              0,
              "#0d0887"
             ],
             [
              0.1111111111111111,
              "#46039f"
             ],
             [
              0.2222222222222222,
              "#7201a8"
             ],
             [
              0.3333333333333333,
              "#9c179e"
             ],
             [
              0.4444444444444444,
              "#bd3786"
             ],
             [
              0.5555555555555556,
              "#d8576b"
             ],
             [
              0.6666666666666666,
              "#ed7953"
             ],
             [
              0.7777777777777778,
              "#fb9f3a"
             ],
             [
              0.8888888888888888,
              "#fdca26"
             ],
             [
              1,
              "#f0f921"
             ]
            ],
            "type": "surface"
           }
          ],
          "table": [
           {
            "cells": {
             "fill": {
              "color": "#EBF0F8"
             },
             "line": {
              "color": "white"
             }
            },
            "header": {
             "fill": {
              "color": "#C8D4E3"
             },
             "line": {
              "color": "white"
             }
            },
            "type": "table"
           }
          ]
         },
         "layout": {
          "annotationdefaults": {
           "arrowcolor": "#2a3f5f",
           "arrowhead": 0,
           "arrowwidth": 1
          },
          "autotypenumbers": "strict",
          "coloraxis": {
           "colorbar": {
            "outlinewidth": 0,
            "ticks": ""
           }
          },
          "colorscale": {
           "diverging": [
            [
             0,
             "#8e0152"
            ],
            [
             0.1,
             "#c51b7d"
            ],
            [
             0.2,
             "#de77ae"
            ],
            [
             0.3,
             "#f1b6da"
            ],
            [
             0.4,
             "#fde0ef"
            ],
            [
             0.5,
             "#f7f7f7"
            ],
            [
             0.6,
             "#e6f5d0"
            ],
            [
             0.7,
             "#b8e186"
            ],
            [
             0.8,
             "#7fbc41"
            ],
            [
             0.9,
             "#4d9221"
            ],
            [
             1,
             "#276419"
            ]
           ],
           "sequential": [
            [
             0,
             "#0d0887"
            ],
            [
             0.1111111111111111,
             "#46039f"
            ],
            [
             0.2222222222222222,
             "#7201a8"
            ],
            [
             0.3333333333333333,
             "#9c179e"
            ],
            [
             0.4444444444444444,
             "#bd3786"
            ],
            [
             0.5555555555555556,
             "#d8576b"
            ],
            [
             0.6666666666666666,
             "#ed7953"
            ],
            [
             0.7777777777777778,
             "#fb9f3a"
            ],
            [
             0.8888888888888888,
             "#fdca26"
            ],
            [
             1,
             "#f0f921"
            ]
           ],
           "sequentialminus": [
            [
             0,
             "#0d0887"
            ],
            [
             0.1111111111111111,
             "#46039f"
            ],
            [
             0.2222222222222222,
             "#7201a8"
            ],
            [
             0.3333333333333333,
             "#9c179e"
            ],
            [
             0.4444444444444444,
             "#bd3786"
            ],
            [
             0.5555555555555556,
             "#d8576b"
            ],
            [
             0.6666666666666666,
             "#ed7953"
            ],
            [
             0.7777777777777778,
             "#fb9f3a"
            ],
            [
             0.8888888888888888,
             "#fdca26"
            ],
            [
             1,
             "#f0f921"
            ]
           ]
          },
          "colorway": [
           "#636efa",
           "#EF553B",
           "#00cc96",
           "#ab63fa",
           "#FFA15A",
           "#19d3f3",
           "#FF6692",
           "#B6E880",
           "#FF97FF",
           "#FECB52"
          ],
          "font": {
           "color": "#2a3f5f"
          },
          "geo": {
           "bgcolor": "white",
           "lakecolor": "white",
           "landcolor": "#E5ECF6",
           "showlakes": true,
           "showland": true,
           "subunitcolor": "white"
          },
          "hoverlabel": {
           "align": "left"
          },
          "hovermode": "closest",
          "mapbox": {
           "style": "light"
          },
          "paper_bgcolor": "white",
          "plot_bgcolor": "#E5ECF6",
          "polar": {
           "angularaxis": {
            "gridcolor": "white",
            "linecolor": "white",
            "ticks": ""
           },
           "bgcolor": "#E5ECF6",
           "radialaxis": {
            "gridcolor": "white",
            "linecolor": "white",
            "ticks": ""
           }
          },
          "scene": {
           "xaxis": {
            "backgroundcolor": "#E5ECF6",
            "gridcolor": "white",
            "gridwidth": 2,
            "linecolor": "white",
            "showbackground": true,
            "ticks": "",
            "zerolinecolor": "white"
           },
           "yaxis": {
            "backgroundcolor": "#E5ECF6",
            "gridcolor": "white",
            "gridwidth": 2,
            "linecolor": "white",
            "showbackground": true,
            "ticks": "",
            "zerolinecolor": "white"
           },
           "zaxis": {
            "backgroundcolor": "#E5ECF6",
            "gridcolor": "white",
            "gridwidth": 2,
            "linecolor": "white",
            "showbackground": true,
            "ticks": "",
            "zerolinecolor": "white"
           }
          },
          "shapedefaults": {
           "line": {
            "color": "#2a3f5f"
           }
          },
          "ternary": {
           "aaxis": {
            "gridcolor": "white",
            "linecolor": "white",
            "ticks": ""
           },
           "baxis": {
            "gridcolor": "white",
            "linecolor": "white",
            "ticks": ""
           },
           "bgcolor": "#E5ECF6",
           "caxis": {
            "gridcolor": "white",
            "linecolor": "white",
            "ticks": ""
           }
          },
          "title": {
           "x": 0.05
          },
          "xaxis": {
           "automargin": true,
           "gridcolor": "white",
           "linecolor": "white",
           "ticks": "",
           "title": {
            "standoff": 15
           },
           "zerolinecolor": "white",
           "zerolinewidth": 2
          },
          "yaxis": {
           "automargin": true,
           "gridcolor": "white",
           "linecolor": "white",
           "ticks": "",
           "title": {
            "standoff": 15
           },
           "zerolinecolor": "white",
           "zerolinewidth": 2
          }
         }
        },
        "title": {
         "text": "Big-Endian: Bit Flip Probabilities"
        },
        "xaxis": {
         "tickfont": {
          "size": 8
         },
         "tickmode": "array",
         "ticktext": {
          "bdata": "BwAGAAUABAADAAIAAQAAAA8ADgANAAwACwAKAAkACAAXABYAFQAUABMAEgARABAAHwAeAB0AHAAbABoAGQAYACcAJgAlACQAIwAiACEAIAAvAC4ALQAsACsAKgApACgANwA2ADUANAAzADIAMQAwAD8APgA9ADwAOwA6ADkAOABHAEYARQBEAEMAQgBBAEAATwBOAE0ATABLAEoASQBIAFcAVgBVAFQAUwBSAFEAUABfAF4AXQBcAFsAWgBZAFgAZwBmAGUAZABjAGIAYQBgAG8AbgBtAGwAawBqAGkAaAB3AHYAdQB0AHMAcgBxAHAAfwB+AH0AfAB7AHoAeQB4AIcAhgCFAIQAgwCCAIEAgACPAI4AjQCMAIsAigCJAIgAlwCWAJUAlACTAJIAkQCQAJ8AngCdAJwAmwCaAJkAmACnAKYApQCkAKMAogChAKAArwCuAK0ArACrAKoAqQCoALcAtgC1ALQAswCyALEAsAC/AL4AvQC8ALsAugC5ALgAxwDGAMUAxADDAMIAwQDAAM8AzgDNAMwAywDKAMkAyADXANYA1QDUANMA0gDRANAA3wDeAN0A3ADbANoA2QDYAOcA5gDlAOQA4wDiAOEA4ADvAO4A7QDsAOsA6gDpAOgA9wD2APUA9ADzAPIA8QDwAP8A/gD9APwA+wD6APkA+AA=",
          "dtype": "i2"
         },
         "tickvals": {
          "bdata": "AAABAAIAAwAEAAUABgAHAAgACQAKAAsADAANAA4ADwAQABEAEgATABQAFQAWABcAGAAZABoAGwAcAB0AHgAfACAAIQAiACMAJAAlACYAJwAoACkAKgArACwALQAuAC8AMAAxADIAMwA0ADUANgA3ADgAOQA6ADsAPAA9AD4APwBAAEEAQgBDAEQARQBGAEcASABJAEoASwBMAE0ATgBPAFAAUQBSAFMAVABVAFYAVwBYAFkAWgBbAFwAXQBeAF8AYABhAGIAYwBkAGUAZgBnAGgAaQBqAGsAbABtAG4AbwBwAHEAcgBzAHQAdQB2AHcAeAB5AHoAewB8AH0AfgB/AIAAgQCCAIMAhACFAIYAhwCIAIkAigCLAIwAjQCOAI8AkACRAJIAkwCUAJUAlgCXAJgAmQCaAJsAnACdAJ4AnwCgAKEAogCjAKQApQCmAKcAqACpAKoAqwCsAK0ArgCvALAAsQCyALMAtAC1ALYAtwC4ALkAugC7ALwAvQC+AL8AwADBAMIAwwDEAMUAxgDHAMgAyQDKAMsAzADNAM4AzwDQANEA0gDTANQA1QDWANcA2ADZANoA2wDcAN0A3gDfAOAA4QDiAOMA5ADlAOYA5wDoAOkA6gDrAOwA7QDuAO8A8ADxAPIA8wD0APUA9gD3APgA+QD6APsA/AD9AP4A/wA=",
          "dtype": "i2"
         },
         "title": {
          "text": "Bit Number"
         }
        },
        "yaxis": {
         "range": [
          0,
          1.1
         ],
         "title": {
          "text": "Bit Flip Probability"
         }
        }
       }
      }
     },
     "metadata": {},
     "output_type": "display_data"
    }
   ],
   "source": [
    "decoder.plot_message_from_id('42A')"
   ]
  },
  {
   "cell_type": "code",
   "execution_count": 65,
   "id": "5aa4b6a3",
   "metadata": {},
   "outputs": [
    {
     "name": "stdout",
     "output_type": "stream",
     "text": [
      "Signal SIG_BE_8 in message 42A not found.\n"
     ]
    }
   ],
   "source": [
    "decoder.plot_signal_from_id('42A', signal_id='SIG_BE_8')"
   ]
  },
  {
   "cell_type": "code",
   "execution_count": 18,
   "id": "154dea19",
   "metadata": {},
   "outputs": [],
   "source": [
    "s1 = decoder.get_signal('10F',signal_id='SIG_BE_51')\n",
    "s2 = decoder.get_signal('18DAF218',[0,12,98,5,31], 'SIG_BE_1')"
   ]
  },
  {
   "cell_type": "code",
   "execution_count": 47,
   "id": "3ed01962",
   "metadata": {},
   "outputs": [
    {
     "data": {
      "text/plain": [
       "Message: 18DAF218, Signal: SIG_BE_1, Type: ts , Signed: unsigned"
      ]
     },
     "execution_count": 47,
     "metadata": {},
     "output_type": "execute_result"
    }
   ],
   "source": [
    "s2"
   ]
  },
  {
   "cell_type": "code",
   "execution_count": 23,
   "id": "50974c8c",
   "metadata": {},
   "outputs": [
    {
     "data": {
      "text/plain": [
       "[<matplotlib.lines.Line2D at 0x1f24f9c0a50>]"
      ]
     },
     "execution_count": 23,
     "metadata": {},
     "output_type": "execute_result"
    },
    {
     "data": {
      "image/png": "[encoded data removed]",
      "text/plain": [
       "<Figure size 640x480 with 1 Axes>"
      ]
     },
     "metadata": {},
     "output_type": "display_data"
    }
   ],
   "source": [
    "import matplotlib.pyplot as plt\n",
    "\n",
    "plt.plot(s2.ts_data_raw)"
   ]
  },
  {
   "cell_type": "code",
   "execution_count": 12,
   "id": "84033e5c",
   "metadata": {},
   "outputs": [
    {
     "data": {
      "application/vnd.plotly.v1+json": {
       "config": {
        "plotlyServerURL": "https://plot.ly"
       },
       "data": [
        {
         "marker": {
          "color": "black"
         },
         "name": "Bit Flip Probability",
         "opacity": 0.7,
         "type": "bar",
         "x": {
          "bdata": "AAECAwQFBgcICQoLDA0ODxAREhMUFRYXGBkaGxwdHh8gISIjJCUmJygpKissLS4vMDEyMzQ1Njc4OTo7PD0+P0BBQkNERUZHSElKS0xNTk9QUVJTVFVWV1hZWltcXV5fYGFiY2RlZmdoaWprbG1ub3BxcnN0dXZ3eHl6e3x9fn8=",
          "dtype": "i1"
         },
         "y": {
          "bdata": "AAAAAAAAAAAAAAAAAAAAAAAAAAAAAAAAAAAAAAAAAAAAAAAAAAAAAAAAAAAAAAAAAAAAAAAAAAAAAAAAAAAAAAAAAAAAAAAAAAAAAAAAAAAAAAAAAAAAAAAAAAAAAAAAAAAAAAAAAAAAAAAAAAAAAAAAAAAAAAAAAAAAAAAAAAAAAAAAAAAAAAAAAAAAAAAAAAAAAAAAAAAAAAAAAAAAAAAAAAAAAAAAAAAAAAAAAAAAAAAAAAAAAAAAAAAAAAAAAAAAAAAAAAAAAAAAAAAAAAAAAAAAAAAAAAAAAAAAAAAAAAAAAAAAAAAAAAAAAAAAAAAAAAAAAAAAAAAAAAAAAAAAAAAAAAAAAAAAAAAAAAAAAAAAAAAAAAAAAAAAAAAAAAAAAAAAAAAAAAAAAAAAAAAAAAAAAAAAAAAAAAAAAAAAAAAAAAAAAAAAAAAAAAAAAAAAAAAAAAAAAAAAAAAAAAAAAAAAAAAAAAAAAAAAAAAAAAAAAAAAAAAAAAAAAAAAAAAAAAAAAAAAAAAAAAAAAAAAAAAAAAAAAAAAAAAAAAAAAAAAAAAAAAAAAAAAAAAAAAAAAAAAAAAAAAAAAAAAAAAAAAAAAAAAAAAAAAAAAAAAAAAAAAAAAAAAAAAAAAAAAAAAAAAAAAAAAAAAAAAAAAAAAAAAAAAAAAAAAAAAAAAAAAAAAAAAAAAAAAAAAAAAAAAAAAAAAACjYFGwKFiUP6NgUbAoWKQ/lZhKTCWmsj/nSHOkOdK8P8u4Zdwybsk/2YBsQDYgyz+LgkXBomDRP+2sdlY7q80/kuZIc6Q50j+LgkXBomDRP6YSU4mpxNQ/i4JFwaJg0T+VmEpMJabSPwAAAAAAAAAAAAAAAAAAAAAAAAAAAAAAAAAAAAAAAAAA2YBsQDYgez/ZgGxANiCLP6NgUbAoWKQ/iNBD6CH0sD+c/E3+Jn/DP5+uT9en69M/y7hl3DJu2T/WzmpntbPaP/QQegg9hN4/8V54L7wX3j/cMm4Zt4zbP4QeQg+hh+A/3DJuGbeM2z/q+nR9uj7dP4QeQg+hh9A/50hzpDnS3D/0EHoIPYTOP/QQegg9hM4/7ax2VjurzT+wKFgULArGPwAAAAAAAAAAAAAAAAAAAAAAAAAAAAAAANmAbEA2IGs/2YBsQDYgaz+jYFGwKFiEP9mAbEA2IIs/lZhKTCWmoj8AAAAAAAAAAAAAAAAAAAAAAAAAAAAAAAAAAAAAAAAAAAAAAAAAAAAAAAAAAAAAAAAAAAAAAAAAAAAAAAAAAAAAAAAAAAAAAAAAAAAAAAAAAAAAAAAAAAAAAAAAAAAAAAAAAAAAAAAAAAAAAAAAAAAAAAAAAAAAAAAAAAAAAAAAAA==",
          "dtype": "f8"
         }
        }
       ],
       "layout": {
        "annotations": [
         {
          "font": {
           "size": 10
          },
          "showarrow": false,
          "text": "Byte 0",
          "x": 3.5,
          "xanchor": "center",
          "xref": "x",
          "y": 1,
          "yanchor": "bottom",
          "yref": "y domain"
         },
         {
          "font": {
           "size": 10
          },
          "showarrow": false,
          "text": "Byte 1",
          "x": 11.5,
          "xanchor": "center",
          "xref": "x",
          "y": 1,
          "yanchor": "bottom",
          "yref": "y domain"
         },
         {
          "font": {
           "size": 10
          },
          "showarrow": false,
          "text": "Byte 2",
          "x": 19.5,
          "xanchor": "center",
          "xref": "x",
          "y": 1,
          "yanchor": "bottom",
          "yref": "y domain"
         },
         {
          "font": {
           "size": 10
          },
          "showarrow": false,
          "text": "Byte 3",
          "x": 27.5,
          "xanchor": "center",
          "xref": "x",
          "y": 1,
          "yanchor": "bottom",
          "yref": "y domain"
         },
         {
          "font": {
           "size": 10
          },
          "showarrow": false,
          "text": "Byte 4",
          "x": 35.5,
          "xanchor": "center",
          "xref": "x",
          "y": 1,
          "yanchor": "bottom",
          "yref": "y domain"
         },
         {
          "font": {
           "size": 10
          },
          "showarrow": false,
          "text": "Byte 5",
          "x": 43.5,
          "xanchor": "center",
          "xref": "x",
          "y": 1,
          "yanchor": "bottom",
          "yref": "y domain"
         },
         {
          "font": {
           "size": 10
          },
          "showarrow": false,
          "text": "Byte 6",
          "x": 51.5,
          "xanchor": "center",
          "xref": "x",
          "y": 1,
          "yanchor": "bottom",
          "yref": "y domain"
         },
         {
          "font": {
           "size": 10
          },
          "showarrow": false,
          "text": "Byte 7",
          "x": 59.5,
          "xanchor": "center",
          "xref": "x",
          "y": 1,
          "yanchor": "bottom",
          "yref": "y domain"
         },
         {
          "font": {
           "size": 10
          },
          "showarrow": false,
          "text": "Byte 8",
          "x": 67.5,
          "xanchor": "center",
          "xref": "x",
          "y": 1,
          "yanchor": "bottom",
          "yref": "y domain"
         },
         {
          "font": {
           "size": 10
          },
          "showarrow": false,
          "text": "Byte 9",
          "x": 75.5,
          "xanchor": "center",
          "xref": "x",
          "y": 1,
          "yanchor": "bottom",
          "yref": "y domain"
         },
         {
          "font": {
           "size": 10
          },
          "showarrow": false,
          "text": "Byte 10",
          "x": 83.5,
          "xanchor": "center",
          "xref": "x",
          "y": 1,
          "yanchor": "bottom",
          "yref": "y domain"
         },
         {
          "font": {
           "size": 10
          },
          "showarrow": false,
          "text": "Byte 11",
          "x": 91.5,
          "xanchor": "center",
          "xref": "x",
          "y": 1,
          "yanchor": "bottom",
          "yref": "y domain"
         },
         {
          "font": {
           "size": 10
          },
          "showarrow": false,
          "text": "Byte 12",
          "x": 99.5,
          "xanchor": "center",
          "xref": "x",
          "y": 1,
          "yanchor": "bottom",
          "yref": "y domain"
         },
         {
          "font": {
           "size": 10
          },
          "showarrow": false,
          "text": "Byte 13",
          "x": 107.5,
          "xanchor": "center",
          "xref": "x",
          "y": 1,
          "yanchor": "bottom",
          "yref": "y domain"
         },
         {
          "font": {
           "size": 10
          },
          "showarrow": false,
          "text": "Byte 14",
          "x": 115.5,
          "xanchor": "center",
          "xref": "x",
          "y": 1,
          "yanchor": "bottom",
          "yref": "y domain"
         },
         {
          "font": {
           "size": 10
          },
          "showarrow": false,
          "text": "Byte 15",
          "x": 123.5,
          "xanchor": "center",
          "xref": "x",
          "y": 1,
          "yanchor": "bottom",
          "yref": "y domain"
         },
         {
          "showarrow": false,
          "text": "SIG_BE_1",
          "x": 66.5,
          "xanchor": "left",
          "xref": "x",
          "y": 1,
          "yanchor": "top",
          "yref": "y domain"
         },
         {
          "showarrow": false,
          "text": "SIG_BE_3",
          "x": 83.5,
          "xanchor": "left",
          "xref": "x",
          "y": 1,
          "yanchor": "top",
          "yref": "y domain"
         },
         {
          "showarrow": false,
          "text": "SIG_BE_5",
          "x": 106.5,
          "xanchor": "left",
          "xref": "x",
          "y": 1,
          "yanchor": "top",
          "yref": "y domain"
         }
        ],
        "legend": {
         "font": {
          "size": 8
         },
         "orientation": "h",
         "x": 0.5,
         "xanchor": "center",
         "y": -0.2
        },
        "shapes": [
         {
          "line": {
           "color": "gray",
           "dash": "dash",
           "width": 1
          },
          "type": "line",
          "x0": 7.5,
          "x1": 7.5,
          "y0": 0,
          "y1": 0.5423841059602649
         },
         {
          "line": {
           "color": "gray",
           "dash": "dash",
           "width": 1
          },
          "type": "line",
          "x0": 15.5,
          "x1": 15.5,
          "y0": 0,
          "y1": 0.5423841059602649
         },
         {
          "line": {
           "color": "gray",
           "dash": "dash",
           "width": 1
          },
          "type": "line",
          "x0": 23.5,
          "x1": 23.5,
          "y0": 0,
          "y1": 0.5423841059602649
         },
         {
          "line": {
           "color": "gray",
           "dash": "dash",
           "width": 1
          },
          "type": "line",
          "x0": 31.5,
          "x1": 31.5,
          "y0": 0,
          "y1": 0.5423841059602649
         },
         {
          "line": {
           "color": "gray",
           "dash": "dash",
           "width": 1
          },
          "type": "line",
          "x0": 39.5,
          "x1": 39.5,
          "y0": 0,
          "y1": 0.5423841059602649
         },
         {
          "line": {
           "color": "gray",
           "dash": "dash",
           "width": 1
          },
          "type": "line",
          "x0": 47.5,
          "x1": 47.5,
          "y0": 0,
          "y1": 0.5423841059602649
         },
         {
          "line": {
           "color": "gray",
           "dash": "dash",
           "width": 1
          },
          "type": "line",
          "x0": 55.5,
          "x1": 55.5,
          "y0": 0,
          "y1": 0.5423841059602649
         },
         {
          "line": {
           "color": "gray",
           "dash": "dash",
           "width": 1
          },
          "type": "line",
          "x0": 63.5,
          "x1": 63.5,
          "y0": 0,
          "y1": 0.5423841059602649
         },
         {
          "line": {
           "color": "gray",
           "dash": "dash",
           "width": 1
          },
          "type": "line",
          "x0": 71.5,
          "x1": 71.5,
          "y0": 0,
          "y1": 0.5423841059602649
         },
         {
          "line": {
           "color": "gray",
           "dash": "dash",
           "width": 1
          },
          "type": "line",
          "x0": 79.5,
          "x1": 79.5,
          "y0": 0,
          "y1": 0.5423841059602649
         },
         {
          "line": {
           "color": "gray",
           "dash": "dash",
           "width": 1
          },
          "type": "line",
          "x0": 87.5,
          "x1": 87.5,
          "y0": 0,
          "y1": 0.5423841059602649
         },
         {
          "line": {
           "color": "gray",
           "dash": "dash",
           "width": 1
          },
          "type": "line",
          "x0": 95.5,
          "x1": 95.5,
          "y0": 0,
          "y1": 0.5423841059602649
         },
         {
          "line": {
           "color": "gray",
           "dash": "dash",
           "width": 1
          },
          "type": "line",
          "x0": 103.5,
          "x1": 103.5,
          "y0": 0,
          "y1": 0.5423841059602649
         },
         {
          "line": {
           "color": "gray",
           "dash": "dash",
           "width": 1
          },
          "type": "line",
          "x0": 111.5,
          "x1": 111.5,
          "y0": 0,
          "y1": 0.5423841059602649
         },
         {
          "line": {
           "color": "gray",
           "dash": "dash",
           "width": 1
          },
          "type": "line",
          "x0": 119.5,
          "x1": 119.5,
          "y0": 0,
          "y1": 0.5423841059602649
         },
         {
          "line": {
           "color": "black",
           "width": 1
          },
          "opacity": 0,
          "type": "rect",
          "x0": -0.5,
          "x1": 7.5,
          "xref": "x",
          "y0": 0,
          "y1": 1,
          "yref": "y domain"
         },
         {
          "line": {
           "color": "black",
           "width": 1
          },
          "opacity": 0,
          "type": "rect",
          "x0": 7.5,
          "x1": 15.5,
          "xref": "x",
          "y0": 0,
          "y1": 1,
          "yref": "y domain"
         },
         {
          "line": {
           "color": "black",
           "width": 1
          },
          "opacity": 0,
          "type": "rect",
          "x0": 15.5,
          "x1": 23.5,
          "xref": "x",
          "y0": 0,
          "y1": 1,
          "yref": "y domain"
         },
         {
          "line": {
           "color": "black",
           "width": 1
          },
          "opacity": 0,
          "type": "rect",
          "x0": 23.5,
          "x1": 31.5,
          "xref": "x",
          "y0": 0,
          "y1": 1,
          "yref": "y domain"
         },
         {
          "line": {
           "color": "black",
           "width": 1
          },
          "opacity": 0,
          "type": "rect",
          "x0": 31.5,
          "x1": 39.5,
          "xref": "x",
          "y0": 0,
          "y1": 1,
          "yref": "y domain"
         },
         {
          "line": {
           "color": "black",
           "width": 1
          },
          "opacity": 0,
          "type": "rect",
          "x0": 39.5,
          "x1": 47.5,
          "xref": "x",
          "y0": 0,
          "y1": 1,
          "yref": "y domain"
         },
         {
          "line": {
           "color": "black",
           "width": 1
          },
          "opacity": 0,
          "type": "rect",
          "x0": 47.5,
          "x1": 55.5,
          "xref": "x",
          "y0": 0,
          "y1": 1,
          "yref": "y domain"
         },
         {
          "line": {
           "color": "black",
           "width": 1
          },
          "opacity": 0,
          "type": "rect",
          "x0": 55.5,
          "x1": 63.5,
          "xref": "x",
          "y0": 0,
          "y1": 1,
          "yref": "y domain"
         },
         {
          "line": {
           "color": "black",
           "width": 1
          },
          "opacity": 0,
          "type": "rect",
          "x0": 63.5,
          "x1": 71.5,
          "xref": "x",
          "y0": 0,
          "y1": 1,
          "yref": "y domain"
         },
         {
          "line": {
           "color": "black",
           "width": 1
          },
          "opacity": 0,
          "type": "rect",
          "x0": 71.5,
          "x1": 79.5,
          "xref": "x",
          "y0": 0,
          "y1": 1,
          "yref": "y domain"
         },
         {
          "line": {
           "color": "black",
           "width": 1
          },
          "opacity": 0,
          "type": "rect",
          "x0": 79.5,
          "x1": 87.5,
          "xref": "x",
          "y0": 0,
          "y1": 1,
          "yref": "y domain"
         },
         {
          "line": {
           "color": "black",
           "width": 1
          },
          "opacity": 0,
          "type": "rect",
          "x0": 87.5,
          "x1": 95.5,
          "xref": "x",
          "y0": 0,
          "y1": 1,
          "yref": "y domain"
         },
         {
          "line": {
           "color": "black",
           "width": 1
          },
          "opacity": 0,
          "type": "rect",
          "x0": 95.5,
          "x1": 103.5,
          "xref": "x",
          "y0": 0,
          "y1": 1,
          "yref": "y domain"
         },
         {
          "line": {
           "color": "black",
           "width": 1
          },
          "opacity": 0,
          "type": "rect",
          "x0": 103.5,
          "x1": 111.5,
          "xref": "x",
          "y0": 0,
          "y1": 1,
          "yref": "y domain"
         },
         {
          "line": {
           "color": "black",
           "width": 1
          },
          "opacity": 0,
          "type": "rect",
          "x0": 111.5,
          "x1": 119.5,
          "xref": "x",
          "y0": 0,
          "y1": 1,
          "yref": "y domain"
         },
         {
          "line": {
           "color": "black",
           "width": 1
          },
          "opacity": 0,
          "type": "rect",
          "x0": 119.5,
          "x1": 127.5,
          "xref": "x",
          "y0": 0,
          "y1": 1,
          "yref": "y domain"
         },
         {
          "fillcolor": "#79A8DD",
          "layer": "below",
          "line": {
           "width": 0
          },
          "opacity": 0.2,
          "type": "rect",
          "x0": 66.5,
          "x1": 79.5,
          "xref": "x",
          "y0": 0,
          "y1": 1,
          "yref": "y domain"
         },
         {
          "fillcolor": "#DD79DA",
          "layer": "below",
          "line": {
           "width": 0
          },
          "opacity": 0.2,
          "type": "rect",
          "x0": 83.5,
          "x1": 103.5,
          "xref": "x",
          "y0": 0,
          "y1": 1,
          "yref": "y domain"
         },
         {
          "fillcolor": "#DDAE79",
          "layer": "below",
          "line": {
           "width": 0
          },
          "opacity": 0.2,
          "type": "rect",
          "x0": 106.5,
          "x1": 111.5,
          "xref": "x",
          "y0": 0,
          "y1": 1,
          "yref": "y domain"
         }
        ],
        "template": {
         "data": {
          "bar": [
           {
            "error_x": {
             "color": "#2a3f5f"
            },
            "error_y": {
             "color": "#2a3f5f"
            },
            "marker": {
             "line": {
              "color": "#E5ECF6",
              "width": 0.5
             },
             "pattern": {
              "fillmode": "overlay",
              "size": 10,
              "solidity": 0.2
             }
            },
            "type": "bar"
           }
          ],
          "barpolar": [
           {
            "marker": {
             "line": {
              "color": "#E5ECF6",
              "width": 0.5
             },
             "pattern": {
              "fillmode": "overlay",
              "size": 10,
              "solidity": 0.2
             }
            },
            "type": "barpolar"
           }
          ],
          "carpet": [
           {
            "aaxis": {
             "endlinecolor": "#2a3f5f",
             "gridcolor": "white",
             "linecolor": "white",
             "minorgridcolor": "white",
             "startlinecolor": "#2a3f5f"
            },
            "baxis": {
             "endlinecolor": "#2a3f5f",
             "gridcolor": "white",
             "linecolor": "white",
             "minorgridcolor": "white",
             "startlinecolor": "#2a3f5f"
            },
            "type": "carpet"
           }
          ],
          "choropleth": [
           {
            "colorbar": {
             "outlinewidth": 0,
             "ticks": ""
            },
            "type": "choropleth"
           }
          ],
          "contour": [
           {
            "colorbar": {
             "outlinewidth": 0,
             "ticks": ""
            },
            "colorscale": [
             [
              0,
              "#0d0887"
             ],
             [
              0.1111111111111111,
              "#46039f"
             ],
             [
              0.2222222222222222,
              "#7201a8"
             ],
             [
              0.3333333333333333,
              "#9c179e"
             ],
             [
              0.4444444444444444,
              "#bd3786"
             ],
             [
              0.5555555555555556,
              "#d8576b"
             ],
             [
              0.6666666666666666,
              "#ed7953"
             ],
             [
              0.7777777777777778,
              "#fb9f3a"
             ],
             [
              0.8888888888888888,
              "#fdca26"
             ],
             [
              1,
              "#f0f921"
             ]
            ],
            "type": "contour"
           }
          ],
          "contourcarpet": [
           {
            "colorbar": {
             "outlinewidth": 0,
             "ticks": ""
            },
            "type": "contourcarpet"
           }
          ],
          "heatmap": [
           {
            "colorbar": {
             "outlinewidth": 0,
             "ticks": ""
            },
            "colorscale": [
             [
              0,
              "#0d0887"
             ],
             [
              0.1111111111111111,
              "#46039f"
             ],
             [
              0.2222222222222222,
              "#7201a8"
             ],
             [
              0.3333333333333333,
              "#9c179e"
             ],
             [
              0.4444444444444444,
              "#bd3786"
             ],
             [
              0.5555555555555556,
              "#d8576b"
             ],
             [
              0.6666666666666666,
              "#ed7953"
             ],
             [
              0.7777777777777778,
              "#fb9f3a"
             ],
             [
              0.8888888888888888,
              "#fdca26"
             ],
             [
              1,
              "#f0f921"
             ]
            ],
            "type": "heatmap"
           }
          ],
          "histogram": [
           {
            "marker": {
             "pattern": {
              "fillmode": "overlay",
              "size": 10,
              "solidity": 0.2
             }
            },
            "type": "histogram"
           }
          ],
          "histogram2d": [
           {
            "colorbar": {
             "outlinewidth": 0,
             "ticks": ""
            },
            "colorscale": [
             [
              0,
              "#0d0887"
             ],
             [
              0.1111111111111111,
              "#46039f"
             ],
             [
              0.2222222222222222,
              "#7201a8"
             ],
             [
              0.3333333333333333,
              "#9c179e"
             ],
             [
              0.4444444444444444,
              "#bd3786"
             ],
             [
              0.5555555555555556,
              "#d8576b"
             ],
             [
              0.6666666666666666,
              "#ed7953"
             ],
             [
              0.7777777777777778,
              "#fb9f3a"
             ],
             [
              0.8888888888888888,
              "#fdca26"
             ],
             [
              1,
              "#f0f921"
             ]
            ],
            "type": "histogram2d"
           }
          ],
          "histogram2dcontour": [
           {
            "colorbar": {
             "outlinewidth": 0,
             "ticks": ""
            },
            "colorscale": [
             [
              0,
              "#0d0887"
             ],
             [
              0.1111111111111111,
              "#46039f"
             ],
             [
              0.2222222222222222,
              "#7201a8"
             ],
             [
              0.3333333333333333,
              "#9c179e"
             ],
             [
              0.4444444444444444,
              "#bd3786"
             ],
             [
              0.5555555555555556,
              "#d8576b"
             ],
             [
              0.6666666666666666,
              "#ed7953"
             ],
             [
              0.7777777777777778,
              "#fb9f3a"
             ],
             [
              0.8888888888888888,
              "#fdca26"
             ],
             [
              1,
              "#f0f921"
             ]
            ],
            "type": "histogram2dcontour"
           }
          ],
          "mesh3d": [
           {
            "colorbar": {
             "outlinewidth": 0,
             "ticks": ""
            },
            "type": "mesh3d"
           }
          ],
          "parcoords": [
           {
            "line": {
             "colorbar": {
              "outlinewidth": 0,
              "ticks": ""
             }
            },
            "type": "parcoords"
           }
          ],
          "pie": [
           {
            "automargin": true,
            "type": "pie"
           }
          ],
          "scatter": [
           {
            "fillpattern": {
             "fillmode": "overlay",
             "size": 10,
             "solidity": 0.2
            },
            "type": "scatter"
           }
          ],
          "scatter3d": [
           {
            "line": {
             "colorbar": {
              "outlinewidth": 0,
              "ticks": ""
             }
            },
            "marker": {
             "colorbar": {
              "outlinewidth": 0,
              "ticks": ""
             }
            },
            "type": "scatter3d"
           }
          ],
          "scattercarpet": [
           {
            "marker": {
             "colorbar": {
              "outlinewidth": 0,
              "ticks": ""
             }
            },
            "type": "scattercarpet"
           }
          ],
          "scattergeo": [
           {
            "marker": {
             "colorbar": {
              "outlinewidth": 0,
              "ticks": ""
             }
            },
            "type": "scattergeo"
           }
          ],
          "scattergl": [
           {
            "marker": {
             "colorbar": {
              "outlinewidth": 0,
              "ticks": ""
             }
            },
            "type": "scattergl"
           }
          ],
          "scattermap": [
           {
            "marker": {
             "colorbar": {
              "outlinewidth": 0,
              "ticks": ""
             }
            },
            "type": "scattermap"
           }
          ],
          "scattermapbox": [
           {
            "marker": {
             "colorbar": {
              "outlinewidth": 0,
              "ticks": ""
             }
            },
            "type": "scattermapbox"
           }
          ],
          "scatterpolar": [
           {
            "marker": {
             "colorbar": {
              "outlinewidth": 0,
              "ticks": ""
             }
            },
            "type": "scatterpolar"
           }
          ],
          "scatterpolargl": [
           {
            "marker": {
             "colorbar": {
              "outlinewidth": 0,
              "ticks": ""
             }
            },
            "type": "scatterpolargl"
           }
          ],
          "scatterternary": [
           {
            "marker": {
             "colorbar": {
              "outlinewidth": 0,
              "ticks": ""
             }
            },
            "type": "scatterternary"
           }
          ],
          "surface": [
           {
            "colorbar": {
             "outlinewidth": 0,
             "ticks": ""
            },
            "colorscale": [
             [
              0,
              "#0d0887"
             ],
             [
              0.1111111111111111,
              "#46039f"
             ],
             [
              0.2222222222222222,
              "#7201a8"
             ],
             [
              0.3333333333333333,
              "#9c179e"
             ],
             [
              0.4444444444444444,
              "#bd3786"
             ],
             [
              0.5555555555555556,
              "#d8576b"
             ],
             [
              0.6666666666666666,
              "#ed7953"
             ],
             [
              0.7777777777777778,
              "#fb9f3a"
             ],
             [
              0.8888888888888888,
              "#fdca26"
             ],
             [
              1,
              "#f0f921"
             ]
            ],
            "type": "surface"
           }
          ],
          "table": [
           {
            "cells": {
             "fill": {
              "color": "#EBF0F8"
             },
             "line": {
              "color": "white"
             }
            },
            "header": {
             "fill": {
              "color": "#C8D4E3"
             },
             "line": {
              "color": "white"
             }
            },
            "type": "table"
           }
          ]
         },
         "layout": {
          "annotationdefaults": {
           "arrowcolor": "#2a3f5f",
           "arrowhead": 0,
           "arrowwidth": 1
          },
          "autotypenumbers": "strict",
          "coloraxis": {
           "colorbar": {
            "outlinewidth": 0,
            "ticks": ""
           }
          },
          "colorscale": {
           "diverging": [
            [
             0,
             "#8e0152"
            ],
            [
             0.1,
             "#c51b7d"
            ],
            [
             0.2,
             "#de77ae"
            ],
            [
             0.3,
             "#f1b6da"
            ],
            [
             0.4,
             "#fde0ef"
            ],
            [
             0.5,
             "#f7f7f7"
            ],
            [
             0.6,
             "#e6f5d0"
            ],
            [
             0.7,
             "#b8e186"
            ],
            [
             0.8,
             "#7fbc41"
            ],
            [
             0.9,
             "#4d9221"
            ],
            [
             1,
             "#276419"
            ]
           ],
           "sequential": [
            [
             0,
             "#0d0887"
            ],
            [
             0.1111111111111111,
             "#46039f"
            ],
            [
             0.2222222222222222,
             "#7201a8"
            ],
            [
             0.3333333333333333,
             "#9c179e"
            ],
            [
             0.4444444444444444,
             "#bd3786"
            ],
            [
             0.5555555555555556,
             "#d8576b"
            ],
            [
             0.6666666666666666,
             "#ed7953"
            ],
            [
             0.7777777777777778,
             "#fb9f3a"
            ],
            [
             0.8888888888888888,
             "#fdca26"
            ],
            [
             1,
             "#f0f921"
            ]
           ],
           "sequentialminus": [
            [
             0,
             "#0d0887"
            ],
            [
             0.1111111111111111,
             "#46039f"
            ],
            [
             0.2222222222222222,
             "#7201a8"
            ],
            [
             0.3333333333333333,
             "#9c179e"
            ],
            [
             0.4444444444444444,
             "#bd3786"
            ],
            [
             0.5555555555555556,
             "#d8576b"
            ],
            [
             0.6666666666666666,
             "#ed7953"
            ],
            [
             0.7777777777777778,
             "#fb9f3a"
            ],
            [
             0.8888888888888888,
             "#fdca26"
            ],
            [
             1,
             "#f0f921"
            ]
           ]
          },
          "colorway": [
           "#636efa",
           "#EF553B",
           "#00cc96",
           "#ab63fa",
           "#FFA15A",
           "#19d3f3",
           "#FF6692",
           "#B6E880",
           "#FF97FF",
           "#FECB52"
          ],
          "font": {
           "color": "#2a3f5f"
          },
          "geo": {
           "bgcolor": "white",
           "lakecolor": "white",
           "landcolor": "#E5ECF6",
           "showlakes": true,
           "showland": true,
           "subunitcolor": "white"
          },
          "hoverlabel": {
           "align": "left"
          },
          "hovermode": "closest",
          "mapbox": {
           "style": "light"
          },
          "paper_bgcolor": "white",
          "plot_bgcolor": "#E5ECF6",
          "polar": {
           "angularaxis": {
            "gridcolor": "white",
            "linecolor": "white",
            "ticks": ""
           },
           "bgcolor": "#E5ECF6",
           "radialaxis": {
            "gridcolor": "white",
            "linecolor": "white",
            "ticks": ""
           }
          },
          "scene": {
           "xaxis": {
            "backgroundcolor": "#E5ECF6",
            "gridcolor": "white",
            "gridwidth": 2,
            "linecolor": "white",
            "showbackground": true,
            "ticks": "",
            "zerolinecolor": "white"
           },
           "yaxis": {
            "backgroundcolor": "#E5ECF6",
            "gridcolor": "white",
            "gridwidth": 2,
            "linecolor": "white",
            "showbackground": true,
            "ticks": "",
            "zerolinecolor": "white"
           },
           "zaxis": {
            "backgroundcolor": "#E5ECF6",
            "gridcolor": "white",
            "gridwidth": 2,
            "linecolor": "white",
            "showbackground": true,
            "ticks": "",
            "zerolinecolor": "white"
           }
          },
          "shapedefaults": {
           "line": {
            "color": "#2a3f5f"
           }
          },
          "ternary": {
           "aaxis": {
            "gridcolor": "white",
            "linecolor": "white",
            "ticks": ""
           },
           "baxis": {
            "gridcolor": "white",
            "linecolor": "white",
            "ticks": ""
           },
           "bgcolor": "#E5ECF6",
           "caxis": {
            "gridcolor": "white",
            "linecolor": "white",
            "ticks": ""
           }
          },
          "title": {
           "x": 0.05
          },
          "xaxis": {
           "automargin": true,
           "gridcolor": "white",
           "linecolor": "white",
           "ticks": "",
           "title": {
            "standoff": 15
           },
           "zerolinecolor": "white",
           "zerolinewidth": 2
          },
          "yaxis": {
           "automargin": true,
           "gridcolor": "white",
           "linecolor": "white",
           "ticks": "",
           "title": {
            "standoff": 15
           },
           "zerolinecolor": "white",
           "zerolinewidth": 2
          }
         }
        },
        "title": {
         "text": "Big-Endian: Bit Flip Probabilities"
        },
        "xaxis": {
         "tickfont": {
          "size": 8
         },
         "tickmode": "array",
         "ticktext": {
          "bdata": "BwYFBAMCAQAPDg0MCwoJCBcWFRQTEhEQHx4dHBsaGRgnJiUkIyIhIC8uLSwrKikoNzY1NDMyMTA/Pj08Ozo5OEdGRURDQkFAT05NTEtKSUhXVlVUU1JRUF9eXVxbWllYZ2ZlZGNiYWBvbm1sa2ppaHd2dXRzcnFwf359fHt6eXg=",
          "dtype": "i1"
         },
         "tickvals": {
          "bdata": "AAECAwQFBgcICQoLDA0ODxAREhMUFRYXGBkaGxwdHh8gISIjJCUmJygpKissLS4vMDEyMzQ1Njc4OTo7PD0+P0BBQkNERUZHSElKS0xNTk9QUVJTVFVWV1hZWltcXV5fYGFiY2RlZmdoaWprbG1ub3BxcnN0dXZ3eHl6e3x9fn8=",
          "dtype": "i1"
         },
         "title": {
          "text": "Bit Number"
         }
        },
        "yaxis": {
         "range": [
          0,
          1.1
         ],
         "title": {
          "text": "Bit Flip Probability"
         }
        }
       }
      }
     },
     "metadata": {},
     "output_type": "display_data"
    }
   ],
   "source": [
    "decoder.plot_message_from_id('18DAF218',[0,12,98,5,31])"
   ]
  },
  {
   "cell_type": "code",
   "execution_count": 13,
   "id": "e0788a98",
   "metadata": {},
   "outputs": [
    {
     "data": {
      "application/vnd.plotly.v1+json": {
       "config": {
        "plotlyServerURL": "https://plot.ly"
       },
       "data": [
        {
         "mode": "lines+markers",
         "name": "SIG_BE_1",
         "type": "scatter",
         "x": {
          "bdata": "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",
          "dtype": "f8"
         },
         "y": {
          "bdata": "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",
          "dtype": "f8"
         }
        }
       ],
       "layout": {
        "template": {
         "data": {
          "bar": [
           {
            "error_x": {
             "color": "#2a3f5f"
            },
            "error_y": {
             "color": "#2a3f5f"
            },
            "marker": {
             "line": {
              "color": "#E5ECF6",
              "width": 0.5
             },
             "pattern": {
              "fillmode": "overlay",
              "size": 10,
              "solidity": 0.2
             }
            },
            "type": "bar"
           }
          ],
          "barpolar": [
           {
            "marker": {
             "line": {
              "color": "#E5ECF6",
              "width": 0.5
             },
             "pattern": {
              "fillmode": "overlay",
              "size": 10,
              "solidity": 0.2
             }
            },
            "type": "barpolar"
           }
          ],
          "carpet": [
           {
            "aaxis": {
             "endlinecolor": "#2a3f5f",
             "gridcolor": "white",
             "linecolor": "white",
             "minorgridcolor": "white",
             "startlinecolor": "#2a3f5f"
            },
            "baxis": {
             "endlinecolor": "#2a3f5f",
             "gridcolor": "white",
             "linecolor": "white",
             "minorgridcolor": "white",
             "startlinecolor": "#2a3f5f"
            },
            "type": "carpet"
           }
          ],
          "choropleth": [
           {
            "colorbar": {
             "outlinewidth": 0,
             "ticks": ""
            },
            "type": "choropleth"
           }
          ],
          "contour": [
           {
            "colorbar": {
             "outlinewidth": 0,
             "ticks": ""
            },
            "colorscale": [
             [
              0,
              "#0d0887"
             ],
             [
              0.1111111111111111,
              "#46039f"
             ],
             [
              0.2222222222222222,
              "#7201a8"
             ],
             [
              0.3333333333333333,
              "#9c179e"
             ],
             [
              0.4444444444444444,
              "#bd3786"
             ],
             [
              0.5555555555555556,
              "#d8576b"
             ],
             [
              0.6666666666666666,
              "#ed7953"
             ],
             [
              0.7777777777777778,
              "#fb9f3a"
             ],
             [
              0.8888888888888888,
              "#fdca26"
             ],
             [
              1,
              "#f0f921"
             ]
            ],
            "type": "contour"
           }
          ],
          "contourcarpet": [
           {
            "colorbar": {
             "outlinewidth": 0,
             "ticks": ""
            },
            "type": "contourcarpet"
           }
          ],
          "heatmap": [
           {
            "colorbar": {
             "outlinewidth": 0,
             "ticks": ""
            },
            "colorscale": [
             [
              0,
              "#0d0887"
             ],
             [
              0.1111111111111111,
              "#46039f"
             ],
             [
              0.2222222222222222,
              "#7201a8"
             ],
             [
              0.3333333333333333,
              "#9c179e"
             ],
             [
              0.4444444444444444,
              "#bd3786"
             ],
             [
              0.5555555555555556,
              "#d8576b"
             ],
             [
              0.6666666666666666,
              "#ed7953"
             ],
             [
              0.7777777777777778,
              "#fb9f3a"
             ],
             [
              0.8888888888888888,
              "#fdca26"
             ],
             [
              1,
              "#f0f921"
             ]
            ],
            "type": "heatmap"
           }
          ],
          "histogram": [
           {
            "marker": {
             "pattern": {
              "fillmode": "overlay",
              "size": 10,
              "solidity": 0.2
             }
            },
            "type": "histogram"
           }
          ],
          "histogram2d": [
           {
            "colorbar": {
             "outlinewidth": 0,
             "ticks": ""
            },
            "colorscale": [
             [
              0,
              "#0d0887"
             ],
             [
              0.1111111111111111,
              "#46039f"
             ],
             [
              0.2222222222222222,
              "#7201a8"
             ],
             [
              0.3333333333333333,
              "#9c179e"
             ],
             [
              0.4444444444444444,
              "#bd3786"
             ],
             [
              0.5555555555555556,
              "#d8576b"
             ],
             [
              0.6666666666666666,
              "#ed7953"
             ],
             [
              0.7777777777777778,
              "#fb9f3a"
             ],
             [
              0.8888888888888888,
              "#fdca26"
             ],
             [
              1,
              "#f0f921"
             ]
            ],
            "type": "histogram2d"
           }
          ],
          "histogram2dcontour": [
           {
            "colorbar": {
             "outlinewidth": 0,
             "ticks": ""
            },
            "colorscale": [
             [
              0,
              "#0d0887"
             ],
             [
              0.1111111111111111,
              "#46039f"
             ],
             [
              0.2222222222222222,
              "#7201a8"
             ],
             [
              0.3333333333333333,
              "#9c179e"
             ],
             [
              0.4444444444444444,
              "#bd3786"
             ],
             [
              0.5555555555555556,
              "#d8576b"
             ],
             [
              0.6666666666666666,
              "#ed7953"
             ],
             [
              0.7777777777777778,
              "#fb9f3a"
             ],
             [
              0.8888888888888888,
              "#fdca26"
             ],
             [
              1,
              "#f0f921"
             ]
            ],
            "type": "histogram2dcontour"
           }
          ],
          "mesh3d": [
           {
            "colorbar": {
             "outlinewidth": 0,
             "ticks": ""
            },
            "type": "mesh3d"
           }
          ],
          "parcoords": [
           {
            "line": {
             "colorbar": {
              "outlinewidth": 0,
              "ticks": ""
             }
            },
            "type": "parcoords"
           }
          ],
          "pie": [
           {
            "automargin": true,
            "type": "pie"
           }
          ],
          "scatter": [
           {
            "fillpattern": {
             "fillmode": "overlay",
             "size": 10,
             "solidity": 0.2
            },
            "type": "scatter"
           }
          ],
          "scatter3d": [
           {
            "line": {
             "colorbar": {
              "outlinewidth": 0,
              "ticks": ""
             }
            },
            "marker": {
             "colorbar": {
              "outlinewidth": 0,
              "ticks": ""
             }
            },
            "type": "scatter3d"
           }
          ],
          "scattercarpet": [
           {
            "marker": {
             "colorbar": {
              "outlinewidth": 0,
              "ticks": ""
             }
            },
            "type": "scattercarpet"
           }
          ],
          "scattergeo": [
           {
            "marker": {
             "colorbar": {
              "outlinewidth": 0,
              "ticks": ""
             }
            },
            "type": "scattergeo"
           }
          ],
          "scattergl": [
           {
            "marker": {
             "colorbar": {
              "outlinewidth": 0,
              "ticks": ""
             }
            },
            "type": "scattergl"
           }
          ],
          "scattermap": [
           {
            "marker": {
             "colorbar": {
              "outlinewidth": 0,
              "ticks": ""
             }
            },
            "type": "scattermap"
           }
          ],
          "scattermapbox": [
           {
            "marker": {
             "colorbar": {
              "outlinewidth": 0,
              "ticks": ""
             }
            },
            "type": "scattermapbox"
           }
          ],
          "scatterpolar": [
           {
            "marker": {
             "colorbar": {
              "outlinewidth": 0,
              "ticks": ""
             }
            },
            "type": "scatterpolar"
           }
          ],
          "scatterpolargl": [
           {
            "marker": {
             "colorbar": {
              "outlinewidth": 0,
              "ticks": ""
             }
            },
            "type": "scatterpolargl"
           }
          ],
          "scatterternary": [
           {
            "marker": {
             "colorbar": {
              "outlinewidth": 0,
              "ticks": ""
             }
            },
            "type": "scatterternary"
           }
          ],
          "surface": [
           {
            "colorbar": {
             "outlinewidth": 0,
             "ticks": ""
            },
            "colorscale": [
             [
              0,
              "#0d0887"
             ],
             [
              0.1111111111111111,
              "#46039f"
             ],
             [
              0.2222222222222222,
              "#7201a8"
             ],
             [
              0.3333333333333333,
              "#9c179e"
             ],
             [
              0.4444444444444444,
              "#bd3786"
             ],
             [
              0.5555555555555556,
              "#d8576b"
             ],
             [
              0.6666666666666666,
              "#ed7953"
             ],
             [
              0.7777777777777778,
              "#fb9f3a"
             ],
             [
              0.8888888888888888,
              "#fdca26"
             ],
             [
              1,
              "#f0f921"
             ]
            ],
            "type": "surface"
           }
          ],
          "table": [
           {
            "cells": {
             "fill": {
              "color": "#EBF0F8"
             },
             "line": {
              "color": "white"
             }
            },
            "header": {
             "fill": {
              "color": "#C8D4E3"
             },
             "line": {
              "color": "white"
             }
            },
            "type": "table"
           }
          ]
         },
         "layout": {
          "annotationdefaults": {
           "arrowcolor": "#2a3f5f",
           "arrowhead": 0,
           "arrowwidth": 1
          },
          "autotypenumbers": "strict",
          "coloraxis": {
           "colorbar": {
            "outlinewidth": 0,
            "ticks": ""
           }
          },
          "colorscale": {
           "diverging": [
            [
             0,
             "#8e0152"
            ],
            [
             0.1,
             "#c51b7d"
            ],
            [
             0.2,
             "#de77ae"
            ],
            [
             0.3,
             "#f1b6da"
            ],
            [
             0.4,
             "#fde0ef"
            ],
            [
             0.5,
             "#f7f7f7"
            ],
            [
             0.6,
             "#e6f5d0"
            ],
            [
             0.7,
             "#b8e186"
            ],
            [
             0.8,
             "#7fbc41"
            ],
            [
             0.9,
             "#4d9221"
            ],
            [
             1,
             "#276419"
            ]
           ],
           "sequential": [
            [
             0,
             "#0d0887"
            ],
            [
             0.1111111111111111,
             "#46039f"
            ],
            [
             0.2222222222222222,
             "#7201a8"
            ],
            [
             0.3333333333333333,
             "#9c179e"
            ],
            [
             0.4444444444444444,
             "#bd3786"
            ],
            [
             0.5555555555555556,
             "#d8576b"
            ],
            [
             0.6666666666666666,
             "#ed7953"
            ],
            [
             0.7777777777777778,
             "#fb9f3a"
            ],
            [
             0.8888888888888888,
             "#fdca26"
            ],
            [
             1,
             "#f0f921"
            ]
           ],
           "sequentialminus": [
            [
             0,
             "#0d0887"
            ],
            [
             0.1111111111111111,
             "#46039f"
            ],
            [
             0.2222222222222222,
             "#7201a8"
            ],
            [
             0.3333333333333333,
             "#9c179e"
            ],
            [
             0.4444444444444444,
             "#bd3786"
            ],
            [
             0.5555555555555556,
             "#d8576b"
            ],
            [
             0.6666666666666666,
             "#ed7953"
            ],
            [
             0.7777777777777778,
             "#fb9f3a"
            ],
            [
             0.8888888888888888,
             "#fdca26"
            ],
            [
             1,
             "#f0f921"
            ]
           ]
          },
          "colorway": [
           "#636efa",
           "#EF553B",
           "#00cc96",
           "#ab63fa",
           "#FFA15A",
           "#19d3f3",
           "#FF6692",
           "#B6E880",
           "#FF97FF",
           "#FECB52"
          ],
          "font": {
           "color": "#2a3f5f"
          },
          "geo": {
           "bgcolor": "white",
           "lakecolor": "white",
           "landcolor": "#E5ECF6",
           "showlakes": true,
           "showland": true,
           "subunitcolor": "white"
          },
          "hoverlabel": {
           "align": "left"
          },
          "hovermode": "closest",
          "mapbox": {
           "style": "light"
          },
          "paper_bgcolor": "white",
          "plot_bgcolor": "#E5ECF6",
          "polar": {
           "angularaxis": {
            "gridcolor": "white",
            "linecolor": "white",
            "ticks": ""
           },
           "bgcolor": "#E5ECF6",
           "radialaxis": {
            "gridcolor": "white",
            "linecolor": "white",
            "ticks": ""
           }
          },
          "scene": {
           "xaxis": {
            "backgroundcolor": "#E5ECF6",
            "gridcolor": "white",
            "gridwidth": 2,
            "linecolor": "white",
            "showbackground": true,
            "ticks": "",
            "zerolinecolor": "white"
           },
           "yaxis": {
            "backgroundcolor": "#E5ECF6",
            "gridcolor": "white",
            "gridwidth": 2,
            "linecolor": "white",
            "showbackground": true,
            "ticks": "",
            "zerolinecolor": "white"
           },
           "zaxis": {
            "backgroundcolor": "#E5ECF6",
            "gridcolor": "white",
            "gridwidth": 2,
            "linecolor": "white",
            "showbackground": true,
            "ticks": "",
            "zerolinecolor": "white"
           }
          },
          "shapedefaults": {
           "line": {
            "color": "#2a3f5f"
           }
          },
          "ternary": {
           "aaxis": {
            "gridcolor": "white",
            "linecolor": "white",
            "ticks": ""
           },
           "baxis": {
            "gridcolor": "white",
            "linecolor": "white",
            "ticks": ""
           },
           "bgcolor": "#E5ECF6",
           "caxis": {
            "gridcolor": "white",
            "linecolor": "white",
            "ticks": ""
           }
          },
          "title": {
           "x": 0.05
          },
          "xaxis": {
           "automargin": true,
           "gridcolor": "white",
           "linecolor": "white",
           "ticks": "",
           "title": {
            "standoff": 15
           },
           "zerolinecolor": "white",
           "zerolinewidth": 2
          },
          "yaxis": {
           "automargin": true,
           "gridcolor": "white",
           "linecolor": "white",
           "ticks": "",
           "title": {
            "standoff": 15
           },
           "zerolinecolor": "white",
           "zerolinewidth": 2
          }
         }
        }
       }
      }
     },
     "metadata": {},
     "output_type": "display_data"
    }
   ],
   "source": [
    "f = decoder.plot_signal_from_id('18DAF218',[0,12,98,5,31], 'SIG_BE_1', return_fig=True)\n",
    "f['data'][0]['mode'] = 'lines+markers'\n",
    "f.show()"
   ]
  },
  {
   "cell_type": "code",
   "execution_count": 32,
   "id": "49870194",
   "metadata": {},
   "outputs": [
    {
     "data": {
      "application/vnd.plotly.v1+json": {
       "config": {
        "plotlyServerURL": "https://plot.ly"
       },
       "data": [
        {
         "marker": {
          "color": "black"
         },
         "name": "Bit Flip Probability",
         "opacity": 0.7,
         "type": "bar",
         "x": {
          "bdata": "AAABAAIAAwAEAAUABgAHAAgACQAKAAsADAANAA4ADwAQABEAEgATABQAFQAWABcAGAAZABoAGwAcAB0AHgAfACAAIQAiACMAJAAlACYAJwAoACkAKgArACwALQAuAC8AMAAxADIAMwA0ADUANgA3ADgAOQA6ADsAPAA9AD4APwBAAEEAQgBDAEQARQBGAEcASABJAEoASwBMAE0ATgBPAFAAUQBSAFMAVABVAFYAVwBYAFkAWgBbAFwAXQBeAF8AYABhAGIAYwBkAGUAZgBnAGgAaQBqAGsAbABtAG4AbwBwAHEAcgBzAHQAdQB2AHcAeAB5AHoAewB8AH0AfgB/AIAAgQCCAIMAhACFAIYAhwCIAIkAigCLAIwAjQCOAI8AkACRAJIAkwCUAJUAlgCXAJgAmQCaAJsAnACdAJ4AnwCgAKEAogCjAKQApQCmAKcAqACpAKoAqwCsAK0ArgCvALAAsQCyALMAtAC1ALYAtwC4ALkAugC7ALwAvQC+AL8AwADBAMIAwwDEAMUAxgDHAMgAyQDKAMsAzADNAM4AzwDQANEA0gDTANQA1QDWANcA2ADZANoA2wDcAN0A3gDfAOAA4QDiAOMA5ADlAOYA5wDoAOkA6gDrAOwA7QDuAO8A8ADxAPIA8wD0APUA9gD3APgA+QD6APsA/AD9AP4A/wA=",
          "dtype": "i2"
         },
         "y": {
          "bdata": "AAAAAAAAAAAAAAAAAAAAAAAAAAAAAAAAAAAAAAAAAAAAAAAAAAAAAAAAAAAAAAAAAAAAAAAAAAAAAAAAAAAAAAAAAAAAAAAAAAAAAAAAAAAAAAAAAAAAAAAAAAAAAAAAAAAAAAAAAAAAAAAAAAAAAAAAAAAAAAAAAAAAAAAAAAAAAAAAAAAAAAAAAAAAAAAAAAAAAAAAAAAAAAAAAAAAAAAAAAAAAAAAAAAAAAAAAAAAAAAAAAAAAAAAAAAAAAAAAAAAAAAAAAAAAAAAAAAAAAAAAAAAAAAAAAAAAAAAAAAAAAAAAAAAAAAAAAAAAAAAAAAAAAAAAAAAAAAAAAAAAAAAAAAAAAAAAAAAAAAAAAAAAAAAAAAAAAAAAAAAAAAAAAAAAAAAAAAAAAAAAAAAAAAAAAAAAAAAAAAAAAAAAAAAAAAAAAAAAAAAAAAAAAAAAAAAAAAAAAAAAAAAAAAAAAAAAAAAAAAAAAAAAAAAAAAAAAAAAAAAAAAAAAAAAAAAAAAAAAAAAAAAAAAAAAAAAAAAAAAAAAAAAAAAAAAAAAAAAAAAAAAAAAAAAAAAAAAAAAAAAAAAAACjYFGwKFiEP6NgUbAoWJQ/lZhKTCWmoj+wKFgULAq2P/QQegg9hL4/i4JFwaJgwT+jYFGwKFjEP612VjurncU/yAZkA7IByT8AAAAAAAAAAAAAAAAAAAAAAAAAAAAAAAAAAAAAAAAAAAAAAAAAAAAAAAAAAAAAAAAAAAAAAAAAAAAAAAAAAAAAAAAAAAAAAAAAAAAAAAAAAAAAAAAAAAAAAAAAAAAAAAAAAAAAAAAAAAAAAAAAAAAAAAAAAAAAAAAAAAAAAAAAAAAAAAAAAAAAAAAAAAAAAACjYFGwKFiEP9mAbEA2IIs/t4xbxi3jtj++8F54L7y3P5LmSHOkOcI/xVRiKjGVuD8AAAAAAAAAAAAAAAAAAAAAAAAAAAAAAAAAAAAAAAAAAAAAAAAAAAAA2YBsQDYgez/0EHoIPYSeP4jQQ+gh9LA/t4xbxi3jtj/trHZWO6u9P5lKTCWmEsM/nPxN/iZ/wz+02lntrHbGP5+uT9en68M/mUpMJaYSwz+c/E3+Jn/DPwAAAAAAAAAAAAAAAAAAAAAAAAAAAAAAAAAAAAAAAAAAAAAAAAAAAAAAAAAAAAAAAAAAAAAAAAAAAAAAAAAAAAAAAAAAAAAAAAAAAAAAAAAAAAAAAAAAAAAAAAAAAAAAAAAAAAAAAAAAAAAAAAAAAAAAAAAAAAAAAAAAAAAAAAAAAAAAAAAAAAAAAAAAAAAAAAAAAAAAAAAAAAAAAAAAAAAAAAAAAAAAAAAAAAAAAAAAAAAAAAAAAAAAAAAAAAAAAAAAAAAAAAAAAAAAAAAAAAAAAAAAAAAAAAAAAAAAAAAAAAAAAAAAAACI0EPoIfSgP9mAbEA2IKs/sChYFCwKtj+wKFgULAq2P/QQegg9hL4/jjRHmiPNwT+BbEA2IBvAP4jQQ+gh9MA/50hzpDnSvD/0EHoIPYS+P440R5ojzcE/AAAAAAAAAAAAAAAAAAAAAAAAAAAAAAAAAAAAAAAAAAAAAAAAAAAAAAAAAAAAAAAAAAAAAAAAAAAAAAAAAAAAAAAAAAAAAAAAAAAAAAAAAAAAAAAAAAAAAAAAAAAAAAAAAAAAAAAAAAAAAAAAAAAAAAAAAAAAAAAAAAAAAAAAAAAAAAAAAAAAAAAAAAAAAAAAAAAAAAAAAAAAAAAAAAAAAAAAAAAAAAAAAAAAAAAAAACI0EPoIfSgP77wXngvvKc/lZhKTCWmsj/nSHOkOdK8P6NgUbAoWMQ/7ax2VjurzT+ZSkwlphLTP5z8Tf4mf9M/tNpZ7ax21j+02lntrHbWPwAAAAAAAAAAAAAAAAAAAAAAAAAAAAAAAAAAAAAAAAAAAAAAAAAAAADZgGxANiCLP+dIc6Q50qw/y7hl3DJuuT+frk/Xp+vDP612VjurncU/waJgUbAoyD/LuGXcMm7JP8GiYFGwKMg/tNpZ7ax2xj+tdlY7q53FP9mAbEA2IMs/AAAAAAAAAAAAAAAAAAAAAAAAAAAAAAAAAAAAAAAAAAAAAAAAAAAAANmAbEA2IHs/o2BRsChYlD++8F54L7ynP8u4Zdwybrk/0hxpjjRHyj+tdlY7q53VP9mAbEA2INs/2YBsQDYg2z/nSHOkOdLcP9IcaY40R9o/6vp0fbo+3T8AAAAAAAAAAAAAAAAAAAAAAAAAAAAAAAAAAAAAAAAAAAAAAAAAAAAAAAAAAAAAAAAAAAAAAAAAAAAAAAAAAAAAAAAAAAAAAAAAAAAAAAAAAAAAAAAAAAAAAAAAAAAAAAAAAAAAAAAAAAAAAAAAAAAAAAAAAAAAAAAAAAAAAAAAAAAAAAAAAAAAAAAAAAAAAAAAAAAAAAAAAAAAAAAAAAAAAAAAAAAAAAAAAAAAAAAAAAAAAAAAAAAAAAAAAAAAAAAAAAAAAAAAAAAAAAAAAAAAAAAAAAAAAAAAAAAAAAAAAAAAAAAAAAAAAAAAAAAAAAAAAAAAAAAAAAAAAAAAAAAAAAAAAAAAAAAAAAAAAAAAAAAAAAAAAAAAAAAAAAAAAAAAAAAAAAAAAAAAAAAAAAAAAAAAAAAAAAAAAAAAAAAAAAAAAAAAAAAAAAAAAAAAAAAAAAAAAAAAAAAAAAAAAAAAAAAAAAAAAAAAAAAAAAAAAAAAAAAAAAAAAAAAAAAAAAA=",
          "dtype": "f8"
         }
        }
       ],
       "layout": {
        "annotations": [
         {
          "font": {
           "size": 10
          },
          "showarrow": false,
          "text": "Byte 0",
          "x": 3.5,
          "xanchor": "center",
          "xref": "x",
          "y": 1,
          "yanchor": "bottom",
          "yref": "y domain"
         },
         {
          "font": {
           "size": 10
          },
          "showarrow": false,
          "text": "Byte 1",
          "x": 11.5,
          "xanchor": "center",
          "xref": "x",
          "y": 1,
          "yanchor": "bottom",
          "yref": "y domain"
         },
         {
          "font": {
           "size": 10
          },
          "showarrow": false,
          "text": "Byte 2",
          "x": 19.5,
          "xanchor": "center",
          "xref": "x",
          "y": 1,
          "yanchor": "bottom",
          "yref": "y domain"
         },
         {
          "font": {
           "size": 10
          },
          "showarrow": false,
          "text": "Byte 3",
          "x": 27.5,
          "xanchor": "center",
          "xref": "x",
          "y": 1,
          "yanchor": "bottom",
          "yref": "y domain"
         },
         {
          "font": {
           "size": 10
          },
          "showarrow": false,
          "text": "Byte 4",
          "x": 35.5,
          "xanchor": "center",
          "xref": "x",
          "y": 1,
          "yanchor": "bottom",
          "yref": "y domain"
         },
         {
          "font": {
           "size": 10
          },
          "showarrow": false,
          "text": "Byte 5",
          "x": 43.5,
          "xanchor": "center",
          "xref": "x",
          "y": 1,
          "yanchor": "bottom",
          "yref": "y domain"
         },
         {
          "font": {
           "size": 10
          },
          "showarrow": false,
          "text": "Byte 6",
          "x": 51.5,
          "xanchor": "center",
          "xref": "x",
          "y": 1,
          "yanchor": "bottom",
          "yref": "y domain"
         },
         {
          "font": {
           "size": 10
          },
          "showarrow": false,
          "text": "Byte 7",
          "x": 59.5,
          "xanchor": "center",
          "xref": "x",
          "y": 1,
          "yanchor": "bottom",
          "yref": "y domain"
         },
         {
          "font": {
           "size": 10
          },
          "showarrow": false,
          "text": "Byte 8",
          "x": 67.5,
          "xanchor": "center",
          "xref": "x",
          "y": 1,
          "yanchor": "bottom",
          "yref": "y domain"
         },
         {
          "font": {
           "size": 10
          },
          "showarrow": false,
          "text": "Byte 9",
          "x": 75.5,
          "xanchor": "center",
          "xref": "x",
          "y": 1,
          "yanchor": "bottom",
          "yref": "y domain"
         },
         {
          "font": {
           "size": 10
          },
          "showarrow": false,
          "text": "Byte 10",
          "x": 83.5,
          "xanchor": "center",
          "xref": "x",
          "y": 1,
          "yanchor": "bottom",
          "yref": "y domain"
         },
         {
          "font": {
           "size": 10
          },
          "showarrow": false,
          "text": "Byte 11",
          "x": 91.5,
          "xanchor": "center",
          "xref": "x",
          "y": 1,
          "yanchor": "bottom",
          "yref": "y domain"
         },
         {
          "font": {
           "size": 10
          },
          "showarrow": false,
          "text": "Byte 12",
          "x": 99.5,
          "xanchor": "center",
          "xref": "x",
          "y": 1,
          "yanchor": "bottom",
          "yref": "y domain"
         },
         {
          "font": {
           "size": 10
          },
          "showarrow": false,
          "text": "Byte 13",
          "x": 107.5,
          "xanchor": "center",
          "xref": "x",
          "y": 1,
          "yanchor": "bottom",
          "yref": "y domain"
         },
         {
          "font": {
           "size": 10
          },
          "showarrow": false,
          "text": "Byte 14",
          "x": 115.5,
          "xanchor": "center",
          "xref": "x",
          "y": 1,
          "yanchor": "bottom",
          "yref": "y domain"
         },
         {
          "font": {
           "size": 10
          },
          "showarrow": false,
          "text": "Byte 15",
          "x": 123.5,
          "xanchor": "center",
          "xref": "x",
          "y": 1,
          "yanchor": "bottom",
          "yref": "y domain"
         },
         {
          "font": {
           "size": 10
          },
          "showarrow": false,
          "text": "Byte 16",
          "x": 131.5,
          "xanchor": "center",
          "xref": "x",
          "y": 1,
          "yanchor": "bottom",
          "yref": "y domain"
         },
         {
          "font": {
           "size": 10
          },
          "showarrow": false,
          "text": "Byte 17",
          "x": 139.5,
          "xanchor": "center",
          "xref": "x",
          "y": 1,
          "yanchor": "bottom",
          "yref": "y domain"
         },
         {
          "font": {
           "size": 10
          },
          "showarrow": false,
          "text": "Byte 18",
          "x": 147.5,
          "xanchor": "center",
          "xref": "x",
          "y": 1,
          "yanchor": "bottom",
          "yref": "y domain"
         },
         {
          "font": {
           "size": 10
          },
          "showarrow": false,
          "text": "Byte 19",
          "x": 155.5,
          "xanchor": "center",
          "xref": "x",
          "y": 1,
          "yanchor": "bottom",
          "yref": "y domain"
         },
         {
          "font": {
           "size": 10
          },
          "showarrow": false,
          "text": "Byte 20",
          "x": 163.5,
          "xanchor": "center",
          "xref": "x",
          "y": 1,
          "yanchor": "bottom",
          "yref": "y domain"
         },
         {
          "font": {
           "size": 10
          },
          "showarrow": false,
          "text": "Byte 21",
          "x": 171.5,
          "xanchor": "center",
          "xref": "x",
          "y": 1,
          "yanchor": "bottom",
          "yref": "y domain"
         },
         {
          "font": {
           "size": 10
          },
          "showarrow": false,
          "text": "Byte 22",
          "x": 179.5,
          "xanchor": "center",
          "xref": "x",
          "y": 1,
          "yanchor": "bottom",
          "yref": "y domain"
         },
         {
          "font": {
           "size": 10
          },
          "showarrow": false,
          "text": "Byte 23",
          "x": 187.5,
          "xanchor": "center",
          "xref": "x",
          "y": 1,
          "yanchor": "bottom",
          "yref": "y domain"
         },
         {
          "font": {
           "size": 10
          },
          "showarrow": false,
          "text": "Byte 24",
          "x": 195.5,
          "xanchor": "center",
          "xref": "x",
          "y": 1,
          "yanchor": "bottom",
          "yref": "y domain"
         },
         {
          "font": {
           "size": 10
          },
          "showarrow": false,
          "text": "Byte 25",
          "x": 203.5,
          "xanchor": "center",
          "xref": "x",
          "y": 1,
          "yanchor": "bottom",
          "yref": "y domain"
         },
         {
          "font": {
           "size": 10
          },
          "showarrow": false,
          "text": "Byte 26",
          "x": 211.5,
          "xanchor": "center",
          "xref": "x",
          "y": 1,
          "yanchor": "bottom",
          "yref": "y domain"
         },
         {
          "font": {
           "size": 10
          },
          "showarrow": false,
          "text": "Byte 27",
          "x": 219.5,
          "xanchor": "center",
          "xref": "x",
          "y": 1,
          "yanchor": "bottom",
          "yref": "y domain"
         },
         {
          "font": {
           "size": 10
          },
          "showarrow": false,
          "text": "Byte 28",
          "x": 227.5,
          "xanchor": "center",
          "xref": "x",
          "y": 1,
          "yanchor": "bottom",
          "yref": "y domain"
         },
         {
          "font": {
           "size": 10
          },
          "showarrow": false,
          "text": "Byte 29",
          "x": 235.5,
          "xanchor": "center",
          "xref": "x",
          "y": 1,
          "yanchor": "bottom",
          "yref": "y domain"
         },
         {
          "font": {
           "size": 10
          },
          "showarrow": false,
          "text": "Byte 30",
          "x": 243.5,
          "xanchor": "center",
          "xref": "x",
          "y": 1,
          "yanchor": "bottom",
          "yref": "y domain"
         },
         {
          "font": {
           "size": 10
          },
          "showarrow": false,
          "text": "Byte 31",
          "x": 251.5,
          "xanchor": "center",
          "xref": "x",
          "y": 1,
          "yanchor": "bottom",
          "yref": "y domain"
         },
         {
          "showarrow": false,
          "text": "SIG_BE_1",
          "x": 54.5,
          "xanchor": "left",
          "xref": "x",
          "y": 1,
          "yanchor": "top",
          "yref": "y domain"
         },
         {
          "showarrow": false,
          "text": "SIG_BE_3",
          "x": 81.5,
          "xanchor": "left",
          "xref": "x",
          "y": 1,
          "yanchor": "top",
          "yref": "y domain"
         },
         {
          "showarrow": false,
          "text": "SIG_BE_5",
          "x": 92.5,
          "xanchor": "left",
          "xref": "x",
          "y": 1,
          "yanchor": "top",
          "yref": "y domain"
         },
         {
          "showarrow": false,
          "text": "SIG_BE_7",
          "x": 132.5,
          "xanchor": "left",
          "xref": "x",
          "y": 1,
          "yanchor": "top",
          "yref": "y domain"
         },
         {
          "showarrow": false,
          "text": "SIG_BE_9",
          "x": 165.5,
          "xanchor": "left",
          "xref": "x",
          "y": 1,
          "yanchor": "top",
          "yref": "y domain"
         },
         {
          "showarrow": false,
          "text": "SIG_BE_11",
          "x": 180.5,
          "xanchor": "left",
          "xref": "x",
          "y": 1,
          "yanchor": "top",
          "yref": "y domain"
         },
         {
          "showarrow": false,
          "text": "SIG_BE_13",
          "x": 196.5,
          "xanchor": "left",
          "xref": "x",
          "y": 1,
          "yanchor": "top",
          "yref": "y domain"
         }
        ],
        "legend": {
         "font": {
          "size": 8
         },
         "orientation": "h",
         "x": 0.5,
         "xanchor": "center",
         "y": -0.2
        },
        "shapes": [
         {
          "line": {
           "color": "gray",
           "dash": "dash",
           "width": 1
          },
          "type": "line",
          "x0": 7.5,
          "x1": 7.5,
          "y0": 0,
          "y1": 0.47980132450331126
         },
         {
          "line": {
           "color": "gray",
           "dash": "dash",
           "width": 1
          },
          "type": "line",
          "x0": 15.5,
          "x1": 15.5,
          "y0": 0,
          "y1": 0.47980132450331126
         },
         {
          "line": {
           "color": "gray",
           "dash": "dash",
           "width": 1
          },
          "type": "line",
          "x0": 23.5,
          "x1": 23.5,
          "y0": 0,
          "y1": 0.47980132450331126
         },
         {
          "line": {
           "color": "gray",
           "dash": "dash",
           "width": 1
          },
          "type": "line",
          "x0": 31.5,
          "x1": 31.5,
          "y0": 0,
          "y1": 0.47980132450331126
         },
         {
          "line": {
           "color": "gray",
           "dash": "dash",
           "width": 1
          },
          "type": "line",
          "x0": 39.5,
          "x1": 39.5,
          "y0": 0,
          "y1": 0.47980132450331126
         },
         {
          "line": {
           "color": "gray",
           "dash": "dash",
           "width": 1
          },
          "type": "line",
          "x0": 47.5,
          "x1": 47.5,
          "y0": 0,
          "y1": 0.47980132450331126
         },
         {
          "line": {
           "color": "gray",
           "dash": "dash",
           "width": 1
          },
          "type": "line",
          "x0": 55.5,
          "x1": 55.5,
          "y0": 0,
          "y1": 0.47980132450331126
         },
         {
          "line": {
           "color": "gray",
           "dash": "dash",
           "width": 1
          },
          "type": "line",
          "x0": 63.5,
          "x1": 63.5,
          "y0": 0,
          "y1": 0.47980132450331126
         },
         {
          "line": {
           "color": "gray",
           "dash": "dash",
           "width": 1
          },
          "type": "line",
          "x0": 71.5,
          "x1": 71.5,
          "y0": 0,
          "y1": 0.47980132450331126
         },
         {
          "line": {
           "color": "gray",
           "dash": "dash",
           "width": 1
          },
          "type": "line",
          "x0": 79.5,
          "x1": 79.5,
          "y0": 0,
          "y1": 0.47980132450331126
         },
         {
          "line": {
           "color": "gray",
           "dash": "dash",
           "width": 1
          },
          "type": "line",
          "x0": 87.5,
          "x1": 87.5,
          "y0": 0,
          "y1": 0.47980132450331126
         },
         {
          "line": {
           "color": "gray",
           "dash": "dash",
           "width": 1
          },
          "type": "line",
          "x0": 95.5,
          "x1": 95.5,
          "y0": 0,
          "y1": 0.47980132450331126
         },
         {
          "line": {
           "color": "gray",
           "dash": "dash",
           "width": 1
          },
          "type": "line",
          "x0": 103.5,
          "x1": 103.5,
          "y0": 0,
          "y1": 0.47980132450331126
         },
         {
          "line": {
           "color": "gray",
           "dash": "dash",
           "width": 1
          },
          "type": "line",
          "x0": 111.5,
          "x1": 111.5,
          "y0": 0,
          "y1": 0.47980132450331126
         },
         {
          "line": {
           "color": "gray",
           "dash": "dash",
           "width": 1
          },
          "type": "line",
          "x0": 119.5,
          "x1": 119.5,
          "y0": 0,
          "y1": 0.47980132450331126
         },
         {
          "line": {
           "color": "gray",
           "dash": "dash",
           "width": 1
          },
          "type": "line",
          "x0": 127.5,
          "x1": 127.5,
          "y0": 0,
          "y1": 0.47980132450331126
         },
         {
          "line": {
           "color": "gray",
           "dash": "dash",
           "width": 1
          },
          "type": "line",
          "x0": 135.5,
          "x1": 135.5,
          "y0": 0,
          "y1": 0.47980132450331126
         },
         {
          "line": {
           "color": "gray",
           "dash": "dash",
           "width": 1
          },
          "type": "line",
          "x0": 143.5,
          "x1": 143.5,
          "y0": 0,
          "y1": 0.47980132450331126
         },
         {
          "line": {
           "color": "gray",
           "dash": "dash",
           "width": 1
          },
          "type": "line",
          "x0": 151.5,
          "x1": 151.5,
          "y0": 0,
          "y1": 0.47980132450331126
         },
         {
          "line": {
           "color": "gray",
           "dash": "dash",
           "width": 1
          },
          "type": "line",
          "x0": 159.5,
          "x1": 159.5,
          "y0": 0,
          "y1": 0.47980132450331126
         },
         {
          "line": {
           "color": "gray",
           "dash": "dash",
           "width": 1
          },
          "type": "line",
          "x0": 167.5,
          "x1": 167.5,
          "y0": 0,
          "y1": 0.47980132450331126
         },
         {
          "line": {
           "color": "gray",
           "dash": "dash",
           "width": 1
          },
          "type": "line",
          "x0": 175.5,
          "x1": 175.5,
          "y0": 0,
          "y1": 0.47980132450331126
         },
         {
          "line": {
           "color": "gray",
           "dash": "dash",
           "width": 1
          },
          "type": "line",
          "x0": 183.5,
          "x1": 183.5,
          "y0": 0,
          "y1": 0.47980132450331126
         },
         {
          "line": {
           "color": "gray",
           "dash": "dash",
           "width": 1
          },
          "type": "line",
          "x0": 191.5,
          "x1": 191.5,
          "y0": 0,
          "y1": 0.47980132450331126
         },
         {
          "line": {
           "color": "gray",
           "dash": "dash",
           "width": 1
          },
          "type": "line",
          "x0": 199.5,
          "x1": 199.5,
          "y0": 0,
          "y1": 0.47980132450331126
         },
         {
          "line": {
           "color": "gray",
           "dash": "dash",
           "width": 1
          },
          "type": "line",
          "x0": 207.5,
          "x1": 207.5,
          "y0": 0,
          "y1": 0.47980132450331126
         },
         {
          "line": {
           "color": "gray",
           "dash": "dash",
           "width": 1
          },
          "type": "line",
          "x0": 215.5,
          "x1": 215.5,
          "y0": 0,
          "y1": 0.47980132450331126
         },
         {
          "line": {
           "color": "gray",
           "dash": "dash",
           "width": 1
          },
          "type": "line",
          "x0": 223.5,
          "x1": 223.5,
          "y0": 0,
          "y1": 0.47980132450331126
         },
         {
          "line": {
           "color": "gray",
           "dash": "dash",
           "width": 1
          },
          "type": "line",
          "x0": 231.5,
          "x1": 231.5,
          "y0": 0,
          "y1": 0.47980132450331126
         },
         {
          "line": {
           "color": "gray",
           "dash": "dash",
           "width": 1
          },
          "type": "line",
          "x0": 239.5,
          "x1": 239.5,
          "y0": 0,
          "y1": 0.47980132450331126
         },
         {
          "line": {
           "color": "gray",
           "dash": "dash",
           "width": 1
          },
          "type": "line",
          "x0": 247.5,
          "x1": 247.5,
          "y0": 0,
          "y1": 0.47980132450331126
         },
         {
          "line": {
           "color": "black",
           "width": 1
          },
          "opacity": 0,
          "type": "rect",
          "x0": -0.5,
          "x1": 7.5,
          "xref": "x",
          "y0": 0,
          "y1": 1,
          "yref": "y domain"
         },
         {
          "line": {
           "color": "black",
           "width": 1
          },
          "opacity": 0,
          "type": "rect",
          "x0": 7.5,
          "x1": 15.5,
          "xref": "x",
          "y0": 0,
          "y1": 1,
          "yref": "y domain"
         },
         {
          "line": {
           "color": "black",
           "width": 1
          },
          "opacity": 0,
          "type": "rect",
          "x0": 15.5,
          "x1": 23.5,
          "xref": "x",
          "y0": 0,
          "y1": 1,
          "yref": "y domain"
         },
         {
          "line": {
           "color": "black",
           "width": 1
          },
          "opacity": 0,
          "type": "rect",
          "x0": 23.5,
          "x1": 31.5,
          "xref": "x",
          "y0": 0,
          "y1": 1,
          "yref": "y domain"
         },
         {
          "line": {
           "color": "black",
           "width": 1
          },
          "opacity": 0,
          "type": "rect",
          "x0": 31.5,
          "x1": 39.5,
          "xref": "x",
          "y0": 0,
          "y1": 1,
          "yref": "y domain"
         },
         {
          "line": {
           "color": "black",
           "width": 1
          },
          "opacity": 0,
          "type": "rect",
          "x0": 39.5,
          "x1": 47.5,
          "xref": "x",
          "y0": 0,
          "y1": 1,
          "yref": "y domain"
         },
         {
          "line": {
           "color": "black",
           "width": 1
          },
          "opacity": 0,
          "type": "rect",
          "x0": 47.5,
          "x1": 55.5,
          "xref": "x",
          "y0": 0,
          "y1": 1,
          "yref": "y domain"
         },
         {
          "line": {
           "color": "black",
           "width": 1
          },
          "opacity": 0,
          "type": "rect",
          "x0": 55.5,
          "x1": 63.5,
          "xref": "x",
          "y0": 0,
          "y1": 1,
          "yref": "y domain"
         },
         {
          "line": {
           "color": "black",
           "width": 1
          },
          "opacity": 0,
          "type": "rect",
          "x0": 63.5,
          "x1": 71.5,
          "xref": "x",
          "y0": 0,
          "y1": 1,
          "yref": "y domain"
         },
         {
          "line": {
           "color": "black",
           "width": 1
          },
          "opacity": 0,
          "type": "rect",
          "x0": 71.5,
          "x1": 79.5,
          "xref": "x",
          "y0": 0,
          "y1": 1,
          "yref": "y domain"
         },
         {
          "line": {
           "color": "black",
           "width": 1
          },
          "opacity": 0,
          "type": "rect",
          "x0": 79.5,
          "x1": 87.5,
          "xref": "x",
          "y0": 0,
          "y1": 1,
          "yref": "y domain"
         },
         {
          "line": {
           "color": "black",
           "width": 1
          },
          "opacity": 0,
          "type": "rect",
          "x0": 87.5,
          "x1": 95.5,
          "xref": "x",
          "y0": 0,
          "y1": 1,
          "yref": "y domain"
         },
         {
          "line": {
           "color": "black",
           "width": 1
          },
          "opacity": 0,
          "type": "rect",
          "x0": 95.5,
          "x1": 103.5,
          "xref": "x",
          "y0": 0,
          "y1": 1,
          "yref": "y domain"
         },
         {
          "line": {
           "color": "black",
           "width": 1
          },
          "opacity": 0,
          "type": "rect",
          "x0": 103.5,
          "x1": 111.5,
          "xref": "x",
          "y0": 0,
          "y1": 1,
          "yref": "y domain"
         },
         {
          "line": {
           "color": "black",
           "width": 1
          },
          "opacity": 0,
          "type": "rect",
          "x0": 111.5,
          "x1": 119.5,
          "xref": "x",
          "y0": 0,
          "y1": 1,
          "yref": "y domain"
         },
         {
          "line": {
           "color": "black",
           "width": 1
          },
          "opacity": 0,
          "type": "rect",
          "x0": 119.5,
          "x1": 127.5,
          "xref": "x",
          "y0": 0,
          "y1": 1,
          "yref": "y domain"
         },
         {
          "line": {
           "color": "black",
           "width": 1
          },
          "opacity": 0,
          "type": "rect",
          "x0": 127.5,
          "x1": 135.5,
          "xref": "x",
          "y0": 0,
          "y1": 1,
          "yref": "y domain"
         },
         {
          "line": {
           "color": "black",
           "width": 1
          },
          "opacity": 0,
          "type": "rect",
          "x0": 135.5,
          "x1": 143.5,
          "xref": "x",
          "y0": 0,
          "y1": 1,
          "yref": "y domain"
         },
         {
          "line": {
           "color": "black",
           "width": 1
          },
          "opacity": 0,
          "type": "rect",
          "x0": 143.5,
          "x1": 151.5,
          "xref": "x",
          "y0": 0,
          "y1": 1,
          "yref": "y domain"
         },
         {
          "line": {
           "color": "black",
           "width": 1
          },
          "opacity": 0,
          "type": "rect",
          "x0": 151.5,
          "x1": 159.5,
          "xref": "x",
          "y0": 0,
          "y1": 1,
          "yref": "y domain"
         },
         {
          "line": {
           "color": "black",
           "width": 1
          },
          "opacity": 0,
          "type": "rect",
          "x0": 159.5,
          "x1": 167.5,
          "xref": "x",
          "y0": 0,
          "y1": 1,
          "yref": "y domain"
         },
         {
          "line": {
           "color": "black",
           "width": 1
          },
          "opacity": 0,
          "type": "rect",
          "x0": 167.5,
          "x1": 175.5,
          "xref": "x",
          "y0": 0,
          "y1": 1,
          "yref": "y domain"
         },
         {
          "line": {
           "color": "black",
           "width": 1
          },
          "opacity": 0,
          "type": "rect",
          "x0": 175.5,
          "x1": 183.5,
          "xref": "x",
          "y0": 0,
          "y1": 1,
          "yref": "y domain"
         },
         {
          "line": {
           "color": "black",
           "width": 1
          },
          "opacity": 0,
          "type": "rect",
          "x0": 183.5,
          "x1": 191.5,
          "xref": "x",
          "y0": 0,
          "y1": 1,
          "yref": "y domain"
         },
         {
          "line": {
           "color": "black",
           "width": 1
          },
          "opacity": 0,
          "type": "rect",
          "x0": 191.5,
          "x1": 199.5,
          "xref": "x",
          "y0": 0,
          "y1": 1,
          "yref": "y domain"
         },
         {
          "line": {
           "color": "black",
           "width": 1
          },
          "opacity": 0,
          "type": "rect",
          "x0": 199.5,
          "x1": 207.5,
          "xref": "x",
          "y0": 0,
          "y1": 1,
          "yref": "y domain"
         },
         {
          "line": {
           "color": "black",
           "width": 1
          },
          "opacity": 0,
          "type": "rect",
          "x0": 207.5,
          "x1": 215.5,
          "xref": "x",
          "y0": 0,
          "y1": 1,
          "yref": "y domain"
         },
         {
          "line": {
           "color": "black",
           "width": 1
          },
          "opacity": 0,
          "type": "rect",
          "x0": 215.5,
          "x1": 223.5,
          "xref": "x",
          "y0": 0,
          "y1": 1,
          "yref": "y domain"
         },
         {
          "line": {
           "color": "black",
           "width": 1
          },
          "opacity": 0,
          "type": "rect",
          "x0": 223.5,
          "x1": 231.5,
          "xref": "x",
          "y0": 0,
          "y1": 1,
          "yref": "y domain"
         },
         {
          "line": {
           "color": "black",
           "width": 1
          },
          "opacity": 0,
          "type": "rect",
          "x0": 231.5,
          "x1": 239.5,
          "xref": "x",
          "y0": 0,
          "y1": 1,
          "yref": "y domain"
         },
         {
          "line": {
           "color": "black",
           "width": 1
          },
          "opacity": 0,
          "type": "rect",
          "x0": 239.5,
          "x1": 247.5,
          "xref": "x",
          "y0": 0,
          "y1": 1,
          "yref": "y domain"
         },
         {
          "line": {
           "color": "black",
           "width": 1
          },
          "opacity": 0,
          "type": "rect",
          "x0": 247.5,
          "x1": 255.5,
          "xref": "x",
          "y0": 0,
          "y1": 1,
          "yref": "y domain"
         },
         {
          "fillcolor": "#79A8DD",
          "layer": "below",
          "line": {
           "width": 0
          },
          "opacity": 0.2,
          "type": "rect",
          "x0": 54.5,
          "x1": 63.5,
          "xref": "x",
          "y0": 0,
          "y1": 1,
          "yref": "y domain"
         },
         {
          "fillcolor": "#DD79DA",
          "layer": "below",
          "line": {
           "width": 0
          },
          "opacity": 0.2,
          "type": "rect",
          "x0": 81.5,
          "x1": 87.5,
          "xref": "x",
          "y0": 0,
          "y1": 1,
          "yref": "y domain"
         },
         {
          "fillcolor": "#DDAE79",
          "layer": "below",
          "line": {
           "width": 0
          },
          "opacity": 0.2,
          "type": "rect",
          "x0": 92.5,
          "x1": 103.5,
          "xref": "x",
          "y0": 0,
          "y1": 1,
          "yref": "y domain"
         },
         {
          "fillcolor": "#79DD7C",
          "layer": "below",
          "line": {
           "width": 0
          },
          "opacity": 0.2,
          "type": "rect",
          "x0": 132.5,
          "x1": 143.5,
          "xref": "x",
          "y0": 0,
          "y1": 1,
          "yref": "y domain"
         },
         {
          "fillcolor": "#79A8DD",
          "layer": "below",
          "line": {
           "width": 0
          },
          "opacity": 0.2,
          "type": "rect",
          "x0": 165.5,
          "x1": 175.5,
          "xref": "x",
          "y0": 0,
          "y1": 1,
          "yref": "y domain"
         },
         {
          "fillcolor": "#DD79DA",
          "layer": "below",
          "line": {
           "width": 0
          },
          "opacity": 0.2,
          "type": "rect",
          "x0": 180.5,
          "x1": 191.5,
          "xref": "x",
          "y0": 0,
          "y1": 1,
          "yref": "y domain"
         },
         {
          "fillcolor": "#DDAE79",
          "layer": "below",
          "line": {
           "width": 0
          },
          "opacity": 0.2,
          "type": "rect",
          "x0": 196.5,
          "x1": 207.5,
          "xref": "x",
          "y0": 0,
          "y1": 1,
          "yref": "y domain"
         }
        ],
        "template": {
         "data": {
          "bar": [
           {
            "error_x": {
             "color": "#2a3f5f"
            },
            "error_y": {
             "color": "#2a3f5f"
            },
            "marker": {
             "line": {
              "color": "#E5ECF6",
              "width": 0.5
             },
             "pattern": {
              "fillmode": "overlay",
              "size": 10,
              "solidity": 0.2
             }
            },
            "type": "bar"
           }
          ],
          "barpolar": [
           {
            "marker": {
             "line": {
              "color": "#E5ECF6",
              "width": 0.5
             },
             "pattern": {
              "fillmode": "overlay",
              "size": 10,
              "solidity": 0.2
             }
            },
            "type": "barpolar"
           }
          ],
          "carpet": [
           {
            "aaxis": {
             "endlinecolor": "#2a3f5f",
             "gridcolor": "white",
             "linecolor": "white",
             "minorgridcolor": "white",
             "startlinecolor": "#2a3f5f"
            },
            "baxis": {
             "endlinecolor": "#2a3f5f",
             "gridcolor": "white",
             "linecolor": "white",
             "minorgridcolor": "white",
             "startlinecolor": "#2a3f5f"
            },
            "type": "carpet"
           }
          ],
          "choropleth": [
           {
            "colorbar": {
             "outlinewidth": 0,
             "ticks": ""
            },
            "type": "choropleth"
           }
          ],
          "contour": [
           {
            "colorbar": {
             "outlinewidth": 0,
             "ticks": ""
            },
            "colorscale": [
             [
              0,
              "#0d0887"
             ],
             [
              0.1111111111111111,
              "#46039f"
             ],
             [
              0.2222222222222222,
              "#7201a8"
             ],
             [
              0.3333333333333333,
              "#9c179e"
             ],
             [
              0.4444444444444444,
              "#bd3786"
             ],
             [
              0.5555555555555556,
              "#d8576b"
             ],
             [
              0.6666666666666666,
              "#ed7953"
             ],
             [
              0.7777777777777778,
              "#fb9f3a"
             ],
             [
              0.8888888888888888,
              "#fdca26"
             ],
             [
              1,
              "#f0f921"
             ]
            ],
            "type": "contour"
           }
          ],
          "contourcarpet": [
           {
            "colorbar": {
             "outlinewidth": 0,
             "ticks": ""
            },
            "type": "contourcarpet"
           }
          ],
          "heatmap": [
           {
            "colorbar": {
             "outlinewidth": 0,
             "ticks": ""
            },
            "colorscale": [
             [
              0,
              "#0d0887"
             ],
             [
              0.1111111111111111,
              "#46039f"
             ],
             [
              0.2222222222222222,
              "#7201a8"
             ],
             [
              0.3333333333333333,
              "#9c179e"
             ],
             [
              0.4444444444444444,
              "#bd3786"
             ],
             [
              0.5555555555555556,
              "#d8576b"
             ],
             [
              0.6666666666666666,
              "#ed7953"
             ],
             [
              0.7777777777777778,
              "#fb9f3a"
             ],
             [
              0.8888888888888888,
              "#fdca26"
             ],
             [
              1,
              "#f0f921"
             ]
            ],
            "type": "heatmap"
           }
          ],
          "histogram": [
           {
            "marker": {
             "pattern": {
              "fillmode": "overlay",
              "size": 10,
              "solidity": 0.2
             }
            },
            "type": "histogram"
           }
          ],
          "histogram2d": [
           {
            "colorbar": {
             "outlinewidth": 0,
             "ticks": ""
            },
            "colorscale": [
             [
              0,
              "#0d0887"
             ],
             [
              0.1111111111111111,
              "#46039f"
             ],
             [
              0.2222222222222222,
              "#7201a8"
             ],
             [
              0.3333333333333333,
              "#9c179e"
             ],
             [
              0.4444444444444444,
              "#bd3786"
             ],
             [
              0.5555555555555556,
              "#d8576b"
             ],
             [
              0.6666666666666666,
              "#ed7953"
             ],
             [
              0.7777777777777778,
              "#fb9f3a"
             ],
             [
              0.8888888888888888,
              "#fdca26"
             ],
             [
              1,
              "#f0f921"
             ]
            ],
            "type": "histogram2d"
           }
          ],
          "histogram2dcontour": [
           {
            "colorbar": {
             "outlinewidth": 0,
             "ticks": ""
            },
            "colorscale": [
             [
              0,
              "#0d0887"
             ],
             [
              0.1111111111111111,
              "#46039f"
             ],
             [
              0.2222222222222222,
              "#7201a8"
             ],
             [
              0.3333333333333333,
              "#9c179e"
             ],
             [
              0.4444444444444444,
              "#bd3786"
             ],
             [
              0.5555555555555556,
              "#d8576b"
             ],
             [
              0.6666666666666666,
              "#ed7953"
             ],
             [
              0.7777777777777778,
              "#fb9f3a"
             ],
             [
              0.8888888888888888,
              "#fdca26"
             ],
             [
              1,
              "#f0f921"
             ]
            ],
            "type": "histogram2dcontour"
           }
          ],
          "mesh3d": [
           {
            "colorbar": {
             "outlinewidth": 0,
             "ticks": ""
            },
            "type": "mesh3d"
           }
          ],
          "parcoords": [
           {
            "line": {
             "colorbar": {
              "outlinewidth": 0,
              "ticks": ""
             }
            },
            "type": "parcoords"
           }
          ],
          "pie": [
           {
            "automargin": true,
            "type": "pie"
           }
          ],
          "scatter": [
           {
            "fillpattern": {
             "fillmode": "overlay",
             "size": 10,
             "solidity": 0.2
            },
            "type": "scatter"
           }
          ],
          "scatter3d": [
           {
            "line": {
             "colorbar": {
              "outlinewidth": 0,
              "ticks": ""
             }
            },
            "marker": {
             "colorbar": {
              "outlinewidth": 0,
              "ticks": ""
             }
            },
            "type": "scatter3d"
           }
          ],
          "scattercarpet": [
           {
            "marker": {
             "colorbar": {
              "outlinewidth": 0,
              "ticks": ""
             }
            },
            "type": "scattercarpet"
           }
          ],
          "scattergeo": [
           {
            "marker": {
             "colorbar": {
              "outlinewidth": 0,
              "ticks": ""
             }
            },
            "type": "scattergeo"
           }
          ],
          "scattergl": [
           {
            "marker": {
             "colorbar": {
              "outlinewidth": 0,
              "ticks": ""
             }
            },
            "type": "scattergl"
           }
          ],
          "scattermap": [
           {
            "marker": {
             "colorbar": {
              "outlinewidth": 0,
              "ticks": ""
             }
            },
            "type": "scattermap"
           }
          ],
          "scattermapbox": [
           {
            "marker": {
             "colorbar": {
              "outlinewidth": 0,
              "ticks": ""
             }
            },
            "type": "scattermapbox"
           }
          ],
          "scatterpolar": [
           {
            "marker": {
             "colorbar": {
              "outlinewidth": 0,
              "ticks": ""
             }
            },
            "type": "scatterpolar"
           }
          ],
          "scatterpolargl": [
           {
            "marker": {
             "colorbar": {
              "outlinewidth": 0,
              "ticks": ""
             }
            },
            "type": "scatterpolargl"
           }
          ],
          "scatterternary": [
           {
            "marker": {
             "colorbar": {
              "outlinewidth": 0,
              "ticks": ""
             }
            },
            "type": "scatterternary"
           }
          ],
          "surface": [
           {
            "colorbar": {
             "outlinewidth": 0,
             "ticks": ""
            },
            "colorscale": [
             [
              0,
              "#0d0887"
             ],
             [
              0.1111111111111111,
              "#46039f"
             ],
             [
              0.2222222222222222,
              "#7201a8"
             ],
             [
              0.3333333333333333,
              "#9c179e"
             ],
             [
              0.4444444444444444,
              "#bd3786"
             ],
             [
              0.5555555555555556,
              "#d8576b"
             ],
             [
              0.6666666666666666,
              "#ed7953"
             ],
             [
              0.7777777777777778,
              "#fb9f3a"
             ],
             [
              0.8888888888888888,
              "#fdca26"
             ],
             [
              1,
              "#f0f921"
             ]
            ],
            "type": "surface"
           }
          ],
          "table": [
           {
            "cells": {
             "fill": {
              "color": "#EBF0F8"
             },
             "line": {
              "color": "white"
             }
            },
            "header": {
             "fill": {
              "color": "#C8D4E3"
             },
             "line": {
              "color": "white"
             }
            },
            "type": "table"
           }
          ]
         },
         "layout": {
          "annotationdefaults": {
           "arrowcolor": "#2a3f5f",
           "arrowhead": 0,
           "arrowwidth": 1
          },
          "autotypenumbers": "strict",
          "coloraxis": {
           "colorbar": {
            "outlinewidth": 0,
            "ticks": ""
           }
          },
          "colorscale": {
           "diverging": [
            [
             0,
             "#8e0152"
            ],
            [
             0.1,
             "#c51b7d"
            ],
            [
             0.2,
             "#de77ae"
            ],
            [
             0.3,
             "#f1b6da"
            ],
            [
             0.4,
             "#fde0ef"
            ],
            [
             0.5,
             "#f7f7f7"
            ],
            [
             0.6,
             "#e6f5d0"
            ],
            [
             0.7,
             "#b8e186"
            ],
            [
             0.8,
             "#7fbc41"
            ],
            [
             0.9,
             "#4d9221"
            ],
            [
             1,
             "#276419"
            ]
           ],
           "sequential": [
            [
             0,
             "#0d0887"
            ],
            [
             0.1111111111111111,
             "#46039f"
            ],
            [
             0.2222222222222222,
             "#7201a8"
            ],
            [
             0.3333333333333333,
             "#9c179e"
            ],
            [
             0.4444444444444444,
             "#bd3786"
            ],
            [
             0.5555555555555556,
             "#d8576b"
            ],
            [
             0.6666666666666666,
             "#ed7953"
            ],
            [
             0.7777777777777778,
             "#fb9f3a"
            ],
            [
             0.8888888888888888,
             "#fdca26"
            ],
            [
             1,
             "#f0f921"
            ]
           ],
           "sequentialminus": [
            [
             0,
             "#0d0887"
            ],
            [
             0.1111111111111111,
             "#46039f"
            ],
            [
             0.2222222222222222,
             "#7201a8"
            ],
            [
             0.3333333333333333,
             "#9c179e"
            ],
            [
             0.4444444444444444,
             "#bd3786"
            ],
            [
             0.5555555555555556,
             "#d8576b"
            ],
            [
             0.6666666666666666,
             "#ed7953"
            ],
            [
             0.7777777777777778,
             "#fb9f3a"
            ],
            [
             0.8888888888888888,
             "#fdca26"
            ],
            [
             1,
             "#f0f921"
            ]
           ]
          },
          "colorway": [
           "#636efa",
           "#EF553B",
           "#00cc96",
           "#ab63fa",
           "#FFA15A",
           "#19d3f3",
           "#FF6692",
           "#B6E880",
           "#FF97FF",
           "#FECB52"
          ],
          "font": {
           "color": "#2a3f5f"
          },
          "geo": {
           "bgcolor": "white",
           "lakecolor": "white",
           "landcolor": "#E5ECF6",
           "showlakes": true,
           "showland": true,
           "subunitcolor": "white"
          },
          "hoverlabel": {
           "align": "left"
          },
          "hovermode": "closest",
          "mapbox": {
           "style": "light"
          },
          "paper_bgcolor": "white",
          "plot_bgcolor": "#E5ECF6",
          "polar": {
           "angularaxis": {
            "gridcolor": "white",
            "linecolor": "white",
            "ticks": ""
           },
           "bgcolor": "#E5ECF6",
           "radialaxis": {
            "gridcolor": "white",
            "linecolor": "white",
            "ticks": ""
           }
          },
          "scene": {
           "xaxis": {
            "backgroundcolor": "#E5ECF6",
            "gridcolor": "white",
            "gridwidth": 2,
            "linecolor": "white",
            "showbackground": true,
            "ticks": "",
            "zerolinecolor": "white"
           },
           "yaxis": {
            "backgroundcolor": "#E5ECF6",
            "gridcolor": "white",
            "gridwidth": 2,
            "linecolor": "white",
            "showbackground": true,
            "ticks": "",
            "zerolinecolor": "white"
           },
           "zaxis": {
            "backgroundcolor": "#E5ECF6",
            "gridcolor": "white",
            "gridwidth": 2,
            "linecolor": "white",
            "showbackground": true,
            "ticks": "",
            "zerolinecolor": "white"
           }
          },
          "shapedefaults": {
           "line": {
            "color": "#2a3f5f"
           }
          },
          "ternary": {
           "aaxis": {
            "gridcolor": "white",
            "linecolor": "white",
            "ticks": ""
           },
           "baxis": {
            "gridcolor": "white",
            "linecolor": "white",
            "ticks": ""
           },
           "bgcolor": "#E5ECF6",
           "caxis": {
            "gridcolor": "white",
            "linecolor": "white",
            "ticks": ""
           }
          },
          "title": {
           "x": 0.05
          },
          "xaxis": {
           "automargin": true,
           "gridcolor": "white",
           "linecolor": "white",
           "ticks": "",
           "title": {
            "standoff": 15
           },
           "zerolinecolor": "white",
           "zerolinewidth": 2
          },
          "yaxis": {
           "automargin": true,
           "gridcolor": "white",
           "linecolor": "white",
           "ticks": "",
           "title": {
            "standoff": 15
           },
           "zerolinecolor": "white",
           "zerolinewidth": 2
          }
         }
        },
        "title": {
         "text": "Big-Endian: Bit Flip Probabilities"
        },
        "xaxis": {
         "tickfont": {
          "size": 8
         },
         "tickmode": "array",
         "ticktext": {
          "bdata": "BwAGAAUABAADAAIAAQAAAA8ADgANAAwACwAKAAkACAAXABYAFQAUABMAEgARABAAHwAeAB0AHAAbABoAGQAYACcAJgAlACQAIwAiACEAIAAvAC4ALQAsACsAKgApACgANwA2ADUANAAzADIAMQAwAD8APgA9ADwAOwA6ADkAOABHAEYARQBEAEMAQgBBAEAATwBOAE0ATABLAEoASQBIAFcAVgBVAFQAUwBSAFEAUABfAF4AXQBcAFsAWgBZAFgAZwBmAGUAZABjAGIAYQBgAG8AbgBtAGwAawBqAGkAaAB3AHYAdQB0AHMAcgBxAHAAfwB+AH0AfAB7AHoAeQB4AIcAhgCFAIQAgwCCAIEAgACPAI4AjQCMAIsAigCJAIgAlwCWAJUAlACTAJIAkQCQAJ8AngCdAJwAmwCaAJkAmACnAKYApQCkAKMAogChAKAArwCuAK0ArACrAKoAqQCoALcAtgC1ALQAswCyALEAsAC/AL4AvQC8ALsAugC5ALgAxwDGAMUAxADDAMIAwQDAAM8AzgDNAMwAywDKAMkAyADXANYA1QDUANMA0gDRANAA3wDeAN0A3ADbANoA2QDYAOcA5gDlAOQA4wDiAOEA4ADvAO4A7QDsAOsA6gDpAOgA9wD2APUA9ADzAPIA8QDwAP8A/gD9APwA+wD6APkA+AA=",
          "dtype": "i2"
         },
         "tickvals": {
          "bdata": "AAABAAIAAwAEAAUABgAHAAgACQAKAAsADAANAA4ADwAQABEAEgATABQAFQAWABcAGAAZABoAGwAcAB0AHgAfACAAIQAiACMAJAAlACYAJwAoACkAKgArACwALQAuAC8AMAAxADIAMwA0ADUANgA3ADgAOQA6ADsAPAA9AD4APwBAAEEAQgBDAEQARQBGAEcASABJAEoASwBMAE0ATgBPAFAAUQBSAFMAVABVAFYAVwBYAFkAWgBbAFwAXQBeAF8AYABhAGIAYwBkAGUAZgBnAGgAaQBqAGsAbABtAG4AbwBwAHEAcgBzAHQAdQB2AHcAeAB5AHoAewB8AH0AfgB/AIAAgQCCAIMAhACFAIYAhwCIAIkAigCLAIwAjQCOAI8AkACRAJIAkwCUAJUAlgCXAJgAmQCaAJsAnACdAJ4AnwCgAKEAogCjAKQApQCmAKcAqACpAKoAqwCsAK0ArgCvALAAsQCyALMAtAC1ALYAtwC4ALkAugC7ALwAvQC+AL8AwADBAMIAwwDEAMUAxgDHAMgAyQDKAMsAzADNAM4AzwDQANEA0gDTANQA1QDWANcA2ADZANoA2wDcAN0A3gDfAOAA4QDiAOMA5ADlAOYA5wDoAOkA6gDrAOwA7QDuAO8A8ADxAPIA8wD0APUA9gD3APgA+QD6APsA/AD9AP4A/wA=",
          "dtype": "i2"
         },
         "title": {
          "text": "Bit Number"
         }
        },
        "yaxis": {
         "range": [
          0,
          1.1
         ],
         "title": {
          "text": "Bit Flip Probability"
         }
        }
       }
      }
     },
     "metadata": {},
     "output_type": "display_data"
    }
   ],
   "source": [
    "decoder.plot_message_from_id('18DAF218',[0,24,98,80,33])"
   ]
  },
  {
   "cell_type": "code",
   "execution_count": 33,
   "id": "4e8bf1c3",
   "metadata": {},
   "outputs": [
    {
     "data": {
      "application/vnd.plotly.v1+json": {
       "config": {
        "plotlyServerURL": "https://plot.ly"
       },
       "data": [
        {
         "mode": "lines+markers",
         "name": "SIG_BE_13",
         "type": "scatter",
         "x": {
          "bdata": "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",
          "dtype": "f8"
         },
         "y": {
          "bdata": "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",
          "dtype": "f8"
         }
        }
       ],
       "layout": {
        "template": {
         "data": {
          "bar": [
           {
            "error_x": {
             "color": "#2a3f5f"
            },
            "error_y": {
             "color": "#2a3f5f"
            },
            "marker": {
             "line": {
              "color": "#E5ECF6",
              "width": 0.5
             },
             "pattern": {
              "fillmode": "overlay",
              "size": 10,
              "solidity": 0.2
             }
            },
            "type": "bar"
           }
          ],
          "barpolar": [
           {
            "marker": {
             "line": {
              "color": "#E5ECF6",
              "width": 0.5
             },
             "pattern": {
              "fillmode": "overlay",
              "size": 10,
              "solidity": 0.2
             }
            },
            "type": "barpolar"
           }
          ],
          "carpet": [
           {
            "aaxis": {
             "endlinecolor": "#2a3f5f",
             "gridcolor": "white",
             "linecolor": "white",
             "minorgridcolor": "white",
             "startlinecolor": "#2a3f5f"
            },
            "baxis": {
             "endlinecolor": "#2a3f5f",
             "gridcolor": "white",
             "linecolor": "white",
             "minorgridcolor": "white",
             "startlinecolor": "#2a3f5f"
            },
            "type": "carpet"
           }
          ],
          "choropleth": [
           {
            "colorbar": {
             "outlinewidth": 0,
             "ticks": ""
            },
            "type": "choropleth"
           }
          ],
          "contour": [
           {
            "colorbar": {
             "outlinewidth": 0,
             "ticks": ""
            },
            "colorscale": [
             [
              0,
              "#0d0887"
             ],
             [
              0.1111111111111111,
              "#46039f"
             ],
             [
              0.2222222222222222,
              "#7201a8"
             ],
             [
              0.3333333333333333,
              "#9c179e"
             ],
             [
              0.4444444444444444,
              "#bd3786"
             ],
             [
              0.5555555555555556,
              "#d8576b"
             ],
             [
              0.6666666666666666,
              "#ed7953"
             ],
             [
              0.7777777777777778,
              "#fb9f3a"
             ],
             [
              0.8888888888888888,
              "#fdca26"
             ],
             [
              1,
              "#f0f921"
             ]
            ],
            "type": "contour"
           }
          ],
          "contourcarpet": [
           {
            "colorbar": {
             "outlinewidth": 0,
             "ticks": ""
            },
            "type": "contourcarpet"
           }
          ],
          "heatmap": [
           {
            "colorbar": {
             "outlinewidth": 0,
             "ticks": ""
            },
            "colorscale": [
             [
              0,
              "#0d0887"
             ],
             [
              0.1111111111111111,
              "#46039f"
             ],
             [
              0.2222222222222222,
              "#7201a8"
             ],
             [
              0.3333333333333333,
              "#9c179e"
             ],
             [
              0.4444444444444444,
              "#bd3786"
             ],
             [
              0.5555555555555556,
              "#d8576b"
             ],
             [
              0.6666666666666666,
              "#ed7953"
             ],
             [
              0.7777777777777778,
              "#fb9f3a"
             ],
             [
              0.8888888888888888,
              "#fdca26"
             ],
             [
              1,
              "#f0f921"
             ]
            ],
            "type": "heatmap"
           }
          ],
          "histogram": [
           {
            "marker": {
             "pattern": {
              "fillmode": "overlay",
              "size": 10,
              "solidity": 0.2
             }
            },
            "type": "histogram"
           }
          ],
          "histogram2d": [
           {
            "colorbar": {
             "outlinewidth": 0,
             "ticks": ""
            },
            "colorscale": [
             [
              0,
              "#0d0887"
             ],
             [
              0.1111111111111111,
              "#46039f"
             ],
             [
              0.2222222222222222,
              "#7201a8"
             ],
             [
              0.3333333333333333,
              "#9c179e"
             ],
             [
              0.4444444444444444,
              "#bd3786"
             ],
             [
              0.5555555555555556,
              "#d8576b"
             ],
             [
              0.6666666666666666,
              "#ed7953"
             ],
             [
              0.7777777777777778,
              "#fb9f3a"
             ],
             [
              0.8888888888888888,
              "#fdca26"
             ],
             [
              1,
              "#f0f921"
             ]
            ],
            "type": "histogram2d"
           }
          ],
          "histogram2dcontour": [
           {
            "colorbar": {
             "outlinewidth": 0,
             "ticks": ""
            },
            "colorscale": [
             [
              0,
              "#0d0887"
             ],
             [
              0.1111111111111111,
              "#46039f"
             ],
             [
              0.2222222222222222,
              "#7201a8"
             ],
             [
              0.3333333333333333,
              "#9c179e"
             ],
             [
              0.4444444444444444,
              "#bd3786"
             ],
             [
              0.5555555555555556,
              "#d8576b"
             ],
             [
              0.6666666666666666,
              "#ed7953"
             ],
             [
              0.7777777777777778,
              "#fb9f3a"
             ],
             [
              0.8888888888888888,
              "#fdca26"
             ],
             [
              1,
              "#f0f921"
             ]
            ],
            "type": "histogram2dcontour"
           }
          ],
          "mesh3d": [
           {
            "colorbar": {
             "outlinewidth": 0,
             "ticks": ""
            },
            "type": "mesh3d"
           }
          ],
          "parcoords": [
           {
            "line": {
             "colorbar": {
              "outlinewidth": 0,
              "ticks": ""
             }
            },
            "type": "parcoords"
           }
          ],
          "pie": [
           {
            "automargin": true,
            "type": "pie"
           }
          ],
          "scatter": [
           {
            "fillpattern": {
             "fillmode": "overlay",
             "size": 10,
             "solidity": 0.2
            },
            "type": "scatter"
           }
          ],
          "scatter3d": [
           {
            "line": {
             "colorbar": {
              "outlinewidth": 0,
              "ticks": ""
             }
            },
            "marker": {
             "colorbar": {
              "outlinewidth": 0,
              "ticks": ""
             }
            },
            "type": "scatter3d"
           }
          ],
          "scattercarpet": [
           {
            "marker": {
             "colorbar": {
              "outlinewidth": 0,
              "ticks": ""
             }
            },
            "type": "scattercarpet"
           }
          ],
          "scattergeo": [
           {
            "marker": {
             "colorbar": {
              "outlinewidth": 0,
              "ticks": ""
             }
            },
            "type": "scattergeo"
           }
          ],
          "scattergl": [
           {
            "marker": {
             "colorbar": {
              "outlinewidth": 0,
              "ticks": ""
             }
            },
            "type": "scattergl"
           }
          ],
          "scattermap": [
           {
            "marker": {
             "colorbar": {
              "outlinewidth": 0,
              "ticks": ""
             }
            },
            "type": "scattermap"
           }
          ],
          "scattermapbox": [
           {
            "marker": {
             "colorbar": {
              "outlinewidth": 0,
              "ticks": ""
             }
            },
            "type": "scattermapbox"
           }
          ],
          "scatterpolar": [
           {
            "marker": {
             "colorbar": {
              "outlinewidth": 0,
              "ticks": ""
             }
            },
            "type": "scatterpolar"
           }
          ],
          "scatterpolargl": [
           {
            "marker": {
             "colorbar": {
              "outlinewidth": 0,
              "ticks": ""
             }
            },
            "type": "scatterpolargl"
           }
          ],
          "scatterternary": [
           {
            "marker": {
             "colorbar": {
              "outlinewidth": 0,
              "ticks": ""
             }
            },
            "type": "scatterternary"
           }
          ],
          "surface": [
           {
            "colorbar": {
             "outlinewidth": 0,
             "ticks": ""
            },
            "colorscale": [
             [
              0,
              "#0d0887"
             ],
             [
              0.1111111111111111,
              "#46039f"
             ],
             [
              0.2222222222222222,
              "#7201a8"
             ],
             [
              0.3333333333333333,
              "#9c179e"
             ],
             [
              0.4444444444444444,
              "#bd3786"
             ],
             [
              0.5555555555555556,
              "#d8576b"
             ],
             [
              0.6666666666666666,
              "#ed7953"
             ],
             [
              0.7777777777777778,
              "#fb9f3a"
             ],
             [
              0.8888888888888888,
              "#fdca26"
             ],
             [
              1,
              "#f0f921"
             ]
            ],
            "type": "surface"
           }
          ],
          "table": [
           {
            "cells": {
             "fill": {
              "color": "#EBF0F8"
             },
             "line": {
              "color": "white"
             }
            },
            "header": {
             "fill": {
              "color": "#C8D4E3"
             },
             "line": {
              "color": "white"
             }
            },
            "type": "table"
           }
          ]
         },
         "layout": {
          "annotationdefaults": {
           "arrowcolor": "#2a3f5f",
           "arrowhead": 0,
           "arrowwidth": 1
          },
          "autotypenumbers": "strict",
          "coloraxis": {
           "colorbar": {
            "outlinewidth": 0,
            "ticks": ""
           }
          },
          "colorscale": {
           "diverging": [
            [
             0,
             "#8e0152"
            ],
            [
             0.1,
             "#c51b7d"
            ],
            [
             0.2,
             "#de77ae"
            ],
            [
             0.3,
             "#f1b6da"
            ],
            [
             0.4,
             "#fde0ef"
            ],
            [
             0.5,
             "#f7f7f7"
            ],
            [
             0.6,
             "#e6f5d0"
            ],
            [
             0.7,
             "#b8e186"
            ],
            [
             0.8,
             "#7fbc41"
            ],
            [
             0.9,
             "#4d9221"
            ],
            [
             1,
             "#276419"
            ]
           ],
           "sequential": [
            [
             0,
             "#0d0887"
            ],
            [
             0.1111111111111111,
             "#46039f"
            ],
            [
             0.2222222222222222,
             "#7201a8"
            ],
            [
             0.3333333333333333,
             "#9c179e"
            ],
            [
             0.4444444444444444,
             "#bd3786"
            ],
            [
             0.5555555555555556,
             "#d8576b"
            ],
            [
             0.6666666666666666,
             "#ed7953"
            ],
            [
             0.7777777777777778,
             "#fb9f3a"
            ],
            [
             0.8888888888888888,
             "#fdca26"
            ],
            [
             1,
             "#f0f921"
            ]
           ],
           "sequentialminus": [
            [
             0,
             "#0d0887"
            ],
            [
             0.1111111111111111,
             "#46039f"
            ],
            [
             0.2222222222222222,
             "#7201a8"
            ],
            [
             0.3333333333333333,
             "#9c179e"
            ],
            [
             0.4444444444444444,
             "#bd3786"
            ],
            [
             0.5555555555555556,
             "#d8576b"
            ],
            [
             0.6666666666666666,
             "#ed7953"
            ],
            [
             0.7777777777777778,
             "#fb9f3a"
            ],
            [
             0.8888888888888888,
             "#fdca26"
            ],
            [
             1,
             "#f0f921"
            ]
           ]
          },
          "colorway": [
           "#636efa",
           "#EF553B",
           "#00cc96",
           "#ab63fa",
           "#FFA15A",
           "#19d3f3",
           "#FF6692",
           "#B6E880",
           "#FF97FF",
           "#FECB52"
          ],
          "font": {
           "color": "#2a3f5f"
          },
          "geo": {
           "bgcolor": "white",
           "lakecolor": "white",
           "landcolor": "#E5ECF6",
           "showlakes": true,
           "showland": true,
           "subunitcolor": "white"
          },
          "hoverlabel": {
           "align": "left"
          },
          "hovermode": "closest",
          "mapbox": {
           "style": "light"
          },
          "paper_bgcolor": "white",
          "plot_bgcolor": "#E5ECF6",
          "polar": {
           "angularaxis": {
            "gridcolor": "white",
            "linecolor": "white",
            "ticks": ""
           },
           "bgcolor": "#E5ECF6",
           "radialaxis": {
            "gridcolor": "white",
            "linecolor": "white",
            "ticks": ""
           }
          },
          "scene": {
           "xaxis": {
            "backgroundcolor": "#E5ECF6",
            "gridcolor": "white",
            "gridwidth": 2,
            "linecolor": "white",
            "showbackground": true,
            "ticks": "",
            "zerolinecolor": "white"
           },
           "yaxis": {
            "backgroundcolor": "#E5ECF6",
            "gridcolor": "white",
            "gridwidth": 2,
            "linecolor": "white",
            "showbackground": true,
            "ticks": "",
            "zerolinecolor": "white"
           },
           "zaxis": {
            "backgroundcolor": "#E5ECF6",
            "gridcolor": "white",
            "gridwidth": 2,
            "linecolor": "white",
            "showbackground": true,
            "ticks": "",
            "zerolinecolor": "white"
           }
          },
          "shapedefaults": {
           "line": {
            "color": "#2a3f5f"
           }
          },
          "ternary": {
           "aaxis": {
            "gridcolor": "white",
            "linecolor": "white",
            "ticks": ""
           },
           "baxis": {
            "gridcolor": "white",
            "linecolor": "white",
            "ticks": ""
           },
           "bgcolor": "#E5ECF6",
           "caxis": {
            "gridcolor": "white",
            "linecolor": "white",
            "ticks": ""
           }
          },
          "title": {
           "x": 0.05
          },
          "xaxis": {
           "automargin": true,
           "gridcolor": "white",
           "linecolor": "white",
           "ticks": "",
           "title": {
            "standoff": 15
           },
           "zerolinecolor": "white",
           "zerolinewidth": 2
          },
          "yaxis": {
           "automargin": true,
           "gridcolor": "white",
           "linecolor": "white",
           "ticks": "",
           "title": {
            "standoff": 15
           },
           "zerolinecolor": "white",
           "zerolinewidth": 2
          }
         }
        }
       }
      }
     },
     "metadata": {},
     "output_type": "display_data"
    }
   ],
   "source": [
    "f = decoder.plot_signal_from_id('18DAF218',[0,24,98,80,33], 'SIG_BE_13', return_fig=True)\n",
    "f['data'][0]['mode'] = 'lines+markers'\n",
    "f.show()"
   ]
  },
  {
   "cell_type": "code",
   "execution_count": 54,
   "id": "a8d478d8",
   "metadata": {},
   "outputs": [
    {
     "data": {
      "text/plain": [
       "Message: 18DAF218, Signal: SIG_BE_1, Type: ts , Signed: unsigned"
      ]
     },
     "execution_count": 54,
     "metadata": {},
     "output_type": "execute_result"
    }
   ],
   "source": [
    "decoder.get_signal('18DAF218',[0,12,98,5,31], 'SIG_BE_1')"
   ]
  },
  {
   "cell_type": "code",
   "execution_count": 29,
   "id": "8ab71e10",
   "metadata": {},
   "outputs": [
    {
     "data": {
      "text/plain": [
       "[Message 42A: Length 32 bytes,\n",
       " Message 18DA10F1 - Filter [B1:3|B2:34|B3:1|B4:201] : Length 8 bytes,\n",
       " Message 18DA10F1 - Filter [B1:3|B2:34|B3:1|B4:209] : Length 8 bytes,\n",
       " Message 18DA10F1 - Filter [B1:3|B2:34|B3:1|B4:213] : Length 8 bytes,\n",
       " Message 18DA10F1 - Filter [B1:3|B2:34|B3:2|B4:178] : Length 8 bytes,\n",
       " Message 18DA10F1 - Filter [B1:3|B2:34|B3:2|B4:179] : Length 8 bytes,\n",
       " Message 18DA10F1 - Filter [B1:3|B2:34|B3:2|B4:180] : Length 8 bytes,\n",
       " Message 18DA10F1 - Filter [B1:3|B2:34|B3:2|B4:181] : Length 8 bytes,\n",
       " Message 18DA10F1 - Filter [B1:3|B2:34|B3:3|B4:225] : Length 8 bytes,\n",
       " Message 18DA10F1 - Filter [B1:3|B2:34|B3:3|B4:240] : Length 8 bytes,\n",
       " Message 18DA10F1 - Filter [B1:3|B2:34|B3:1|B4:29] : Length 8 bytes,\n",
       " Message 18DA10F1 - Filter [B1:3|B2:34|B3:1|B4:32] : Length 8 bytes,\n",
       " Message 18DA10F1 - Filter [B1:3|B2:34|B3:1|B4:35] : Length 8 bytes,\n",
       " Message 18DA10F1 - Filter [B1:3|B2:34|B3:1|B4:39] : Length 8 bytes,\n",
       " Message 18DA10F1 - Filter [B1:3|B2:34|B3:18|B4:201] : Length 8 bytes,\n",
       " Message 18DA10F1 - Filter [B1:3|B2:34|B3:1|B4:186] : Length 8 bytes,\n",
       " Message 18DA10F1 - Filter [B1:3|B2:34|B3:2|B4:39] : Length 8 bytes,\n",
       " Message 18DA10F1 - Filter [B1:3|B2:34|B3:2|B4:42] : Length 8 bytes,\n",
       " Message 18DA10F1 - Filter [B1:3|B2:34|B3:0|B4:45] : Length 8 bytes,\n",
       " Message 18DA10F1 - Filter [B1:3|B2:34|B3:3|B4:248] : Length 8 bytes,\n",
       " Message 18DA10F1 - Filter [B1:3|B2:34|B3:6|B4:158] : Length 8 bytes,\n",
       " Message 18DA10F1 - Filter [B1:3|B2:34|B3:6|B4:159] : Length 8 bytes,\n",
       " Message 18DA10F1 - Filter [B1:3|B2:34|B3:3|B4:227] : Length 8 bytes,\n",
       " Message 18DA10F1 - Filter [B1:3|B2:34|B3:3|B4:228] : Length 8 bytes,\n",
       " Message 18DA10F1 - Filter [B1:3|B2:34|B3:2|B4:51] : Length 8 bytes,\n",
       " Message 18DA10F1 - Filter [B1:3|B2:34|B3:2|B4:52] : Length 8 bytes,\n",
       " Message 18DA10F1 - Filter [B1:3|B2:34|B3:2|B4:53] : Length 8 bytes,\n",
       " Message 18DA10F1 - Filter [B1:3|B2:34|B3:2|B4:54] : Length 8 bytes,\n",
       " Message 18DA10F1 - Filter [B1:3|B2:34|B3:2|B4:55] : Length 8 bytes,\n",
       " Message 18DA10F1 - Filter [B1:3|B2:34|B3:2|B4:85] : Length 8 bytes,\n",
       " Message 18DA10F1 - Filter [B1:3|B2:34|B3:2|B4:86] : Length 8 bytes,\n",
       " Message 18DA10F1 - Filter [B1:3|B2:34|B3:2|B4:87] : Length 8 bytes,\n",
       " Message 18DA10F1 - Filter [B1:3|B2:34|B3:2|B4:88] : Length 8 bytes,\n",
       " Message 18DA10F1 - Filter [B1:3|B2:34|B3:6|B4:218] : Length 8 bytes,\n",
       " Message 18DA10F1 - Filter [B1:3|B2:34|B3:6|B4:124] : Length 8 bytes,\n",
       " Message 18DA10F1 - Filter [B1:3|B2:34|B3:1|B4:202] : Length 8 bytes,\n",
       " Message 18DA10F1 - Filter [B1:3|B2:34|B3:1|B4:6] : Length 8 bytes,\n",
       " Message 18DA10F1 - Filter [B1:3|B2:34|B3:1|B4:9] : Length 8 bytes,\n",
       " Message 18DA10F1 - Filter [B1:3|B2:34|B3:18|B4:71] : Length 8 bytes,\n",
       " Message 18DA10F1 - Filter [B1:3|B2:34|B3:18|B4:80] : Length 8 bytes,\n",
       " Message 18DA10F1 - Filter [B1:3|B2:34|B3:1|B4:43] : Length 8 bytes,\n",
       " Message 18DA10F1 - Filter [B1:3|B2:34|B3:20|B4:177] : Length 8 bytes,\n",
       " Message 18DA10F1 - Filter [B1:3|B2:34|B3:1|B4:255] : Length 8 bytes,\n",
       " Message 18DA10F1 - Filter [B1:3|B2:34|B3:2|B4:40] : Length 8 bytes,\n",
       " Message 18DA10F1 - Filter [B1:3|B2:34|B3:21|B4:67] : Length 8 bytes,\n",
       " Message 18DA10F1 - Filter [B1:3|B2:34|B3:1|B4:116] : Length 8 bytes,\n",
       " Message 18DA10F1 - Filter [B1:3|B2:34|B3:1|B4:158] : Length 8 bytes,\n",
       " Message 18DA10F1 - Filter [B1:3|B2:34|B3:1|B4:195] : Length 8 bytes,\n",
       " Message 18DA10F1 - Filter [B1:2|B2:62|B3:128|B4:0] : Length 8 bytes,\n",
       " Message 18DA18F2 - Filter [B1:3|B2:34|B3:80|B4:32] : Length 8 bytes,\n",
       " Message 18DA18F2 - Filter [B1:3|B2:34|B3:80|B4:33] : Length 8 bytes,\n",
       " Message 18DA18F2 - Filter [B1:3|B2:34|B3:80|B4:34] : Length 8 bytes,\n",
       " Message 18DA18F2 - Filter [B1:3|B2:34|B3:80|B4:47] : Length 8 bytes,\n",
       " Message 18DA18F2 - Filter [B1:3|B2:34|B3:80|B4:58] : Length 8 bytes,\n",
       " Message 18DA18F2 - Filter [B1:3|B2:34|B3:80|B4:64] : Length 8 bytes,\n",
       " Message 18DA18F2 - Filter [B1:3|B2:34|B3:5|B4:31] : Length 8 bytes,\n",
       " Message 18DA18F2 - Filter [B1:3|B2:34|B3:80|B4:37] : Length 8 bytes,\n",
       " Message 18DA18F2 - Filter [B1:3|B2:34|B3:80|B4:44] : Length 8 bytes,\n",
       " Message 18DA18F2 - Filter [B1:3|B2:34|B3:80|B4:48] : Length 8 bytes,\n",
       " Message 18DA18F2 - Filter [B1:3|B2:34|B3:80|B4:49] : Length 8 bytes,\n",
       " Message 18DA18F2 - Filter [B1:3|B2:34|B3:80|B4:51] : Length 8 bytes,\n",
       " Message 18DA18F2 - Filter [B1:3|B2:34|B3:5|B4:28] : Length 8 bytes,\n",
       " Message 18DA18F2 - Filter [B1:3|B2:34|B3:5|B4:69] : Length 8 bytes,\n",
       " Message 18DA18F2 - Filter [B1:3|B2:34|B3:16|B4:24] : Length 8 bytes,\n",
       " Message 18DA18F2 - Filter [B1:3|B2:34|B3:5|B4:0] : Length 8 bytes,\n",
       " Message 18DA18F2 - Filter [B1:3|B2:34|B3:80|B4:12] : Length 8 bytes,\n",
       " Message 18DA18F2 - Filter [B1:3|B2:34|B3:80|B4:16] : Length 8 bytes,\n",
       " Message 18DA18F2 - Filter [B1:2|B2:62|B3:128|B4:0] : Length 8 bytes,\n",
       " Message 113: Length 32 bytes,\n",
       " Message 116: Length 64 bytes,\n",
       " Message 208: Length 32 bytes,\n",
       " Message 112: Length 32 bytes,\n",
       " Message 2EF: Length 32 bytes,\n",
       " Message 18DAF110 - Filter [B1:5|B2:98|B3:1|B4:201] : Length 8 bytes,\n",
       " Message 18DAF110 - Filter [B1:5|B2:98|B3:1|B4:209] : Length 8 bytes,\n",
       " Message 18DAF110 - Filter [B1:5|B2:98|B3:1|B4:213] : Length 8 bytes,\n",
       " Message 18DAF110 - Filter [B1:5|B2:98|B3:2|B4:178] : Length 8 bytes,\n",
       " Message 18DAF110 - Filter [B1:5|B2:98|B3:2|B4:179] : Length 8 bytes,\n",
       " Message 18DAF110 - Filter [B1:5|B2:98|B3:2|B4:180] : Length 8 bytes,\n",
       " Message 18DAF110 - Filter [B1:5|B2:98|B3:2|B4:181] : Length 8 bytes,\n",
       " Message 18DAF110 - Filter [B1:5|B2:98|B3:3|B4:225] : Length 8 bytes,\n",
       " Message 18DAF110 - Filter [B1:5|B2:98|B3:3|B4:240] : Length 8 bytes,\n",
       " Message 18DAF110 - Filter [B1:4|B2:98|B3:1|B4:29] : Length 8 bytes,\n",
       " Message 18DAF110 - Filter [B1:4|B2:98|B3:1|B4:32] : Length 8 bytes,\n",
       " Message 18DAF110 - Filter [B1:4|B2:98|B3:1|B4:35] : Length 8 bytes,\n",
       " Message 18DAF110 - Filter [B1:4|B2:98|B3:1|B4:39] : Length 8 bytes,\n",
       " Message 18DAF110 - Filter [B1:4|B2:98|B3:18|B4:201] : Length 8 bytes,\n",
       " Message 18DAF110 - Filter [B1:4|B2:98|B3:1|B4:186] : Length 8 bytes,\n",
       " Message 18DAF110 - Filter [B1:4|B2:98|B3:2|B4:39] : Length 8 bytes,\n",
       " Message 18DAF110 - Filter [B1:4|B2:98|B3:2|B4:42] : Length 8 bytes,\n",
       " Message 18DAF110 - Filter [B1:3|B2:127|B3:34|B4:18] : Length 8 bytes,\n",
       " Message 18DAF110 - Filter [B1:7|B2:98|B3:3|B4:248] : Length 8 bytes,\n",
       " Message 18DAF110 - Filter [B1:4|B2:98|B3:6|B4:158] : Length 8 bytes,\n",
       " Message 18DAF110 - Filter [B1:4|B2:98|B3:6|B4:159] : Length 8 bytes,\n",
       " Message 18DAF110 - Filter [B1:4|B2:98|B3:3|B4:227] : Length 8 bytes,\n",
       " Message 18DAF110 - Filter [B1:4|B2:98|B3:3|B4:228] : Length 8 bytes,\n",
       " Message 18DAF110 - Filter [B1:7|B2:98|B3:2|B4:51] : Length 8 bytes,\n",
       " Message 18DAF110 - Filter [B1:7|B2:98|B3:2|B4:52] : Length 8 bytes,\n",
       " Message 18DAF110 - Filter [B1:7|B2:98|B3:2|B4:53] : Length 8 bytes,\n",
       " Message 18DAF110 - Filter [B1:7|B2:98|B3:2|B4:54] : Length 8 bytes,\n",
       " Message 18DAF110 - Filter [B1:7|B2:98|B3:2|B4:55] : Length 8 bytes,\n",
       " Message 18DAF110 - Filter [B1:5|B2:98|B3:2|B4:85] : Length 8 bytes,\n",
       " Message 18DAF110 - Filter [B1:5|B2:98|B3:2|B4:86] : Length 8 bytes,\n",
       " Message 18DAF110 - Filter [B1:5|B2:98|B3:2|B4:87] : Length 8 bytes,\n",
       " Message 18DAF110 - Filter [B1:5|B2:98|B3:2|B4:88] : Length 8 bytes,\n",
       " Message 18DAF110 - Filter [B1:5|B2:98|B3:6|B4:218] : Length 8 bytes,\n",
       " Message 18DAF110 - Filter [B1:4|B2:98|B3:6|B4:124] : Length 8 bytes,\n",
       " Message 18DAF110 - Filter [B1:7|B2:98|B3:1|B4:202] : Length 8 bytes,\n",
       " Message 18DAF110 - Filter [B1:5|B2:98|B3:1|B4:6] : Length 8 bytes,\n",
       " Message 18DAF110 - Filter [B1:5|B2:98|B3:1|B4:9] : Length 8 bytes,\n",
       " Message 18DAF110 - Filter [B1:5|B2:98|B3:18|B4:71] : Length 8 bytes,\n",
       " Message 18DAF110 - Filter [B1:4|B2:98|B3:18|B4:80] : Length 8 bytes,\n",
       " Message 18DAF110 - Filter [B1:5|B2:98|B3:1|B4:43] : Length 8 bytes,\n",
       " Message 18DAF110 - Filter [B1:5|B2:98|B3:20|B4:177] : Length 8 bytes,\n",
       " Message 18DAF110 - Filter [B1:5|B2:98|B3:1|B4:255] : Length 8 bytes,\n",
       " Message 18DAF110 - Filter [B1:5|B2:98|B3:2|B4:40] : Length 8 bytes,\n",
       " Message 18DAF110 - Filter [B1:5|B2:98|B3:21|B4:67] : Length 8 bytes,\n",
       " Message 18DAF110 - Filter [B1:5|B2:98|B3:1|B4:116] : Length 8 bytes,\n",
       " Message 18DAF110 - Filter [B1:5|B2:98|B3:1|B4:158] : Length 8 bytes,\n",
       " Message 18DAF110 - Filter [B1:5|B2:98|B3:1|B4:195] : Length 8 bytes,\n",
       " Message 18DAF110 - Filter [B1:3|B2:127|B3:62|B4:18] : Length 8 bytes,\n",
       " Message 102: Length 64 bytes,\n",
       " Message 103: Length 32 bytes,\n",
       " Message 40B: Length 32 bytes,\n",
       " Message 118: Length 32 bytes,\n",
       " Message 108: Length 32 bytes,\n",
       " Message 106: Length 64 bytes,\n",
       " Message 9F: Length 32 bytes,\n",
       " Message FF: Length 48 bytes,\n",
       " Message 100: Length 32 bytes,\n",
       " Message 10A: Length 32 bytes,\n",
       " Message 10D: Length 64 bytes,\n",
       " Message 10F: Length 64 bytes,\n",
       " Message 114: Length 64 bytes,\n",
       " Message 1DF: Length 32 bytes,\n",
       " Message 200: Length 32 bytes,\n",
       " Message 2F1: Length 32 bytes,\n",
       " Message 402: Length 32 bytes,\n",
       " Message 403: Length 32 bytes,\n",
       " Message 205: Length 32 bytes,\n",
       " Message 405: Length 32 bytes,\n",
       " Message 406: Length 32 bytes,\n",
       " Message 407: Length 32 bytes,\n",
       " Message 408: Length 32 bytes,\n",
       " Message 409: Length 32 bytes,\n",
       " Message 40A: Length 48 bytes,\n",
       " Message 419: Length 32 bytes,\n",
       " Message 55D: Length 32 bytes,\n",
       " Message 5B1: Length 32 bytes,\n",
       " Message 5B3: Length 32 bytes,\n",
       " Message 1DC: Length 32 bytes,\n",
       " Message 5BC: Length 32 bytes,\n",
       " Message 18DAF218 - Filter [B1:0|B2:15|B3:98|B4:80|B5:32] : Length 20 bytes,\n",
       " Message 18DAF218 - Filter [B1:0|B2:24|B3:98|B4:80|B5:33] : Length 32 bytes,\n",
       " Message 18DAF218 - Filter [B1:0|B2:15|B3:98|B4:80|B5:34] : Length 20 bytes,\n",
       " Message 18DAF218 - Filter [B1:0|B2:10|B3:98|B4:80|B5:47] : Length 12 bytes,\n",
       " Message 18DAF218 - Filter [B1:0|B2:19|B3:98|B4:80|B5:58] : Length 24 bytes,\n",
       " Message 18DAF218 - Filter [B1:0|B2:25|B3:98|B4:80|B5:64] : Length 32 bytes,\n",
       " Message 18DAF218 - Filter [B1:0|B2:12|B3:98|B4:5|B5:31] : Length 16 bytes,\n",
       " Message 18DAF218 - Filter [B1:5|B2:98|B3:80|B4:37] : Length 6 bytes,\n",
       " Message 18DAF218 - Filter [B1:4|B2:98|B3:80|B4:44] : Length 5 bytes,\n",
       " Message 18DAF218 - Filter [B1:0|B2:23|B3:98|B4:80|B5:48] : Length 32 bytes,\n",
       " Message 18DAF218 - Filter [B1:7|B2:98|B3:80|B4:49] : Length 8 bytes,\n",
       " Message 18DAF218 - Filter [B1:5|B2:98|B3:80|B4:51] : Length 6 bytes,\n",
       " Message 18DAF218 - Filter [B1:4|B2:98|B3:5|B4:28] : Length 5 bytes,\n",
       " Message 18DAF218 - Filter [B1:6|B2:98|B3:5|B4:69] : Length 7 bytes,\n",
       " Message 18DAF218 - Filter [B1:5|B2:98|B3:16|B4:24] : Length 6 bytes,\n",
       " Message 18DAF218 - Filter [B1:5|B2:98|B3:5|B4:0] : Length 6 bytes,\n",
       " Message 18DAF218 - Filter [B1:6|B2:98|B3:80|B4:12] : Length 7 bytes,\n",
       " Message 18DAF218 - Filter [B1:7|B2:98|B3:80|B4:16] : Length 8 bytes,\n",
       " Message 201: Length 32 bytes,\n",
       " Message 202: Length 32 bytes,\n",
       " Message 207: Length 32 bytes,\n",
       " Message 40C: Length 32 bytes,\n",
       " Message 5B4: Length 32 bytes,\n",
       " Message 206: Length 32 bytes,\n",
       " Message 72A: Length 32 bytes,\n",
       " Message 730: Length 32 bytes,\n",
       " Message 1E360062: Length 12 bytes,\n",
       " Message 7A4: Length 32 bytes,\n",
       " Message 42C: Length 32 bytes,\n",
       " Message 7A0: Length 32 bytes,\n",
       " Message 41E: Length 32 bytes,\n",
       " Message 1E360070: Length 64 bytes,\n",
       " Message 2EE: Length 32 bytes,\n",
       " Message 260: Length 32 bytes,\n",
       " Message 1E360056: Length 12 bytes,\n",
       " Message 2F0: Length 32 bytes,\n",
       " Message 261: Length 32 bytes,\n",
       " Message 41F: Length 32 bytes,\n",
       " Message 483: Length 32 bytes,\n",
       " Message 2F2: Length 32 bytes,\n",
       " Message 420: Length 32 bytes,\n",
       " Message 1E360006: Length 12 bytes,\n",
       " Message 404: Length 32 bytes,\n",
       " Message 25A: Length 32 bytes,\n",
       " Message 530: Length 32 bytes,\n",
       " Message 422: Length 32 bytes,\n",
       " Message 5B0: Length 32 bytes,\n",
       " Message 262: Length 32 bytes,\n",
       " Message 42D: Length 32 bytes,\n",
       " Message 25B: Length 32 bytes,\n",
       " Message 9A: Length 64 bytes,\n",
       " Message 41B: Length 32 bytes,\n",
       " Message 263: Length 32 bytes,\n",
       " Message 258: Length 32 bytes,\n",
       " Message 264: Length 32 bytes,\n",
       " Message 596: Length 32 bytes,\n",
       " Message 597: Length 32 bytes,\n",
       " Message 59A: Length 32 bytes,\n",
       " Message 59B: Length 32 bytes,\n",
       " Message 41D: Length 32 bytes,\n",
       " Message 59C: Length 32 bytes,\n",
       " Message 5BE: Length 32 bytes,\n",
       " Message 3B6: Length 32 bytes,\n",
       " Message 5A7: Length 32 bytes,\n",
       " Message 723: Length 32 bytes,\n",
       " Message 1E360043: Length 12 bytes,\n",
       " Message 7A3: Length 32 bytes,\n",
       " Message 1E360000: Length 48 bytes,\n",
       " Message 55F: Length 32 bytes,\n",
       " Message 341: Length 32 bytes,\n",
       " Message 1E384000: Length 2 bytes,\n",
       " Message 481: Length 32 bytes,\n",
       " Message 732: Length 32 bytes,\n",
       " Message 5A1: Length 32 bytes,\n",
       " Message 5C2: Length 48 bytes,\n",
       " Message 5AF: Length 32 bytes,\n",
       " Message 1E360003: Length 12 bytes,\n",
       " Message 734: Length 32 bytes,\n",
       " Message 725: Length 32 bytes,\n",
       " Message 727: Length 32 bytes,\n",
       " Message 482: Length 32 bytes,\n",
       " Message 598: Length 32 bytes,\n",
       " Message 5A3: Length 48 bytes,\n",
       " Message 9C: Length 32 bytes,\n",
       " Message 5AA: Length 32 bytes,\n",
       " Message 736: Length 32 bytes,\n",
       " Message 1E36008D: Length 12 bytes,\n",
       " Message 5A9: Length 32 bytes,\n",
       " Message 65A: Length 32 bytes,\n",
       " Message 1E360018: Length 12 bytes,\n",
       " Message 5B8: Length 32 bytes,\n",
       " Message 593: Length 32 bytes,\n",
       " Message 594: Length 32 bytes,\n",
       " Message 5B9: Length 32 bytes,\n",
       " Message 5BA: Length 32 bytes,\n",
       " Message 5BF: Length 32 bytes,\n",
       " Message 728: Length 32 bytes,\n",
       " Message 1E360024: Length 12 bytes,\n",
       " Message 5A8: Length 32 bytes,\n",
       " Message 1E360016: Length 12 bytes,\n",
       " Message 1E360046: Length 12 bytes,\n",
       " Message 5B6: Length 32 bytes,\n",
       " Message 595: Length 32 bytes,\n",
       " Message 5AB: Length 32 bytes,\n",
       " Message 5AC: Length 32 bytes,\n",
       " Message 1E360023: Length 12 bytes,\n",
       " Message 1E36000B: Length 12 bytes,\n",
       " Message 1E384006: Length 2 bytes,\n",
       " Message 1E360001: Length 12 bytes,\n",
       " Message 1E36001D: Length 12 bytes,\n",
       " Message 1E36007D: Length 12 bytes,\n",
       " Message 1E360002: Length 12 bytes,\n",
       " Message 1E36007E: Length 12 bytes,\n",
       " Message 1E36001A: Length 12 bytes,\n",
       " Message 7A2: Length 32 bytes,\n",
       " Message 1E360041: Length 12 bytes,\n",
       " Message 754: Length 32 bytes,\n",
       " Message 96: Length 64 bytes]"
      ]
     },
     "execution_count": 29,
     "metadata": {},
     "output_type": "execute_result"
    }
   ],
   "source": [
    "decoder.msgs"
   ]
  },
  {
   "cell_type": "code",
   "execution_count": 14,
   "id": "802eb19c",
   "metadata": {},
   "outputs": [],
   "source": [
    "s = decoder.get_signal('18DAF218',[0,12,98,5,31], 'SIG_BE_1')"
   ]
  },
  {
   "cell_type": "code",
   "execution_count": 15,
   "id": "2f4ec9b7",
   "metadata": {},
   "outputs": [],
   "source": [
    "signal = decoder.get_signal('18DAF218',[0,12,98,5,31], 'SIG_BE_1')"
   ]
  },
  {
   "cell_type": "code",
   "execution_count": 17,
   "id": "aa45b167",
   "metadata": {},
   "outputs": [
    {
     "data": {
      "application/vnd.microsoft.datawrangler.viewer.v0+json": {
       "columns": [
        {
         "name": "index",
         "rawType": "int64",
         "type": "integer"
        },
        {
         "name": "abs_time",
         "rawType": "float64",
         "type": "float"
        }
       ],
       "ref": "c078d34c-5025-41de-9218-a81b31499418",
       "rows": [
        [
         "0",
         "0.658172025"
        ],
        [
         "1",
         "0.89785875"
        ],
        [
         "2",
         "1.18811525"
        ],
        [
         "3",
         "1.418119725"
        ],
        [
         "4",
         "1.6579166"
        ],
        [
         "5",
         "1.867934675"
        ],
        [
         "6",
         "2.108035375"
        ],
        [
         "7",
         "2.32796795"
        ],
        [
         "8",
         "2.56798485"
        ],
        [
         "9",
         "2.80805445"
        ],
        [
         "10",
         "3.028025525"
        ],
        [
         "11",
         "3.26804335"
        ],
        [
         "12",
         "3.50807055"
        ],
        [
         "13",
         "3.728073275"
        ],
        [
         "14",
         "3.96809035"
        ],
        [
         "15",
         "4.208108925"
        ],
        [
         "16",
         "4.43812575"
        ],
        [
         "17",
         "4.678144075"
        ],
        [
         "18",
         "4.918161525"
        ],
        [
         "19",
         "5.1581873"
        ],
        [
         "20",
         "5.388456225"
        ],
        [
         "21",
         "5.61821315"
        ],
        [
         "22",
         "5.858230825"
        ],
        [
         "23",
         "6.088692325"
        ],
        [
         "24",
         "6.31826415"
        ],
        [
         "25",
         "6.538298275"
        ],
        [
         "26",
         "6.76832425"
        ],
        [
         "27",
         "8.498429025"
        ],
        [
         "28",
         "8.7384483"
        ],
        [
         "29",
         "8.968461675"
        ],
        [
         "30",
         "9.1984811"
        ],
        [
         "31",
         "9.4484981"
        ],
        [
         "32",
         "9.678515125"
        ],
        [
         "33",
         "9.898536725"
        ],
        [
         "34",
         "10.12854985"
        ],
        [
         "35",
         "10.368561775"
        ],
        [
         "36",
         "10.598584975"
        ],
        [
         "37",
         "10.82859955"
        ],
        [
         "38",
         "11.068616425"
        ],
        [
         "39",
         "11.29863655"
        ],
        [
         "40",
         "11.528654575"
        ],
        [
         "41",
         "11.858679025"
        ],
        [
         "42",
         "12.122431775"
        ],
        [
         "43",
         "12.409664875"
        ],
        [
         "44",
         "12.670315825"
        ],
        [
         "45",
         "12.892499175"
        ],
        [
         "46",
         "13.118772"
        ],
        [
         "47",
         "13.33878745"
        ],
        [
         "48",
         "13.568808625"
        ],
        [
         "49",
         "13.798836275"
        ]
       ],
       "shape": {
        "columns": 1,
        "rows": 303
       }
      },
      "text/plain": [
       "0       0.658172\n",
       "1       0.897859\n",
       "2       1.188115\n",
       "3       1.418120\n",
       "4       1.657917\n",
       "         ...    \n",
       "298    88.454479\n",
       "299    88.674494\n",
       "300    88.914513\n",
       "301    89.174534\n",
       "302    89.424553\n",
       "Name: abs_time, Length: 303, dtype: float64"
      ]
     },
     "execution_count": 17,
     "metadata": {},
     "output_type": "execute_result"
    }
   ],
   "source": [
    "signal.ts_data_timestamps"
   ]
  }
 ],
 "metadata": {
  "kernelspec": {
   "display_name": "main",
   "language": "python",
   "name": "python3"
  },
  "language_info": {
   "codemirror_mode": {
    "name": "ipython",
    "version": 3
   },
   "file_extension": ".py",
   "mimetype": "text/x-python",
   "name": "python",
   "nbconvert_exporter": "python",
   "pygments_lexer": "ipython3",
   "version": "3.13.5"
  }
 },
 "nbformat": 4,
 "nbformat_minor": 5
}
